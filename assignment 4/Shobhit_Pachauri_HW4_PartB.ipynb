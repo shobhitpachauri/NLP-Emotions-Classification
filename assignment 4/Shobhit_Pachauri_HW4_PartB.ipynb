{
  "cells": [
    {
      "cell_type": "markdown",
      "metadata": {
        "id": "iRxmmje4vaJ6"
      },
      "source": [
        "## Reason for Not Using Collate Function\n",
        "\n",
        "- **Memory Efficiency**: When working with dense embeddings, memory efficiency becomes crucial. Utilizing offsets by concatenating indices allows for effective memory usage, particularly with PyTorch's `embedding_bag`, which minimizes computational load by summing embeddings based on these offsets.\n",
        "  \n",
        "- **Handling Variable Lengths**: Dense embeddings can represent sequences of varying lengths (like sentences or documents). Instead of padding these sequences, offsets are employed to indicate where each sequence begins, facilitating concatenation of indices. This approach avoids padding and enhances computational performance.\n",
        "\n",
        "- **Sparse Embeddings**: Sparse embeddings, such as one-hot vectors or TF-IDF representations, are typically managed independently for each sample. Therefore, the use of concatenation and offset tracking is less critical since each document can be processed individually without needing special handling for sequence lengths."
      ]
    },
    {
      "cell_type": "code",
      "execution_count": 1,
      "metadata": {
        "id": "0YAT45-xkSh7"
      },
      "outputs": [],
      "source": [
        "import sys\n",
        "import os"
      ]
    },
    {
      "cell_type": "code",
      "execution_count": 2,
      "metadata": {
        "colab": {
          "base_uri": "https://localhost:8080/"
        },
        "id": "ZAxi7pN-kbUZ",
        "outputId": "8ae638c3-5ce7-4f84-9192-30c32351b2d4"
      },
      "outputs": [
        {
          "output_type": "stream",
          "name": "stdout",
          "text": [
            "Collecting torchinfo\n",
            "  Downloading torchinfo-1.8.0-py3-none-any.whl.metadata (21 kB)\n",
            "Downloading torchinfo-1.8.0-py3-none-any.whl (23 kB)\n",
            "Installing collected packages: torchinfo\n",
            "Successfully installed torchinfo-1.8.0\n"
          ]
        }
      ],
      "source": [
        "!pip install torchinfo"
      ]
    },
    {
      "cell_type": "code",
      "source": [
        "from google.colab import drive\n",
        "drive.mount(\"/content/drive\")"
      ],
      "metadata": {
        "colab": {
          "base_uri": "https://localhost:8080/"
        },
        "id": "3v_RyIklEBt4",
        "outputId": "1a5a8ee4-9f4c-4c7f-9024-95a9ca5915ac"
      },
      "execution_count": 5,
      "outputs": [
        {
          "output_type": "stream",
          "name": "stdout",
          "text": [
            "Mounted at /content/drive\n"
          ]
        }
      ]
    },
    {
      "cell_type": "code",
      "execution_count": 6,
      "metadata": {
        "id": "9qAHuAOGkXkf"
      },
      "outputs": [],
      "source": [
        "from datetime import datetime\n",
        "import matplotlib.pyplot as plt\n",
        "import seaborn as sns\n",
        "from pprint import pprint\n",
        "from torchinfo import summary\n",
        "import joblib\n",
        "from collections import Counter\n",
        "from functools import partial\n",
        "from pathlib import Path\n",
        "import torch\n",
        "import torch.nn as nn\n",
        "import random\n",
        "import numpy as np\n",
        "from sklearn.metrics import confusion_matrix"
      ]
    },
    {
      "cell_type": "code",
      "execution_count": 7,
      "metadata": {
        "colab": {
          "base_uri": "https://localhost:8080/",
          "height": 226
        },
        "id": "JA1qrPDvkhC0",
        "outputId": "0f7a2ca1-7933-4cc3-cedd-0b5191534ac0"
      },
      "outputs": [
        {
          "output_type": "execute_result",
          "data": {
            "text/plain": [
              "                                        cleaned_text               Tags  \\\n",
              "0  asp query stre dropdown webpage follow control...         c# asp.net   \n",
              "1  run javascript code server java code want run ...    java javascript   \n",
              "2  linq sql throw exception row find change hi li...         c# asp.net   \n",
              "3  run python script php server run nginx web ser...         php python   \n",
              "4  advice write function m try write function res...  javascript jquery   \n",
              "\n",
              "  Tag_Number  \n",
              "0     [0, 9]  \n",
              "1     [1, 3]  \n",
              "2     [0, 9]  \n",
              "3     [2, 7]  \n",
              "4     [3, 5]  "
            ],
            "text/html": [
              "\n",
              "  <div id=\"df-7e84ce1c-e196-4dd7-890a-2a284f7a2f46\" class=\"colab-df-container\">\n",
              "    <div>\n",
              "<style scoped>\n",
              "    .dataframe tbody tr th:only-of-type {\n",
              "        vertical-align: middle;\n",
              "    }\n",
              "\n",
              "    .dataframe tbody tr th {\n",
              "        vertical-align: top;\n",
              "    }\n",
              "\n",
              "    .dataframe thead th {\n",
              "        text-align: right;\n",
              "    }\n",
              "</style>\n",
              "<table border=\"1\" class=\"dataframe\">\n",
              "  <thead>\n",
              "    <tr style=\"text-align: right;\">\n",
              "      <th></th>\n",
              "      <th>cleaned_text</th>\n",
              "      <th>Tags</th>\n",
              "      <th>Tag_Number</th>\n",
              "    </tr>\n",
              "  </thead>\n",
              "  <tbody>\n",
              "    <tr>\n",
              "      <th>0</th>\n",
              "      <td>asp query stre dropdown webpage follow control...</td>\n",
              "      <td>c# asp.net</td>\n",
              "      <td>[0, 9]</td>\n",
              "    </tr>\n",
              "    <tr>\n",
              "      <th>1</th>\n",
              "      <td>run javascript code server java code want run ...</td>\n",
              "      <td>java javascript</td>\n",
              "      <td>[1, 3]</td>\n",
              "    </tr>\n",
              "    <tr>\n",
              "      <th>2</th>\n",
              "      <td>linq sql throw exception row find change hi li...</td>\n",
              "      <td>c# asp.net</td>\n",
              "      <td>[0, 9]</td>\n",
              "    </tr>\n",
              "    <tr>\n",
              "      <th>3</th>\n",
              "      <td>run python script php server run nginx web ser...</td>\n",
              "      <td>php python</td>\n",
              "      <td>[2, 7]</td>\n",
              "    </tr>\n",
              "    <tr>\n",
              "      <th>4</th>\n",
              "      <td>advice write function m try write function res...</td>\n",
              "      <td>javascript jquery</td>\n",
              "      <td>[3, 5]</td>\n",
              "    </tr>\n",
              "  </tbody>\n",
              "</table>\n",
              "</div>\n",
              "    <div class=\"colab-df-buttons\">\n",
              "\n",
              "  <div class=\"colab-df-container\">\n",
              "    <button class=\"colab-df-convert\" onclick=\"convertToInteractive('df-7e84ce1c-e196-4dd7-890a-2a284f7a2f46')\"\n",
              "            title=\"Convert this dataframe to an interactive table.\"\n",
              "            style=\"display:none;\">\n",
              "\n",
              "  <svg xmlns=\"http://www.w3.org/2000/svg\" height=\"24px\" viewBox=\"0 -960 960 960\">\n",
              "    <path d=\"M120-120v-720h720v720H120Zm60-500h600v-160H180v160Zm220 220h160v-160H400v160Zm0 220h160v-160H400v160ZM180-400h160v-160H180v160Zm440 0h160v-160H620v160ZM180-180h160v-160H180v160Zm440 0h160v-160H620v160Z\"/>\n",
              "  </svg>\n",
              "    </button>\n",
              "\n",
              "  <style>\n",
              "    .colab-df-container {\n",
              "      display:flex;\n",
              "      gap: 12px;\n",
              "    }\n",
              "\n",
              "    .colab-df-convert {\n",
              "      background-color: #E8F0FE;\n",
              "      border: none;\n",
              "      border-radius: 50%;\n",
              "      cursor: pointer;\n",
              "      display: none;\n",
              "      fill: #1967D2;\n",
              "      height: 32px;\n",
              "      padding: 0 0 0 0;\n",
              "      width: 32px;\n",
              "    }\n",
              "\n",
              "    .colab-df-convert:hover {\n",
              "      background-color: #E2EBFA;\n",
              "      box-shadow: 0px 1px 2px rgba(60, 64, 67, 0.3), 0px 1px 3px 1px rgba(60, 64, 67, 0.15);\n",
              "      fill: #174EA6;\n",
              "    }\n",
              "\n",
              "    .colab-df-buttons div {\n",
              "      margin-bottom: 4px;\n",
              "    }\n",
              "\n",
              "    [theme=dark] .colab-df-convert {\n",
              "      background-color: #3B4455;\n",
              "      fill: #D2E3FC;\n",
              "    }\n",
              "\n",
              "    [theme=dark] .colab-df-convert:hover {\n",
              "      background-color: #434B5C;\n",
              "      box-shadow: 0px 1px 3px 1px rgba(0, 0, 0, 0.15);\n",
              "      filter: drop-shadow(0px 1px 2px rgba(0, 0, 0, 0.3));\n",
              "      fill: #FFFFFF;\n",
              "    }\n",
              "  </style>\n",
              "\n",
              "    <script>\n",
              "      const buttonEl =\n",
              "        document.querySelector('#df-7e84ce1c-e196-4dd7-890a-2a284f7a2f46 button.colab-df-convert');\n",
              "      buttonEl.style.display =\n",
              "        google.colab.kernel.accessAllowed ? 'block' : 'none';\n",
              "\n",
              "      async function convertToInteractive(key) {\n",
              "        const element = document.querySelector('#df-7e84ce1c-e196-4dd7-890a-2a284f7a2f46');\n",
              "        const dataTable =\n",
              "          await google.colab.kernel.invokeFunction('convertToInteractive',\n",
              "                                                    [key], {});\n",
              "        if (!dataTable) return;\n",
              "\n",
              "        const docLinkHtml = 'Like what you see? Visit the ' +\n",
              "          '<a target=\"_blank\" href=https://colab.research.google.com/notebooks/data_table.ipynb>data table notebook</a>'\n",
              "          + ' to learn more about interactive tables.';\n",
              "        element.innerHTML = '';\n",
              "        dataTable['output_type'] = 'display_data';\n",
              "        await google.colab.output.renderOutput(dataTable, element);\n",
              "        const docLink = document.createElement('div');\n",
              "        docLink.innerHTML = docLinkHtml;\n",
              "        element.appendChild(docLink);\n",
              "      }\n",
              "    </script>\n",
              "  </div>\n",
              "\n",
              "\n",
              "<div id=\"df-37dae51d-ae30-4062-b1b5-10f4fbdd5f1a\">\n",
              "  <button class=\"colab-df-quickchart\" onclick=\"quickchart('df-37dae51d-ae30-4062-b1b5-10f4fbdd5f1a')\"\n",
              "            title=\"Suggest charts\"\n",
              "            style=\"display:none;\">\n",
              "\n",
              "<svg xmlns=\"http://www.w3.org/2000/svg\" height=\"24px\"viewBox=\"0 0 24 24\"\n",
              "     width=\"24px\">\n",
              "    <g>\n",
              "        <path d=\"M19 3H5c-1.1 0-2 .9-2 2v14c0 1.1.9 2 2 2h14c1.1 0 2-.9 2-2V5c0-1.1-.9-2-2-2zM9 17H7v-7h2v7zm4 0h-2V7h2v10zm4 0h-2v-4h2v4z\"/>\n",
              "    </g>\n",
              "</svg>\n",
              "  </button>\n",
              "\n",
              "<style>\n",
              "  .colab-df-quickchart {\n",
              "      --bg-color: #E8F0FE;\n",
              "      --fill-color: #1967D2;\n",
              "      --hover-bg-color: #E2EBFA;\n",
              "      --hover-fill-color: #174EA6;\n",
              "      --disabled-fill-color: #AAA;\n",
              "      --disabled-bg-color: #DDD;\n",
              "  }\n",
              "\n",
              "  [theme=dark] .colab-df-quickchart {\n",
              "      --bg-color: #3B4455;\n",
              "      --fill-color: #D2E3FC;\n",
              "      --hover-bg-color: #434B5C;\n",
              "      --hover-fill-color: #FFFFFF;\n",
              "      --disabled-bg-color: #3B4455;\n",
              "      --disabled-fill-color: #666;\n",
              "  }\n",
              "\n",
              "  .colab-df-quickchart {\n",
              "    background-color: var(--bg-color);\n",
              "    border: none;\n",
              "    border-radius: 50%;\n",
              "    cursor: pointer;\n",
              "    display: none;\n",
              "    fill: var(--fill-color);\n",
              "    height: 32px;\n",
              "    padding: 0;\n",
              "    width: 32px;\n",
              "  }\n",
              "\n",
              "  .colab-df-quickchart:hover {\n",
              "    background-color: var(--hover-bg-color);\n",
              "    box-shadow: 0 1px 2px rgba(60, 64, 67, 0.3), 0 1px 3px 1px rgba(60, 64, 67, 0.15);\n",
              "    fill: var(--button-hover-fill-color);\n",
              "  }\n",
              "\n",
              "  .colab-df-quickchart-complete:disabled,\n",
              "  .colab-df-quickchart-complete:disabled:hover {\n",
              "    background-color: var(--disabled-bg-color);\n",
              "    fill: var(--disabled-fill-color);\n",
              "    box-shadow: none;\n",
              "  }\n",
              "\n",
              "  .colab-df-spinner {\n",
              "    border: 2px solid var(--fill-color);\n",
              "    border-color: transparent;\n",
              "    border-bottom-color: var(--fill-color);\n",
              "    animation:\n",
              "      spin 1s steps(1) infinite;\n",
              "  }\n",
              "\n",
              "  @keyframes spin {\n",
              "    0% {\n",
              "      border-color: transparent;\n",
              "      border-bottom-color: var(--fill-color);\n",
              "      border-left-color: var(--fill-color);\n",
              "    }\n",
              "    20% {\n",
              "      border-color: transparent;\n",
              "      border-left-color: var(--fill-color);\n",
              "      border-top-color: var(--fill-color);\n",
              "    }\n",
              "    30% {\n",
              "      border-color: transparent;\n",
              "      border-left-color: var(--fill-color);\n",
              "      border-top-color: var(--fill-color);\n",
              "      border-right-color: var(--fill-color);\n",
              "    }\n",
              "    40% {\n",
              "      border-color: transparent;\n",
              "      border-right-color: var(--fill-color);\n",
              "      border-top-color: var(--fill-color);\n",
              "    }\n",
              "    60% {\n",
              "      border-color: transparent;\n",
              "      border-right-color: var(--fill-color);\n",
              "    }\n",
              "    80% {\n",
              "      border-color: transparent;\n",
              "      border-right-color: var(--fill-color);\n",
              "      border-bottom-color: var(--fill-color);\n",
              "    }\n",
              "    90% {\n",
              "      border-color: transparent;\n",
              "      border-bottom-color: var(--fill-color);\n",
              "    }\n",
              "  }\n",
              "</style>\n",
              "\n",
              "  <script>\n",
              "    async function quickchart(key) {\n",
              "      const quickchartButtonEl =\n",
              "        document.querySelector('#' + key + ' button');\n",
              "      quickchartButtonEl.disabled = true;  // To prevent multiple clicks.\n",
              "      quickchartButtonEl.classList.add('colab-df-spinner');\n",
              "      try {\n",
              "        const charts = await google.colab.kernel.invokeFunction(\n",
              "            'suggestCharts', [key], {});\n",
              "      } catch (error) {\n",
              "        console.error('Error during call to suggestCharts:', error);\n",
              "      }\n",
              "      quickchartButtonEl.classList.remove('colab-df-spinner');\n",
              "      quickchartButtonEl.classList.add('colab-df-quickchart-complete');\n",
              "    }\n",
              "    (() => {\n",
              "      let quickchartButtonEl =\n",
              "        document.querySelector('#df-37dae51d-ae30-4062-b1b5-10f4fbdd5f1a button');\n",
              "      quickchartButtonEl.style.display =\n",
              "        google.colab.kernel.accessAllowed ? 'block' : 'none';\n",
              "    })();\n",
              "  </script>\n",
              "</div>\n",
              "\n",
              "    </div>\n",
              "  </div>\n"
            ],
            "application/vnd.google.colaboratory.intrinsic+json": {
              "type": "dataframe",
              "variable_name": "data",
              "summary": "{\n  \"name\": \"data\",\n  \"rows\": 47427,\n  \"fields\": [\n    {\n      \"column\": \"cleaned_text\",\n      \"properties\": {\n        \"dtype\": \"string\",\n        \"num_unique_values\": 36481,\n        \"samples\": [\n          \"fadein invisible list item jquery unordered list lis invisible display begin want specific li visible js function try $ list li nth child(1)\\\").fadein work ul visible begin code > li      display   < ul class=\\\"hide id=\\\"my list >      < li>1</li >      < li>2</li >      < li>3</li > < /ul >   try answer question feel free stab\",\n          \"deploy project server create website excel file mail d information mail d fetch excel file excel file send mail automatically mail d design subject cc bcc content create project export excel file fetch mail d ms access database send email automatically design deploy project ftp.i know create help regard padmapriya s  \",\n          \"custom keypad button functional app finish scoreboard app   user longclick score currently dialog box appear show edittext field ok cancel button   user click edittext field keypad appear number user type new score click edittext field show new value dialog box user click ok save enter value textview show current score problem feel cumbersome   like happen   user longclick score keypad appear user enter new score user click ok keypad disappear value save textview update current score   order accomplish think thing   create new class extend view new android understand option replace edittext dialog new xml file design like keypad   option 2   figure probably easy design xml layout call   user longclick file inflate dialog ok cancel   far good   know code button action thought figure setup onclick listener button layout   figure button go perform exact function   basically text button case 0 9 append textview keypad   user click ok save textview current score textview help point right direction accomplish screenshot textview number   xml code < xml version=\\\"1.0 encoding=\\\"utf-8 > < gridlayout xmlns apk res android android layout_width=\\\"wrap_content android layout_height=\\\"wrap_content android layout_gravity=\\\"fill android columncount=\\\"3 >   < textview      android id=\\\"@+id textview1      android layout_columnspan=\\\"3      android layout_gravity=\\\"fill      android gravity=\\\"right|center_vertical      android textsize=\\\"24sp >   < button android text=\\\"1 >   < button android text=\\\"2 >   < button android text=\\\"3 > < button android text=\\\"4 > < button android text=\\\"5 > < button android text=\\\"6 > < button android text=\\\"7 > < button android text=\\\"8 > < button android text=\\\"9 >   < button      android layout_columnspan=\\\"3      android layout_gravity=\\\"fill      android gravity=\\\"center      android text=\\\"0 >   \"\n        ],\n        \"semantic_type\": \"\",\n        \"description\": \"\"\n      }\n    },\n    {\n      \"column\": \"Tags\",\n      \"properties\": {\n        \"dtype\": \"category\",\n        \"num_unique_values\": 176,\n        \"samples\": [\n          \"javascript asp.net\",\n          \"c# asp.net jquery\",\n          \"c# java python\"\n        ],\n        \"semantic_type\": \"\",\n        \"description\": \"\"\n      }\n    },\n    {\n      \"column\": \"Tag_Number\",\n      \"properties\": {\n        \"dtype\": \"category\",\n        \"num_unique_values\": 176,\n        \"samples\": [\n          \"[3, 9]\",\n          \"[0, 9, 5]\",\n          \"[0, 1, 7]\"\n        ],\n        \"semantic_type\": \"\",\n        \"description\": \"\"\n      }\n    }\n  ]\n}"
            }
          },
          "metadata": {},
          "execution_count": 7
        }
      ],
      "source": [
        "# Load the dataset\n",
        "data = joblib.load(\"/content/drive/MyDrive/NLP/df_multilabel_hw_cleaned.joblib\")\n",
        "data.head()"
      ]
    },
    {
      "cell_type": "code",
      "execution_count": 8,
      "metadata": {
        "colab": {
          "base_uri": "https://localhost:8080/"
        },
        "id": "8DHn_lHEkkHl",
        "outputId": "0c3a8336-68c1-4a83-d0ba-a538c135a075"
      },
      "outputs": [
        {
          "output_type": "stream",
          "name": "stdout",
          "text": [
            "<class 'pandas.core.frame.DataFrame'>\n",
            "RangeIndex: 47427 entries, 0 to 47426\n",
            "Data columns (total 3 columns):\n",
            " #   Column        Non-Null Count  Dtype \n",
            "---  ------        --------------  ----- \n",
            " 0   cleaned_text  47427 non-null  object\n",
            " 1   Tags          47427 non-null  object\n",
            " 2   Tag_Number    47427 non-null  object\n",
            "dtypes: object(3)\n",
            "memory usage: 1.1+ MB\n"
          ]
        }
      ],
      "source": [
        "data.info()"
      ]
    },
    {
      "cell_type": "code",
      "execution_count": 9,
      "metadata": {
        "id": "7Ostfiydk1UW"
      },
      "outputs": [],
      "source": [
        "import numpy as np\n",
        "import ast\n",
        "\n",
        "def process_data(data):\n",
        "    def safe_convert_tag(tag):\n",
        "        try:\n",
        "            return ast.literal_eval(tag)\n",
        "        except (ValueError, SyntaxError):\n",
        "            return None\n",
        "\n",
        "\n",
        "    y = [safe_convert_tag(tag) for tag in data['Tag_Number']]\n",
        "    x = np.array(data['cleaned_text'].astype(str)).reshape(-1, 1)\n",
        "\n",
        "    return x, y\n",
        "\n",
        "\n",
        "# Use the function to process your data\n",
        "x, y = process_data(data)"
      ]
    },
    {
      "cell_type": "code",
      "execution_count": 10,
      "metadata": {
        "colab": {
          "base_uri": "https://localhost:8080/"
        },
        "id": "M04nhe4pk4Bd",
        "outputId": "86ccfd07-9285-49ff-ec98-409d66da1283"
      },
      "outputs": [
        {
          "output_type": "stream",
          "name": "stdout",
          "text": [
            "<class 'numpy.ndarray'> (47427, 10)\n",
            "<class 'numpy.ndarray'> (47427, 1)\n"
          ]
        }
      ],
      "source": [
        "from sklearn.preprocessing import MultiLabelBinarizer\n",
        "mlb = MultiLabelBinarizer()\n",
        "\n",
        "y = mlb.fit_transform(y)\n",
        "\n",
        "print(type(y) , y.shape)\n",
        "print(type(x) , x.shape)"
      ]
    },
    {
      "cell_type": "code",
      "execution_count": 11,
      "metadata": {
        "id": "_oyPvktJk7L9"
      },
      "outputs": [],
      "source": [
        "from sklearn.model_selection import train_test_split\n",
        "\n",
        "# Split the data into training and testing sets\n",
        "X_train, X_test_valid, y_train, y_test_valid = train_test_split(x, y,test_size=0.4,random_state=42)\n",
        "\n",
        "# Further split the testing set into validation and testing sets\n",
        "X_valid, X_test, y_valid, y_test = train_test_split(X_test_valid,y_test_valid,test_size=0.5,random_state=42,shuffle=False)"
      ]
    },
    {
      "cell_type": "code",
      "source": [
        "if 'google.colab' in str(get_ipython()):\n",
        "    from google.colab import drive\n",
        "    drive.mount('/content/drive')\n",
        "\n",
        "    !pip install -U nltk -qq\n",
        "    !pip install -U spacy -qq\n",
        "    !python -m spacy download en_core_web_sm -qq\n",
        "\n",
        "    basepath = '/content/drive/MyDrive/NLP'\n",
        "    sys.path.append('/content/drive/MyDrive/NLP')\n",
        "else:\n",
        "    basepath = '/Users/anxiousviking/Documents/course/Sem 3/NLP'\n",
        "    sys.path.append(\n",
        "    '/Users/anxiousviking/Documents/course/Sem 3/NLP/custom files')"
      ],
      "metadata": {
        "colab": {
          "base_uri": "https://localhost:8080/"
        },
        "id": "C7D8NumPEiHl",
        "outputId": "6e150fdb-a75e-419d-efc2-79704a595dc3"
      },
      "execution_count": 16,
      "outputs": [
        {
          "output_type": "stream",
          "name": "stdout",
          "text": [
            "Mounted at /content/drive\n",
            "\u001b[2K     \u001b[90m━━━━━━━━━━━━━━━━━━━━━━━━━━━━━━━━━━━━━━━━\u001b[0m \u001b[32m12.8/12.8 MB\u001b[0m \u001b[31m80.2 MB/s\u001b[0m eta \u001b[36m0:00:00\u001b[0m\n",
            "\u001b[?25h\u001b[38;5;2m✔ Download and installation successful\u001b[0m\n",
            "You can now load the package via spacy.load('en_core_web_sm')\n",
            "\u001b[38;5;3m⚠ Restart to reload dependencies\u001b[0m\n",
            "If you are in a Jupyter or Colab notebook, you may need to restart Python in\n",
            "order to load all the package's dependencies. You can do this by selecting the\n",
            "'Restart kernel' or 'Restart runtime' option.\n"
          ]
        }
      ]
    },
    {
      "cell_type": "code",
      "execution_count": 17,
      "metadata": {
        "id": "biGzNUUklA_t"
      },
      "outputs": [],
      "source": [
        "import CustomPreprocessorSpacy as cp"
      ]
    },
    {
      "cell_type": "code",
      "execution_count": 18,
      "metadata": {
        "id": "9mTTh_KmlLkl"
      },
      "outputs": [],
      "source": [
        "import spacy\n",
        "nlp = spacy.load('en_core_web_sm')\n",
        "cpp = cp.SpacyPreprocessor(model = 'en_core_web_sm', batch_size=1000)"
      ]
    },
    {
      "cell_type": "code",
      "execution_count": 19,
      "metadata": {
        "colab": {
          "base_uri": "https://localhost:8080/",
          "height": 175
        },
        "id": "e4qOaQB2lNit",
        "outputId": "079ac0ae-8790-4df3-9328-c196977ce85e"
      },
      "outputs": [
        {
          "output_type": "stream",
          "name": "stderr",
          "text": [
            "/content/drive/MyDrive/NLP/CustomPreprocessorSpacy.py:83: MarkupResemblesLocatorWarning: The input looks more like a filename than markup. You may want to open this file and pass the filehandle into Beautiful Soup.\n",
            "  soup = BeautifulSoup(text, \"html.parser\")\n",
            "/usr/lib/python3.10/html/parser.py:170: XMLParsedAsHTMLWarning: It looks like you're parsing an XML document using an HTML parser. If this really is an HTML document (maybe it's XHTML?), you can ignore or filter this warning. If it's XML, you should know that using an XML parser will be more reliable. To parse this document as XML, make sure you have the lxml package installed, and pass the keyword argument `features=\"xml\"` into the BeautifulSoup constructor.\n",
            "  k = self.parse_starttag(i)\n"
          ]
        },
        {
          "output_type": "execute_result",
          "data": {
            "text/plain": [
              "TfidfVectorizer(max_features=5000, token_pattern='[\\\\S]+')"
            ],
            "text/html": [
              "<style>#sk-container-id-1 {\n",
              "  /* Definition of color scheme common for light and dark mode */\n",
              "  --sklearn-color-text: black;\n",
              "  --sklearn-color-line: gray;\n",
              "  /* Definition of color scheme for unfitted estimators */\n",
              "  --sklearn-color-unfitted-level-0: #fff5e6;\n",
              "  --sklearn-color-unfitted-level-1: #f6e4d2;\n",
              "  --sklearn-color-unfitted-level-2: #ffe0b3;\n",
              "  --sklearn-color-unfitted-level-3: chocolate;\n",
              "  /* Definition of color scheme for fitted estimators */\n",
              "  --sklearn-color-fitted-level-0: #f0f8ff;\n",
              "  --sklearn-color-fitted-level-1: #d4ebff;\n",
              "  --sklearn-color-fitted-level-2: #b3dbfd;\n",
              "  --sklearn-color-fitted-level-3: cornflowerblue;\n",
              "\n",
              "  /* Specific color for light theme */\n",
              "  --sklearn-color-text-on-default-background: var(--sg-text-color, var(--theme-code-foreground, var(--jp-content-font-color1, black)));\n",
              "  --sklearn-color-background: var(--sg-background-color, var(--theme-background, var(--jp-layout-color0, white)));\n",
              "  --sklearn-color-border-box: var(--sg-text-color, var(--theme-code-foreground, var(--jp-content-font-color1, black)));\n",
              "  --sklearn-color-icon: #696969;\n",
              "\n",
              "  @media (prefers-color-scheme: dark) {\n",
              "    /* Redefinition of color scheme for dark theme */\n",
              "    --sklearn-color-text-on-default-background: var(--sg-text-color, var(--theme-code-foreground, var(--jp-content-font-color1, white)));\n",
              "    --sklearn-color-background: var(--sg-background-color, var(--theme-background, var(--jp-layout-color0, #111)));\n",
              "    --sklearn-color-border-box: var(--sg-text-color, var(--theme-code-foreground, var(--jp-content-font-color1, white)));\n",
              "    --sklearn-color-icon: #878787;\n",
              "  }\n",
              "}\n",
              "\n",
              "#sk-container-id-1 {\n",
              "  color: var(--sklearn-color-text);\n",
              "}\n",
              "\n",
              "#sk-container-id-1 pre {\n",
              "  padding: 0;\n",
              "}\n",
              "\n",
              "#sk-container-id-1 input.sk-hidden--visually {\n",
              "  border: 0;\n",
              "  clip: rect(1px 1px 1px 1px);\n",
              "  clip: rect(1px, 1px, 1px, 1px);\n",
              "  height: 1px;\n",
              "  margin: -1px;\n",
              "  overflow: hidden;\n",
              "  padding: 0;\n",
              "  position: absolute;\n",
              "  width: 1px;\n",
              "}\n",
              "\n",
              "#sk-container-id-1 div.sk-dashed-wrapped {\n",
              "  border: 1px dashed var(--sklearn-color-line);\n",
              "  margin: 0 0.4em 0.5em 0.4em;\n",
              "  box-sizing: border-box;\n",
              "  padding-bottom: 0.4em;\n",
              "  background-color: var(--sklearn-color-background);\n",
              "}\n",
              "\n",
              "#sk-container-id-1 div.sk-container {\n",
              "  /* jupyter's `normalize.less` sets `[hidden] { display: none; }`\n",
              "     but bootstrap.min.css set `[hidden] { display: none !important; }`\n",
              "     so we also need the `!important` here to be able to override the\n",
              "     default hidden behavior on the sphinx rendered scikit-learn.org.\n",
              "     See: https://github.com/scikit-learn/scikit-learn/issues/21755 */\n",
              "  display: inline-block !important;\n",
              "  position: relative;\n",
              "}\n",
              "\n",
              "#sk-container-id-1 div.sk-text-repr-fallback {\n",
              "  display: none;\n",
              "}\n",
              "\n",
              "div.sk-parallel-item,\n",
              "div.sk-serial,\n",
              "div.sk-item {\n",
              "  /* draw centered vertical line to link estimators */\n",
              "  background-image: linear-gradient(var(--sklearn-color-text-on-default-background), var(--sklearn-color-text-on-default-background));\n",
              "  background-size: 2px 100%;\n",
              "  background-repeat: no-repeat;\n",
              "  background-position: center center;\n",
              "}\n",
              "\n",
              "/* Parallel-specific style estimator block */\n",
              "\n",
              "#sk-container-id-1 div.sk-parallel-item::after {\n",
              "  content: \"\";\n",
              "  width: 100%;\n",
              "  border-bottom: 2px solid var(--sklearn-color-text-on-default-background);\n",
              "  flex-grow: 1;\n",
              "}\n",
              "\n",
              "#sk-container-id-1 div.sk-parallel {\n",
              "  display: flex;\n",
              "  align-items: stretch;\n",
              "  justify-content: center;\n",
              "  background-color: var(--sklearn-color-background);\n",
              "  position: relative;\n",
              "}\n",
              "\n",
              "#sk-container-id-1 div.sk-parallel-item {\n",
              "  display: flex;\n",
              "  flex-direction: column;\n",
              "}\n",
              "\n",
              "#sk-container-id-1 div.sk-parallel-item:first-child::after {\n",
              "  align-self: flex-end;\n",
              "  width: 50%;\n",
              "}\n",
              "\n",
              "#sk-container-id-1 div.sk-parallel-item:last-child::after {\n",
              "  align-self: flex-start;\n",
              "  width: 50%;\n",
              "}\n",
              "\n",
              "#sk-container-id-1 div.sk-parallel-item:only-child::after {\n",
              "  width: 0;\n",
              "}\n",
              "\n",
              "/* Serial-specific style estimator block */\n",
              "\n",
              "#sk-container-id-1 div.sk-serial {\n",
              "  display: flex;\n",
              "  flex-direction: column;\n",
              "  align-items: center;\n",
              "  background-color: var(--sklearn-color-background);\n",
              "  padding-right: 1em;\n",
              "  padding-left: 1em;\n",
              "}\n",
              "\n",
              "\n",
              "/* Toggleable style: style used for estimator/Pipeline/ColumnTransformer box that is\n",
              "clickable and can be expanded/collapsed.\n",
              "- Pipeline and ColumnTransformer use this feature and define the default style\n",
              "- Estimators will overwrite some part of the style using the `sk-estimator` class\n",
              "*/\n",
              "\n",
              "/* Pipeline and ColumnTransformer style (default) */\n",
              "\n",
              "#sk-container-id-1 div.sk-toggleable {\n",
              "  /* Default theme specific background. It is overwritten whether we have a\n",
              "  specific estimator or a Pipeline/ColumnTransformer */\n",
              "  background-color: var(--sklearn-color-background);\n",
              "}\n",
              "\n",
              "/* Toggleable label */\n",
              "#sk-container-id-1 label.sk-toggleable__label {\n",
              "  cursor: pointer;\n",
              "  display: block;\n",
              "  width: 100%;\n",
              "  margin-bottom: 0;\n",
              "  padding: 0.5em;\n",
              "  box-sizing: border-box;\n",
              "  text-align: center;\n",
              "}\n",
              "\n",
              "#sk-container-id-1 label.sk-toggleable__label-arrow:before {\n",
              "  /* Arrow on the left of the label */\n",
              "  content: \"▸\";\n",
              "  float: left;\n",
              "  margin-right: 0.25em;\n",
              "  color: var(--sklearn-color-icon);\n",
              "}\n",
              "\n",
              "#sk-container-id-1 label.sk-toggleable__label-arrow:hover:before {\n",
              "  color: var(--sklearn-color-text);\n",
              "}\n",
              "\n",
              "/* Toggleable content - dropdown */\n",
              "\n",
              "#sk-container-id-1 div.sk-toggleable__content {\n",
              "  max-height: 0;\n",
              "  max-width: 0;\n",
              "  overflow: hidden;\n",
              "  text-align: left;\n",
              "  /* unfitted */\n",
              "  background-color: var(--sklearn-color-unfitted-level-0);\n",
              "}\n",
              "\n",
              "#sk-container-id-1 div.sk-toggleable__content.fitted {\n",
              "  /* fitted */\n",
              "  background-color: var(--sklearn-color-fitted-level-0);\n",
              "}\n",
              "\n",
              "#sk-container-id-1 div.sk-toggleable__content pre {\n",
              "  margin: 0.2em;\n",
              "  border-radius: 0.25em;\n",
              "  color: var(--sklearn-color-text);\n",
              "  /* unfitted */\n",
              "  background-color: var(--sklearn-color-unfitted-level-0);\n",
              "}\n",
              "\n",
              "#sk-container-id-1 div.sk-toggleable__content.fitted pre {\n",
              "  /* unfitted */\n",
              "  background-color: var(--sklearn-color-fitted-level-0);\n",
              "}\n",
              "\n",
              "#sk-container-id-1 input.sk-toggleable__control:checked~div.sk-toggleable__content {\n",
              "  /* Expand drop-down */\n",
              "  max-height: 200px;\n",
              "  max-width: 100%;\n",
              "  overflow: auto;\n",
              "}\n",
              "\n",
              "#sk-container-id-1 input.sk-toggleable__control:checked~label.sk-toggleable__label-arrow:before {\n",
              "  content: \"▾\";\n",
              "}\n",
              "\n",
              "/* Pipeline/ColumnTransformer-specific style */\n",
              "\n",
              "#sk-container-id-1 div.sk-label input.sk-toggleable__control:checked~label.sk-toggleable__label {\n",
              "  color: var(--sklearn-color-text);\n",
              "  background-color: var(--sklearn-color-unfitted-level-2);\n",
              "}\n",
              "\n",
              "#sk-container-id-1 div.sk-label.fitted input.sk-toggleable__control:checked~label.sk-toggleable__label {\n",
              "  background-color: var(--sklearn-color-fitted-level-2);\n",
              "}\n",
              "\n",
              "/* Estimator-specific style */\n",
              "\n",
              "/* Colorize estimator box */\n",
              "#sk-container-id-1 div.sk-estimator input.sk-toggleable__control:checked~label.sk-toggleable__label {\n",
              "  /* unfitted */\n",
              "  background-color: var(--sklearn-color-unfitted-level-2);\n",
              "}\n",
              "\n",
              "#sk-container-id-1 div.sk-estimator.fitted input.sk-toggleable__control:checked~label.sk-toggleable__label {\n",
              "  /* fitted */\n",
              "  background-color: var(--sklearn-color-fitted-level-2);\n",
              "}\n",
              "\n",
              "#sk-container-id-1 div.sk-label label.sk-toggleable__label,\n",
              "#sk-container-id-1 div.sk-label label {\n",
              "  /* The background is the default theme color */\n",
              "  color: var(--sklearn-color-text-on-default-background);\n",
              "}\n",
              "\n",
              "/* On hover, darken the color of the background */\n",
              "#sk-container-id-1 div.sk-label:hover label.sk-toggleable__label {\n",
              "  color: var(--sklearn-color-text);\n",
              "  background-color: var(--sklearn-color-unfitted-level-2);\n",
              "}\n",
              "\n",
              "/* Label box, darken color on hover, fitted */\n",
              "#sk-container-id-1 div.sk-label.fitted:hover label.sk-toggleable__label.fitted {\n",
              "  color: var(--sklearn-color-text);\n",
              "  background-color: var(--sklearn-color-fitted-level-2);\n",
              "}\n",
              "\n",
              "/* Estimator label */\n",
              "\n",
              "#sk-container-id-1 div.sk-label label {\n",
              "  font-family: monospace;\n",
              "  font-weight: bold;\n",
              "  display: inline-block;\n",
              "  line-height: 1.2em;\n",
              "}\n",
              "\n",
              "#sk-container-id-1 div.sk-label-container {\n",
              "  text-align: center;\n",
              "}\n",
              "\n",
              "/* Estimator-specific */\n",
              "#sk-container-id-1 div.sk-estimator {\n",
              "  font-family: monospace;\n",
              "  border: 1px dotted var(--sklearn-color-border-box);\n",
              "  border-radius: 0.25em;\n",
              "  box-sizing: border-box;\n",
              "  margin-bottom: 0.5em;\n",
              "  /* unfitted */\n",
              "  background-color: var(--sklearn-color-unfitted-level-0);\n",
              "}\n",
              "\n",
              "#sk-container-id-1 div.sk-estimator.fitted {\n",
              "  /* fitted */\n",
              "  background-color: var(--sklearn-color-fitted-level-0);\n",
              "}\n",
              "\n",
              "/* on hover */\n",
              "#sk-container-id-1 div.sk-estimator:hover {\n",
              "  /* unfitted */\n",
              "  background-color: var(--sklearn-color-unfitted-level-2);\n",
              "}\n",
              "\n",
              "#sk-container-id-1 div.sk-estimator.fitted:hover {\n",
              "  /* fitted */\n",
              "  background-color: var(--sklearn-color-fitted-level-2);\n",
              "}\n",
              "\n",
              "/* Specification for estimator info (e.g. \"i\" and \"?\") */\n",
              "\n",
              "/* Common style for \"i\" and \"?\" */\n",
              "\n",
              ".sk-estimator-doc-link,\n",
              "a:link.sk-estimator-doc-link,\n",
              "a:visited.sk-estimator-doc-link {\n",
              "  float: right;\n",
              "  font-size: smaller;\n",
              "  line-height: 1em;\n",
              "  font-family: monospace;\n",
              "  background-color: var(--sklearn-color-background);\n",
              "  border-radius: 1em;\n",
              "  height: 1em;\n",
              "  width: 1em;\n",
              "  text-decoration: none !important;\n",
              "  margin-left: 1ex;\n",
              "  /* unfitted */\n",
              "  border: var(--sklearn-color-unfitted-level-1) 1pt solid;\n",
              "  color: var(--sklearn-color-unfitted-level-1);\n",
              "}\n",
              "\n",
              ".sk-estimator-doc-link.fitted,\n",
              "a:link.sk-estimator-doc-link.fitted,\n",
              "a:visited.sk-estimator-doc-link.fitted {\n",
              "  /* fitted */\n",
              "  border: var(--sklearn-color-fitted-level-1) 1pt solid;\n",
              "  color: var(--sklearn-color-fitted-level-1);\n",
              "}\n",
              "\n",
              "/* On hover */\n",
              "div.sk-estimator:hover .sk-estimator-doc-link:hover,\n",
              ".sk-estimator-doc-link:hover,\n",
              "div.sk-label-container:hover .sk-estimator-doc-link:hover,\n",
              ".sk-estimator-doc-link:hover {\n",
              "  /* unfitted */\n",
              "  background-color: var(--sklearn-color-unfitted-level-3);\n",
              "  color: var(--sklearn-color-background);\n",
              "  text-decoration: none;\n",
              "}\n",
              "\n",
              "div.sk-estimator.fitted:hover .sk-estimator-doc-link.fitted:hover,\n",
              ".sk-estimator-doc-link.fitted:hover,\n",
              "div.sk-label-container:hover .sk-estimator-doc-link.fitted:hover,\n",
              ".sk-estimator-doc-link.fitted:hover {\n",
              "  /* fitted */\n",
              "  background-color: var(--sklearn-color-fitted-level-3);\n",
              "  color: var(--sklearn-color-background);\n",
              "  text-decoration: none;\n",
              "}\n",
              "\n",
              "/* Span, style for the box shown on hovering the info icon */\n",
              ".sk-estimator-doc-link span {\n",
              "  display: none;\n",
              "  z-index: 9999;\n",
              "  position: relative;\n",
              "  font-weight: normal;\n",
              "  right: .2ex;\n",
              "  padding: .5ex;\n",
              "  margin: .5ex;\n",
              "  width: min-content;\n",
              "  min-width: 20ex;\n",
              "  max-width: 50ex;\n",
              "  color: var(--sklearn-color-text);\n",
              "  box-shadow: 2pt 2pt 4pt #999;\n",
              "  /* unfitted */\n",
              "  background: var(--sklearn-color-unfitted-level-0);\n",
              "  border: .5pt solid var(--sklearn-color-unfitted-level-3);\n",
              "}\n",
              "\n",
              ".sk-estimator-doc-link.fitted span {\n",
              "  /* fitted */\n",
              "  background: var(--sklearn-color-fitted-level-0);\n",
              "  border: var(--sklearn-color-fitted-level-3);\n",
              "}\n",
              "\n",
              ".sk-estimator-doc-link:hover span {\n",
              "  display: block;\n",
              "}\n",
              "\n",
              "/* \"?\"-specific style due to the `<a>` HTML tag */\n",
              "\n",
              "#sk-container-id-1 a.estimator_doc_link {\n",
              "  float: right;\n",
              "  font-size: 1rem;\n",
              "  line-height: 1em;\n",
              "  font-family: monospace;\n",
              "  background-color: var(--sklearn-color-background);\n",
              "  border-radius: 1rem;\n",
              "  height: 1rem;\n",
              "  width: 1rem;\n",
              "  text-decoration: none;\n",
              "  /* unfitted */\n",
              "  color: var(--sklearn-color-unfitted-level-1);\n",
              "  border: var(--sklearn-color-unfitted-level-1) 1pt solid;\n",
              "}\n",
              "\n",
              "#sk-container-id-1 a.estimator_doc_link.fitted {\n",
              "  /* fitted */\n",
              "  border: var(--sklearn-color-fitted-level-1) 1pt solid;\n",
              "  color: var(--sklearn-color-fitted-level-1);\n",
              "}\n",
              "\n",
              "/* On hover */\n",
              "#sk-container-id-1 a.estimator_doc_link:hover {\n",
              "  /* unfitted */\n",
              "  background-color: var(--sklearn-color-unfitted-level-3);\n",
              "  color: var(--sklearn-color-background);\n",
              "  text-decoration: none;\n",
              "}\n",
              "\n",
              "#sk-container-id-1 a.estimator_doc_link.fitted:hover {\n",
              "  /* fitted */\n",
              "  background-color: var(--sklearn-color-fitted-level-3);\n",
              "}\n",
              "</style><div id=\"sk-container-id-1\" class=\"sk-top-container\"><div class=\"sk-text-repr-fallback\"><pre>TfidfVectorizer(max_features=5000, token_pattern=&#x27;[\\\\S]+&#x27;)</pre><b>In a Jupyter environment, please rerun this cell to show the HTML representation or trust the notebook. <br />On GitHub, the HTML representation is unable to render, please try loading this page with nbviewer.org.</b></div><div class=\"sk-container\" hidden><div class=\"sk-item\"><div class=\"sk-estimator fitted sk-toggleable\"><input class=\"sk-toggleable__control sk-hidden--visually\" id=\"sk-estimator-id-1\" type=\"checkbox\" checked><label for=\"sk-estimator-id-1\" class=\"sk-toggleable__label fitted sk-toggleable__label-arrow fitted\">&nbsp;&nbsp;TfidfVectorizer<a class=\"sk-estimator-doc-link fitted\" rel=\"noreferrer\" target=\"_blank\" href=\"https://scikit-learn.org/1.5/modules/generated/sklearn.feature_extraction.text.TfidfVectorizer.html\">?<span>Documentation for TfidfVectorizer</span></a><span class=\"sk-estimator-doc-link fitted\">i<span>Fitted</span></span></label><div class=\"sk-toggleable__content fitted\"><pre>TfidfVectorizer(max_features=5000, token_pattern=&#x27;[\\\\S]+&#x27;)</pre></div> </div></div></div></div>"
            ]
          },
          "metadata": {},
          "execution_count": 19
        }
      ],
      "source": [
        "from sklearn.feature_extraction.text import TfidfVectorizer\n",
        "vectorizer = TfidfVectorizer(analyzer='word', token_pattern=r\"[\\S]+\",max_features=5000)\n",
        "vectorizer.fit(cpp.transform([str(x) for x in X_train.tolist()]))"
      ]
    },
    {
      "cell_type": "code",
      "execution_count": 20,
      "metadata": {
        "id": "yvrFkt25lP91"
      },
      "outputs": [],
      "source": [
        "from scipy.sparse import csr_matrix\n",
        "class CustomDataset(torch.utils.data.Dataset):\n",
        "    \"\"\"\n",
        "    Custom Dataset class for loading text and labels.\n",
        "\n",
        "    Attributes:\n",
        "        X (numpy.ndarray): Feature data, an array of texts.\n",
        "        y (list or array-like): Target labels.\n",
        "        vectorizer (TfidfVectorizer): The TF-IDF vectorizer used to transform the texts.\n",
        "    \"\"\"\n",
        "\n",
        "    def __init__(self, X, y, vectorizer,cpp):\n",
        "        \"\"\"\n",
        "        Initialize the dataset with feature and target data.\n",
        "\n",
        "        Args:\n",
        "            X (list or array-like): The feature data (texts).\n",
        "            y (list or array-like): The target labels.\n",
        "            vectorizer (TfidfVectorizer): The TF-IDF vectorizer used to transform the texts.\n",
        "        \"\"\"\n",
        "        X = [str(x) for x in X.tolist()]\n",
        "\n",
        "        # Storing feature data (texts)\n",
        "        self.X = cpp.transform(X)\n",
        "\n",
        "        # Storing the target labels\n",
        "        self.y = y\n",
        "\n",
        "        # Storing the TF-IDF vectorizer\n",
        "        self.vectorizer = vectorizer\n",
        "\n",
        "        # Transforming the texts to TF-IDF vectors\n",
        "        self.X_tfidf = self.vectorizer.transform(self.X)\n",
        "\n",
        "    def __len__(self):\n",
        "        \"\"\"\n",
        "        Return the number of samples in the dataset.\n",
        "\n",
        "        Returns:\n",
        "            int: The total number of samples.\n",
        "        \"\"\"\n",
        "        return len(self.X)\n",
        "\n",
        "    def __getitem__(self, idx):\n",
        "        \"\"\"\n",
        "        Fetch and return a single sample from the dataset at the given index.\n",
        "\n",
        "        Args:\n",
        "            idx (int): Index of the sample to fetch.\n",
        "\n",
        "        Returns:\n",
        "            tuple: A tuple containing the label and the TF-IDF vector for the sample.\n",
        "        \"\"\"\n",
        "        # Retrieve the TF-IDF vector and corresponding label from the dataset using the index\n",
        "        tfidf_vector = csr_matrix.toarray(self.X_tfidf[idx])\n",
        "        label = self.y[idx]\n",
        "\n",
        "        # Convert label to tensor of type float\n",
        "        label = torch.tensor(label, dtype=torch.float)\n",
        "\n",
        "        # Convert TF-IDF vector to tensor\n",
        "        tfidf_vector = torch.tensor(tfidf_vector, dtype=torch.float)\n",
        "\n",
        "        # Packing them into a tuple before returning\n",
        "\n",
        "        return tfidf_vector, label"
      ]
    },
    {
      "cell_type": "code",
      "execution_count": 21,
      "metadata": {
        "id": "o6E8Oe46llyD"
      },
      "outputs": [],
      "source": [
        "# Create an instance of the CustomDataset class for the training set\n",
        "trainset = CustomDataset(X_train, y_train,vectorizer,cpp)\n",
        "\n",
        "# Create an instance of the CustomDataset class for the validation set\n",
        "validset = CustomDataset(X_valid, y_valid,vectorizer,cpp)\n",
        "\n",
        "# Create an instance of the CustomDataset class for the test set\n",
        "testset = CustomDataset(X_test, y_test,vectorizer,cpp)"
      ]
    },
    {
      "cell_type": "code",
      "execution_count": 22,
      "metadata": {
        "id": "ZJ5NIZhIloI4"
      },
      "outputs": [],
      "source": [
        "batch_size = 2\n",
        "check_loader = torch.utils.data.DataLoader(dataset=trainset,\n",
        "                                           batch_size=batch_size,\n",
        "                                           shuffle=True,\n",
        "                                           )"
      ]
    },
    {
      "cell_type": "code",
      "execution_count": 23,
      "metadata": {
        "id": "Hr1xztIsloNV"
      },
      "outputs": [],
      "source": [
        "class CustomModel(nn.Module):\n",
        "    def __init__(self, input_dim, hidden_dim1, hidden_dim2, drop_prob1, drop_prob2, output_dim):\n",
        "        super().__init__()\n",
        "        self.hidden1 = nn.Linear(input_dim, hidden_dim1)\n",
        "        self.relu1 = nn.ReLU()\n",
        "        self.dropout1 = nn.Dropout(p=drop_prob1)\n",
        "        self.batchnorm1 = nn.BatchNorm1d(num_features=hidden_dim1)\n",
        "        self.hidden2 = nn.Linear(hidden_dim1, hidden_dim2)\n",
        "        self.relu2 = nn.ReLU()\n",
        "        self.dropout2 = nn.Dropout(p=drop_prob2)\n",
        "        self.batchnorm2 = nn.BatchNorm1d(num_features=hidden_dim2)\n",
        "        self.output = nn.Linear(hidden_dim2, output_dim)\n",
        "\n",
        "    def forward(self, x):\n",
        "        x = self.hidden1(x)\n",
        "        x = self.relu1(x)\n",
        "        x = self.dropout1(x)\n",
        "        x = self.batchnorm1(x)\n",
        "        x = self.hidden2(x)\n",
        "        x = self.relu2(x)\n",
        "        x = self.dropout2(x)\n",
        "        x = self.batchnorm2(x)\n",
        "        x = self.output(x)\n",
        "        return x"
      ]
    },
    {
      "cell_type": "code",
      "execution_count": 24,
      "metadata": {
        "id": "lW3IzfDGloPp"
      },
      "outputs": [],
      "source": [
        "INPUT_DIM=5000\n",
        "HIDDEN_DIM1=200\n",
        "HIDDEN_DIM2=100\n",
        "DROP_PROB1=0.5\n",
        "DROP_PROB2=0.5\n",
        "NUM_OUTPUTS = 10\n",
        "EPOCHS=5\n",
        "BATCH_SIZE=128\n",
        "LEARNING_RATE=0.001\n",
        "WEIGHT_DECAY=0.000\n",
        "CLIP_VALUE = 10\n",
        "PATIENCE = 5\n",
        "dropout_p = 0.3"
      ]
    },
    {
      "cell_type": "code",
      "execution_count": 25,
      "metadata": {
        "id": "cBbOwoq_loSH"
      },
      "outputs": [],
      "source": [
        "import torch.optim as optim\n",
        "from torch.utils.data import DataLoader\n",
        "from tqdm import tqdm\n",
        "\n",
        "model = CustomModel(input_dim=INPUT_DIM,\n",
        "                       hidden_dim1=HIDDEN_DIM1,\n",
        "                       hidden_dim2=HIDDEN_DIM2,\n",
        "                       drop_prob1=0.5,\n",
        "                       drop_prob2=0.5,\n",
        "                       output_dim=NUM_OUTPUTS)"
      ]
    },
    {
      "cell_type": "code",
      "execution_count": 26,
      "metadata": {
        "colab": {
          "base_uri": "https://localhost:8080/"
        },
        "id": "1fxl8H_yloUH",
        "outputId": "5fd04abc-b8b2-4b8c-ee49-3c81fee27abf"
      },
      "outputs": [
        {
          "output_type": "execute_result",
          "data": {
            "text/plain": [
              "==========================================================================================\n",
              "Layer (type:depth-idx)                   Output Shape              Param #\n",
              "==========================================================================================\n",
              "CustomModel                              [1, 10]                   --\n",
              "├─Linear: 1-1                            [1, 200]                  1,000,200\n",
              "├─ReLU: 1-2                              [1, 200]                  --\n",
              "├─Dropout: 1-3                           [1, 200]                  --\n",
              "├─BatchNorm1d: 1-4                       [1, 200]                  400\n",
              "├─Linear: 1-5                            [1, 100]                  20,100\n",
              "├─ReLU: 1-6                              [1, 100]                  --\n",
              "├─Dropout: 1-7                           [1, 100]                  --\n",
              "├─BatchNorm1d: 1-8                       [1, 100]                  200\n",
              "├─Linear: 1-9                            [1, 10]                   1,010\n",
              "==========================================================================================\n",
              "Total params: 1,021,910\n",
              "Trainable params: 1,021,910\n",
              "Non-trainable params: 0\n",
              "Total mult-adds (M): 1.02\n",
              "==========================================================================================\n",
              "Input size (MB): 0.02\n",
              "Forward/backward pass size (MB): 0.00\n",
              "Params size (MB): 4.09\n",
              "Estimated Total Size (MB): 4.11\n",
              "=========================================================================================="
            ]
          },
          "metadata": {},
          "execution_count": 26
        }
      ],
      "source": [
        "summary(model,(1, 5000))"
      ]
    },
    {
      "cell_type": "code",
      "execution_count": 27,
      "metadata": {
        "id": "y7NE75DSlxIp"
      },
      "outputs": [],
      "source": [
        "# Define the device\n",
        "device = torch.device('cuda:0' if torch.cuda.is_available() else 'cpu')\n",
        "\n",
        "# Move the model to the device\n",
        "model = model.to(device)\n",
        "\n",
        "# Generate some dummy input data and offsets, and move them to the device\n",
        "data = trainset[0][0].squeeze(1).to(device)"
      ]
    },
    {
      "cell_type": "code",
      "execution_count": 28,
      "metadata": {
        "colab": {
          "base_uri": "https://localhost:8080/"
        },
        "id": "fEqvWqSGlxK7",
        "outputId": "99b7ee82-42b0-42a6-a334-99d31ca009c5"
      },
      "outputs": [
        {
          "output_type": "stream",
          "name": "stdout",
          "text": [
            "tensor([[ 0.0666,  0.0379,  0.0703, -0.0464,  0.0093,  0.0948, -0.0247, -0.0623,\n",
            "         -0.0508, -0.0895]], grad_fn=<AddmmBackward0>)\n"
          ]
        }
      ],
      "source": [
        "# Switch the model to evaluation mode\n",
        "model.eval()\n",
        "\n",
        "# Perform inference\n",
        "output = model(data)\n",
        "\n",
        "print(output)"
      ]
    },
    {
      "cell_type": "code",
      "execution_count": 31,
      "metadata": {
        "colab": {
          "base_uri": "https://localhost:8080/"
        },
        "id": "4STtkWZAlxNa",
        "outputId": "45dff21f-c78b-47be-e609-de75cdf781bb"
      },
      "outputs": [
        {
          "output_type": "stream",
          "name": "stdout",
          "text": [
            "Collecting torchmetrics\n",
            "  Downloading torchmetrics-1.4.2-py3-none-any.whl.metadata (19 kB)\n",
            "Requirement already satisfied: numpy>1.20.0 in /usr/local/lib/python3.10/dist-packages (from torchmetrics) (1.26.4)\n",
            "Requirement already satisfied: packaging>17.1 in /usr/local/lib/python3.10/dist-packages (from torchmetrics) (24.1)\n",
            "Requirement already satisfied: torch>=1.10.0 in /usr/local/lib/python3.10/dist-packages (from torchmetrics) (2.4.1+cu121)\n",
            "Collecting lightning-utilities>=0.8.0 (from torchmetrics)\n",
            "  Downloading lightning_utilities-0.11.7-py3-none-any.whl.metadata (5.2 kB)\n",
            "Requirement already satisfied: setuptools in /usr/local/lib/python3.10/dist-packages (from lightning-utilities>=0.8.0->torchmetrics) (71.0.4)\n",
            "Requirement already satisfied: typing-extensions in /usr/local/lib/python3.10/dist-packages (from lightning-utilities>=0.8.0->torchmetrics) (4.12.2)\n",
            "Requirement already satisfied: filelock in /usr/local/lib/python3.10/dist-packages (from torch>=1.10.0->torchmetrics) (3.16.1)\n",
            "Requirement already satisfied: sympy in /usr/local/lib/python3.10/dist-packages (from torch>=1.10.0->torchmetrics) (1.13.3)\n",
            "Requirement already satisfied: networkx in /usr/local/lib/python3.10/dist-packages (from torch>=1.10.0->torchmetrics) (3.3)\n",
            "Requirement already satisfied: jinja2 in /usr/local/lib/python3.10/dist-packages (from torch>=1.10.0->torchmetrics) (3.1.4)\n",
            "Requirement already satisfied: fsspec in /usr/local/lib/python3.10/dist-packages (from torch>=1.10.0->torchmetrics) (2024.6.1)\n",
            "Requirement already satisfied: MarkupSafe>=2.0 in /usr/local/lib/python3.10/dist-packages (from jinja2->torch>=1.10.0->torchmetrics) (2.1.5)\n",
            "Requirement already satisfied: mpmath<1.4,>=1.1.0 in /usr/local/lib/python3.10/dist-packages (from sympy->torch>=1.10.0->torchmetrics) (1.3.0)\n",
            "Downloading torchmetrics-1.4.2-py3-none-any.whl (869 kB)\n",
            "\u001b[2K   \u001b[90m━━━━━━━━━━━━━━━━━━━━━━━━━━━━━━━━━━━━━━━━\u001b[0m \u001b[32m869.2/869.2 kB\u001b[0m \u001b[31m16.4 MB/s\u001b[0m eta \u001b[36m0:00:00\u001b[0m\n",
            "\u001b[?25hDownloading lightning_utilities-0.11.7-py3-none-any.whl (26 kB)\n",
            "Installing collected packages: lightning-utilities, torchmetrics\n",
            "Successfully installed lightning-utilities-0.11.7 torchmetrics-1.4.2\n"
          ]
        }
      ],
      "source": [
        "!pip install torchmetrics\n",
        "from torchmetrics import HammingDistance\n",
        "\n",
        "def step(inputs, targets, model, device, loss_function=None, optimizer=None,clip_type='value',clip_value=10.0):\n",
        "    \"\"\"\n",
        "    Performs a forward and backward pass for a given batch of inputs and targets.\n",
        "\n",
        "    Parameters:\n",
        "    - inputs (torch.Tensor): The input data for the model.\n",
        "    - targets (torch.Tensor): The true labels for the input data.\n",
        "    - model (torch.nn.Module): The neural network model.\n",
        "    - device (torch.device): The computing device (CPU or GPU).\n",
        "    - loss_function (torch.nn.Module, optional): The loss function to use.\n",
        "    - optimizer (torch.optim.Optimizer, optional): The optimizer to update model parameters.\n",
        "\n",
        "    Returns:\n",
        "    - loss (float): The computed loss value (only if loss_function is not None).\n",
        "    - outputs (torch.Tensor): The predictions from the model.\n",
        "    - train_hamming_distance (torchmetrics.HammingDistance): The Hamming distance metric.\n",
        "    \"\"\"\n",
        "    # Move the model and data to the device\n",
        "    model = model.to(device)\n",
        "    inputs, targets = inputs.squeeze(1).to(device), targets.to(device)\n",
        "\n",
        "    # Step 1: Forward pass to get the model's predictions\n",
        "    outputs = model(inputs)\n",
        "\n",
        "    # Step 2a: Compute the loss using the provided loss function\n",
        "    if loss_function:\n",
        "        loss = loss_function(outputs, targets)\n",
        "\n",
        "    # Step 2b: Update Hamming Distance metric\n",
        "    train_hamming_distance = HammingDistance(task=\"multilabel\", num_labels=10).to(device)\n",
        "    y_pred = (outputs > 0.5).float()\n",
        "    train_hamming_distance.update(y_pred, targets)\n",
        "\n",
        "    # Step 3 and 4: Perform backward pass and update model parameters if an optimizer is provided\n",
        "    if optimizer:\n",
        "        optimizer.zero_grad()\n",
        "        loss.backward()\n",
        "        if clip_type == 'value':\n",
        "            torch.nn.utils.clip_grad_value_(model.parameters(), clip_value)\n",
        "        optimizer.step()\n",
        "\n",
        "    # Return relevant metrics\n",
        "    if loss_function:\n",
        "        return loss, outputs, train_hamming_distance\n",
        "    else:\n",
        "        return outputs, train_hamming_distance"
      ]
    },
    {
      "cell_type": "code",
      "execution_count": 32,
      "metadata": {
        "id": "vPBQgsW1lxPt"
      },
      "outputs": [],
      "source": [
        "def train_epoch(train_loader, model, device, loss_function, optimizer):\n",
        "    \"\"\"\n",
        "    Trains the model for one epoch using the provided data loader and updates the model parameters.\n",
        "\n",
        "    Parameters:\n",
        "    - train_loader (torch.utils.data.DataLoader): DataLoader object for the training set.\n",
        "    - model (torch.nn.Module): The neural network model to be trained.\n",
        "    - device (torch.device): The computing device (CPU or GPU).\n",
        "    - loss_function (torch.nn.Module): The loss function to use for training.\n",
        "    - optimizer (torch.optim.Optimizer): The optimizer to update model parameters.\n",
        "\n",
        "    Returns:\n",
        "    - train_loss (float): Average training loss for the epoch.\n",
        "    - epoch_hamming_distance (float): Hamming distance for the epoch.\n",
        "    \"\"\"\n",
        "    # Set the model to training mode\n",
        "    model.train()\n",
        "\n",
        "    # Initialize variables to track running training loss and correct predictions\n",
        "    running_train_loss = 0.0\n",
        "    running_train_correct = 0\n",
        "\n",
        "    # Initialize Hamming Distance metric\n",
        "    hamming = HammingDistance(task=\"multilabel\", num_labels=10).to(device)\n",
        "\n",
        "    # Iterate over all batches in the training data\n",
        "    for inputs, targets in train_loader:\n",
        "        # Move data to the appropriate device\n",
        "        inputs, targets = inputs.squeeze(1).to(device), targets.to(device)\n",
        "\n",
        "        # Perform a forward and backward pass, updating model parameters\n",
        "        loss, _, _ = step(inputs, targets, model, device, loss_function, optimizer)\n",
        "\n",
        "        # Update running loss\n",
        "        running_train_loss += loss.item()\n",
        "\n",
        "        # Compute Hamming Distance for the epoch\n",
        "        y_pred = (model(inputs) > 0.5).float()\n",
        "        hamming.update(y_pred, targets)\n",
        "\n",
        "    # Compute average loss for the entire training set\n",
        "    train_loss = running_train_loss / len(train_loader)\n",
        "\n",
        "    # Compute Hamming Distance for the epoch\n",
        "    epoch_hamming_distance = hamming.compute()\n",
        "\n",
        "    return train_loss, epoch_hamming_distance"
      ]
    },
    {
      "cell_type": "code",
      "execution_count": 33,
      "metadata": {
        "id": "Sh3eriDhlxSJ"
      },
      "outputs": [],
      "source": [
        "from torchmetrics import HammingDistance\n",
        "\n",
        "def val_epoch(valid_loader, model, device, loss_function):\n",
        "    \"\"\"\n",
        "    Validates the model for one epoch using the provided data loader.\n",
        "\n",
        "    Parameters:\n",
        "    - valid_loader (torch.utils.data.DataLoader): DataLoader object for the validation set.\n",
        "    - model (torch.nn.Module): The neural network model to be validated.\n",
        "    - device (torch.device): The computing device (CPU or GPU).\n",
        "    - loss_function (torch.nn.Module): The loss function to evaluate the model.\n",
        "\n",
        "    Returns:\n",
        "    - val_loss (float): Average validation loss for the epoch.\n",
        "    - val_hamming_distance (float): Hamming distance for the epoch.\n",
        "    \"\"\"\n",
        "    # Set the model to evaluation mode\n",
        "    model.eval()\n",
        "\n",
        "    # Initialize variables to track running validation loss and Hamming Distance\n",
        "    running_val_loss = 0.0\n",
        "    val_hamming_distance = HammingDistance(task=\"multilabel\", num_labels=10).to(device)\n",
        "\n",
        "    # Disable gradient computation\n",
        "    with torch.no_grad():\n",
        "        # Iterate over all batches in the validation data\n",
        "        for inputs, targets in valid_loader:\n",
        "            # Move data to the appropriate device\n",
        "            inputs, targets = inputs.squeeze(1).to(device), targets.to(device)\n",
        "\n",
        "            # Perform a forward pass to get loss and number of correct predictions\n",
        "            outputs = model(inputs)\n",
        "            loss = loss_function(outputs, targets)\n",
        "\n",
        "            # Update running loss\n",
        "            running_val_loss += loss.item()\n",
        "\n",
        "            # Update Hamming Distance metric\n",
        "            val_hamming_distance.update(torch.round(torch.sigmoid(outputs)), targets)\n",
        "\n",
        "    # Compute average loss and Hamming Distance for the entire validation set\n",
        "    val_loss = running_val_loss / len(valid_loader)\n",
        "    val_hamming_distance = val_hamming_distance.compute()\n",
        "\n",
        "    return val_loss, val_hamming_distance\n"
      ]
    },
    {
      "cell_type": "code",
      "execution_count": 34,
      "metadata": {
        "id": "EUxAEDsVlxUZ"
      },
      "outputs": [],
      "source": [
        "def train(train_loader, valid_loader, model, optimizer, loss_function, epochs, device, patience=5):\n",
        "    \"\"\"\n",
        "    Trains and validates the model, and returns history of train and validation metrics.\n",
        "\n",
        "    Parameters:\n",
        "    - train_loader (torch.utils.data.DataLoader): DataLoader for the training set.\n",
        "    - valid_loader (torch.utils.data.DataLoader): DataLoader for the validation set.\n",
        "    - model (torch.nn.Module): Neural network model to train.\n",
        "    - optimizer (torch.optim.Optimizer): Optimizer algorithm.\n",
        "    - loss_function (torch.nn.Module): Loss function to evaluate the model.\n",
        "    - epochs (int): Number of epochs to train the model.\n",
        "    - device (torch.device): The computing device (CPU or GPU).\n",
        "    - patience (int): Number of epochs to wait for improvement before early stopping.\n",
        "\n",
        "    Returns:\n",
        "    - train_loss_history (list): History of training loss for each epoch.\n",
        "    - train_hamm_history (list): History of training Hamming distance for each epoch.\n",
        "    - valid_loss_history (list): History of validation loss for each epoch.\n",
        "    - valid_hamm_history (list): History of validation Hamming distance for each epoch.\n",
        "    \"\"\"\n",
        "\n",
        "    # Initialize lists to store metrics for each epoch\n",
        "    train_loss_history = []\n",
        "    valid_loss_history = []\n",
        "    train_hamm_history = []\n",
        "    valid_hamm_history = []\n",
        "\n",
        "    # Initialize variables for early stopping\n",
        "    best_valid_loss = float('inf')\n",
        "    no_improvement = 0\n",
        "\n",
        "    # Loop over the number of specified epochs\n",
        "    for epoch in range(epochs):\n",
        "        # Train model on training data and capture metrics\n",
        "        train_loss, train_hamm = train_epoch(\n",
        "            train_loader, model, device, loss_function, optimizer)\n",
        "\n",
        "        # Validate model on validation data and capture metrics\n",
        "        valid_loss, valid_hamm = val_epoch(\n",
        "            valid_loader, model, device, loss_function)\n",
        "\n",
        "        # Store metrics for this epoch\n",
        "        train_loss_history.append(train_loss)\n",
        "        valid_loss_history.append(valid_loss)\n",
        "        train_hamm_history.append(train_hamm)\n",
        "        valid_hamm_history.append(valid_hamm)\n",
        "\n",
        "        # Output epoch-level summary\n",
        "        print(f\"Epoch {epoch+1}/{epochs}\")\n",
        "        print(f\"Train Loss: {train_loss:.4f} | Train Hamming Distance: {train_hamm:.4f}\")\n",
        "        print(f\"Valid Loss: {valid_loss:.4f} | Valid Hamming Distance: {valid_hamm:.4f}\")\n",
        "        print()\n",
        "\n",
        "        # Check for early stopping\n",
        "        if valid_loss < best_valid_loss:\n",
        "            best_valid_loss = valid_loss\n",
        "            no_improvement = 0\n",
        "        else:\n",
        "            no_improvement += 1\n",
        "            if no_improvement == patience:\n",
        "                print(f\"No improvement for {patience} epochs. Early stopping...\")\n",
        "                break\n",
        "\n",
        "    return train_loss_history, train_hamm_history, valid_loss_history, valid_hamm_history\n"
      ]
    },
    {
      "cell_type": "code",
      "execution_count": 35,
      "metadata": {
        "id": "dO_n7DBEl4gL"
      },
      "outputs": [],
      "source": [
        "# training\n",
        "EPOCHS=5\n",
        "BATCH_SIZE=128\n",
        "LEARNING_RATE=0.001\n",
        "WEIGHT_DECAY=0.0\n",
        "PATIENCE=10"
      ]
    },
    {
      "cell_type": "code",
      "execution_count": 36,
      "metadata": {
        "colab": {
          "base_uri": "https://localhost:8080/"
        },
        "id": "FQTXAHK1l4iZ",
        "outputId": "d5a7517f-5229-4136-c13c-0878607b3295"
      },
      "outputs": [
        {
          "output_type": "stream",
          "name": "stderr",
          "text": [
            "/usr/local/lib/python3.10/dist-packages/torch/utils/data/dataloader.py:557: UserWarning: This DataLoader will create 4 worker processes in total. Our suggested max number of worker in current system is 2, which is smaller than what this DataLoader is going to create. Please be aware that excessive worker creation might get DataLoader running slow or even freeze, lower the worker number to avoid potential slowness/freeze if necessary.\n",
            "  warnings.warn(_create_warning_msg(\n"
          ]
        }
      ],
      "source": [
        "# Fixing the seed value for reproducibility across runs\n",
        "SEED = 2345\n",
        "random.seed(SEED)\n",
        "np.random.seed(SEED)\n",
        "torch.manual_seed(SEED)\n",
        "torch.cuda.manual_seed(SEED)\n",
        "torch.backends.cudnn.deterministic = True\n",
        "\n",
        "\n",
        "# Define the device for model training (use CUDA if available, else CPU)\n",
        "device = torch.device('cuda:0' if torch.cuda.is_available() else 'cpu')\n",
        "\n",
        "# Data Loaders for training, validation, and test sets\n",
        "train_loader = torch.utils.data.DataLoader(trainset, batch_size = BATCH_SIZE, shuffle=True, num_workers=4)\n",
        "valid_loader = torch.utils.data.DataLoader(validset, batch_size=BATCH_SIZE, shuffle=False, num_workers=4)\n",
        "test_loader = torch.utils.data.DataLoader(testset, batch_size=BATCH_SIZE, shuffle=False, num_workers=4)\n",
        "\n",
        "# Define the loss function for the model, using cross-entropy loss\n",
        "loss_function = nn.BCEWithLogitsLoss()\n",
        "\n",
        "# Define the model with specified hyperparameters\n",
        "model = CustomModel(input_dim=INPUT_DIM,\n",
        "                       hidden_dim1=HIDDEN_DIM1,\n",
        "                       hidden_dim2=HIDDEN_DIM2,\n",
        "                       drop_prob1=0.5,\n",
        "                       drop_prob2=0.5,\n",
        "                       output_dim=NUM_OUTPUTS)\n",
        "\n",
        "model = model.to(device)\n",
        "\n",
        "# Define the optimizer\n",
        "optimizer = optim.AdamW(model.parameters(), lr=LEARNING_RATE, weight_decay=WEIGHT_DECAY)"
      ]
    },
    {
      "cell_type": "code",
      "execution_count": 37,
      "metadata": {
        "colab": {
          "base_uri": "https://localhost:8080/"
        },
        "id": "RIIwefrWl4k8",
        "outputId": "2a9ae544-f51b-4856-b1ae-c673f27f0d29"
      },
      "outputs": [
        {
          "output_type": "stream",
          "name": "stderr",
          "text": [
            "/usr/local/lib/python3.10/dist-packages/torch/utils/data/dataloader.py:557: UserWarning: This DataLoader will create 4 worker processes in total. Our suggested max number of worker in current system is 2, which is smaller than what this DataLoader is going to create. Please be aware that excessive worker creation might get DataLoader running slow or even freeze, lower the worker number to avoid potential slowness/freeze if necessary.\n",
            "  warnings.warn(_create_warning_msg(\n"
          ]
        },
        {
          "output_type": "stream",
          "name": "stdout",
          "text": [
            "<class 'torch.Tensor'>\n",
            "torch.Size([128, 1, 5000])\n",
            "torch.Size([128, 10])\n"
          ]
        }
      ],
      "source": [
        "for inputs, targets in train_loader:\n",
        "  print(type(inputs))\n",
        "  print(inputs.shape)\n",
        "  print(targets.shape)\n",
        "  break"
      ]
    },
    {
      "cell_type": "code",
      "execution_count": 38,
      "metadata": {
        "colab": {
          "base_uri": "https://localhost:8080/"
        },
        "id": "WkJuB2rLl7fx",
        "outputId": "858243e1-fa91-485d-e0be-7fe3547f3e9f"
      },
      "outputs": [
        {
          "output_type": "stream",
          "name": "stdout",
          "text": [
            "Actual loss: 0.6789126396179199\n",
            "Expected Theoretical loss: 0.6931471805599453\n"
          ]
        }
      ],
      "source": [
        "for inputs, targets in train_loader:\n",
        "    # Move inputs and targets to the CPU.\n",
        "    inputs = inputs.squeeze(1).to(device)\n",
        "    targets = targets.to(device)\n",
        "    model = model.to(device)\n",
        "    model.eval()\n",
        "    # Forward pass\n",
        "    with torch.no_grad():\n",
        "        output = model(inputs)\n",
        "        loss = loss_function(output, targets)\n",
        "        print(f'Actual loss: {loss.item()}')\n",
        "    break\n",
        "\n",
        "print(f'Expected Theoretical loss: {np.log(2)}')"
      ]
    },
    {
      "cell_type": "code",
      "execution_count": 39,
      "metadata": {
        "colab": {
          "base_uri": "https://localhost:8080/"
        },
        "id": "cdzVSheml7iC",
        "outputId": "c39192a6-2c42-477a-80da-33e68dac735d"
      },
      "outputs": [
        {
          "output_type": "stream",
          "name": "stdout",
          "text": [
            "Epoch 1/5\n",
            "Train Loss: 0.3474 | Train Hamming Distance: 0.0855\n",
            "Valid Loss: 0.1411 | Valid Hamming Distance: 0.0491\n",
            "\n",
            "Epoch 2/5\n",
            "Train Loss: 0.1348 | Train Hamming Distance: 0.0474\n",
            "Valid Loss: 0.1161 | Valid Hamming Distance: 0.0437\n",
            "\n",
            "Epoch 3/5\n",
            "Train Loss: 0.1074 | Train Hamming Distance: 0.0391\n",
            "Valid Loss: 0.1085 | Valid Hamming Distance: 0.0392\n",
            "\n",
            "Epoch 4/5\n",
            "Train Loss: 0.0920 | Train Hamming Distance: 0.0330\n",
            "Valid Loss: 0.1041 | Valid Hamming Distance: 0.0372\n",
            "\n",
            "Epoch 5/5\n",
            "Train Loss: 0.0827 | Train Hamming Distance: 0.0303\n",
            "Valid Loss: 0.1045 | Valid Hamming Distance: 0.0372\n",
            "\n"
          ]
        }
      ],
      "source": [
        "CLIP_VALUE = 10\n",
        "# Call the train function to train the model\n",
        "train_losses, train_hamm, valid_losses, valid_hamm = train(\n",
        "    train_loader, valid_loader, model, optimizer, loss_function, EPOCHS, device, patience=PATIENCE\n",
        ")"
      ]
    },
    {
      "cell_type": "code",
      "execution_count": 40,
      "metadata": {
        "id": "0v31u8aNl7kV"
      },
      "outputs": [],
      "source": [
        "def plot_history(train_losses, train_metrics, val_losses=None, val_metrics=None):\n",
        "    \"\"\"\n",
        "    Plot training and validation loss and metrics over epochs.\n",
        "\n",
        "    Args:\n",
        "        train_losses (list): List of training losses for each epoch.\n",
        "        train_metrics (list): List of training metrics (e.g., accuracy) for each epoch.\n",
        "        val_losses (list, optional): List of validation losses for each epoch.\n",
        "        val_metrics (list, optional): List of validation metrics for each epoch.\n",
        "\n",
        "    Returns:\n",
        "        None\n",
        "    \"\"\"\n",
        "    # Determine the number of epochs based on the length of train_losses\n",
        "    epochs = range(1, len(train_losses) + 1)\n",
        "\n",
        "    # Plotting training and validation losses\n",
        "    plt.figure()\n",
        "    plt.plot(epochs, train_losses, label=\"Train\")  # Plot training losses\n",
        "    if val_losses:  # Check if validation losses are provided\n",
        "        plt.plot(epochs, val_losses, label=\"Validation\")\n",
        "    plt.xlabel(\"Epochs\")\n",
        "    plt.ylabel(\"Loss\")\n",
        "    plt.legend()\n",
        "    plt.show()\n",
        "\n",
        "    # Plotting training and validation metrics\n",
        "    if train_metrics[0] is not None:  # Check if training metrics are available\n",
        "        plt.figure()\n",
        "        plt.plot(epochs, train_metrics, label=\"Train\")\n",
        "        if val_metrics:\n",
        "            plt.plot(epochs, val_metrics, label=\"Validation\")\n",
        "        plt.xlabel(\"Epochs\")\n",
        "        plt.ylabel(\"Metric\")\n",
        "        plt.legend()\n",
        "        plt.show()\n"
      ]
    },
    {
      "cell_type": "code",
      "execution_count": 41,
      "metadata": {
        "colab": {
          "base_uri": "https://localhost:8080/"
        },
        "id": "oS6HEnjAl7mk",
        "outputId": "e67de84b-ccae-40fd-9e3e-84c01b19af5d"
      },
      "outputs": [
        {
          "output_type": "execute_result",
          "data": {
            "text/plain": [
              "[tensor(0.0855),\n",
              " tensor(0.0474),\n",
              " tensor(0.0391),\n",
              " tensor(0.0330),\n",
              " tensor(0.0303)]"
            ]
          },
          "metadata": {},
          "execution_count": 41
        }
      ],
      "source": [
        "train_hamm"
      ]
    },
    {
      "cell_type": "code",
      "execution_count": 42,
      "metadata": {
        "colab": {
          "base_uri": "https://localhost:8080/",
          "height": 901
        },
        "id": "bhyDt2t8l_en",
        "outputId": "14377566-1967-43ce-be72-0fe581ef9139"
      },
      "outputs": [
        {
          "output_type": "display_data",
          "data": {
            "text/plain": [
              "<Figure size 640x480 with 1 Axes>"
            ],
            "image/png": "[encoded data removed]"
          },
          "metadata": {}
        },
        {
          "output_type": "display_data",
          "data": {
            "text/plain": [
              "<Figure size 640x480 with 1 Axes>"
            ],
            "image/png": "[encoded data removed]"
          },
          "metadata": {}
        }
      ],
      "source": [
        "import numpy as np\n",
        "# Plot the training and validation losses and metrics\n",
        "train_hamm_np = [ham.cpu().numpy() for ham in train_hamm]\n",
        "valid_hamm_np = [ham.cpu().numpy() for ham in valid_hamm]\n",
        "plot_history(train_losses, train_hamm_np, valid_losses, valid_hamm_np)"
      ]
    },
    {
      "cell_type": "code",
      "execution_count": 43,
      "metadata": {
        "id": "EnWzLDPel_hI"
      },
      "outputs": [],
      "source": [
        "def get_acc_pred(data_loader, model, device):\n",
        "    \"\"\"\n",
        "    Function to get predictions and accuracy for a given data using a trained model\n",
        "    Input: data iterator, model, device\n",
        "    Output: predictions and accuracy for the given dataset\n",
        "    \"\"\"\n",
        "    model = model.to(device)\n",
        "    # Set model to evaluation mode\n",
        "    model.eval()\n",
        "\n",
        "    # Create empty tensors to store predictions and actual labels\n",
        "    predictions = torch.Tensor().to(device)\n",
        "    y = torch.Tensor().to(device)\n",
        "\n",
        "    # Iterate over batches from data iterator\n",
        "    with torch.no_grad():\n",
        "        for inputs, targets in data_loader:\n",
        "            # Process the batch to get the loss, outputs, and correct predictions\n",
        "            outputs, _ = step(inputs, targets, model,\n",
        "                              device, loss_function=None, optimizer=None)\n",
        "\n",
        "            # Choose the label with maximum probability\n",
        "            # Correct prediction using thresholding\n",
        "            y_pred = (outputs.data>0.5).float()\n",
        "\n",
        "            # Add the predicted labels and actual labels to their respective tensors\n",
        "            predictions = torch.cat((predictions, y_pred))\n",
        "            y = torch.cat((y, targets.to(device)))\n",
        "\n",
        "    # Calculate accuracy by comparing the predicted and actual labels\n",
        "    accuracy = (predictions == y).float().mean()\n",
        "\n",
        "    # Return tuple containing predictions and accuracy\n",
        "    return predictions, accuracy, y"
      ]
    },
    {
      "cell_type": "code",
      "execution_count": 44,
      "metadata": {
        "id": "Hq7TwcJWl_jY"
      },
      "outputs": [],
      "source": [
        "# Get the prediction and accuracy\n",
        "predictions_test, acc_test, y_test = get_acc_pred(test_loader, model, device)\n",
        "predictions_train, acc_train, y_train = get_acc_pred(train_loader, model, device)\n",
        "predictions_valid, acc_valid, y_valid = get_acc_pred(valid_loader, model, device)"
      ]
    },
    {
      "cell_type": "code",
      "execution_count": 45,
      "metadata": {
        "colab": {
          "base_uri": "https://localhost:8080/"
        },
        "id": "JbWccyh9l_ls",
        "outputId": "29adf475-ebba-40d3-fa26-e9232dce3650"
      },
      "outputs": [
        {
          "output_type": "stream",
          "name": "stdout",
          "text": [
            "Valid accuracy tensor(96.1191)\n"
          ]
        }
      ],
      "source": [
        "# Print Test Accuracy\n",
        "print('Valid accuracy', acc_valid * 100)"
      ]
    },
    {
      "cell_type": "code",
      "execution_count": 46,
      "metadata": {
        "id": "LzMGRifgl_n6"
      },
      "outputs": [],
      "source": [
        "from sklearn.metrics import multilabel_confusion_matrix\n",
        "\n",
        "def plot_confusion_matrix(valid_labels, valid_preds, class_labels):\n",
        "    \"\"\"\n",
        "    Plots a confusion matrix.\n",
        "\n",
        "    Args:\n",
        "        valid_labels (array-like): True labels of the validation data.\n",
        "        valid_preds (array-like): Predicted labels of the validation data.\n",
        "        class_labels (list): List of class names for the labels.\n",
        "    \"\"\"\n",
        "    # Compute the confusion matrix\n",
        "    cm = multilabel_confusion_matrix(valid_labels, valid_preds)\n",
        "\n",
        "    # Plot the confusion matrix using Seaborn\n",
        "    fig, axs = plt.subplots(1, len(class_labels), figsize=(15, 5))\n",
        "    for i, (label, matrix) in enumerate(zip(class_labels, cm)):\n",
        "        sns.heatmap(matrix, annot=True, fmt=\"d\", cmap=\"Reds\", xticklabels=['0', '1'], yticklabels=['0', '1'], ax=axs[i])\n",
        "        axs[i].set_title(f\"Confusion Matrix for Class {label}\")\n",
        "        axs[i].set_xlabel('Predicted Labels')\n",
        "        axs[i].set_ylabel('True Labels')\n",
        "\n",
        "    # Display the plot\n",
        "    plt.tight_layout()\n",
        "    plt.show()"
      ]
    },
    {
      "cell_type": "code",
      "execution_count": 47,
      "metadata": {
        "colab": {
          "base_uri": "https://localhost:8080/",
          "height": 527
        },
        "id": "cdBIcoeImF4a",
        "outputId": "77e3d2b3-a4f2-4c6d-ce6e-da6bcc571530"
      },
      "outputs": [
        {
          "output_type": "display_data",
          "data": {
            "text/plain": [
              "<Figure size 1500x500 with 4 Axes>"
            ],
            "image/png": "[encoded data removed]"
          },
          "metadata": {}
        }
      ],
      "source": [
        "plot_confusion_matrix(y_test.cpu().numpy(), predictions_test.cpu().numpy(), class_labels=['neg', 'pos'])"
      ]
    },
    {
      "cell_type": "code",
      "execution_count": 48,
      "metadata": {
        "id": "3rdWcxgAmGj-"
      },
      "outputs": [],
      "source": [
        "test_hamming_distance = HammingDistance(task=\"multilabel\", num_labels=10).to(device)\n",
        "test_hamming_distance.update(y_test, predictions_test)"
      ]
    },
    {
      "cell_type": "code",
      "execution_count": 49,
      "metadata": {
        "colab": {
          "base_uri": "https://localhost:8080/"
        },
        "id": "cc8pXVRzmGmN",
        "outputId": "e141c71b-aaf3-4276-f55a-93047c21b074"
      },
      "outputs": [
        {
          "output_type": "execute_result",
          "data": {
            "text/plain": [
              "tensor(0.0379)"
            ]
          },
          "metadata": {},
          "execution_count": 49
        }
      ],
      "source": [
        "test_hamming_distance.compute()"
      ]
    },
    {
      "cell_type": "markdown",
      "metadata": {
        "id": "CNGinbqAn2A7"
      },
      "source": [
        "## Inferences\n",
        "\n",
        "**Confusion Matrix**:\n",
        "- **Negative Class**: True negatives are high at 7,215, indicating the model effectively predicts negative labels. However, there are 442 false negatives, showing instances where the model incorrectly predicts a sample as negative.\n",
        "- **Positive Class**: True positives are also significant at 1,468, reflecting the model's strong performance in predicting positive labels. It has a low false positive rate of 65 and a moderate 199 false negatives, suggesting better performance on the positive class compared to the negative.\n",
        "\n",
        "**Curves**:\n",
        "- **Train Loss**: There is clear evidence of learning, with a steady decline in training loss. A sharp drop between epochs 1 and 2 indicates quick adaptation to the training data.\n",
        "- **Validation Loss**: This loss decreases and plateaus around epoch 3, suggesting the model is nearing its generalization limit. The small gap between training and validation loss indicates good generalization without overfitting.\n",
        "- **Stable Validation Loss**: The relatively flat curve after epoch 3 suggests that further training may not significantly enhance performance on the validation set.\n",
        "- **Train Metric**: The model shows improved performance on the training data, correlating with the loss curve's significant drop between epochs 1 and 2.\n",
        "- **Validation Metric**: This metric mirrors the training trend, decreasing sharply in early epochs and flattening around epoch 3, indicating strong performance on unseen data, although improvements may slow after this point.\n",
        "- **Generalization**: As the validation metric flattens while the training metric continues to drop slightly, the model shows minimal overfitting, indicating potential benefits from early stopping after epochs 3 or 4."
      ]
    },
    {
      "cell_type": "code",
      "execution_count": null,
      "metadata": {
        "id": "vfMZMh-oq-3h"
      },
      "outputs": [],
      "source": []
    }
  ],
  "metadata": {
    "colab": {
      "provenance": []
    },
    "kernelspec": {
      "display_name": "Python 3 (ipykernel)",
      "language": "python",
      "name": "python3"
    },
    "language_info": {
      "codemirror_mode": {
        "name": "ipython",
        "version": 3
      },
      "file_extension": ".py",
      "mimetype": "text/x-python",
      "name": "python",
      "nbconvert_exporter": "python",
      "pygments_lexer": "ipython3",
      "version": "3.10.14"
    }
  },
  "nbformat": 4,
  "nbformat_minor": 0
}