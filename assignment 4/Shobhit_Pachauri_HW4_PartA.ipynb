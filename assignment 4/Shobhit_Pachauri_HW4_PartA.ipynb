{
  "cells": [
    {
      "cell_type": "code",
      "execution_count": 1,
      "metadata": {
        "id": "ti62cySNWlPt"
      },
      "outputs": [],
      "source": [
        "import sys\n",
        "import os"
      ]
    },
    {
      "cell_type": "code",
      "execution_count": 47,
      "metadata": {
        "colab": {
          "base_uri": "https://localhost:8080/"
        },
        "id": "8jZqzpsQ_dhQ",
        "outputId": "0ce846b5-60b5-4a47-853d-dcb5654e3973"
      },
      "outputs": [
        {
          "name": "stdout",
          "output_type": "stream",
          "text": [
            "Drive already mounted at /content/drive; to attempt to forcibly remount, call drive.mount(\"/content/drive\", force_remount=True).\n"
          ]
        }
      ],
      "source": [
        "from google.colab import drive\n",
        "drive.mount(\"/content/drive\")"
      ]
    },
    {
      "cell_type": "code",
      "execution_count": 3,
      "metadata": {
        "colab": {
          "base_uri": "https://localhost:8080/"
        },
        "id": "nmTqhIBNXAYO",
        "outputId": "5648bb2a-0ec1-47d4-f1ac-e71db09ae306"
      },
      "outputs": [
        {
          "name": "stdout",
          "output_type": "stream",
          "text": [
            "Requirement already satisfied: torchinfo in /usr/local/lib/python3.10/dist-packages (1.8.0)\n"
          ]
        }
      ],
      "source": [
        "!pip install torchinfo"
      ]
    },
    {
      "cell_type": "code",
      "execution_count": 4,
      "metadata": {
        "id": "VI80_aB0XEZl"
      },
      "outputs": [],
      "source": [
        "import torch\n",
        "import torch.nn as nn\n",
        "from torchinfo import summary\n",
        "import random\n",
        "import numpy as np\n",
        "from pprint import pprint\n",
        "import joblib\n",
        "from collections import Counter\n",
        "import matplotlib.pyplot as plt\n",
        "import seaborn as sns\n",
        "from pathlib import Path\n",
        "from sklearn.metrics import confusion_matrix\n",
        "from datetime import datetime\n",
        "from functools import partial"
      ]
    },
    {
      "cell_type": "code",
      "execution_count": 5,
      "metadata": {
        "id": "TG4XPkq1__PR"
      },
      "outputs": [],
      "source": [
        "basepath = \"/content/drive/MyDrive/NLP\""
      ]
    },
    {
      "cell_type": "code",
      "execution_count": 6,
      "metadata": {
        "id": "2fdYpi2OADfB"
      },
      "outputs": [],
      "source": [
        "sys.path.append(\"/content/drive/MyDrive/NLP\")"
      ]
    },
    {
      "cell_type": "code",
      "execution_count": 7,
      "metadata": {
        "id": "S1dh0OjcAHlp"
      },
      "outputs": [],
      "source": [
        "basefolder = Path(basepath)\n",
        "datafolder = basefolder\n",
        "modelfolder = basefolder\n",
        "customfolder = basefolder"
      ]
    },
    {
      "cell_type": "code",
      "execution_count": 8,
      "metadata": {
        "colab": {
          "base_uri": "https://localhost:8080/",
          "height": 206
        },
        "id": "ny_locS3XO5e",
        "outputId": "49927e83-45db-4622-90ff-b7d4ceb43cfd"
      },
      "outputs": [
        {
          "data": {
            "application/vnd.google.colaboratory.intrinsic+json": {
              "summary": "{\n  \"name\": \"data\",\n  \"rows\": 47427,\n  \"fields\": [\n    {\n      \"column\": \"cleaned_text\",\n      \"properties\": {\n        \"dtype\": \"string\",\n        \"num_unique_values\": 36481,\n        \"samples\": [\n          \"fadein invisible list item jquery unordered list lis invisible display begin want specific li visible js function try $ list li nth child(1)\\\").fadein work ul visible begin code > li      display   < ul class=\\\"hide id=\\\"my list >      < li>1</li >      < li>2</li >      < li>3</li > < /ul >   try answer question feel free stab\",\n          \"deploy project server create website excel file mail d information mail d fetch excel file excel file send mail automatically mail d design subject cc bcc content create project export excel file fetch mail d ms access database send email automatically design deploy project ftp.i know create help regard padmapriya s  \",\n          \"custom keypad button functional app finish scoreboard app   user longclick score currently dialog box appear show edittext field ok cancel button   user click edittext field keypad appear number user type new score click edittext field show new value dialog box user click ok save enter value textview show current score problem feel cumbersome   like happen   user longclick score keypad appear user enter new score user click ok keypad disappear value save textview update current score   order accomplish think thing   create new class extend view new android understand option replace edittext dialog new xml file design like keypad   option 2   figure probably easy design xml layout call   user longclick file inflate dialog ok cancel   far good   know code button action thought figure setup onclick listener button layout   figure button go perform exact function   basically text button case 0 9 append textview keypad   user click ok save textview current score textview help point right direction accomplish screenshot textview number   xml code < xml version=\\\"1.0 encoding=\\\"utf-8 > < gridlayout xmlns apk res android android layout_width=\\\"wrap_content android layout_height=\\\"wrap_content android layout_gravity=\\\"fill android columncount=\\\"3 >   < textview      android id=\\\"@+id textview1      android layout_columnspan=\\\"3      android layout_gravity=\\\"fill      android gravity=\\\"right|center_vertical      android textsize=\\\"24sp >   < button android text=\\\"1 >   < button android text=\\\"2 >   < button android text=\\\"3 > < button android text=\\\"4 > < button android text=\\\"5 > < button android text=\\\"6 > < button android text=\\\"7 > < button android text=\\\"8 > < button android text=\\\"9 >   < button      android layout_columnspan=\\\"3      android layout_gravity=\\\"fill      android gravity=\\\"center      android text=\\\"0 >   \"\n        ],\n        \"semantic_type\": \"\",\n        \"description\": \"\"\n      }\n    },\n    {\n      \"column\": \"Tags\",\n      \"properties\": {\n        \"dtype\": \"category\",\n        \"num_unique_values\": 176,\n        \"samples\": [\n          \"javascript asp.net\",\n          \"c# asp.net jquery\",\n          \"c# java python\"\n        ],\n        \"semantic_type\": \"\",\n        \"description\": \"\"\n      }\n    },\n    {\n      \"column\": \"Tag_Number\",\n      \"properties\": {\n        \"dtype\": \"category\",\n        \"num_unique_values\": 176,\n        \"samples\": [\n          \"[3, 9]\",\n          \"[0, 9, 5]\",\n          \"[0, 1, 7]\"\n        ],\n        \"semantic_type\": \"\",\n        \"description\": \"\"\n      }\n    }\n  ]\n}",
              "type": "dataframe",
              "variable_name": "data"
            },
            "text/html": [
              "\n",
              "  <div id=\"df-f39be61e-7dfe-4289-972d-373fc3e43404\" class=\"colab-df-container\">\n",
              "    <div>\n",
              "<style scoped>\n",
              "    .dataframe tbody tr th:only-of-type {\n",
              "        vertical-align: middle;\n",
              "    }\n",
              "\n",
              "    .dataframe tbody tr th {\n",
              "        vertical-align: top;\n",
              "    }\n",
              "\n",
              "    .dataframe thead th {\n",
              "        text-align: right;\n",
              "    }\n",
              "</style>\n",
              "<table border=\"1\" class=\"dataframe\">\n",
              "  <thead>\n",
              "    <tr style=\"text-align: right;\">\n",
              "      <th></th>\n",
              "      <th>cleaned_text</th>\n",
              "      <th>Tags</th>\n",
              "      <th>Tag_Number</th>\n",
              "    </tr>\n",
              "  </thead>\n",
              "  <tbody>\n",
              "    <tr>\n",
              "      <th>0</th>\n",
              "      <td>asp query stre dropdown webpage follow control...</td>\n",
              "      <td>c# asp.net</td>\n",
              "      <td>[0, 9]</td>\n",
              "    </tr>\n",
              "    <tr>\n",
              "      <th>1</th>\n",
              "      <td>run javascript code server java code want run ...</td>\n",
              "      <td>java javascript</td>\n",
              "      <td>[1, 3]</td>\n",
              "    </tr>\n",
              "    <tr>\n",
              "      <th>2</th>\n",
              "      <td>linq sql throw exception row find change hi li...</td>\n",
              "      <td>c# asp.net</td>\n",
              "      <td>[0, 9]</td>\n",
              "    </tr>\n",
              "    <tr>\n",
              "      <th>3</th>\n",
              "      <td>run python script php server run nginx web ser...</td>\n",
              "      <td>php python</td>\n",
              "      <td>[2, 7]</td>\n",
              "    </tr>\n",
              "    <tr>\n",
              "      <th>4</th>\n",
              "      <td>advice write function m try write function res...</td>\n",
              "      <td>javascript jquery</td>\n",
              "      <td>[3, 5]</td>\n",
              "    </tr>\n",
              "  </tbody>\n",
              "</table>\n",
              "</div>\n",
              "    <div class=\"colab-df-buttons\">\n",
              "\n",
              "  <div class=\"colab-df-container\">\n",
              "    <button class=\"colab-df-convert\" onclick=\"convertToInteractive('df-f39be61e-7dfe-4289-972d-373fc3e43404')\"\n",
              "            title=\"Convert this dataframe to an interactive table.\"\n",
              "            style=\"display:none;\">\n",
              "\n",
              "  <svg xmlns=\"http://www.w3.org/2000/svg\" height=\"24px\" viewBox=\"0 -960 960 960\">\n",
              "    <path d=\"M120-120v-720h720v720H120Zm60-500h600v-160H180v160Zm220 220h160v-160H400v160Zm0 220h160v-160H400v160ZM180-400h160v-160H180v160Zm440 0h160v-160H620v160ZM180-180h160v-160H180v160Zm440 0h160v-160H620v160Z\"/>\n",
              "  </svg>\n",
              "    </button>\n",
              "\n",
              "  <style>\n",
              "    .colab-df-container {\n",
              "      display:flex;\n",
              "      gap: 12px;\n",
              "    }\n",
              "\n",
              "    .colab-df-convert {\n",
              "      background-color: #E8F0FE;\n",
              "      border: none;\n",
              "      border-radius: 50%;\n",
              "      cursor: pointer;\n",
              "      display: none;\n",
              "      fill: #1967D2;\n",
              "      height: 32px;\n",
              "      padding: 0 0 0 0;\n",
              "      width: 32px;\n",
              "    }\n",
              "\n",
              "    .colab-df-convert:hover {\n",
              "      background-color: #E2EBFA;\n",
              "      box-shadow: 0px 1px 2px rgba(60, 64, 67, 0.3), 0px 1px 3px 1px rgba(60, 64, 67, 0.15);\n",
              "      fill: #174EA6;\n",
              "    }\n",
              "\n",
              "    .colab-df-buttons div {\n",
              "      margin-bottom: 4px;\n",
              "    }\n",
              "\n",
              "    [theme=dark] .colab-df-convert {\n",
              "      background-color: #3B4455;\n",
              "      fill: #D2E3FC;\n",
              "    }\n",
              "\n",
              "    [theme=dark] .colab-df-convert:hover {\n",
              "      background-color: #434B5C;\n",
              "      box-shadow: 0px 1px 3px 1px rgba(0, 0, 0, 0.15);\n",
              "      filter: drop-shadow(0px 1px 2px rgba(0, 0, 0, 0.3));\n",
              "      fill: #FFFFFF;\n",
              "    }\n",
              "  </style>\n",
              "\n",
              "    <script>\n",
              "      const buttonEl =\n",
              "        document.querySelector('#df-f39be61e-7dfe-4289-972d-373fc3e43404 button.colab-df-convert');\n",
              "      buttonEl.style.display =\n",
              "        google.colab.kernel.accessAllowed ? 'block' : 'none';\n",
              "\n",
              "      async function convertToInteractive(key) {\n",
              "        const element = document.querySelector('#df-f39be61e-7dfe-4289-972d-373fc3e43404');\n",
              "        const dataTable =\n",
              "          await google.colab.kernel.invokeFunction('convertToInteractive',\n",
              "                                                    [key], {});\n",
              "        if (!dataTable) return;\n",
              "\n",
              "        const docLinkHtml = 'Like what you see? Visit the ' +\n",
              "          '<a target=\"_blank\" href=https://colab.research.google.com/notebooks/data_table.ipynb>data table notebook</a>'\n",
              "          + ' to learn more about interactive tables.';\n",
              "        element.innerHTML = '';\n",
              "        dataTable['output_type'] = 'display_data';\n",
              "        await google.colab.output.renderOutput(dataTable, element);\n",
              "        const docLink = document.createElement('div');\n",
              "        docLink.innerHTML = docLinkHtml;\n",
              "        element.appendChild(docLink);\n",
              "      }\n",
              "    </script>\n",
              "  </div>\n",
              "\n",
              "\n",
              "<div id=\"df-28115d58-74a2-42de-b13f-39e132de2bda\">\n",
              "  <button class=\"colab-df-quickchart\" onclick=\"quickchart('df-28115d58-74a2-42de-b13f-39e132de2bda')\"\n",
              "            title=\"Suggest charts\"\n",
              "            style=\"display:none;\">\n",
              "\n",
              "<svg xmlns=\"http://www.w3.org/2000/svg\" height=\"24px\"viewBox=\"0 0 24 24\"\n",
              "     width=\"24px\">\n",
              "    <g>\n",
              "        <path d=\"M19 3H5c-1.1 0-2 .9-2 2v14c0 1.1.9 2 2 2h14c1.1 0 2-.9 2-2V5c0-1.1-.9-2-2-2zM9 17H7v-7h2v7zm4 0h-2V7h2v10zm4 0h-2v-4h2v4z\"/>\n",
              "    </g>\n",
              "</svg>\n",
              "  </button>\n",
              "\n",
              "<style>\n",
              "  .colab-df-quickchart {\n",
              "      --bg-color: #E8F0FE;\n",
              "      --fill-color: #1967D2;\n",
              "      --hover-bg-color: #E2EBFA;\n",
              "      --hover-fill-color: #174EA6;\n",
              "      --disabled-fill-color: #AAA;\n",
              "      --disabled-bg-color: #DDD;\n",
              "  }\n",
              "\n",
              "  [theme=dark] .colab-df-quickchart {\n",
              "      --bg-color: #3B4455;\n",
              "      --fill-color: #D2E3FC;\n",
              "      --hover-bg-color: #434B5C;\n",
              "      --hover-fill-color: #FFFFFF;\n",
              "      --disabled-bg-color: #3B4455;\n",
              "      --disabled-fill-color: #666;\n",
              "  }\n",
              "\n",
              "  .colab-df-quickchart {\n",
              "    background-color: var(--bg-color);\n",
              "    border: none;\n",
              "    border-radius: 50%;\n",
              "    cursor: pointer;\n",
              "    display: none;\n",
              "    fill: var(--fill-color);\n",
              "    height: 32px;\n",
              "    padding: 0;\n",
              "    width: 32px;\n",
              "  }\n",
              "\n",
              "  .colab-df-quickchart:hover {\n",
              "    background-color: var(--hover-bg-color);\n",
              "    box-shadow: 0 1px 2px rgba(60, 64, 67, 0.3), 0 1px 3px 1px rgba(60, 64, 67, 0.15);\n",
              "    fill: var(--button-hover-fill-color);\n",
              "  }\n",
              "\n",
              "  .colab-df-quickchart-complete:disabled,\n",
              "  .colab-df-quickchart-complete:disabled:hover {\n",
              "    background-color: var(--disabled-bg-color);\n",
              "    fill: var(--disabled-fill-color);\n",
              "    box-shadow: none;\n",
              "  }\n",
              "\n",
              "  .colab-df-spinner {\n",
              "    border: 2px solid var(--fill-color);\n",
              "    border-color: transparent;\n",
              "    border-bottom-color: var(--fill-color);\n",
              "    animation:\n",
              "      spin 1s steps(1) infinite;\n",
              "  }\n",
              "\n",
              "  @keyframes spin {\n",
              "    0% {\n",
              "      border-color: transparent;\n",
              "      border-bottom-color: var(--fill-color);\n",
              "      border-left-color: var(--fill-color);\n",
              "    }\n",
              "    20% {\n",
              "      border-color: transparent;\n",
              "      border-left-color: var(--fill-color);\n",
              "      border-top-color: var(--fill-color);\n",
              "    }\n",
              "    30% {\n",
              "      border-color: transparent;\n",
              "      border-left-color: var(--fill-color);\n",
              "      border-top-color: var(--fill-color);\n",
              "      border-right-color: var(--fill-color);\n",
              "    }\n",
              "    40% {\n",
              "      border-color: transparent;\n",
              "      border-right-color: var(--fill-color);\n",
              "      border-top-color: var(--fill-color);\n",
              "    }\n",
              "    60% {\n",
              "      border-color: transparent;\n",
              "      border-right-color: var(--fill-color);\n",
              "    }\n",
              "    80% {\n",
              "      border-color: transparent;\n",
              "      border-right-color: var(--fill-color);\n",
              "      border-bottom-color: var(--fill-color);\n",
              "    }\n",
              "    90% {\n",
              "      border-color: transparent;\n",
              "      border-bottom-color: var(--fill-color);\n",
              "    }\n",
              "  }\n",
              "</style>\n",
              "\n",
              "  <script>\n",
              "    async function quickchart(key) {\n",
              "      const quickchartButtonEl =\n",
              "        document.querySelector('#' + key + ' button');\n",
              "      quickchartButtonEl.disabled = true;  // To prevent multiple clicks.\n",
              "      quickchartButtonEl.classList.add('colab-df-spinner');\n",
              "      try {\n",
              "        const charts = await google.colab.kernel.invokeFunction(\n",
              "            'suggestCharts', [key], {});\n",
              "      } catch (error) {\n",
              "        console.error('Error during call to suggestCharts:', error);\n",
              "      }\n",
              "      quickchartButtonEl.classList.remove('colab-df-spinner');\n",
              "      quickchartButtonEl.classList.add('colab-df-quickchart-complete');\n",
              "    }\n",
              "    (() => {\n",
              "      let quickchartButtonEl =\n",
              "        document.querySelector('#df-28115d58-74a2-42de-b13f-39e132de2bda button');\n",
              "      quickchartButtonEl.style.display =\n",
              "        google.colab.kernel.accessAllowed ? 'block' : 'none';\n",
              "    })();\n",
              "  </script>\n",
              "</div>\n",
              "\n",
              "    </div>\n",
              "  </div>\n"
            ],
            "text/plain": [
              "                                        cleaned_text               Tags  \\\n",
              "0  asp query stre dropdown webpage follow control...         c# asp.net   \n",
              "1  run javascript code server java code want run ...    java javascript   \n",
              "2  linq sql throw exception row find change hi li...         c# asp.net   \n",
              "3  run python script php server run nginx web ser...         php python   \n",
              "4  advice write function m try write function res...  javascript jquery   \n",
              "\n",
              "  Tag_Number  \n",
              "0     [0, 9]  \n",
              "1     [1, 3]  \n",
              "2     [0, 9]  \n",
              "3     [2, 7]  \n",
              "4     [3, 5]  "
            ]
          },
          "execution_count": 8,
          "metadata": {},
          "output_type": "execute_result"
        }
      ],
      "source": [
        "# Load the dataset\n",
        "data = joblib.load(\"/content/drive/MyDrive/NLP/df_multilabel_hw_cleaned.joblib\")\n",
        "data.head()"
      ]
    },
    {
      "cell_type": "code",
      "execution_count": 9,
      "metadata": {
        "colab": {
          "base_uri": "https://localhost:8080/"
        },
        "id": "1U6yYTYCXp4F",
        "outputId": "0f694c4d-3b6d-461e-d61c-0f9a9debc49c"
      },
      "outputs": [
        {
          "name": "stdout",
          "output_type": "stream",
          "text": [
            "<class 'pandas.core.frame.DataFrame'>\n",
            "RangeIndex: 47427 entries, 0 to 47426\n",
            "Data columns (total 3 columns):\n",
            " #   Column        Non-Null Count  Dtype \n",
            "---  ------        --------------  ----- \n",
            " 0   cleaned_text  47427 non-null  object\n",
            " 1   Tags          47427 non-null  object\n",
            " 2   Tag_Number    47427 non-null  object\n",
            "dtypes: object(3)\n",
            "memory usage: 1.1+ MB\n"
          ]
        }
      ],
      "source": [
        "data.info()"
      ]
    },
    {
      "cell_type": "code",
      "execution_count": 10,
      "metadata": {
        "colab": {
          "base_uri": "https://localhost:8080/",
          "height": 178
        },
        "id": "F-2U2N04XzTp",
        "outputId": "c5c385a3-5486-4329-a183-9c1eeeb1e6a5"
      },
      "outputs": [
        {
          "data": {
            "text/html": [
              "<div>\n",
              "<style scoped>\n",
              "    .dataframe tbody tr th:only-of-type {\n",
              "        vertical-align: middle;\n",
              "    }\n",
              "\n",
              "    .dataframe tbody tr th {\n",
              "        vertical-align: top;\n",
              "    }\n",
              "\n",
              "    .dataframe thead th {\n",
              "        text-align: right;\n",
              "    }\n",
              "</style>\n",
              "<table border=\"1\" class=\"dataframe\">\n",
              "  <thead>\n",
              "    <tr style=\"text-align: right;\">\n",
              "      <th></th>\n",
              "      <th>0</th>\n",
              "    </tr>\n",
              "  </thead>\n",
              "  <tbody>\n",
              "    <tr>\n",
              "      <th>cleaned_text</th>\n",
              "      <td>0</td>\n",
              "    </tr>\n",
              "    <tr>\n",
              "      <th>Tags</th>\n",
              "      <td>0</td>\n",
              "    </tr>\n",
              "    <tr>\n",
              "      <th>Tag_Number</th>\n",
              "      <td>0</td>\n",
              "    </tr>\n",
              "  </tbody>\n",
              "</table>\n",
              "</div><br><label><b>dtype:</b> int64</label>"
            ],
            "text/plain": [
              "cleaned_text    0\n",
              "Tags            0\n",
              "Tag_Number      0\n",
              "dtype: int64"
            ]
          },
          "execution_count": 10,
          "metadata": {},
          "output_type": "execute_result"
        }
      ],
      "source": [
        "data.isnull().sum()"
      ]
    },
    {
      "cell_type": "code",
      "execution_count": 11,
      "metadata": {
        "id": "cxvsPaPXanou"
      },
      "outputs": [],
      "source": [
        "import numpy as np\n",
        "import ast\n",
        "\n",
        "def process_data(data):\n",
        "    # Function to safely convert Tag_Number from string to int, handling errors\n",
        "    def safe_convert_tag(tag):\n",
        "        try:\n",
        "            return ast.literal_eval(tag)\n",
        "        except (ValueError, SyntaxError):\n",
        "            return None\n",
        "\n",
        "    # Using list comprehension to process Tag_Number and cleaned_text\n",
        "    y = [safe_convert_tag(tag) for tag in data['Tag_Number']]\n",
        "    x = np.array(data['cleaned_text'].astype(str)).reshape(-1, 1)\n",
        "\n",
        "    return x, y\n",
        "\n",
        "\n",
        "\n",
        "\n",
        "x, y = process_data(data)"
      ]
    },
    {
      "cell_type": "code",
      "execution_count": 12,
      "metadata": {
        "colab": {
          "base_uri": "https://localhost:8080/"
        },
        "id": "QYlhswZ-X18l",
        "outputId": "45f4e297-5511-40e0-d191-23c4b5e3eed3"
      },
      "outputs": [
        {
          "name": "stdout",
          "output_type": "stream",
          "text": [
            "<class 'numpy.ndarray'> (47427, 10)\n",
            "<class 'numpy.ndarray'> (47427, 1)\n"
          ]
        }
      ],
      "source": [
        "from sklearn.preprocessing import MultiLabelBinarizer\n",
        "mlb = MultiLabelBinarizer()\n",
        "\n",
        "y = mlb.fit_transform(y)\n",
        "\n",
        "print(type(y) , y.shape)\n",
        "print(type(x) , x.shape)"
      ]
    },
    {
      "cell_type": "code",
      "execution_count": 13,
      "metadata": {
        "id": "fnUfyVKqYSOt"
      },
      "outputs": [],
      "source": [
        "from sklearn.model_selection import train_test_split\n",
        "\n",
        "X_train, X_test, y_train, y_test = train_test_split(x, y,\n",
        "                                                    test_size=0.4,\n",
        "                                                    random_state=0)\n",
        "\n",
        "X_valid, X_test, y_valid, y_test = train_test_split(X_test, y_test,\n",
        "                                                    test_size=0.5,\n",
        "                                                    random_state=0,\n",
        "                                                    shuffle=False)"
      ]
    },
    {
      "cell_type": "code",
      "execution_count": 14,
      "metadata": {
        "colab": {
          "base_uri": "https://localhost:8080/"
        },
        "id": "HNWbSiTEYWp1",
        "outputId": "e841d729-50b1-474b-ff4e-4f5c2082087a"
      },
      "outputs": [
        {
          "name": "stdout",
          "output_type": "stream",
          "text": [
            "X_train shape: (28456, 1)\n",
            "y_train shape: (28456, 10)\n",
            "X_test shape: (9486, 1)\n",
            "y_test shape: (9486, 10)\n",
            "X_valid shape: (9485, 1)\n",
            "y_valid shape: (9485, 10)\n"
          ]
        }
      ],
      "source": [
        "print(\"X_train shape:\", X_train.shape)\n",
        "print(\"y_train shape:\", y_train.shape)\n",
        "print(\"X_test shape:\", X_test.shape)\n",
        "print(\"y_test shape:\", y_test.shape)\n",
        "print(\"X_valid shape:\", X_valid.shape)\n",
        "print(\"y_valid shape:\", y_valid.shape)"
      ]
    },
    {
      "cell_type": "code",
      "execution_count": 15,
      "metadata": {
        "id": "nxEt8jkaYZ9N"
      },
      "outputs": [],
      "source": [
        "class CustomDataset(torch.utils.data.Dataset):\n",
        "    \"\"\"\n",
        "    Custom Dataset class for loading IMDB reviews and labels.\n",
        "\n",
        "    Attributes:\n",
        "        X (numpy.ndarray): Feature data, an array of texts.\n",
        "        y (list or array-like): Target labels.\n",
        "    \"\"\"\n",
        "\n",
        "    def __init__(self, X, y):\n",
        "        \"\"\"\n",
        "        Initialize the dataset with feature and target data.\n",
        "\n",
        "        Args:\n",
        "            X (list or array-like): The feature data (texts).\n",
        "            y (list or array-like): The target labels.\n",
        "        \"\"\"\n",
        "        # Storing feature data (texts)\n",
        "        self.X = X\n",
        "\n",
        "        # Storing the target labels\n",
        "        self.y = y\n",
        "\n",
        "    def __len__(self):\n",
        "        \"\"\"\n",
        "        Return the number of samples in the dataset.\n",
        "\n",
        "        Returns:\n",
        "            int: The total number of samples.\n",
        "        \"\"\"\n",
        "        return len(self.X)\n",
        "\n",
        "    def __getitem__(self, idx):\n",
        "        \"\"\"\n",
        "        Fetch and return a single sample from the dataset at the given index.\n",
        "\n",
        "        Args:\n",
        "            idx (int): Index of the sample to fetch.\n",
        "\n",
        "        Returns:\n",
        "            tuple: A tuple containing the label and the text for the sample.\n",
        "        \"\"\"\n",
        "        # Retrieve the text and corresponding label from the dataset using the index\n",
        "        texts = self.X[idx]\n",
        "        labels = self.y[idx]\n",
        "\n",
        "        # Packing them into a tuple before returning\n",
        "        sample = (labels, texts)\n",
        "\n",
        "        return sample"
      ]
    },
    {
      "cell_type": "code",
      "execution_count": 16,
      "metadata": {
        "id": "FXilX2hPY6M1"
      },
      "outputs": [],
      "source": [
        "# Create an instance of the CustomDataset class for the training set\n",
        "trainset = CustomDataset(X_train, y_train)\n",
        "\n",
        "# Create an instance of the CustomDataset class for the validation set\n",
        "validset = CustomDataset(X_valid, y_valid)\n",
        "\n",
        "# Create an instance of the CustomDataset class for the test set\n",
        "testset = CustomDataset(X_test, y_test)"
      ]
    },
    {
      "cell_type": "code",
      "execution_count": 17,
      "metadata": {
        "id": "JvPkJXg7Y8Gt"
      },
      "outputs": [],
      "source": [
        "from collections import Counter, OrderedDict\n",
        "from typing import Dict, List, Optional, Union\n",
        "\n",
        "class Vocab:\n",
        "    def __init__(self, tokens: List[str]) -> None:\n",
        "        self.itos: List[str] = tokens\n",
        "        self.stoi: Dict[str, int] = {token: i for i, token in enumerate(tokens)}\n",
        "        self.default_index: Optional[int] = None\n",
        "\n",
        "    def __getitem__(self, token: str) -> int:\n",
        "        if token in self.stoi:\n",
        "            return self.stoi[token]\n",
        "        if self.default_index is not None:\n",
        "            return self.default_index\n",
        "        raise RuntimeError(f\"Token '{token}' not found in vocab\")\n",
        "\n",
        "    def __contains__(self, token: str) -> bool:\n",
        "        return token in self.stoi\n",
        "\n",
        "    def __len__(self) -> int:\n",
        "        return len(self.itos)\n",
        "\n",
        "    def insert_token(self, token: str, index: int) -> None:\n",
        "        if index < 0 or index > len(self.itos):\n",
        "            raise ValueError(\"Index out of range\")\n",
        "        if token in self.stoi:\n",
        "            old_index = self.stoi[token]\n",
        "            if old_index < index:\n",
        "                self.itos.pop(old_index)\n",
        "                self.itos.insert(index - 1, token)\n",
        "            else:\n",
        "                self.itos.pop(old_index)\n",
        "                self.itos.insert(index, token)\n",
        "        else:\n",
        "            self.itos.insert(index, token)\n",
        "\n",
        "        self.stoi = {token: i for i, token in enumerate(self.itos)}\n",
        "\n",
        "    def append_token(self, token: str) -> None:\n",
        "        if token in self.stoi:\n",
        "            raise RuntimeError(f\"Token '{token}' already exists in the vocab\")\n",
        "        self.insert_token(token, len(self.itos))\n",
        "\n",
        "    def set_default_index(self, index: Optional[int]) -> None:\n",
        "        self.default_index = index\n",
        "\n",
        "    def get_default_index(self) -> Optional[int]:\n",
        "        return self.default_index\n",
        "\n",
        "    def lookup_token(self, index: int) -> str:\n",
        "        if 0 <= index < len(self.itos):\n",
        "            return self.itos[index]\n",
        "        raise RuntimeError(f\"Index {index} out of range\")\n",
        "\n",
        "    def lookup_tokens(self, indices: List[int]) -> List[str]:\n",
        "        return [self.lookup_token(index) for index in indices]\n",
        "\n",
        "    def lookup_indices(self, tokens: List[str]) -> List[int]:\n",
        "        return [self[token] for token in tokens]\n",
        "\n",
        "    def get_stoi(self) -> Dict[str, int]:\n",
        "        return self.stoi.copy()\n",
        "\n",
        "    def get_itos(self) -> List[str]:\n",
        "        return self.itos.copy()\n",
        "\n",
        "    @classmethod\n",
        "    def vocab(cls, ordered_dict: Union[OrderedDict, Counter], min_freq: int = 1, specials: Optional[List[str]] = None, special_first: bool = True) -> 'Vocab':\n",
        "        specials = specials or []\n",
        "        for token in specials:\n",
        "            ordered_dict.pop(token, None)\n",
        "\n",
        "        tokens = [token for token, freq in ordered_dict.items() if freq >= min_freq]\n",
        "\n",
        "        if special_first:\n",
        "            tokens = specials + tokens\n",
        "        else:\n",
        "            tokens = tokens + specials\n",
        "\n",
        "        return cls(tokens)"
      ]
    },
    {
      "cell_type": "code",
      "execution_count": 18,
      "metadata": {
        "id": "z6-5vWKdY-KF"
      },
      "outputs": [],
      "source": [
        "def get_vocab(dataset, min_freq=1):\n",
        "    \"\"\"\n",
        "    Generate a vocabulary from a dataset.\n",
        "\n",
        "    Args:\n",
        "        dataset (list of tuple): List of tuples where each tuple contains a label and a text.\n",
        "        min_freq (int): The minimum frequency for a token to be included in the vocabulary.\n",
        "\n",
        "    Returns:\n",
        "        torchtext.vocab.Vocab: Vocabulary object.\n",
        "    \"\"\"\n",
        "    counter = Counter()\n",
        "\n",
        "    for (label, text) in dataset:\n",
        "        # Convert text to string if it's a NumPy array\n",
        "        if isinstance(text, np.ndarray):\n",
        "            # Join the array elements with spaces before splitting\n",
        "            text = ' '.join(text.astype(str))\n",
        "        elif not isinstance(text, str):\n",
        "            text = str(text)\n",
        "\n",
        "        counter.update(text.split())\n",
        "\n",
        "    my_vocab = Vocab.vocab(counter, min_freq=min_freq)\n",
        "    my_vocab.insert_token('<unk>', 0)\n",
        "    my_vocab.set_default_index(0)\n",
        "\n",
        "    return my_vocab"
      ]
    },
    {
      "cell_type": "code",
      "execution_count": 19,
      "metadata": {
        "id": "QwIGwfPtZAck"
      },
      "outputs": [],
      "source": [
        "codeData_vocab = get_vocab(trainset,min_freq=2)"
      ]
    },
    {
      "cell_type": "code",
      "execution_count": 20,
      "metadata": {
        "colab": {
          "base_uri": "https://localhost:8080/"
        },
        "id": "K9Io74HZZCDd",
        "outputId": "6203b97b-215f-44da-ba5c-9a700446c074"
      },
      "outputs": [
        {
          "name": "stdout",
          "output_type": "stream",
          "text": [
            "91042\n"
          ]
        }
      ],
      "source": [
        "print(len(codeData_vocab))"
      ]
    },
    {
      "cell_type": "code",
      "execution_count": 21,
      "metadata": {
        "id": "B26KS2jedBsK"
      },
      "outputs": [],
      "source": [
        "def tokenizer(x, vocab):\n",
        "    \"\"\"Converts text to a list of indices using a vocabulary dictionary\"\"\"\n",
        "    return [vocab[token] for token in str(x).split()]"
      ]
    },
    {
      "cell_type": "code",
      "execution_count": 22,
      "metadata": {
        "id": "z_EoDG6TdJmV"
      },
      "outputs": [],
      "source": [
        "from functools import partial\n",
        "import torch\n",
        "\n",
        "def collate_batch(batch, my_vocab):\n",
        "    \"\"\"\n",
        "    Collates a batch of samples into tensors of labels, texts, and offsets.\n",
        "\n",
        "    Parameters:\n",
        "        batch (list): A list of tuples, each containing a label and a text.\n",
        "\n",
        "    Returns:\n",
        "        tuple: A tuple containing three tensors:\n",
        "               - Labels tensor\n",
        "               - Concatenated texts tensor\n",
        "               - Offsets tensor indicating the start positions of each text in the concatenated tensor\n",
        "    \"\"\"\n",
        "    # Unpack the batch into separate lists for labels and texts\n",
        "    labels, texts = zip(*batch)\n",
        "\n",
        "    # Convert the list of labels into a tensor of dtype int32\n",
        "    labels = torch.tensor(labels, dtype=torch.long)\n",
        "\n",
        "    # Convert the list of texts into a list of lists; each inner list contains the vocabulary indices for a text\n",
        "    list_of_list_of_indices = [tokenizer(text, my_vocab) for text in texts]\n",
        "\n",
        "    # Concatenate all text indices into a single tensor\n",
        "    indices = torch.cat([torch.tensor(i, dtype=torch.int64) for i in list_of_list_of_indices])\n",
        "\n",
        "    # Compute the offsets for each text in the concatenated tensor\n",
        "    offsets = [0] + [len(i) for i in list_of_list_of_indices]\n",
        "    offsets = torch.tensor(offsets[:-1]).cumsum(dim=0)\n",
        "\n",
        "    return (indices, offsets), labels"
      ]
    },
    {
      "cell_type": "code",
      "execution_count": 23,
      "metadata": {
        "id": "DSE9s32KdMJy"
      },
      "outputs": [],
      "source": [
        "batch_size = 2\n",
        "collate_partial = partial(collate_batch, my_vocab = codeData_vocab)\n",
        "check_loader = torch.utils.data.DataLoader(dataset=trainset,\n",
        "                                           batch_size=batch_size,\n",
        "                                           shuffle=True,\n",
        "                                           collate_fn=collate_partial,\n",
        "                                           )"
      ]
    },
    {
      "cell_type": "code",
      "execution_count": 24,
      "metadata": {
        "id": "6oCO--LzdNe6"
      },
      "outputs": [],
      "source": [
        "class CustomBlock(nn.Module):\n",
        "    def __init__(self, input_dim, output_dim, drop_prob):\n",
        "\n",
        "        super().__init__()\n",
        "\n",
        "        self.layers = nn.Sequential(\n",
        "            nn.Linear(input_dim, output_dim),\n",
        "            nn.BatchNorm1d(num_features=output_dim),\n",
        "            nn.ReLU(),\n",
        "            nn.Dropout(p=drop_prob),\n",
        "\n",
        "        )\n",
        "    def forward(self, x):\n",
        "      return self.layers(x)\n",
        "class EmbeddingBagWrapper(nn.Module):\n",
        "    def __init__(self, vocab_size, embedding_dim):\n",
        "        super().__init__()\n",
        "        self.embedding_bag = nn.EmbeddingBag(vocab_size, embedding_dim)\n",
        "\n",
        "    def forward(self, input_tuple):\n",
        "        data, offsets = input_tuple\n",
        "        return self.embedding_bag(data, offsets)"
      ]
    },
    {
      "cell_type": "code",
      "execution_count": 25,
      "metadata": {
        "id": "p0Sf3HqwddUj"
      },
      "outputs": [],
      "source": [
        "from functools import partial\n",
        "\n",
        "# Define hyperparameters\n",
        "EMBED_DIM = 300\n",
        "VOCAB_SIZE = len(codeData_vocab)\n",
        "OUTPUT_DIM = 10\n",
        "HIDDEN_DIM1 = 200\n",
        "HIDDEN_DIM2 = 100\n",
        "OUTPUT_DIM = 10\n",
        "EPOCHS = 5\n",
        "BATCH_SIZE = 128\n",
        "LEARNING_RATE = 0.001\n",
        "WEIGHT_DECAY = 0.0001\n",
        "CLIP_TYPE = 'value'\n",
        "CLIP_VALUE = 10\n",
        "PATIENCE = 5\n",
        "dropout_p = 0.3\n",
        "\n",
        "# Define collate function\n",
        "collate_fn = partial(collate_batch, my_vocab=codeData_vocab)"
      ]
    },
    {
      "cell_type": "code",
      "execution_count": 26,
      "metadata": {
        "id": "yGRv2Xcedehh"
      },
      "outputs": [],
      "source": [
        "import torch.optim as optim\n",
        "from torch.utils.data import DataLoader\n",
        "from tqdm import tqdm\n",
        "\n",
        "# Define the model\n",
        "\n",
        "# Define the sequential model\n",
        "vocab_size = len(codeData_vocab)\n",
        "model = nn.Sequential(\n",
        "    EmbeddingBagWrapper(vocab_size, EMBED_DIM),\n",
        "    CustomBlock(EMBED_DIM , HIDDEN_DIM1, 0.5),\n",
        "    CustomBlock(HIDDEN_DIM1, HIDDEN_DIM2, 0.5),\n",
        "    nn.Linear(HIDDEN_DIM2, OUTPUT_DIM)\n",
        "    )"
      ]
    },
    {
      "cell_type": "code",
      "execution_count": 27,
      "metadata": {
        "id": "icpDxDKCdfzy"
      },
      "outputs": [],
      "source": [
        "# Define the device\n",
        "device = torch.device('cuda:0' if torch.cuda.is_available() else 'cpu')\n",
        "\n",
        "# Move the model to the device\n",
        "model = model.to(device)"
      ]
    },
    {
      "cell_type": "code",
      "execution_count": 28,
      "metadata": {
        "colab": {
          "base_uri": "https://localhost:8080/"
        },
        "id": "dimyD_bpeHNA",
        "outputId": "e4b76c24-0f52-4296-9760-710e5c1ea735"
      },
      "outputs": [
        {
          "name": "stdout",
          "output_type": "stream",
          "text": [
            "Requirement already satisfied: torchmetrics in /usr/local/lib/python3.10/dist-packages (1.4.2)\n",
            "Requirement already satisfied: numpy>1.20.0 in /usr/local/lib/python3.10/dist-packages (from torchmetrics) (1.26.4)\n",
            "Requirement already satisfied: packaging>17.1 in /usr/local/lib/python3.10/dist-packages (from torchmetrics) (24.1)\n",
            "Requirement already satisfied: torch>=1.10.0 in /usr/local/lib/python3.10/dist-packages (from torchmetrics) (2.4.1+cu121)\n",
            "Requirement already satisfied: lightning-utilities>=0.8.0 in /usr/local/lib/python3.10/dist-packages (from torchmetrics) (0.11.7)\n",
            "Requirement already satisfied: setuptools in /usr/local/lib/python3.10/dist-packages (from lightning-utilities>=0.8.0->torchmetrics) (71.0.4)\n",
            "Requirement already satisfied: typing-extensions in /usr/local/lib/python3.10/dist-packages (from lightning-utilities>=0.8.0->torchmetrics) (4.12.2)\n",
            "Requirement already satisfied: filelock in /usr/local/lib/python3.10/dist-packages (from torch>=1.10.0->torchmetrics) (3.16.1)\n",
            "Requirement already satisfied: sympy in /usr/local/lib/python3.10/dist-packages (from torch>=1.10.0->torchmetrics) (1.13.3)\n",
            "Requirement already satisfied: networkx in /usr/local/lib/python3.10/dist-packages (from torch>=1.10.0->torchmetrics) (3.3)\n",
            "Requirement already satisfied: jinja2 in /usr/local/lib/python3.10/dist-packages (from torch>=1.10.0->torchmetrics) (3.1.4)\n",
            "Requirement already satisfied: fsspec in /usr/local/lib/python3.10/dist-packages (from torch>=1.10.0->torchmetrics) (2024.6.1)\n",
            "Requirement already satisfied: MarkupSafe>=2.0 in /usr/local/lib/python3.10/dist-packages (from jinja2->torch>=1.10.0->torchmetrics) (2.1.5)\n",
            "Requirement already satisfied: mpmath<1.4,>=1.1.0 in /usr/local/lib/python3.10/dist-packages (from sympy->torch>=1.10.0->torchmetrics) (1.3.0)\n"
          ]
        }
      ],
      "source": [
        "!pip install torchmetrics"
      ]
    },
    {
      "cell_type": "code",
      "execution_count": 29,
      "metadata": {
        "id": "DB09lmNPdg9x"
      },
      "outputs": [],
      "source": [
        "from torchmetrics import HammingDistance\n",
        "\n",
        "def step(inputs, targets, model, device, loss_function=None, optimizer=None, clip_type=None, clip_value=None):\n",
        "    \"\"\"\n",
        "    Perform one training step (forward + backward + optimize).\n",
        "\n",
        "    Parameters:\n",
        "    - inputs: Input data.\n",
        "    - targets: Target labels.\n",
        "    - model: The model to train.\n",
        "    - device: The device to run computations on.\n",
        "    - loss_function: The loss function to use.\n",
        "    - optimizer: The optimizer to use.\n",
        "    - clip_type: Type of gradient clipping ('value' or 'norm').\n",
        "    - clip_value: Value for gradient clipping.\n",
        "\n",
        "    Returns:\n",
        "    - loss: The calculated loss.\n",
        "    - hamming_distance: The Hamming distance between predictions and targets.\n",
        "    - num_correct: The number of correct predictions.\n",
        "    \"\"\"\n",
        "\n",
        "    # Step 1: Move inputs and targets to the device\n",
        "    inputs = tuple(input_tensor.to(device) for input_tensor in inputs) # Correct input is a tuple\n",
        "    targets = targets.to(device) # Move the target to the device\n",
        "\n",
        "    # Reset gradients if an optimizer is provided\n",
        "    if optimizer:\n",
        "        optimizer.zero_grad()\n",
        "\n",
        "    # Perform the forward pass and get model outputs\n",
        "    outputs = model(inputs)\n",
        "\n",
        "    # Cast targets to Long before computing loss\n",
        "    targets = targets.type(torch.long)\n",
        "\n",
        "    # Compute the loss using the provided loss function\n",
        "    if loss_function:\n",
        "        loss = loss_function(outputs, targets)\n",
        "\n",
        "    # Update Hamming Distance metric\n",
        "    train_hamming_distance = HammingDistance(task=\"multilabel\", num_labels=10).to(device)\n",
        "    y_pred = (outputs > 0.5).float()\n",
        "    train_hamming_distance.update(y_pred, targets)\n",
        "\n",
        "    # Perform backward pass and update model parameters if an optimizer is provided\n",
        "    if optimizer:\n",
        "        optimizer.zero_grad()\n",
        "        loss.backward()\n",
        "        if clip_type == 'value':\n",
        "            torch.nn.utils.clip_grad_value_(model.parameters(), clip_value)\n",
        "        optimizer.step()\n",
        "           # Return relevant metrics\n",
        "    if loss_function:\n",
        "        return loss, outputs, train_hamming_distance\n",
        "    else:\n",
        "        return outputs, train_hamming_distance"
      ]
    },
    {
      "cell_type": "code",
      "execution_count": 30,
      "metadata": {
        "id": "eAiQ9XlFdiIJ"
      },
      "outputs": [],
      "source": [
        "import torch\n",
        "from torchmetrics.classification import HammingDistance\n",
        "\n",
        "def train_epoch(train_loader, model, device, loss_function, optimizer):\n",
        "    \"\"\"\n",
        "    Trains the model for one epoch using the provided data loader and updates the model parameters.\n",
        "\n",
        "    Parameters:\n",
        "    - train_loader (torch.utils.data.DataLoader): DataLoader object for the training set.\n",
        "    - model (torch.nn.Module): The neural network model to be trained.\n",
        "    - device (torch.device): The computing device (CPU or GPU).\n",
        "    - loss_function (torch.nn.Module): The loss function to use for training.\n",
        "    - optimizer (torch.optim.Optimizer): The optimizer to update model parameters.\n",
        "\n",
        "    Returns:\n",
        "    - train_loss (float): Average training loss for the epoch.\n",
        "    - epoch_hamming_distance (float): Hamming distance for the epoch.\n",
        "    \"\"\"\n",
        "    # Set the model to training mode\n",
        "    model.train()\n",
        "\n",
        "    # Initialize variables to track running training loss and correct predictions\n",
        "    running_train_loss = 0.0\n",
        "\n",
        "    # Initialize Hamming Distance metric\n",
        "    hamming = HammingDistance(task=\"multilabel\", num_labels=10).to(device)\n",
        "\n",
        "    # Iterate over all batches in the training data\n",
        "    for batch_idx, (inputs, targets) in enumerate(train_loader):\n",
        "\n",
        "        # Move inputs and targets to the specified device\n",
        "        inputs = tuple(input_tensor.to(device) for input_tensor in inputs) if isinstance(inputs, tuple) else inputs.to(device)\n",
        "        targets = targets.to(device)\n",
        "\n",
        "        # Zero the parameter gradients\n",
        "        optimizer.zero_grad()\n",
        "\n",
        "        # Perform a forward pass to get model outputs\n",
        "        outputs = model(inputs) # Assigning the output of the model to the variable 'outputs'\n",
        "\n",
        "        # Compute the loss\n",
        "        loss = loss_function(outputs, targets.type(torch.float))\n",
        "\n",
        "        # Update running loss\n",
        "        running_train_loss += loss.item()\n",
        "\n",
        "        # Perform backpropagation and optimization step\n",
        "        loss.backward()\n",
        "        optimizer.step()\n",
        "\n",
        "        # Compute Hamming Distance for this batch\n",
        "        y_pred = (outputs > 0.5).float()\n",
        "        hamming.update(y_pred, targets)\n",
        "\n",
        "    # Compute average loss for the entire training set\n",
        "    train_loss = running_train_loss / len(train_loader)\n",
        "\n",
        "    # Compute Hamming Distance for the epoch\n",
        "    epoch_hamming_distance = hamming.compute().item()\n",
        "\n",
        "    # Reset Hamming distance metric after the epoch\n",
        "    hamming.reset()\n",
        "\n",
        "    return train_loss, epoch_hamming_distance"
      ]
    },
    {
      "cell_type": "code",
      "execution_count": 31,
      "metadata": {
        "id": "3TcmnMC9eORx"
      },
      "outputs": [],
      "source": [
        "def val_epoch(valid_loader, model, device, loss_function):\n",
        "    model.eval()\n",
        "    running_loss = 0.0\n",
        "    total_hamm_dist = 0\n",
        "\n",
        "    with torch.no_grad():\n",
        "        for inputs, targets in valid_loader:\n",
        "            # Move inputs and targets to the device (CPU or GPU)\n",
        "            inputs = tuple(input_tensor.to(device) for input_tensor in inputs)\n",
        "            targets = targets.to(device)\n",
        "\n",
        "            # Perform a forward pass to get predictions\n",
        "            outputs = model(inputs)\n",
        "\n",
        "            # Ensure targets are of the correct type and values\n",
        "            targets = targets.type(torch.float32) # Convert targets to float32\n",
        "\n",
        "            # Calculate the loss\n",
        "            loss = loss_function(outputs, targets)\n",
        "\n",
        "            # Update running loss\n",
        "            running_loss += loss.item() * targets.size(0)\n",
        "\n",
        "\n",
        "\n",
        "    # Calculate average loss and Hamming distance for the epoch\n",
        "    epoch_loss = running_loss / len(valid_loader.dataset)\n",
        "\n",
        "    epoch_hamm=0\n",
        "\n",
        "    return epoch_loss, epoch_hamm"
      ]
    },
    {
      "cell_type": "code",
      "execution_count": 32,
      "metadata": {
        "id": "0lrR5iyJePoj"
      },
      "outputs": [],
      "source": [
        "def train(train_loader, valid_loader, model, optimizer, loss_function, epochs, device, patience=5):\n",
        "    \"\"\"\n",
        "    Trains and validates the model, and returns history of train and validation metrics.\n",
        "\n",
        "    Parameters:\n",
        "    - train_loader (torch.utils.data.DataLoader): DataLoader for the training set.\n",
        "    - valid_loader (torch.utils.data.DataLoader): DataLoader for the validation set.\n",
        "    - model (torch.nn.Module): Neural network model to train.\n",
        "    - optimizer (torch.optim.Optimizer): Optimizer algorithm.\n",
        "    - loss_function (torch.nn.Module): Loss function to evaluate the model.\n",
        "    - epochs (int): Number of epochs to train the model.\n",
        "    - device (torch.device): The computing device (CPU or GPU).\n",
        "    - patience (int): Number of epochs to wait for improvement before early stopping.\n",
        "\n",
        "    Returns:\n",
        "    - train_loss_history (list): History of training loss for each epoch.\n",
        "    - train_hamm_history (list): History of training Hamming distance for each epoch.\n",
        "    - valid_loss_history (list): History of validation loss for each epoch.\n",
        "    - valid_hamm_history (list): History of validation Hamming distance for each epoch.\n",
        "    \"\"\"\n",
        "\n",
        "    # Initialize lists to store metrics for each epoch\n",
        "    train_loss_history = []\n",
        "    valid_loss_history = []\n",
        "    train_hamm_history = []\n",
        "    valid_hamm_history = []\n",
        "\n",
        "    # Initialize variables for early stopping\n",
        "    best_valid_loss = float('inf')\n",
        "    no_improvement = 0\n",
        "\n",
        "    # Loop over the number of specified epochs\n",
        "    for epoch in range(epochs):\n",
        "        # Train model on training data and capture metrics\n",
        "        train_loss, train_hamm = train_epoch(\n",
        "            train_loader, model, device, loss_function, optimizer)\n",
        "\n",
        "        # Validate model on validation data and capture metrics\n",
        "        valid_loss, valid_hamm = val_epoch(\n",
        "            valid_loader, model, device, loss_function)\n",
        "\n",
        "        # Store metrics for this epoch\n",
        "        train_loss_history.append(train_loss)\n",
        "        valid_loss_history.append(valid_loss)\n",
        "        train_hamm_history.append(train_hamm)\n",
        "        valid_hamm_history.append(valid_hamm)\n",
        "        # Output epoch-level summary\n",
        "        print(f\"Epoch {epoch+1}/{epochs}\")\n",
        "        print(f\"Train Loss: {train_loss:.4f} | Train Hamming Distance: {train_hamm:.4f}\")\n",
        "        print(f\"Valid Loss: {valid_loss:.4f} | Valid Hamming Distance: {valid_hamm:.4f}\")\n",
        "        print()\n",
        "\n",
        "        # Check for early stopping\n",
        "        if valid_loss < best_valid_loss:\n",
        "            best_valid_loss = valid_loss\n",
        "            no_improvement = 0\n",
        "        else:\n",
        "            no_improvement += 1\n",
        "            if no_improvement == patience:\n",
        "                print(f\"No improvement for {patience} epochs. Early stopping...\")\n",
        "                break\n",
        "\n",
        "    return train_loss_history, train_hamm_history, valid_loss_history, valid_hamm_history"
      ]
    },
    {
      "cell_type": "code",
      "execution_count": 33,
      "metadata": {
        "id": "iCk4sLjeeQ7x"
      },
      "outputs": [],
      "source": [
        "# training\n",
        "EPOCHS=5\n",
        "BATCH_SIZE=128\n",
        "LEARNING_RATE=0.001\n",
        "WEIGHT_DECAY=0.0\n",
        "PATIENCE=10"
      ]
    },
    {
      "cell_type": "code",
      "execution_count": 34,
      "metadata": {
        "colab": {
          "base_uri": "https://localhost:8080/"
        },
        "id": "N3o6X7CKeStB",
        "outputId": "d3b32dda-7f8e-40eb-88c5-b04e6be86dd9"
      },
      "outputs": [
        {
          "name": "stderr",
          "output_type": "stream",
          "text": [
            "/usr/local/lib/python3.10/dist-packages/torch/utils/data/dataloader.py:557: UserWarning: This DataLoader will create 4 worker processes in total. Our suggested max number of worker in current system is 2, which is smaller than what this DataLoader is going to create. Please be aware that excessive worker creation might get DataLoader running slow or even freeze, lower the worker number to avoid potential slowness/freeze if necessary.\n",
            "  warnings.warn(_create_warning_msg(\n"
          ]
        }
      ],
      "source": [
        "import random\n",
        "import numpy as np\n",
        "import torch\n",
        "import torch.nn as nn\n",
        "import torch.optim as optim\n",
        "SEED = 2345\n",
        "random.seed(SEED)\n",
        "np.random.seed(SEED)\n",
        "torch.manual_seed(SEED)\n",
        "torch.cuda.manual_seed(SEED)\n",
        "torch.backends.cudnn.deterministic = True\n",
        "\n",
        "# Define collate function with a fixed vocabulary using the 'partial' function\n",
        "collate_fn = partial(collate_batch, my_vocab=codeData_vocab)\n",
        "\n",
        "# Define the device for model training (use CUDA if available, else CPU)\n",
        "device = torch.device('cuda:0' if torch.cuda.is_available() else 'cpu')\n",
        "\n",
        "# Data Loaders for training, validation, and test sets\n",
        "train_loader = torch.utils.data.DataLoader(trainset, batch_size = BATCH_SIZE, shuffle=True,\n",
        "                                           collate_fn=collate_fn, num_workers=4)\n",
        "valid_loader = torch.utils.data.DataLoader(validset, batch_size=BATCH_SIZE, shuffle=False,\n",
        "                                           collate_fn=collate_fn, num_workers=4)\n",
        "test_loader = torch.utils.data.DataLoader(testset, batch_size=BATCH_SIZE, shuffle=False,\n",
        "                                          collate_fn=collate_fn, num_workers=4)\n",
        "\n",
        "# Define the loss function for the model, using cross-entropy loss\n",
        "loss_function = nn.BCEWithLogitsLoss()\n",
        "\n",
        "# Define the model with specified hyperparameters\n",
        "vocab_size = len(codeData_vocab)\n",
        "model = nn.Sequential(\n",
        "    EmbeddingBagWrapper(vocab_size, EMBED_DIM),\n",
        "    CustomBlock(EMBED_DIM , HIDDEN_DIM1, 0.5),\n",
        "    CustomBlock(HIDDEN_DIM1, HIDDEN_DIM2, 0.5),\n",
        "    nn.Linear(HIDDEN_DIM2, OUTPUT_DIM)\n",
        "    )\n",
        "model = model.to(device)\n",
        "\n",
        "# Define the optimizer\n",
        "optimizer = optim.AdamW(model.parameters(), lr=LEARNING_RATE, weight_decay=WEIGHT_DECAY)"
      ]
    },
    {
      "cell_type": "code",
      "execution_count": 35,
      "metadata": {
        "colab": {
          "base_uri": "https://localhost:8080/"
        },
        "id": "NphzBUnyeTzR",
        "outputId": "cb3ce0f8-06de-4115-e7d3-f21cfda66b78"
      },
      "outputs": [
        {
          "name": "stderr",
          "output_type": "stream",
          "text": [
            "/usr/local/lib/python3.10/dist-packages/torch/utils/data/dataloader.py:557: UserWarning: This DataLoader will create 4 worker processes in total. Our suggested max number of worker in current system is 2, which is smaller than what this DataLoader is going to create. Please be aware that excessive worker creation might get DataLoader running slow or even freeze, lower the worker number to avoid potential slowness/freeze if necessary.\n",
            "  warnings.warn(_create_warning_msg(\n",
            "<ipython-input-22-290ee004b6c2>:21: UserWarning: Creating a tensor from a list of numpy.ndarrays is extremely slow. Please consider converting the list to a single numpy.ndarray with numpy.array() before converting to a tensor. (Triggered internally at ../torch/csrc/utils/tensor_new.cpp:278.)\n",
            "  labels = torch.tensor(labels, dtype=torch.long)\n",
            "<ipython-input-22-290ee004b6c2>:21: UserWarning: Creating a tensor from a list of numpy.ndarrays is extremely slow. Please consider converting the list to a single numpy.ndarray with numpy.array() before converting to a tensor. (Triggered internally at ../torch/csrc/utils/tensor_new.cpp:278.)\n",
            "  labels = torch.tensor(labels, dtype=torch.long)\n",
            "<ipython-input-22-290ee004b6c2>:21: UserWarning: Creating a tensor from a list of numpy.ndarrays is extremely slow. Please consider converting the list to a single numpy.ndarray with numpy.array() before converting to a tensor. (Triggered internally at ../torch/csrc/utils/tensor_new.cpp:278.)\n",
            "  labels = torch.tensor(labels, dtype=torch.long)\n",
            "<ipython-input-22-290ee004b6c2>:21: UserWarning: Creating a tensor from a list of numpy.ndarrays is extremely slow. Please consider converting the list to a single numpy.ndarray with numpy.array() before converting to a tensor. (Triggered internally at ../torch/csrc/utils/tensor_new.cpp:278.)\n",
            "  labels = torch.tensor(labels, dtype=torch.long)\n"
          ]
        },
        {
          "name": "stdout",
          "output_type": "stream",
          "text": [
            "Actual loss: 0.6915262937545776\n",
            "Expected Theoretical loss: 0.6931471805599453\n"
          ]
        }
      ],
      "source": [
        "for inputs, targets in train_loader:\n",
        "    # Move inputs and targets to the CPU.\n",
        "    inputs = tuple(input_tensor.to(device) for input_tensor in inputs)\n",
        "    targets = targets.to(device) # Move targets to the device\n",
        "    model_fin = model.to(device)\n",
        "    model_fin.eval()\n",
        "\n",
        "    # Forward pass\n",
        "    with torch.no_grad():\n",
        "        output = model_fin(inputs)\n",
        "\n",
        "        # Cast targets to float\n",
        "        loss = loss_function(output, targets.type(torch.float))\n",
        "        print(f'Actual loss: {loss.item()}')\n",
        "    break\n",
        "\n",
        "print(f'Expected Theoretical loss: {np.log(2)}')"
      ]
    },
    {
      "cell_type": "code",
      "execution_count": 36,
      "metadata": {
        "colab": {
          "base_uri": "https://localhost:8080/"
        },
        "id": "e3IYtWUmeVi5",
        "outputId": "b0c74adf-4b67-4c1f-df4f-3e0d2a02e1fb"
      },
      "outputs": [
        {
          "name": "stderr",
          "output_type": "stream",
          "text": [
            "<ipython-input-22-290ee004b6c2>:21: UserWarning: Creating a tensor from a list of numpy.ndarrays is extremely slow. Please consider converting the list to a single numpy.ndarray with numpy.array() before converting to a tensor. (Triggered internally at ../torch/csrc/utils/tensor_new.cpp:278.)\n",
            "  labels = torch.tensor(labels, dtype=torch.long)\n",
            "<ipython-input-22-290ee004b6c2>:21: UserWarning: Creating a tensor from a list of numpy.ndarrays is extremely slow. Please consider converting the list to a single numpy.ndarray with numpy.array() before converting to a tensor. (Triggered internally at ../torch/csrc/utils/tensor_new.cpp:278.)\n",
            "  labels = torch.tensor(labels, dtype=torch.long)\n",
            "<ipython-input-22-290ee004b6c2>:21: UserWarning: Creating a tensor from a list of numpy.ndarrays is extremely slow. Please consider converting the list to a single numpy.ndarray with numpy.array() before converting to a tensor. (Triggered internally at ../torch/csrc/utils/tensor_new.cpp:278.)\n",
            "  labels = torch.tensor(labels, dtype=torch.long)\n",
            "<ipython-input-22-290ee004b6c2>:21: UserWarning: Creating a tensor from a list of numpy.ndarrays is extremely slow. Please consider converting the list to a single numpy.ndarray with numpy.array() before converting to a tensor. (Triggered internally at ../torch/csrc/utils/tensor_new.cpp:278.)\n",
            "  labels = torch.tensor(labels, dtype=torch.long)\n",
            "<ipython-input-22-290ee004b6c2>:21: UserWarning: Creating a tensor from a list of numpy.ndarrays is extremely slow. Please consider converting the list to a single numpy.ndarray with numpy.array() before converting to a tensor. (Triggered internally at ../torch/csrc/utils/tensor_new.cpp:278.)\n",
            "  labels = torch.tensor(labels, dtype=torch.long)\n",
            "<ipython-input-22-290ee004b6c2>:21: UserWarning: Creating a tensor from a list of numpy.ndarrays is extremely slow. Please consider converting the list to a single numpy.ndarray with numpy.array() before converting to a tensor. (Triggered internally at ../torch/csrc/utils/tensor_new.cpp:278.)\n",
            "  labels = torch.tensor(labels, dtype=torch.long)\n",
            "<ipython-input-22-290ee004b6c2>:21: UserWarning: Creating a tensor from a list of numpy.ndarrays is extremely slow. Please consider converting the list to a single numpy.ndarray with numpy.array() before converting to a tensor. (Triggered internally at ../torch/csrc/utils/tensor_new.cpp:278.)\n",
            "  labels = torch.tensor(labels, dtype=torch.long)\n",
            "<ipython-input-22-290ee004b6c2>:21: UserWarning: Creating a tensor from a list of numpy.ndarrays is extremely slow. Please consider converting the list to a single numpy.ndarray with numpy.array() before converting to a tensor. (Triggered internally at ../torch/csrc/utils/tensor_new.cpp:278.)\n",
            "  labels = torch.tensor(labels, dtype=torch.long)\n"
          ]
        },
        {
          "name": "stdout",
          "output_type": "stream",
          "text": [
            "Epoch 1/5\n",
            "Train Loss: 0.2935 | Train Hamming Distance: 0.1135\n",
            "Valid Loss: 0.1694 | Valid Hamming Distance: 0.0000\n",
            "\n"
          ]
        },
        {
          "name": "stderr",
          "output_type": "stream",
          "text": [
            "<ipython-input-22-290ee004b6c2>:21: UserWarning: Creating a tensor from a list of numpy.ndarrays is extremely slow. Please consider converting the list to a single numpy.ndarray with numpy.array() before converting to a tensor. (Triggered internally at ../torch/csrc/utils/tensor_new.cpp:278.)\n",
            "  labels = torch.tensor(labels, dtype=torch.long)\n",
            "<ipython-input-22-290ee004b6c2>:21: UserWarning: Creating a tensor from a list of numpy.ndarrays is extremely slow. Please consider converting the list to a single numpy.ndarray with numpy.array() before converting to a tensor. (Triggered internally at ../torch/csrc/utils/tensor_new.cpp:278.)\n",
            "  labels = torch.tensor(labels, dtype=torch.long)\n",
            "<ipython-input-22-290ee004b6c2>:21: UserWarning: Creating a tensor from a list of numpy.ndarrays is extremely slow. Please consider converting the list to a single numpy.ndarray with numpy.array() before converting to a tensor. (Triggered internally at ../torch/csrc/utils/tensor_new.cpp:278.)\n",
            "  labels = torch.tensor(labels, dtype=torch.long)\n",
            "<ipython-input-22-290ee004b6c2>:21: UserWarning: Creating a tensor from a list of numpy.ndarrays is extremely slow. Please consider converting the list to a single numpy.ndarray with numpy.array() before converting to a tensor. (Triggered internally at ../torch/csrc/utils/tensor_new.cpp:278.)\n",
            "  labels = torch.tensor(labels, dtype=torch.long)\n",
            "<ipython-input-22-290ee004b6c2>:21: UserWarning: Creating a tensor from a list of numpy.ndarrays is extremely slow. Please consider converting the list to a single numpy.ndarray with numpy.array() before converting to a tensor. (Triggered internally at ../torch/csrc/utils/tensor_new.cpp:278.)\n",
            "  labels = torch.tensor(labels, dtype=torch.long)\n",
            "<ipython-input-22-290ee004b6c2>:21: UserWarning: Creating a tensor from a list of numpy.ndarrays is extremely slow. Please consider converting the list to a single numpy.ndarray with numpy.array() before converting to a tensor. (Triggered internally at ../torch/csrc/utils/tensor_new.cpp:278.)\n",
            "  labels = torch.tensor(labels, dtype=torch.long)\n",
            "<ipython-input-22-290ee004b6c2>:21: UserWarning: Creating a tensor from a list of numpy.ndarrays is extremely slow. Please consider converting the list to a single numpy.ndarray with numpy.array() before converting to a tensor. (Triggered internally at ../torch/csrc/utils/tensor_new.cpp:278.)\n",
            "  labels = torch.tensor(labels, dtype=torch.long)\n",
            "<ipython-input-22-290ee004b6c2>:21: UserWarning: Creating a tensor from a list of numpy.ndarrays is extremely slow. Please consider converting the list to a single numpy.ndarray with numpy.array() before converting to a tensor. (Triggered internally at ../torch/csrc/utils/tensor_new.cpp:278.)\n",
            "  labels = torch.tensor(labels, dtype=torch.long)\n"
          ]
        },
        {
          "name": "stdout",
          "output_type": "stream",
          "text": [
            "Epoch 2/5\n",
            "Train Loss: 0.1663 | Train Hamming Distance: 0.0635\n",
            "Valid Loss: 0.1377 | Valid Hamming Distance: 0.0000\n",
            "\n"
          ]
        },
        {
          "name": "stderr",
          "output_type": "stream",
          "text": [
            "<ipython-input-22-290ee004b6c2>:21: UserWarning: Creating a tensor from a list of numpy.ndarrays is extremely slow. Please consider converting the list to a single numpy.ndarray with numpy.array() before converting to a tensor. (Triggered internally at ../torch/csrc/utils/tensor_new.cpp:278.)\n",
            "  labels = torch.tensor(labels, dtype=torch.long)\n",
            "<ipython-input-22-290ee004b6c2>:21: UserWarning: Creating a tensor from a list of numpy.ndarrays is extremely slow. Please consider converting the list to a single numpy.ndarray with numpy.array() before converting to a tensor. (Triggered internally at ../torch/csrc/utils/tensor_new.cpp:278.)\n",
            "  labels = torch.tensor(labels, dtype=torch.long)\n",
            "<ipython-input-22-290ee004b6c2>:21: UserWarning: Creating a tensor from a list of numpy.ndarrays is extremely slow. Please consider converting the list to a single numpy.ndarray with numpy.array() before converting to a tensor. (Triggered internally at ../torch/csrc/utils/tensor_new.cpp:278.)\n",
            "  labels = torch.tensor(labels, dtype=torch.long)\n",
            "<ipython-input-22-290ee004b6c2>:21: UserWarning: Creating a tensor from a list of numpy.ndarrays is extremely slow. Please consider converting the list to a single numpy.ndarray with numpy.array() before converting to a tensor. (Triggered internally at ../torch/csrc/utils/tensor_new.cpp:278.)\n",
            "  labels = torch.tensor(labels, dtype=torch.long)\n",
            "<ipython-input-22-290ee004b6c2>:21: UserWarning: Creating a tensor from a list of numpy.ndarrays is extremely slow. Please consider converting the list to a single numpy.ndarray with numpy.array() before converting to a tensor. (Triggered internally at ../torch/csrc/utils/tensor_new.cpp:278.)\n",
            "  labels = torch.tensor(labels, dtype=torch.long)\n",
            "<ipython-input-22-290ee004b6c2>:21: UserWarning: Creating a tensor from a list of numpy.ndarrays is extremely slow. Please consider converting the list to a single numpy.ndarray with numpy.array() before converting to a tensor. (Triggered internally at ../torch/csrc/utils/tensor_new.cpp:278.)\n",
            "  labels = torch.tensor(labels, dtype=torch.long)\n",
            "<ipython-input-22-290ee004b6c2>:21: UserWarning: Creating a tensor from a list of numpy.ndarrays is extremely slow. Please consider converting the list to a single numpy.ndarray with numpy.array() before converting to a tensor. (Triggered internally at ../torch/csrc/utils/tensor_new.cpp:278.)\n",
            "  labels = torch.tensor(labels, dtype=torch.long)\n",
            "<ipython-input-22-290ee004b6c2>:21: UserWarning: Creating a tensor from a list of numpy.ndarrays is extremely slow. Please consider converting the list to a single numpy.ndarray with numpy.array() before converting to a tensor. (Triggered internally at ../torch/csrc/utils/tensor_new.cpp:278.)\n",
            "  labels = torch.tensor(labels, dtype=torch.long)\n"
          ]
        },
        {
          "name": "stdout",
          "output_type": "stream",
          "text": [
            "Epoch 3/5\n",
            "Train Loss: 0.1380 | Train Hamming Distance: 0.0526\n",
            "Valid Loss: 0.1240 | Valid Hamming Distance: 0.0000\n",
            "\n"
          ]
        },
        {
          "name": "stderr",
          "output_type": "stream",
          "text": [
            "<ipython-input-22-290ee004b6c2>:21: UserWarning: Creating a tensor from a list of numpy.ndarrays is extremely slow. Please consider converting the list to a single numpy.ndarray with numpy.array() before converting to a tensor. (Triggered internally at ../torch/csrc/utils/tensor_new.cpp:278.)\n",
            "  labels = torch.tensor(labels, dtype=torch.long)\n",
            "<ipython-input-22-290ee004b6c2>:21: UserWarning: Creating a tensor from a list of numpy.ndarrays is extremely slow. Please consider converting the list to a single numpy.ndarray with numpy.array() before converting to a tensor. (Triggered internally at ../torch/csrc/utils/tensor_new.cpp:278.)\n",
            "  labels = torch.tensor(labels, dtype=torch.long)\n",
            "<ipython-input-22-290ee004b6c2>:21: UserWarning: Creating a tensor from a list of numpy.ndarrays is extremely slow. Please consider converting the list to a single numpy.ndarray with numpy.array() before converting to a tensor. (Triggered internally at ../torch/csrc/utils/tensor_new.cpp:278.)\n",
            "  labels = torch.tensor(labels, dtype=torch.long)\n",
            "<ipython-input-22-290ee004b6c2>:21: UserWarning: Creating a tensor from a list of numpy.ndarrays is extremely slow. Please consider converting the list to a single numpy.ndarray with numpy.array() before converting to a tensor. (Triggered internally at ../torch/csrc/utils/tensor_new.cpp:278.)\n",
            "  labels = torch.tensor(labels, dtype=torch.long)\n",
            "<ipython-input-22-290ee004b6c2>:21: UserWarning: Creating a tensor from a list of numpy.ndarrays is extremely slow. Please consider converting the list to a single numpy.ndarray with numpy.array() before converting to a tensor. (Triggered internally at ../torch/csrc/utils/tensor_new.cpp:278.)\n",
            "  labels = torch.tensor(labels, dtype=torch.long)\n",
            "<ipython-input-22-290ee004b6c2>:21: UserWarning: Creating a tensor from a list of numpy.ndarrays is extremely slow. Please consider converting the list to a single numpy.ndarray with numpy.array() before converting to a tensor. (Triggered internally at ../torch/csrc/utils/tensor_new.cpp:278.)\n",
            "  labels = torch.tensor(labels, dtype=torch.long)\n",
            "<ipython-input-22-290ee004b6c2>:21: UserWarning: Creating a tensor from a list of numpy.ndarrays is extremely slow. Please consider converting the list to a single numpy.ndarray with numpy.array() before converting to a tensor. (Triggered internally at ../torch/csrc/utils/tensor_new.cpp:278.)\n",
            "  labels = torch.tensor(labels, dtype=torch.long)\n",
            "<ipython-input-22-290ee004b6c2>:21: UserWarning: Creating a tensor from a list of numpy.ndarrays is extremely slow. Please consider converting the list to a single numpy.ndarray with numpy.array() before converting to a tensor. (Triggered internally at ../torch/csrc/utils/tensor_new.cpp:278.)\n",
            "  labels = torch.tensor(labels, dtype=torch.long)\n"
          ]
        },
        {
          "name": "stdout",
          "output_type": "stream",
          "text": [
            "Epoch 4/5\n",
            "Train Loss: 0.1193 | Train Hamming Distance: 0.0455\n",
            "Valid Loss: 0.1154 | Valid Hamming Distance: 0.0000\n",
            "\n"
          ]
        },
        {
          "name": "stderr",
          "output_type": "stream",
          "text": [
            "<ipython-input-22-290ee004b6c2>:21: UserWarning: Creating a tensor from a list of numpy.ndarrays is extremely slow. Please consider converting the list to a single numpy.ndarray with numpy.array() before converting to a tensor. (Triggered internally at ../torch/csrc/utils/tensor_new.cpp:278.)\n",
            "  labels = torch.tensor(labels, dtype=torch.long)\n",
            "<ipython-input-22-290ee004b6c2>:21: UserWarning: Creating a tensor from a list of numpy.ndarrays is extremely slow. Please consider converting the list to a single numpy.ndarray with numpy.array() before converting to a tensor. (Triggered internally at ../torch/csrc/utils/tensor_new.cpp:278.)\n",
            "  labels = torch.tensor(labels, dtype=torch.long)\n",
            "<ipython-input-22-290ee004b6c2>:21: UserWarning: Creating a tensor from a list of numpy.ndarrays is extremely slow. Please consider converting the list to a single numpy.ndarray with numpy.array() before converting to a tensor. (Triggered internally at ../torch/csrc/utils/tensor_new.cpp:278.)\n",
            "  labels = torch.tensor(labels, dtype=torch.long)\n",
            "<ipython-input-22-290ee004b6c2>:21: UserWarning: Creating a tensor from a list of numpy.ndarrays is extremely slow. Please consider converting the list to a single numpy.ndarray with numpy.array() before converting to a tensor. (Triggered internally at ../torch/csrc/utils/tensor_new.cpp:278.)\n",
            "  labels = torch.tensor(labels, dtype=torch.long)\n",
            "<ipython-input-22-290ee004b6c2>:21: UserWarning: Creating a tensor from a list of numpy.ndarrays is extremely slow. Please consider converting the list to a single numpy.ndarray with numpy.array() before converting to a tensor. (Triggered internally at ../torch/csrc/utils/tensor_new.cpp:278.)\n",
            "  labels = torch.tensor(labels, dtype=torch.long)\n",
            "<ipython-input-22-290ee004b6c2>:21: UserWarning: Creating a tensor from a list of numpy.ndarrays is extremely slow. Please consider converting the list to a single numpy.ndarray with numpy.array() before converting to a tensor. (Triggered internally at ../torch/csrc/utils/tensor_new.cpp:278.)\n",
            "  labels = torch.tensor(labels, dtype=torch.long)\n",
            "<ipython-input-22-290ee004b6c2>:21: UserWarning: Creating a tensor from a list of numpy.ndarrays is extremely slow. Please consider converting the list to a single numpy.ndarray with numpy.array() before converting to a tensor. (Triggered internally at ../torch/csrc/utils/tensor_new.cpp:278.)\n",
            "  labels = torch.tensor(labels, dtype=torch.long)\n",
            "<ipython-input-22-290ee004b6c2>:21: UserWarning: Creating a tensor from a list of numpy.ndarrays is extremely slow. Please consider converting the list to a single numpy.ndarray with numpy.array() before converting to a tensor. (Triggered internally at ../torch/csrc/utils/tensor_new.cpp:278.)\n",
            "  labels = torch.tensor(labels, dtype=torch.long)\n"
          ]
        },
        {
          "name": "stdout",
          "output_type": "stream",
          "text": [
            "Epoch 5/5\n",
            "Train Loss: 0.1065 | Train Hamming Distance: 0.0406\n",
            "Valid Loss: 0.1115 | Valid Hamming Distance: 0.0000\n",
            "\n"
          ]
        }
      ],
      "source": [
        "CLIP_VALUE = 10\n",
        "# Call the train function to train the model\n",
        "train_losses, train_hamm, valid_losses, valid_hamm = train(\n",
        "    train_loader, valid_loader, model, optimizer, loss_function, EPOCHS, device, patience=PATIENCE\n",
        ")"
      ]
    },
    {
      "cell_type": "code",
      "execution_count": 37,
      "metadata": {
        "id": "Js72rHW3eaSZ"
      },
      "outputs": [],
      "source": [
        "import matplotlib.pyplot as plt\n",
        "\n",
        "def plot_history(train_losses, train_metrics, val_losses=None, val_metrics=None):\n",
        "    \"\"\"\n",
        "    Plot training and validation loss and metrics over epochs.\n",
        "\n",
        "    Args:\n",
        "        train_losses (list): List of training losses for each epoch.\n",
        "        train_metrics (list): List of training metrics (e.g., accuracy) for each epoch.\n",
        "        val_losses (list, optional): List of validation losses for each epoch.\n",
        "        val_metrics (list, optional): List of validation metrics for each epoch.\n",
        "\n",
        "    Returns:\n",
        "        None\n",
        "    \"\"\"\n",
        "    # Determine the number of epochs based on the length of train_losses\n",
        "    epochs = range(1, len(train_losses) + 1)\n",
        "\n",
        "    # Plotting training and validation losses\n",
        "    plt.figure()\n",
        "    plt.plot(epochs, train_losses, label=\"Train Loss\")\n",
        "    if val_losses is not None and len(val_losses) > 0:\n",
        "        plt.plot(epochs, val_losses, label=\"Validation Loss\")\n",
        "    plt.xlabel(\"Epochs\")\n",
        "    plt.ylabel(\"Loss\")\n",
        "    plt.legend()\n",
        "    plt.title(\"Loss Over Epochs\")\n",
        "    plt.show()\n",
        "\n",
        "    # Plotting training and validation metrics (e.g., Hamming loss)\n",
        "    if train_metrics[0] is not None:\n",
        "        plt.figure()\n",
        "        plt.plot(epochs, train_metrics, label=\"Train Metric\")\n",
        "        if val_metrics is not None and len(val_metrics) > 0:\n",
        "            plt.plot(epochs, val_metrics, label=\"Validation Metric\")\n",
        "        plt.xlabel(\"Epochs\")\n",
        "        plt.ylabel(\"Metric\")\n",
        "        plt.legend()\n",
        "        plt.title(\"Metrics Over Epochs\")\n",
        "        plt.show()\n"
      ]
    },
    {
      "cell_type": "code",
      "execution_count": 38,
      "metadata": {
        "id": "_2QPbCbJe6NR"
      },
      "outputs": [],
      "source": [
        "import numpy as np\n",
        "\n",
        "# Helper function to convert tensors to NumPy arrays (CPU if needed)\n",
        "def tensor_to_numpy(tensor_list):\n",
        "    return [t.cpu().numpy() if hasattr(t, 'cpu') else t for t in tensor_list]\n",
        "\n",
        "# Convert train_hamm and valid_hamm to numpy arrays\n",
        "train_hamm_np = tensor_to_numpy(train_hamm)\n",
        "valid_hamm_np = tensor_to_numpy(valid_hamm)\n"
      ]
    },
    {
      "cell_type": "code",
      "execution_count": 39,
      "metadata": {
        "colab": {
          "base_uri": "https://localhost:8080/",
          "height": 927
        },
        "id": "Jse21O3dfMoJ",
        "outputId": "bcb9f91d-f910-4d8d-8a99-34602b30f7f5"
      },
      "outputs": [
        {
          "data": {
            "image/png": "[encoded data removed]",
            "text/plain": [
              "<Figure size 640x480 with 1 Axes>"
            ]
          },
          "metadata": {},
          "output_type": "display_data"
        },
        {
          "data": {
            "image/png": "[encoded data removed]",
            "text/plain": [
              "<Figure size 640x480 with 1 Axes>"
            ]
          },
          "metadata": {},
          "output_type": "display_data"
        }
      ],
      "source": [
        "# Plot the training and validation losses and metrics (e.g., Hamming loss)\n",
        "plot_history(train_losses, train_hamm_np, valid_losses, valid_hamm_np)\n"
      ]
    },
    {
      "cell_type": "code",
      "execution_count": 40,
      "metadata": {
        "id": "pxfOHiKWfOU5"
      },
      "outputs": [],
      "source": [
        "def get_acc_pred(data_loader, model, device):\n",
        "    \"\"\"\n",
        "    Function to get predictions and accuracy for a given data using a trained model\n",
        "    Input: data iterator, model, device\n",
        "    Output: predictions and accuracy for the given dataset\n",
        "    \"\"\"\n",
        "    model = model.to(device)\n",
        "    # Set model to evaluation mode\n",
        "    model.eval()\n",
        "\n",
        "    # Create empty tensors to store predictions and actual labels\n",
        "    predictions = torch.Tensor().to(device)\n",
        "    y = torch.Tensor().to(device)\n",
        "\n",
        "    # Iterate over batches from data iterator\n",
        "    with torch.no_grad():\n",
        "        for inputs, targets in data_loader:\n",
        "            # Process the batch to get the loss, outputs, and correct predictions\n",
        "            outputs, _ = step(inputs, targets, model,\n",
        "                              device, loss_function=None, optimizer=None)\n",
        "\n",
        "            # Choose the label with maximum probability\n",
        "            # Correct prediction using thresholding\n",
        "            y_pred = (outputs.data>0.5).float()\n",
        "\n",
        "            # Add the predicted labels and actual labels to their respective tensors\n",
        "            predictions = torch.cat((predictions, y_pred))\n",
        "            y = torch.cat((y, targets.to(device)))\n",
        "\n",
        "    # Calculate accuracy by comparing the predicted and actual labels\n",
        "    accuracy = (predictions == y).float().mean()\n",
        "\n",
        "    # Return tuple containing predictions and accuracy\n",
        "    return predictions, accuracy, y"
      ]
    },
    {
      "cell_type": "code",
      "execution_count": 41,
      "metadata": {
        "colab": {
          "base_uri": "https://localhost:8080/"
        },
        "id": "xhf7mF4NgJXA",
        "outputId": "a36b0521-722b-4642-b938-13ffb3377d23"
      },
      "outputs": [
        {
          "name": "stderr",
          "output_type": "stream",
          "text": [
            "<ipython-input-22-290ee004b6c2>:21: UserWarning: Creating a tensor from a list of numpy.ndarrays is extremely slow. Please consider converting the list to a single numpy.ndarray with numpy.array() before converting to a tensor. (Triggered internally at ../torch/csrc/utils/tensor_new.cpp:278.)\n",
            "  labels = torch.tensor(labels, dtype=torch.long)\n",
            "<ipython-input-22-290ee004b6c2>:21: UserWarning: Creating a tensor from a list of numpy.ndarrays is extremely slow. Please consider converting the list to a single numpy.ndarray with numpy.array() before converting to a tensor. (Triggered internally at ../torch/csrc/utils/tensor_new.cpp:278.)\n",
            "  labels = torch.tensor(labels, dtype=torch.long)\n",
            "<ipython-input-22-290ee004b6c2>:21: UserWarning: Creating a tensor from a list of numpy.ndarrays is extremely slow. Please consider converting the list to a single numpy.ndarray with numpy.array() before converting to a tensor. (Triggered internally at ../torch/csrc/utils/tensor_new.cpp:278.)\n",
            "  labels = torch.tensor(labels, dtype=torch.long)\n",
            "<ipython-input-22-290ee004b6c2>:21: UserWarning: Creating a tensor from a list of numpy.ndarrays is extremely slow. Please consider converting the list to a single numpy.ndarray with numpy.array() before converting to a tensor. (Triggered internally at ../torch/csrc/utils/tensor_new.cpp:278.)\n",
            "  labels = torch.tensor(labels, dtype=torch.long)\n",
            "<ipython-input-22-290ee004b6c2>:21: UserWarning: Creating a tensor from a list of numpy.ndarrays is extremely slow. Please consider converting the list to a single numpy.ndarray with numpy.array() before converting to a tensor. (Triggered internally at ../torch/csrc/utils/tensor_new.cpp:278.)\n",
            "  labels = torch.tensor(labels, dtype=torch.long)\n",
            "<ipython-input-22-290ee004b6c2>:21: UserWarning: Creating a tensor from a list of numpy.ndarrays is extremely slow. Please consider converting the list to a single numpy.ndarray with numpy.array() before converting to a tensor. (Triggered internally at ../torch/csrc/utils/tensor_new.cpp:278.)\n",
            "  labels = torch.tensor(labels, dtype=torch.long)\n",
            "<ipython-input-22-290ee004b6c2>:21: UserWarning: Creating a tensor from a list of numpy.ndarrays is extremely slow. Please consider converting the list to a single numpy.ndarray with numpy.array() before converting to a tensor. (Triggered internally at ../torch/csrc/utils/tensor_new.cpp:278.)\n",
            "  labels = torch.tensor(labels, dtype=torch.long)\n",
            "<ipython-input-22-290ee004b6c2>:21: UserWarning: Creating a tensor from a list of numpy.ndarrays is extremely slow. Please consider converting the list to a single numpy.ndarray with numpy.array() before converting to a tensor. (Triggered internally at ../torch/csrc/utils/tensor_new.cpp:278.)\n",
            "  labels = torch.tensor(labels, dtype=torch.long)\n",
            "<ipython-input-22-290ee004b6c2>:21: UserWarning: Creating a tensor from a list of numpy.ndarrays is extremely slow. Please consider converting the list to a single numpy.ndarray with numpy.array() before converting to a tensor. (Triggered internally at ../torch/csrc/utils/tensor_new.cpp:278.)\n",
            "  labels = torch.tensor(labels, dtype=torch.long)\n",
            "<ipython-input-22-290ee004b6c2>:21: UserWarning: Creating a tensor from a list of numpy.ndarrays is extremely slow. Please consider converting the list to a single numpy.ndarray with numpy.array() before converting to a tensor. (Triggered internally at ../torch/csrc/utils/tensor_new.cpp:278.)\n",
            "  labels = torch.tensor(labels, dtype=torch.long)\n",
            "<ipython-input-22-290ee004b6c2>:21: UserWarning: Creating a tensor from a list of numpy.ndarrays is extremely slow. Please consider converting the list to a single numpy.ndarray with numpy.array() before converting to a tensor. (Triggered internally at ../torch/csrc/utils/tensor_new.cpp:278.)\n",
            "  labels = torch.tensor(labels, dtype=torch.long)\n",
            "<ipython-input-22-290ee004b6c2>:21: UserWarning: Creating a tensor from a list of numpy.ndarrays is extremely slow. Please consider converting the list to a single numpy.ndarray with numpy.array() before converting to a tensor. (Triggered internally at ../torch/csrc/utils/tensor_new.cpp:278.)\n",
            "  labels = torch.tensor(labels, dtype=torch.long)\n"
          ]
        }
      ],
      "source": [
        "# Get the prediction and accuracy\n",
        "predictions_test, acc_test, y_test = get_acc_pred(test_loader, model, device)\n",
        "predictions_train, acc_train, y_train = get_acc_pred(train_loader, model, device)\n",
        "predictions_valid, acc_valid, y_valid = get_acc_pred(valid_loader, model, device)"
      ]
    },
    {
      "cell_type": "code",
      "execution_count": 42,
      "metadata": {
        "colab": {
          "base_uri": "https://localhost:8080/"
        },
        "id": "xJyB5wUkgKn4",
        "outputId": "a1cdd5e6-0318-496a-a007-da8862acef97"
      },
      "outputs": [
        {
          "name": "stdout",
          "output_type": "stream",
          "text": [
            "Valid accuracy tensor(95.7312)\n"
          ]
        }
      ],
      "source": [
        "# Print Test Accuracy\n",
        "print('Valid accuracy', acc_valid * 100)"
      ]
    },
    {
      "cell_type": "code",
      "execution_count": 43,
      "metadata": {
        "id": "55ITVV-ngMxh"
      },
      "outputs": [],
      "source": [
        "from sklearn.metrics import multilabel_confusion_matrix\n",
        "\n",
        "def plot_confusion_matrix(valid_labels, valid_preds, class_labels):\n",
        "    \"\"\"\n",
        "    Plots a confusion matrix.\n",
        "\n",
        "    Args:\n",
        "        valid_labels (array-like): True labels of the validation data.\n",
        "        valid_preds (array-like): Predicted labels of the validation data.\n",
        "        class_labels (list): List of class names for the labels.\n",
        "    \"\"\"\n",
        "    # Compute the confusion matrix\n",
        "    cm = multilabel_confusion_matrix(valid_labels, valid_preds)\n",
        "\n",
        "    # Plot the confusion matrix using Seaborn\n",
        "    fig, axs = plt.subplots(1, len(class_labels), figsize=(15, 5))\n",
        "    for i, (label, matrix) in enumerate(zip(class_labels, cm)):\n",
        "        sns.heatmap(matrix, annot=True, fmt=\"d\", cmap=\"Reds\", xticklabels=['0', '1'], yticklabels=['0', '1'], ax=axs[i])\n",
        "        axs[i].set_title(f\"Confusion Matrix for Class {label}\")\n",
        "        axs[i].set_xlabel('Predicted Labels')\n",
        "        axs[i].set_ylabel('True Labels')\n",
        "\n",
        "    # Display the plot\n",
        "    plt.tight_layout()\n",
        "    plt.show()"
      ]
    },
    {
      "cell_type": "code",
      "execution_count": 44,
      "metadata": {
        "colab": {
          "base_uri": "https://localhost:8080/",
          "height": 481
        },
        "id": "ITU-7lqagOHY",
        "outputId": "f6c95c18-be9f-4e86-c6e6-8bdfed7ea436"
      },
      "outputs": [
        {
          "data": {
            "image/png": "[encoded data removed]",
            "text/plain": [
              "<Figure size 1500x500 with 4 Axes>"
            ]
          },
          "metadata": {},
          "output_type": "display_data"
        }
      ],
      "source": [
        "plot_confusion_matrix(y_test.cpu().numpy(),\n",
        "                      predictions_test.cpu().numpy(),\n",
        "                      class_labels=['neg', 'pos'])"
      ]
    },
    {
      "cell_type": "code",
      "execution_count": 45,
      "metadata": {
        "id": "LrCtu_DGgQmg"
      },
      "outputs": [],
      "source": [
        "test_hamming_distance = HammingDistance(task=\"multilabel\", num_labels=10).to(device)\n",
        "test_hamming_distance.update(y_test, predictions_test)"
      ]
    },
    {
      "cell_type": "code",
      "execution_count": 46,
      "metadata": {
        "colab": {
          "base_uri": "https://localhost:8080/"
        },
        "id": "Rby327KriQ2e",
        "outputId": "bbb955fd-af02-4d8b-ec0c-26233b1a44b5"
      },
      "outputs": [
        {
          "data": {
            "text/plain": [
              "tensor(0.0458)"
            ]
          },
          "execution_count": 46,
          "metadata": {},
          "output_type": "execute_result"
        }
      ],
      "source": [
        "test_hamming_distance.compute()"
      ]
    },
    {
      "cell_type": "markdown",
      "metadata": {
        "id": "iGpnhktLiOUl"
      },
      "source": [
        "Inferences\n",
        "\n",
        "Loss Over Epochs:\n",
        "\n",
        "The training loss shows a steady decline over the 5 epochs, starting at approximately 0.29 and finishing around 0.11.\n",
        "Similarly, the validation loss decreases throughout the epochs, beginning at a value lower than the training loss and converging close to 0.10 by epoch 5.\n",
        "\n",
        "Inference for Loss Plot:\n",
        "\n",
        "The decrease in both training and validation loss is a positive indication that the model is learning effectively and improving on both datasets. Overall, the validation loss remains consistently lower than the training loss at each epoch, suggesting that the model does not overfit and generalizes well to unseen validation data.\n",
        "\n",
        "Metric Over Epochs:\n",
        "\n",
        "Training Metric: The blue line, representing the Hamming loss on the training set, starts near 0.10 and drops to around 0.03 by epoch 5.\n",
        "\n",
        "Validation Metric: The orange line remains relatively stable at a low value throughout all epochs, indicating strong performance on the validation set.\n",
        "\n",
        "As the training metric improves with each iteration, it suggests that the model enhances its predictions for the training data. The validation metric's consistency at a low value from the outset implies that the model generalizes effectively to the validation set. Overall, these trends indicate that the model is learning well, generalizing effectively, and exhibiting minimal overfitting.\n",
        "\n",
        "Confusion Matrix:\n",
        "\n",
        "The counts of true positives are relatively balanced between the two classes, indicating satisfactory performance in accurately identifying positive samples.\n",
        "Both classes exhibit good precision and recall, particularly for the 'pos' class, where the model makes fewer errors.\n",
        "The low counts of both false positives and false negatives further suggest that the model is performing well in this classification task, demonstrating effective predictions overall."
      ]
    },
    {
      "cell_type": "code",
      "execution_count": 46,
      "metadata": {
        "id": "R4o21pYihDCA"
      },
      "outputs": [],
      "source": []
    }
  ],
  "metadata": {
    "colab": {
      "machine_shape": "hm",
      "provenance": []
    },
    "kernelspec": {
      "display_name": "Python 3 (ipykernel)",
      "language": "python",
      "name": "python3"
    },
    "language_info": {
      "codemirror_mode": {
        "name": "ipython",
        "version": 3
      },
      "file_extension": ".py",
      "mimetype": "text/x-python",
      "name": "python",
      "nbconvert_exporter": "python",
      "pygments_lexer": "ipython3",
      "version": "3.11.8"
    }
  },
  "nbformat": 4,
  "nbformat_minor": 0
}
