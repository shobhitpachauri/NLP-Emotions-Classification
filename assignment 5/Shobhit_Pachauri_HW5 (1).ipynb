{
 "cells": [
  {
   "cell_type": "code",
   "execution_count": 1,
   "id": "9b5d8a51",
   "metadata": {},
   "outputs": [],
   "source": [
    "# !python -m pip install --upgrade pip"
   ]
  },
  {
   "cell_type": "code",
   "execution_count": 2,
   "id": "10ae7304",
   "metadata": {},
   "outputs": [],
   "source": [
    "# !pip install torch transformers datasets evaluate wandb scikit-learn matplotlib seaborn joblib beautifulsoup4 spacy"
   ]
  },
  {
   "cell_type": "code",
   "execution_count": 3,
   "id": "427ec637",
   "metadata": {},
   "outputs": [],
   "source": [
    "# !python -m spacy download en_core_web_sm"
   ]
  },
  {
   "cell_type": "code",
   "execution_count": 4,
   "id": "dfec6efd",
   "metadata": {},
   "outputs": [],
   "source": [
    "import os\n",
    "os.environ['PYTORCH_ENABLE_MPS_FALLBACK'] = '1'"
   ]
  },
  {
   "cell_type": "markdown",
   "id": "86303448",
   "metadata": {},
   "source": [
    "### Step 1: Importing necessary libraries"
   ]
  },
  {
   "cell_type": "code",
   "execution_count": 5,
   "id": "b1300ce5-1b87-42d2-be25-8a37b6518628",
   "metadata": {},
   "outputs": [
    {
     "name": "stderr",
     "output_type": "stream",
     "text": [
      "d:\\University\\NLP\\assignment 5\\.conda\\Lib\\site-packages\\tqdm\\auto.py:21: TqdmWarning: IProgress not found. Please update jupyter and ipywidgets. See https://ipywidgets.readthedocs.io/en/stable/user_install.html\n",
      "  from .autonotebook import tqdm as notebook_tqdm\n"
     ]
    }
   ],
   "source": [
    "# Importing PyTorch library for tensor computations and neural network modules\n",
    "import torch\n",
    "import torch.nn as nn\n",
    "import random\n",
    "import numpy as np\n",
    "import pandas as pd\n",
    "import joblib\n",
    "from collections import Counter\n",
    "\n",
    "# For creating lightweight attribute classes and for partial function application\n",
    "from functools import partial\n",
    "\n",
    "# For filesystem path handling, generating and displaying confusion matrices, and date-time manipulations\n",
    "from pathlib import Path\n",
    "from sklearn.metrics import confusion_matrix\n",
    "from datetime import datetime\n",
    "\n",
    "# For plotting and visualization\n",
    "import matplotlib.pyplot as plt\n",
    "import seaborn as sns\n",
    "# %matplotlib inline\n",
    "\n",
    "# imports from Huggingface ecosystem\n",
    "from transformers.modeling_outputs import SequenceClassifierOutput\n",
    "from transformers import PreTrainedModel, PretrainedConfig\n",
    "from transformers import TrainingArguments, Trainer\n",
    "from datasets import Dataset\n",
    "import evaluate\n",
    "\n",
    "# wandb library\n",
    "import wandb"
   ]
  },
  {
   "cell_type": "markdown",
   "id": "764d3903",
   "metadata": {},
   "source": [
    "#### Setting up directory for the files"
   ]
  },
  {
   "cell_type": "code",
   "execution_count": 6,
   "id": "546cf8fc-2468-48ba-9451-789c4ad0cf2a",
   "metadata": {},
   "outputs": [
    {
     "name": "stdout",
     "output_type": "stream",
     "text": [
      "Current working directory: d:\\University\\NLP\\assignment 5\n",
      "Model folder created: True\n",
      "Custom functions folder created: True\n"
     ]
    }
   ],
   "source": [
    "import os\n",
    "from pathlib import Path\n",
    "\n",
    "# Set the working directory to the given location\n",
    "os.chdir(r'D:\\University\\NLP\\assignment 5')\n",
    "\n",
    "# Verify the current working directory\n",
    "print(f\"Current working directory: {os.getcwd()}\")\n",
    "\n",
    "# Define the base path\n",
    "basepath = r'D:\\University\\NLP\\assignment 5'\n",
    "\n",
    "# Create the data folder, model folder, and custom functions folder\n",
    "data_folder = Path(basepath) / 'data_folder/'\n",
    "model_folder = Path(basepath) / 'sentiment' / 'nn'\n",
    "custom_functions = Path(basepath) / 'CustomFiles'\n",
    "\n",
    "# Create the necessary directories if they don't exist\n",
    "model_folder.mkdir(exist_ok=True, parents=True)\n",
    "custom_functions.mkdir(exist_ok=True, parents=True)\n",
    "\n",
    "# Verify that the folders are created\n",
    "print(f\"Model folder created: {model_folder.exists()}\")\n",
    "print(f\"Custom functions folder created: {custom_functions.exists()}\")"
   ]
  },
  {
   "cell_type": "markdown",
   "id": "2cdedca3-c83a-480f-aa49-421e8cbc2c8f",
   "metadata": {},
   "source": [
    "### Step 2: Load Data and preprocessing"
   ]
  },
  {
   "cell_type": "code",
   "execution_count": 7,
   "id": "ca103e6f-8845-4c02-a948-23a23b2fac2a",
   "metadata": {},
   "outputs": [],
   "source": [
    "# Read in the Training and Testing Dataset\n",
    "\n",
    "train_df = pd.read_csv(data_folder/'train.csv')\n",
    "valid_df = pd.read_csv(data_folder/'test.csv')"
   ]
  },
  {
   "cell_type": "code",
   "execution_count": 8,
   "id": "7624a4cf-1699-4a13-997d-cac17e3b26f9",
   "metadata": {},
   "outputs": [
    {
     "data": {
      "text/html": [
       "<div>\n",
       "<style scoped>\n",
       "    .dataframe tbody tr th:only-of-type {\n",
       "        vertical-align: middle;\n",
       "    }\n",
       "\n",
       "    .dataframe tbody tr th {\n",
       "        vertical-align: top;\n",
       "    }\n",
       "\n",
       "    .dataframe thead th {\n",
       "        text-align: right;\n",
       "    }\n",
       "</style>\n",
       "<table border=\"1\" class=\"dataframe\">\n",
       "  <thead>\n",
       "    <tr style=\"text-align: right;\">\n",
       "      <th></th>\n",
       "      <th>ID</th>\n",
       "      <th>Tweet</th>\n",
       "      <th>anger</th>\n",
       "      <th>anticipation</th>\n",
       "      <th>disgust</th>\n",
       "      <th>fear</th>\n",
       "      <th>joy</th>\n",
       "      <th>love</th>\n",
       "      <th>optimism</th>\n",
       "      <th>pessimism</th>\n",
       "      <th>sadness</th>\n",
       "      <th>surprise</th>\n",
       "      <th>trust</th>\n",
       "    </tr>\n",
       "  </thead>\n",
       "  <tbody>\n",
       "    <tr>\n",
       "      <th>0</th>\n",
       "      <td>2017-21441</td>\n",
       "      <td>“Worry is a down payment on a problem you may ...</td>\n",
       "      <td>0</td>\n",
       "      <td>1</td>\n",
       "      <td>0</td>\n",
       "      <td>0</td>\n",
       "      <td>0</td>\n",
       "      <td>0</td>\n",
       "      <td>1</td>\n",
       "      <td>0</td>\n",
       "      <td>0</td>\n",
       "      <td>0</td>\n",
       "      <td>1</td>\n",
       "    </tr>\n",
       "    <tr>\n",
       "      <th>1</th>\n",
       "      <td>2017-31535</td>\n",
       "      <td>Whatever you decide to do make sure it makes y...</td>\n",
       "      <td>0</td>\n",
       "      <td>0</td>\n",
       "      <td>0</td>\n",
       "      <td>0</td>\n",
       "      <td>1</td>\n",
       "      <td>1</td>\n",
       "      <td>1</td>\n",
       "      <td>0</td>\n",
       "      <td>0</td>\n",
       "      <td>0</td>\n",
       "      <td>0</td>\n",
       "    </tr>\n",
       "    <tr>\n",
       "      <th>2</th>\n",
       "      <td>2017-21068</td>\n",
       "      <td>@Max_Kellerman  it also helps that the majorit...</td>\n",
       "      <td>1</td>\n",
       "      <td>0</td>\n",
       "      <td>1</td>\n",
       "      <td>0</td>\n",
       "      <td>1</td>\n",
       "      <td>0</td>\n",
       "      <td>1</td>\n",
       "      <td>0</td>\n",
       "      <td>0</td>\n",
       "      <td>0</td>\n",
       "      <td>0</td>\n",
       "    </tr>\n",
       "  </tbody>\n",
       "</table>\n",
       "</div>"
      ],
      "text/plain": [
       "           ID                                              Tweet  anger  \\\n",
       "0  2017-21441  “Worry is a down payment on a problem you may ...      0   \n",
       "1  2017-31535  Whatever you decide to do make sure it makes y...      0   \n",
       "2  2017-21068  @Max_Kellerman  it also helps that the majorit...      1   \n",
       "\n",
       "   anticipation  disgust  fear  joy  love  optimism  pessimism  sadness  \\\n",
       "0             1        0     0    0     0         1          0        0   \n",
       "1             0        0     0    1     1         1          0        0   \n",
       "2             0        1     0    1     0         1          0        0   \n",
       "\n",
       "   surprise  trust  \n",
       "0         0      1  \n",
       "1         0      0  \n",
       "2         0      0  "
      ]
     },
     "execution_count": 8,
     "metadata": {},
     "output_type": "execute_result"
    }
   ],
   "source": [
    "train_df.head(3)"
   ]
  },
  {
   "cell_type": "code",
   "execution_count": 9,
   "id": "aae3c021-27d1-4a70-8c53-2a66d311252d",
   "metadata": {},
   "outputs": [
    {
     "name": "stdout",
     "output_type": "stream",
     "text": [
      "'Whatever you decide to do make sure it makes you #happy.'\n",
      "('Making that yearly transition from excited and hopeful college returner to '\n",
      " 'sick and exhausted pessimist. #college')\n",
      "('@BigLepley @angela31694996 @TheIndigoArrow Want to start a biker gang '\n",
      " 'together when the GTA Online Biker DLC comes out?')\n"
     ]
    }
   ],
   "source": [
    "from pprint import pprint\n",
    "pprint(train_df['Tweet'].values[1], width=80)\n",
    "pprint(train_df['Tweet'].values[10], width=80)\n",
    "pprint(train_df['Tweet'].values[50], width=80)"
   ]
  },
  {
   "cell_type": "code",
   "execution_count": 10,
   "id": "86c2afe4-c027-4a9d-beba-248bf11eb672",
   "metadata": {},
   "outputs": [
    {
     "data": {
      "text/plain": [
       "(7724, 13)"
      ]
     },
     "execution_count": 10,
     "metadata": {},
     "output_type": "execute_result"
    }
   ],
   "source": [
    "train_df.shape"
   ]
  },
  {
   "cell_type": "code",
   "execution_count": 11,
   "id": "37aa99cd-f8ba-4bea-9a80-277de6e0786e",
   "metadata": {},
   "outputs": [
    {
     "data": {
      "text/plain": [
       "(3259, 13)"
      ]
     },
     "execution_count": 11,
     "metadata": {},
     "output_type": "execute_result"
    }
   ],
   "source": [
    "valid_df.shape"
   ]
  },
  {
   "cell_type": "markdown",
   "id": "7f11e8c3-64aa-44be-8127-9686352fd706",
   "metadata": {},
   "source": [
    "#### Train Test Split"
   ]
  },
  {
   "cell_type": "code",
   "execution_count": 12,
   "id": "ded5c403-1a02-46fa-ab7d-8199092288bc",
   "metadata": {},
   "outputs": [],
   "source": [
    "from sklearn.model_selection import train_test_split\n",
    "\n",
    "# Split train_df into train_set (80%) and test_set (20%)\n",
    "train_set, test_set = train_test_split(train_df, test_size=0.2, random_state=1)"
   ]
  },
  {
   "cell_type": "markdown",
   "id": "7719deda-bad5-465f-9470-9936ea41e4a7",
   "metadata": {},
   "source": [
    "#### Data PreProcessing"
   ]
  },
  {
   "cell_type": "code",
   "execution_count": 13,
   "id": "8cacd496-4907-4014-abcb-3eda3ba6a4bb",
   "metadata": {},
   "outputs": [],
   "source": [
    "# !python -m spacy download en_core_web_sm"
   ]
  },
  {
   "cell_type": "code",
   "execution_count": 14,
   "id": "790a9b09-cad9-4540-8eb7-a163bd1ee05a",
   "metadata": {},
   "outputs": [],
   "source": [
    "# Load the model -en_core_web_sm\n",
    "import spacy\n",
    "\n",
    "nlp = spacy.load('en_core_web_sm')"
   ]
  },
  {
   "cell_type": "code",
   "execution_count": 15,
   "id": "b9102e4d",
   "metadata": {},
   "outputs": [],
   "source": [
    "#!pip install nltk"
   ]
  },
  {
   "cell_type": "code",
   "execution_count": 16,
   "id": "630d835b-c366-4b72-a77a-b38d97379c54",
   "metadata": {},
   "outputs": [],
   "source": [
    "from sklearn.base import BaseEstimator, TransformerMixin\n",
    "from bs4 import BeautifulSoup\n",
    "import re\n",
    "import spacy\n",
    "import numpy as np\n",
    "from nltk.stem.porter import PorterStemmer\n",
    "import os\n",
    "\n",
    "class SpacyPreprocessor(BaseEstimator, TransformerMixin):\n",
    "\n",
    "    def __init__(self, model, *, batch_size=64, lemmatize=True, lower=True, remove_stop=True,\n",
    "                 remove_punct=True, remove_email=True, remove_url=True, remove_num=False, stemming=False,\n",
    "                 add_user_mention_prefix=False, remove_hashtag_prefix=False, basic_clean_only=False):\n",
    "        \"\"\"\n",
    "        Initialize the preprocessor with options for token processing.\n",
    "        - Set add_user_mention_prefix=False to remove @mentions.\n",
    "        - Set remove_hashtag_prefix=False to keep #hashtags.\n",
    "        \"\"\"\n",
    "        self.model = model\n",
    "        self.batch_size = batch_size\n",
    "        self.remove_stop = remove_stop\n",
    "        self.remove_punct = remove_punct\n",
    "        self.remove_num = remove_num\n",
    "        self.remove_url = remove_url\n",
    "        self.remove_email = remove_email\n",
    "        self.lower = lower\n",
    "        self.add_user_mention_prefix = add_user_mention_prefix\n",
    "        self.remove_hashtag_prefix = remove_hashtag_prefix\n",
    "        self.basic_clean_only = basic_clean_only\n",
    "\n",
    "        if lemmatize and stemming:\n",
    "            raise ValueError(\"Only one of 'lemmatize' and 'stemming' can be True.\")\n",
    "\n",
    "        # Validate basic_clean_only option\n",
    "        if self.basic_clean_only and (lemmatize or lower or remove_stop or remove_punct or remove_num or stemming or\n",
    "                                      add_user_mention_prefix or remove_hashtag_prefix):\n",
    "            raise ValueError(\"If 'basic_clean_only' is set to True, other processing options must be set to False.\")\n",
    "\n",
    "        # Assign lemmatize and stemming\n",
    "        self.lemmatize = lemmatize\n",
    "        self.stemming = stemming\n",
    "\n",
    "    def basic_clean(self, text):\n",
    "        # Check if the text looks like a file path and skip BeautifulSoup if it does\n",
    "        if os.path.isfile(text):\n",
    "            return text  # If it's a file path, return as is\n",
    "        # Otherwise, clean normally using BeautifulSoup\n",
    "        soup = BeautifulSoup(text, \"html.parser\")\n",
    "        text = soup.get_text()  # Extract text without markup\n",
    "        text = re.sub(r'[\\n\\r]', ' ', text)  # Remove newline characters\n",
    "        return text.strip()\n",
    "\n",
    "    def get_cores(self):\n",
    "        \"\"\"\n",
    "        Get the number of CPU cores to use in parallel processing.\n",
    "        \"\"\"\n",
    "        num_cores = os.cpu_count()\n",
    "        if num_cores < 3:\n",
    "            use_cores = 1\n",
    "        else:\n",
    "            use_cores = num_cores // 2 + 1\n",
    "        return use_cores\n",
    "\n",
    "    def spacy_preprocessor(self, texts):\n",
    "        final_result = []\n",
    "        nlp = spacy.load(self.model)\n",
    "\n",
    "        # Disable unnecessary pipelines in spaCy model\n",
    "        if self.lemmatize:\n",
    "            disabled_pipes = ['parser', 'ner']\n",
    "        else:\n",
    "            disabled_pipes = ['tok2vec', 'tagger', 'parser', 'attribute_ruler', 'lemmatizer', 'ner']\n",
    "\n",
    "        with nlp.select_pipes(disable=disabled_pipes):\n",
    "            # Modify tokenizer behavior based on hashtag settings\n",
    "            if self.remove_hashtag_prefix:\n",
    "                prefixes = list(nlp.Defaults.prefixes)\n",
    "                prefixes.remove(r'#')  # Keep the hashtag symbol as part of the token\n",
    "                prefix_regex = spacy.util.compile_prefix_regex(prefixes)\n",
    "                nlp.tokenizer.prefix_search = prefix_regex.search\n",
    "\n",
    "            # Process text data in parallel using spaCy's nlp.pipe()\n",
    "            for doc in nlp.pipe(texts, batch_size=self.batch_size, n_process=self.get_cores()):\n",
    "                filtered_tokens = []\n",
    "                for token in doc:\n",
    "                    # Check if token should be removed based on specified filters\n",
    "                    if self.remove_stop and token.is_stop:\n",
    "                        continue\n",
    "                    if self.remove_punct and token.is_punct:\n",
    "                        continue\n",
    "                    if self.remove_num and token.like_num:\n",
    "                        continue\n",
    "                    if self.remove_url and token.like_url:\n",
    "                        continue\n",
    "                    if self.remove_email and token.like_email:\n",
    "                        continue\n",
    "                    if token.text.startswith('@'):  # Remove @mentions\n",
    "                        continue\n",
    "\n",
    "                    # Append the token's text, lemma, or stemmed form to the filtered_tokens list\n",
    "                    if self.lemmatize:\n",
    "                        filtered_tokens.append(token.lemma_)\n",
    "                    elif self.stemming:\n",
    "                        filtered_tokens.append(PorterStemmer().stem(token.text))\n",
    "                    else:\n",
    "                        filtered_tokens.append(token.text)\n",
    "\n",
    "                # Join the tokens and apply lowercasing if specified\n",
    "                text = ' '.join(filtered_tokens)\n",
    "                if self.lower:\n",
    "                    text = text.lower()\n",
    "                final_result.append(text.strip())\n",
    "\n",
    "        return final_result\n",
    "\n",
    "    def fit(self, X, y=None):\n",
    "        return self\n",
    "\n",
    "    def transform(self, X, y=None):\n",
    "        try:\n",
    "            if not isinstance(X, (list, np.ndarray)):\n",
    "                raise TypeError(f'Expected list or numpy array, got {type(X)}')\n",
    "\n",
    "            x_clean = [self.basic_clean(text).encode('utf-8', 'ignore').decode() for text in X]\n",
    "\n",
    "            # Check if only basic cleaning is required\n",
    "            if self.basic_clean_only:\n",
    "                return x_clean  # Return the list of basic-cleaned texts\n",
    "\n",
    "            x_clean_final = self.spacy_preprocessor(x_clean)\n",
    "            return x_clean_final\n",
    "\n",
    "        except Exception as error:\n",
    "            print(f'An exception occurred: {repr(error)}')\n"
   ]
  },
  {
   "cell_type": "markdown",
   "id": "be15bb48",
   "metadata": {},
   "source": [
    "#### Modifying spacy to remove @ and keep # as they might add value to the emotions in tweets"
   ]
  },
  {
   "cell_type": "code",
   "execution_count": 17,
   "id": "a42e9c60-4774-45da-8974-ba6f3db13a39",
   "metadata": {},
   "outputs": [],
   "source": [
    "# Initialize the SpacyPreprocessor. We are going to remove @ and keep the #\n",
    "preprocessor = SpacyPreprocessor(\n",
    "    model='en_core_web_sm',\n",
    "    lemmatize=True,\n",
    "    lower=True,\n",
    "    remove_stop=True,\n",
    "    remove_punct=True,\n",
    "    remove_email=True,\n",
    "    remove_url=True,\n",
    "    remove_num=False,\n",
    "    stemming=False,\n",
    "    add_user_mention_prefix=False,  # Remove @mentions\n",
    "    remove_hashtag_prefix=False     # Keep #hashtags\n",
    ")"
   ]
  },
  {
   "cell_type": "code",
   "execution_count": 18,
   "id": "9e5c64af-eab8-4331-9ad3-93ad970ee93a",
   "metadata": {},
   "outputs": [
    {
     "name": "stderr",
     "output_type": "stream",
     "text": [
      "C:\\Users\\shobh\\AppData\\Local\\Temp\\ipykernel_19828\\3860166522.py:48: MarkupResemblesLocatorWarning: The input looks more like a filename than markup. You may want to open this file and pass the filehandle into Beautiful Soup.\n",
      "  soup = BeautifulSoup(text, \"html.parser\")\n"
     ]
    }
   ],
   "source": [
    "# Apply preprocessing to the train_set (fit and transform)\n",
    "train_set['Cleaned_Reviews'] = preprocessor.fit_transform(train_set['Tweet'].values)"
   ]
  },
  {
   "cell_type": "code",
   "execution_count": 19,
   "id": "de27eca2-a0f5-44b0-aebb-29fbc16b2ee8",
   "metadata": {},
   "outputs": [
    {
     "data": {
      "text/html": [
       "<div>\n",
       "<style scoped>\n",
       "    .dataframe tbody tr th:only-of-type {\n",
       "        vertical-align: middle;\n",
       "    }\n",
       "\n",
       "    .dataframe tbody tr th {\n",
       "        vertical-align: top;\n",
       "    }\n",
       "\n",
       "    .dataframe thead th {\n",
       "        text-align: right;\n",
       "    }\n",
       "</style>\n",
       "<table border=\"1\" class=\"dataframe\">\n",
       "  <thead>\n",
       "    <tr style=\"text-align: right;\">\n",
       "      <th></th>\n",
       "      <th>ID</th>\n",
       "      <th>Tweet</th>\n",
       "      <th>anger</th>\n",
       "      <th>anticipation</th>\n",
       "      <th>disgust</th>\n",
       "      <th>fear</th>\n",
       "      <th>joy</th>\n",
       "      <th>love</th>\n",
       "      <th>optimism</th>\n",
       "      <th>pessimism</th>\n",
       "      <th>sadness</th>\n",
       "      <th>surprise</th>\n",
       "      <th>trust</th>\n",
       "      <th>Cleaned_Reviews</th>\n",
       "    </tr>\n",
       "  </thead>\n",
       "  <tbody>\n",
       "    <tr>\n",
       "      <th>3916</th>\n",
       "      <td>2017-41313</td>\n",
       "      <td>@chrislhayes It's hard for most folks to reali...</td>\n",
       "      <td>1</td>\n",
       "      <td>0</td>\n",
       "      <td>1</td>\n",
       "      <td>0</td>\n",
       "      <td>0</td>\n",
       "      <td>0</td>\n",
       "      <td>0</td>\n",
       "      <td>0</td>\n",
       "      <td>0</td>\n",
       "      <td>0</td>\n",
       "      <td>0</td>\n",
       "      <td>hard folk realize deep hatred dive murky end p...</td>\n",
       "    </tr>\n",
       "    <tr>\n",
       "      <th>3696</th>\n",
       "      <td>2017-30339</td>\n",
       "      <td>@PersephoneOD Her cheerful voice echoed throug...</td>\n",
       "      <td>0</td>\n",
       "      <td>0</td>\n",
       "      <td>0</td>\n",
       "      <td>0</td>\n",
       "      <td>1</td>\n",
       "      <td>1</td>\n",
       "      <td>1</td>\n",
       "      <td>0</td>\n",
       "      <td>0</td>\n",
       "      <td>0</td>\n",
       "      <td>0</td>\n",
       "      <td>cheerful voice echo grand familiar home smile ...</td>\n",
       "    </tr>\n",
       "    <tr>\n",
       "      <th>4067</th>\n",
       "      <td>2017-10126</td>\n",
       "      <td>@brian5or6 turn that shit off!   Home Button u...</td>\n",
       "      <td>1</td>\n",
       "      <td>0</td>\n",
       "      <td>1</td>\n",
       "      <td>0</td>\n",
       "      <td>0</td>\n",
       "      <td>0</td>\n",
       "      <td>0</td>\n",
       "      <td>0</td>\n",
       "      <td>0</td>\n",
       "      <td>0</td>\n",
       "      <td>0</td>\n",
       "      <td>turn shit    home button accessibility \\n\\nwhe...</td>\n",
       "    </tr>\n",
       "    <tr>\n",
       "      <th>3665</th>\n",
       "      <td>2017-21523</td>\n",
       "      <td>#smackdev #ptp #start oh yeah!</td>\n",
       "      <td>0</td>\n",
       "      <td>0</td>\n",
       "      <td>0</td>\n",
       "      <td>0</td>\n",
       "      <td>1</td>\n",
       "      <td>0</td>\n",
       "      <td>1</td>\n",
       "      <td>0</td>\n",
       "      <td>0</td>\n",
       "      <td>0</td>\n",
       "      <td>0</td>\n",
       "      <td>smackdev ptp start oh yeah</td>\n",
       "    </tr>\n",
       "    <tr>\n",
       "      <th>7626</th>\n",
       "      <td>2018-02014</td>\n",
       "      <td>It could be soul-crushing despair, but it also...</td>\n",
       "      <td>0</td>\n",
       "      <td>0</td>\n",
       "      <td>0</td>\n",
       "      <td>0</td>\n",
       "      <td>0</td>\n",
       "      <td>0</td>\n",
       "      <td>0</td>\n",
       "      <td>0</td>\n",
       "      <td>1</td>\n",
       "      <td>0</td>\n",
       "      <td>0</td>\n",
       "      <td>soul crush despair marshmallow breakfast</td>\n",
       "    </tr>\n",
       "  </tbody>\n",
       "</table>\n",
       "</div>"
      ],
      "text/plain": [
       "              ID                                              Tweet  anger  \\\n",
       "3916  2017-41313  @chrislhayes It's hard for most folks to reali...      1   \n",
       "3696  2017-30339  @PersephoneOD Her cheerful voice echoed throug...      0   \n",
       "4067  2017-10126  @brian5or6 turn that shit off!   Home Button u...      1   \n",
       "3665  2017-21523                     #smackdev #ptp #start oh yeah!      0   \n",
       "7626  2018-02014  It could be soul-crushing despair, but it also...      0   \n",
       "\n",
       "      anticipation  disgust  fear  joy  love  optimism  pessimism  sadness  \\\n",
       "3916             0        1     0    0     0         0          0        0   \n",
       "3696             0        0     0    1     1         1          0        0   \n",
       "4067             0        1     0    0     0         0          0        0   \n",
       "3665             0        0     0    1     0         1          0        0   \n",
       "7626             0        0     0    0     0         0          0        1   \n",
       "\n",
       "      surprise  trust                                    Cleaned_Reviews  \n",
       "3916         0      0  hard folk realize deep hatred dive murky end p...  \n",
       "3696         0      0  cheerful voice echo grand familiar home smile ...  \n",
       "4067         0      0  turn shit    home button accessibility \\n\\nwhe...  \n",
       "3665         0      0                         smackdev ptp start oh yeah  \n",
       "7626         0      0           soul crush despair marshmallow breakfast  "
      ]
     },
     "execution_count": 19,
     "metadata": {},
     "output_type": "execute_result"
    }
   ],
   "source": [
    "train_set.head()"
   ]
  },
  {
   "cell_type": "code",
   "execution_count": 20,
   "id": "86d87b27-e5e6-4f13-a02f-c25085cf358d",
   "metadata": {},
   "outputs": [
    {
     "name": "stdout",
     "output_type": "stream",
     "text": [
      "('Very long day. Thank goodness for Bake Off to brighten up a weary Wednesday '\n",
      " '☺ #GBBO')\n"
     ]
    }
   ],
   "source": [
    "pprint(train_set['Tweet'].values[100], width=80)"
   ]
  },
  {
   "cell_type": "code",
   "execution_count": 21,
   "id": "b647dbd5-08dd-4a1d-a776-72be6e4173f8",
   "metadata": {},
   "outputs": [
    {
     "name": "stdout",
     "output_type": "stream",
     "text": [
      "'long day thank goodness bake brighten weary wednesday ☺ gbbo'\n"
     ]
    }
   ],
   "source": [
    "pprint(train_set['Cleaned_Reviews'].values[100], width=80)"
   ]
  },
  {
   "cell_type": "code",
   "execution_count": 22,
   "id": "9b9f2d81-f791-45e9-b893-be4f6168be67",
   "metadata": {},
   "outputs": [
    {
     "name": "stderr",
     "output_type": "stream",
     "text": [
      "C:\\Users\\shobh\\AppData\\Local\\Temp\\ipykernel_19828\\3860166522.py:48: MarkupResemblesLocatorWarning: The input looks more like a filename than markup. You may want to open this file and pass the filehandle into Beautiful Soup.\n",
      "  soup = BeautifulSoup(text, \"html.parser\")\n",
      "C:\\Users\\shobh\\AppData\\Local\\Temp\\ipykernel_19828\\3860166522.py:48: MarkupResemblesLocatorWarning: The input looks more like a filename than markup. You may want to open this file and pass the filehandle into Beautiful Soup.\n",
      "  soup = BeautifulSoup(text, \"html.parser\")\n"
     ]
    }
   ],
   "source": [
    "# Apply preprocessing to the test_set and validation_df (transform only)\n",
    "test_set['Cleaned_Reviews'] = preprocessor.transform(test_set['Tweet'].values)\n",
    "valid_df['Cleaned_Reviews'] = preprocessor.transform(valid_df['Tweet'].values)"
   ]
  },
  {
   "cell_type": "code",
   "execution_count": 23,
   "id": "b0f086c6-60ec-48a2-bf0d-430748fefed5",
   "metadata": {},
   "outputs": [
    {
     "name": "stdout",
     "output_type": "stream",
     "text": [
      "'not worry indian army way dispatch terrorist hell'\n"
     ]
    }
   ],
   "source": [
    "pprint(valid_df['Cleaned_Reviews'].values[0], width=80)"
   ]
  },
  {
   "cell_type": "markdown",
   "id": "b9646e58-0def-4a93-8fd9-b94d3092ce49",
   "metadata": {},
   "source": [
    "### Step 3: working with HuggingFace Dataset"
   ]
  },
  {
   "cell_type": "code",
   "execution_count": 24,
   "id": "7e95c2bb-c242-4318-ad3f-8936a08fd192",
   "metadata": {},
   "outputs": [],
   "source": [
    "import pandas as pd\n",
    "from datasets import Dataset\n",
    "\n",
    "def convert_to_hf_dataset(df, text_column='Cleaned_Reviews', label_columns=None):\n",
    "    \"\"\"\n",
    "    Converts a pandas DataFrame to a Hugging Face Dataset for multi-label classification.\n",
    "    \n",
    "    Args:\n",
    "    df (pd.DataFrame): The input pandas DataFrame.\n",
    "    text_column (str): The name of the column containing the text data (default is 'Cleaned_Reviews').\n",
    "    label_columns (list): List of column names that contain the sentiment labels.\n",
    "    \n",
    "    Returns:\n",
    "    hf_dataset (datasets.Dataset): A Hugging Face Dataset ready for multi-label classification.\n",
    "    \"\"\"\n",
    "    # Ensure label_columns is provided\n",
    "    if label_columns is None:\n",
    "        raise ValueError(\"label_columns must be a list of the sentiment label columns.\")\n",
    "\n",
    "    # Remove unnecessary columns (in case 'ID' or 'Tweet' exist)\n",
    "    # Keeping only the text_column and the label_columns\n",
    "    df = df[[text_column] + label_columns]\n",
    "    \n",
    "    # Ensure labels are cast to integers\n",
    "    df[label_columns] = df[label_columns].astype(int)\n",
    "    \n",
    "    # Convert DataFrame to Hugging Face Dataset\n",
    "    hf_dataset = Dataset.from_pandas(df)\n",
    "    \n",
    "    # Define a preprocessing function to convert label columns to a list of labels\n",
    "    def preprocess_data(examples):\n",
    "        # Create a 'labels' list from the label columns for multi-label classification\n",
    "        examples['labels'] = [examples[col] for col in label_columns]\n",
    "        return examples\n",
    "\n",
    "    # Apply preprocessing to create the 'labels' column\n",
    "    hf_dataset = hf_dataset.map(preprocess_data)\n",
    "\n",
    "    # Remove the individual sentiment label columns to avoid duplication\n",
    "    hf_dataset = hf_dataset.remove_columns(label_columns)\n",
    "\n",
    "    return hf_dataset\n"
   ]
  },
  {
   "cell_type": "code",
   "execution_count": 25,
   "id": "67a21543-a2e5-4c6f-9077-848d88cbe7b9",
   "metadata": {},
   "outputs": [
    {
     "data": {
      "text/plain": [
       "Index(['ID', 'Tweet', 'anger', 'anticipation', 'disgust', 'fear', 'joy',\n",
       "       'love', 'optimism', 'pessimism', 'sadness', 'surprise', 'trust',\n",
       "       'Cleaned_Reviews'],\n",
       "      dtype='object')"
      ]
     },
     "execution_count": 25,
     "metadata": {},
     "output_type": "execute_result"
    }
   ],
   "source": [
    "train_set.columns"
   ]
  },
  {
   "cell_type": "code",
   "execution_count": 26,
   "id": "69d2e3f0-b707-40d5-a8e7-c736af2a4c21",
   "metadata": {},
   "outputs": [
    {
     "name": "stderr",
     "output_type": "stream",
     "text": [
      "C:\\Users\\shobh\\AppData\\Local\\Temp\\ipykernel_19828\\1091016352.py:25: SettingWithCopyWarning: \n",
      "A value is trying to be set on a copy of a slice from a DataFrame.\n",
      "Try using .loc[row_indexer,col_indexer] = value instead\n",
      "\n",
      "See the caveats in the documentation: https://pandas.pydata.org/pandas-docs/stable/user_guide/indexing.html#returning-a-view-versus-a-copy\n",
      "  df[label_columns] = df[label_columns].astype(int)\n",
      "Map: 100%|██████████| 6179/6179 [00:01<00:00, 4059.98 examples/s]\n",
      "C:\\Users\\shobh\\AppData\\Local\\Temp\\ipykernel_19828\\1091016352.py:25: SettingWithCopyWarning: \n",
      "A value is trying to be set on a copy of a slice from a DataFrame.\n",
      "Try using .loc[row_indexer,col_indexer] = value instead\n",
      "\n",
      "See the caveats in the documentation: https://pandas.pydata.org/pandas-docs/stable/user_guide/indexing.html#returning-a-view-versus-a-copy\n",
      "  df[label_columns] = df[label_columns].astype(int)\n",
      "Map: 100%|██████████| 1545/1545 [00:00<00:00, 4142.08 examples/s]\n"
     ]
    }
   ],
   "source": [
    "# Defining the label columns (the multi-label sentiment categories)\n",
    "label_columns = ['anger', 'anticipation', 'disgust', 'fear', 'joy', 'love', \n",
    "                 'optimism', 'pessimism', 'sadness', 'surprise', 'trust']\n",
    "\n",
    "\n",
    "# Convert train_set DataFrame to a Hugging Face Dataset\n",
    "hf_train_set = convert_to_hf_dataset(train_set,\n",
    "                                   text_column='Cleaned_Reviews',\n",
    "                                   label_columns=label_columns)\n",
    "\n",
    "\n",
    "# Convert Test_set DataFrame to a Hugging Face Dataset\n",
    "hf_test_set = convert_to_hf_dataset(test_set,\n",
    "                                    text_column='Cleaned_Reviews',\n",
    "                                    label_columns=label_columns)"
   ]
  },
  {
   "cell_type": "code",
   "execution_count": 27,
   "id": "9f650e2a-7b3f-4df9-ae8a-601bcb1086a8",
   "metadata": {},
   "outputs": [
    {
     "name": "stdout",
     "output_type": "stream",
     "text": [
      "{'Cleaned_Reviews': 'hard folk realize deep hatred dive murky end pool guy nuts', '__index_level_0__': 3916, 'labels': [1, 0, 1, 0, 0, 0, 0, 0, 0, 0, 0]}\n"
     ]
    }
   ],
   "source": [
    "print(hf_train_set[0])"
   ]
  },
  {
   "cell_type": "code",
   "execution_count": 28,
   "id": "e1b1a93c-d316-416d-9334-c62f83ebb56b",
   "metadata": {},
   "outputs": [
    {
     "data": {
      "text/plain": [
       "Dataset({\n",
       "    features: ['Cleaned_Reviews', '__index_level_0__', 'labels'],\n",
       "    num_rows: 6179\n",
       "})"
      ]
     },
     "execution_count": 28,
     "metadata": {},
     "output_type": "execute_result"
    }
   ],
   "source": [
    "hf_train_set"
   ]
  },
  {
   "cell_type": "code",
   "execution_count": 29,
   "id": "94b45b9f-e1ba-473a-b8ec-59c9448ce8e5",
   "metadata": {},
   "outputs": [
    {
     "data": {
      "text/plain": [
       "Dataset({\n",
       "    features: ['Cleaned_Reviews', '__index_level_0__', 'labels'],\n",
       "    num_rows: 1545\n",
       "})"
      ]
     },
     "execution_count": 29,
     "metadata": {},
     "output_type": "execute_result"
    }
   ],
   "source": [
    "hf_test_set"
   ]
  },
  {
   "cell_type": "code",
   "execution_count": 30,
   "id": "d36d02ff-bd70-4e8b-9408-e3a5f15e2aff",
   "metadata": {},
   "outputs": [
    {
     "data": {
      "text/plain": [
       "{'Cleaned_Reviews': Value(dtype='string', id=None),\n",
       " '__index_level_0__': Value(dtype='int64', id=None),\n",
       " 'labels': Sequence(feature=Value(dtype='int64', id=None), length=-1, id=None)}"
      ]
     },
     "execution_count": 30,
     "metadata": {},
     "output_type": "execute_result"
    }
   ],
   "source": [
    "hf_train_set.features"
   ]
  },
  {
   "cell_type": "code",
   "execution_count": 31,
   "id": "adf570b0-49b0-4678-b1a0-fb6e58de35b4",
   "metadata": {},
   "outputs": [
    {
     "data": {
      "text/plain": [
       "{'Cleaned_Reviews': Value(dtype='string', id=None),\n",
       " 'labels': Sequence(feature=Value(dtype='int64', id=None), length=-1, id=None)}"
      ]
     },
     "execution_count": 31,
     "metadata": {},
     "output_type": "execute_result"
    }
   ],
   "source": [
    "hf_train_set = hf_train_set.remove_columns(['__index_level_0__'])\n",
    "hf_train_set.features"
   ]
  },
  {
   "cell_type": "code",
   "execution_count": 32,
   "id": "dfc6796c-4ce4-4903-8494-4354f1bc545a",
   "metadata": {},
   "outputs": [
    {
     "data": {
      "text/plain": [
       "{'Cleaned_Reviews': Value(dtype='string', id=None),\n",
       " 'labels': Sequence(feature=Value(dtype='int64', id=None), length=-1, id=None)}"
      ]
     },
     "execution_count": 32,
     "metadata": {},
     "output_type": "execute_result"
    }
   ],
   "source": [
    "hf_test_set = hf_test_set.remove_columns(['__index_level_0__'])\n",
    "hf_test_set.features"
   ]
  },
  {
   "cell_type": "code",
   "execution_count": 33,
   "id": "a06bef2b-1af1-4d63-8571-5e85db54d163",
   "metadata": {},
   "outputs": [
    {
     "data": {
      "text/plain": [
       "'hard folk realize deep hatred dive murky end pool guy nuts'"
      ]
     },
     "execution_count": 33,
     "metadata": {},
     "output_type": "execute_result"
    }
   ],
   "source": [
    "hf_train_set[0]['Cleaned_Reviews']"
   ]
  },
  {
   "cell_type": "code",
   "execution_count": 34,
   "id": "d4f8e0e7-bd90-4d9b-aa18-36858f96295a",
   "metadata": {},
   "outputs": [
    {
     "name": "stdout",
     "output_type": "stream",
     "text": [
      "{'Cleaned_Reviews': 'not worry indian army way dispatch terrorist hell'}\n"
     ]
    }
   ],
   "source": [
    "# Converting the Validation set to Hugging Face Dataset.\n",
    "# Only keep the 'Tweet' column (since we are predicting and don’t have labels)\n",
    "valid_df = valid_df[['Cleaned_Reviews']]\n",
    "\n",
    "# Convert the DataFrame to a Hugging Face Dataset\n",
    "hf_valid_dataset = Dataset.from_pandas(valid_df)\n",
    "\n",
    "# Check the dataset\n",
    "print(hf_valid_dataset[0])"
   ]
  },
  {
   "cell_type": "code",
   "execution_count": 35,
   "id": "09f0c71e-8392-4fa5-837e-ad28aeaf2430",
   "metadata": {},
   "outputs": [
    {
     "name": "stdout",
     "output_type": "stream",
     "text": [
      "{'Cleaned_Reviews': 'long day thank goodness bake brighten weary wednesday ☺ gbbo', 'labels': [0, 1, 0, 0, 1, 0, 1, 0, 0, 0, 1]}\n",
      "{'Cleaned_Reviews': 'mom work discount riot f ticket $ 147/3 day sadden', 'labels': [0, 0, 1, 0, 0, 0, 0, 1, 1, 0, 0]}\n"
     ]
    }
   ],
   "source": [
    "print(hf_train_set[100])  # Check the structure of the first training sample\n",
    "print(hf_test_set[100])   # Check the structure of the first test sample\n",
    "\n"
   ]
  },
  {
   "cell_type": "markdown",
   "id": "31ef4124-2842-4d2b-a88b-afc5929db2a2",
   "metadata": {},
   "source": [
    "### Step 4: Creating the Vocab"
   ]
  },
  {
   "cell_type": "code",
   "execution_count": 36,
   "id": "af9b2386-1076-4bcf-8e0c-33b4b21e4e6a",
   "metadata": {},
   "outputs": [],
   "source": [
    "from collections import Counter, OrderedDict\n",
    "from typing import Dict, List, Optional, Union\n",
    "\n",
    "class Vocab:\n",
    "    def __init__(self, tokens: List[str]) -> None:\n",
    "        self.itos: List[str] = tokens  # List of tokens (indices to strings)\n",
    "        self.stoi: Dict[str, int] = {token: i for i, token in enumerate(tokens)}  # Map tokens to indices\n",
    "        self.default_index: Optional[int] = None  # Index for unknown tokens\n",
    "\n",
    "    def __getitem__(self, token: str) -> int:\n",
    "        # Return the index of the token, or the default index if it's unknown\n",
    "        if token in self.stoi:\n",
    "            return self.stoi[token]\n",
    "        if self.default_index is not None:\n",
    "            return self.default_index\n",
    "        raise RuntimeError(f\"Token '{token}' not found in vocab\")\n",
    "\n",
    "    def __len__(self) -> int:\n",
    "        return len(self.itos)\n",
    "\n",
    "    def insert_token(self, token: str, index: int) -> None:\n",
    "        # Insert token at a specific index in the vocab\n",
    "        if index < 0 or index > len(self.itos):\n",
    "            raise ValueError(\"Index out of range\")\n",
    "        if token in self.stoi:\n",
    "            old_index = self.stoi[token]\n",
    "            self.itos.pop(old_index)\n",
    "            self.itos.insert(index, token)\n",
    "        else:\n",
    "            self.itos.insert(index, token)\n",
    "        self.stoi = {token: i for i, token in enumerate(self.itos)}\n",
    "\n",
    "    def append_token(self, token: str) -> None:\n",
    "        # Append a token to the vocab\n",
    "        if token in self.stoi:\n",
    "            raise RuntimeError(f\"Token '{token}' already exists in the vocab\")\n",
    "        self.insert_token(token, len(self.itos))\n",
    "\n",
    "    def set_default_index(self, index: Optional[int]) -> None:\n",
    "        self.default_index = index\n",
    "\n",
    "    def get_default_index(self) -> Optional[int]:\n",
    "        return self.default_index\n",
    "\n",
    "    def lookup_token(self, index: int) -> str:\n",
    "        # Return the token given its index\n",
    "        if 0 <= index < len(self.itos):\n",
    "            return self.itos[index]\n",
    "        raise RuntimeError(f\"Index {index} out of range\")\n",
    "\n",
    "    def lookup_tokens(self, indices: List[int]) -> List[str]:\n",
    "        # Return a list of tokens given a list of indices\n",
    "        return [self.lookup_token(index) for index in indices]\n",
    "\n",
    "    def lookup_indices(self, tokens: List[str]) -> List[int]:\n",
    "        # Return a list of indices given a list of tokens\n",
    "        return [self[token] for token in tokens]\n",
    "\n",
    "    def get_stoi(self) -> Dict[str, int]:\n",
    "        return self.stoi.copy()\n",
    "\n",
    "    def get_itos(self) -> List[str]:\n",
    "        return self.itos.copy()\n",
    "\n",
    "    @classmethod\n",
    "    def vocab(cls, ordered_dict: Union[OrderedDict, Counter], min_freq: int = 1, specials: Optional[List[str]] = None, special_first: bool = True) -> 'Vocab':\n",
    "        specials = specials or []\n",
    "        for token in specials:\n",
    "            ordered_dict.pop(token, None)\n",
    "        tokens = [token for token, freq in ordered_dict.items() if freq >= min_freq]\n",
    "        if special_first:\n",
    "            tokens = specials + tokens\n",
    "        else:\n",
    "            tokens = tokens + specials\n",
    "        return cls(tokens)\n"
   ]
  },
  {
   "cell_type": "code",
   "execution_count": 37,
   "id": "650a6bc4-281b-42e7-b1b4-ebe348abe72e",
   "metadata": {},
   "outputs": [],
   "source": [
    "# Function to create a vocabulary from the dataset\n",
    "def get_vocab(dataset, min_freq=1):\n",
    "    counter = Counter()\n",
    "    \n",
    "    # Count frequencies of tokens in the dataset\n",
    "    for text in dataset['Cleaned_Reviews']:  # Assuming 'Cleaned_Reviews' is the preprocessed text column\n",
    "        counter.update(str(text).split())\n",
    "\n",
    "    # Create vocabulary using the Counter object\n",
    "    my_vocab = Vocab.vocab(counter, min_freq=min_freq)\n",
    "    \n",
    "    # Insert the unknown token <unk> at index 0\n",
    "    my_vocab.insert_token('<unk>', 0)\n",
    "    \n",
    "    # Set the default index to 0 (for unknown tokens)\n",
    "    my_vocab.set_default_index(0)\n",
    "    \n",
    "    return my_vocab\n",
    "\n",
    "# Create the vocabulary using the trainset\n",
    "emotion_vocab = get_vocab(train_set, min_freq=2)\n"
   ]
  },
  {
   "cell_type": "markdown",
   "id": "91f15bfd-7069-46d3-acba-9fdb384ae976",
   "metadata": {},
   "source": [
    "### Step 5: Defining Custom Model and Model Config Class"
   ]
  },
  {
   "cell_type": "code",
   "execution_count": 38,
   "id": "755512ff-9e51-464a-a1a3-4cdee76f9de7",
   "metadata": {},
   "outputs": [],
   "source": [
    "from transformers import PretrainedConfig\n",
    "\n",
    "# CustomConfig class to define model-specific hyperparameters\n",
    "class CustomConfig(PretrainedConfig):\n",
    "    def __init__(self, vocab_size=0, embedding_dim=0, hidden_dim1=0, hidden_dim2=0, num_labels=2, **kwargs):\n",
    "        super().__init__()\n",
    "        self.vocab_size = vocab_size\n",
    "        self.embedding_dim = embedding_dim\n",
    "        self.hidden_dim1 = hidden_dim1\n",
    "        self.hidden_dim2 = hidden_dim2\n",
    "        self.num_labels = num_labels"
   ]
  },
  {
   "cell_type": "code",
   "execution_count": 39,
   "id": "162971a8-c7e0-4567-be11-0acfc66fbf68",
   "metadata": {},
   "outputs": [],
   "source": [
    "import torch.nn as nn\n",
    "from transformers import PreTrainedModel\n",
    "from transformers.modeling_outputs import SequenceClassifierOutput\n",
    "\n",
    "# CustomMLP class for the multi-layer perceptron model\n",
    "class CustomMLP(PreTrainedModel):\n",
    "    config_class = CustomConfig\n",
    "\n",
    "    def __init__(self, config):\n",
    "        super().__init__(config)\n",
    "\n",
    "        # EmbeddingBag layer to handle text embeddings\n",
    "        self.embedding_bag = nn.EmbeddingBag(config.vocab_size, config.embedding_dim)\n",
    "\n",
    "        # Sequential model containing multiple layers\n",
    "        self.layers = nn.Sequential(\n",
    "            nn.Linear(config.embedding_dim, config.hidden_dim1),\n",
    "            nn.BatchNorm1d(num_features=config.hidden_dim1),\n",
    "            nn.ReLU(),\n",
    "            nn.Dropout(p=0.5),\n",
    "            nn.Linear(config.hidden_dim1, config.hidden_dim2),\n",
    "            nn.BatchNorm1d(num_features=config.hidden_dim2),\n",
    "            nn.ReLU(),\n",
    "            nn.Dropout(p=0.5),\n",
    "            nn.Linear(config.hidden_dim2, config.num_labels)  # Output layer with logits for each emotion label\n",
    "        )\n",
    "\n",
    "    def forward(self, input_ids, offsets, labels=None):\n",
    "        # Get embeddings from input tokens\n",
    "        embed_out = self.embedding_bag(input_ids, offsets)\n",
    "\n",
    "        # Pass through the layers to get logits\n",
    "        logits = self.layers(embed_out)\n",
    "\n",
    "        # Calculate loss if labels are provided (for training)\n",
    "        loss = None\n",
    "        if labels is not None:\n",
    "            loss_fct = nn.BCEWithLogitsLoss()  # Binary Cross-Entropy for multi-label classification\n",
    "            loss = loss_fct(logits, labels.float())  # Convert labels to float\n",
    "\n",
    "        # Return loss and logits\n",
    "        return SequenceClassifierOutput(\n",
    "            loss=loss,\n",
    "            logits=logits\n",
    "        )\n"
   ]
  },
  {
   "cell_type": "markdown",
   "id": "54389269-77b0-4fb8-92a3-3ea1f3e100f6",
   "metadata": {},
   "source": [
    "#### Collate Function"
   ]
  },
  {
   "cell_type": "code",
   "execution_count": 40,
   "id": "71aae16b-547f-47bc-ad86-7ce9e4e8aa4e",
   "metadata": {},
   "outputs": [],
   "source": [
    "# Tokenizer function to convert text into a list of token indices based on the vocabulary\n",
    "def tokenizer(text, vocab):\n",
    "    \"\"\"Converts text to a list of indices using a vocabulary dictionary\"\"\"\n",
    "    return [vocab[token] for token in str(text).split()]  # Split text into tokens and map each to an index\n"
   ]
  },
  {
   "cell_type": "code",
   "execution_count": 41,
   "id": "34d4eabd-2905-4297-8d64-b64a711b5089",
   "metadata": {},
   "outputs": [],
   "source": [
    "import torch\n",
    "\n",
    "def collate_batch(batch, my_vocab):\n",
    "    \"\"\"\n",
    "    Prepares a batch of data by transforming texts into indices based on a vocabulary and\n",
    "    converting labels into a tensor.\n",
    "\n",
    "    Args:\n",
    "        batch (list of dict): A batch of data where each element is a dictionary with keys\n",
    "                              'labels' and 'Cleaned_Reviews'. 'labels' are the emotion labels,\n",
    "                              and 'Cleaned_Reviews' are the corresponding texts (tweets).\n",
    "        my_vocab (Vocab): The vocabulary object that maps tokens to indices.\n",
    "\n",
    "    Returns:\n",
    "        dict: A dictionary with three keys:\n",
    "              - 'input_ids': A tensor containing concatenated indices of the texts.\n",
    "              - 'offsets': A tensor representing the starting index of each text in 'input_ids'.\n",
    "              - 'labels': A tensor of the labels for each text in the batch.\n",
    "    \"\"\"\n",
    "\n",
    "    # Extract labels and texts from the batch\n",
    "    labels = [sample['labels'] for sample in batch]  # Multi-labels (binary vectors for emotions)\n",
    "    texts = [sample['Cleaned_Reviews'] for sample in batch]  # Texts (tweets)\n",
    "\n",
    "    # Convert the list of labels into a tensor (dtype float32 for multi-label classification)\n",
    "    labels = torch.tensor(labels, dtype=torch.float32)\n",
    "\n",
    "    # Convert the list of texts into a list of token indices using the tokenizer\n",
    "    list_of_list_of_indices = [tokenizer(text, my_vocab) for text in texts]\n",
    "\n",
    "    # Concatenate all token indices into a single tensor (input_ids)\n",
    "    input_ids = torch.cat([torch.tensor(i, dtype=torch.int64) for i in list_of_list_of_indices])\n",
    "\n",
    "    # Compute the offsets for each text in the concatenated tensor\n",
    "    offsets = [0] + [len(i) for i in list_of_list_of_indices]\n",
    "    offsets = torch.tensor(offsets[:-1]).cumsum(dim=0)\n",
    "\n",
    "    return {\n",
    "        'input_ids': input_ids,  # Flattened input tokens\n",
    "        'offsets': offsets,  # Offsets to keep track of the start of each tweet\n",
    "        'labels': labels  # Multi-labels (emotion binary vectors)\n",
    "    }\n"
   ]
  },
  {
   "cell_type": "code",
   "execution_count": 42,
   "id": "0c337459-9cf5-4068-9b99-b53972c230ba",
   "metadata": {},
   "outputs": [],
   "source": [
    "collate_fn = partial(collate_batch, my_vocab=emotion_vocab)\n",
    "# processed_batch = collate_fn(batch)"
   ]
  },
  {
   "cell_type": "markdown",
   "id": "b12a79bb-a2a3-48c3-b6a4-9f9e3d0268d5",
   "metadata": {},
   "source": [
    "#### Instantiate Model"
   ]
  },
  {
   "cell_type": "code",
   "execution_count": 43,
   "id": "6d572457-7745-4227-be2a-7bb33c5bf70c",
   "metadata": {},
   "outputs": [],
   "source": [
    "# Instantiate the configuration after the vocabulary is created\n",
    "my_config = CustomConfig(\n",
    "    vocab_size=len(emotion_vocab),  # Use the size of the vocabulary generated above\n",
    "    embedding_dim=300,  # Embedding dimension\n",
    "    hidden_dim1=200,  # First hidden layer size\n",
    "    hidden_dim2=100,  # Second hidden layer size\n",
    "    num_labels=11  # Number of emotion labels\n",
    ")\n",
    "\n",
    "# Map label indices to emotion classes\n",
    "my_config.id2label = {\n",
    "    0: 'anger', 1: 'anticipation', 2: 'disgust', 3: 'fear', 4: 'joy', \n",
    "    5: 'love', 6: 'optimism', 7: 'pessimism', 8: 'sadness', 9: 'surprise', 10: 'trust'\n",
    "}\n",
    "\n",
    "# Reverse the mapping to create label2id\n",
    "my_config.label2id = {v: k for k, v in my_config.id2label.items()}\n"
   ]
  },
  {
   "cell_type": "code",
   "execution_count": 44,
   "id": "c5ef032a-480a-4ad9-8a56-f1daf7054485",
   "metadata": {},
   "outputs": [
    {
     "data": {
      "text/plain": [
       "CustomConfig {\n",
       "  \"embedding_dim\": 300,\n",
       "  \"hidden_dim1\": 200,\n",
       "  \"hidden_dim2\": 100,\n",
       "  \"id2label\": {\n",
       "    \"0\": \"anger\",\n",
       "    \"1\": \"anticipation\",\n",
       "    \"2\": \"disgust\",\n",
       "    \"3\": \"fear\",\n",
       "    \"4\": \"joy\",\n",
       "    \"5\": \"love\",\n",
       "    \"6\": \"optimism\",\n",
       "    \"7\": \"pessimism\",\n",
       "    \"8\": \"sadness\",\n",
       "    \"9\": \"surprise\",\n",
       "    \"10\": \"trust\"\n",
       "  },\n",
       "  \"label2id\": {\n",
       "    \"anger\": 0,\n",
       "    \"anticipation\": 1,\n",
       "    \"disgust\": 2,\n",
       "    \"fear\": 3,\n",
       "    \"joy\": 4,\n",
       "    \"love\": 5,\n",
       "    \"optimism\": 6,\n",
       "    \"pessimism\": 7,\n",
       "    \"sadness\": 8,\n",
       "    \"surprise\": 9,\n",
       "    \"trust\": 10\n",
       "  },\n",
       "  \"transformers_version\": \"4.45.1\",\n",
       "  \"vocab_size\": 4988\n",
       "}"
      ]
     },
     "execution_count": 44,
     "metadata": {},
     "output_type": "execute_result"
    }
   ],
   "source": [
    "my_config"
   ]
  },
  {
   "cell_type": "code",
   "execution_count": 45,
   "id": "f9bcbbc4-991c-487e-b533-f60227efdad9",
   "metadata": {},
   "outputs": [
    {
     "name": "stdout",
     "output_type": "stream",
     "text": [
      "CustomMLP(\n",
      "  (embedding_bag): EmbeddingBag(4988, 300, mode='mean')\n",
      "  (layers): Sequential(\n",
      "    (0): Linear(in_features=300, out_features=200, bias=True)\n",
      "    (1): BatchNorm1d(200, eps=1e-05, momentum=0.1, affine=True, track_running_stats=True)\n",
      "    (2): ReLU()\n",
      "    (3): Dropout(p=0.5, inplace=False)\n",
      "    (4): Linear(in_features=200, out_features=100, bias=True)\n",
      "    (5): BatchNorm1d(100, eps=1e-05, momentum=0.1, affine=True, track_running_stats=True)\n",
      "    (6): ReLU()\n",
      "    (7): Dropout(p=0.5, inplace=False)\n",
      "    (8): Linear(in_features=100, out_features=11, bias=True)\n",
      "  )\n",
      ")\n"
     ]
    }
   ],
   "source": [
    "# Instantiate the model using the configuration\n",
    "model = CustomMLP(config=my_config)\n",
    "\n",
    "# Print the model architecture to check everything is set up correctly\n",
    "print(model)"
   ]
  },
  {
   "cell_type": "markdown",
   "id": "b6f51229-0f7f-4505-9700-535726e188d2",
   "metadata": {},
   "source": [
    "### Step 6: Compute_Metrics Function"
   ]
  },
  {
   "cell_type": "code",
   "execution_count": 46,
   "id": "ef03a6e1-9285-48ab-8bfc-0634c38911ca",
   "metadata": {},
   "outputs": [],
   "source": [
    "import numpy as np\n",
    "import evaluate\n",
    "import torch\n",
    "\n",
    "# Define the compute_metrics function\n",
    "def compute_metrics(eval_pred):\n",
    "    # Unpack predictions and labels\n",
    "    logits, labels = eval_pred\n",
    "\n",
    "    # Apply sigmoid to logits for multi-label classification (to get probabilities)\n",
    "    sigmoid_logits = torch.sigmoid(torch.tensor(logits))\n",
    "\n",
    "    # Convert logits to predictions (1 if > 0.5, else 0)\n",
    "    predictions = (sigmoid_logits > 0.5).int()\n",
    "\n",
    "    # Convert labels to int if they are in float\n",
    "    labels = torch.tensor(labels).int()\n",
    "\n",
    "    # Flatten both predictions and labels for metric calculation\n",
    "    predictions = predictions.view(-1).cpu().numpy()\n",
    "    labels = labels.view(-1).cpu().numpy()\n",
    "\n",
    "    # Load evaluation metrics\n",
    "    accuracy_metric = evaluate.load(\"accuracy\")\n",
    "    f1_metric = evaluate.load(\"f1\", average=\"macro\")  # Macro F1-score for multi-label classification\n",
    "    precision_metric = evaluate.load(\"precision\", average=\"macro\")  # Precision\n",
    "    recall_metric = evaluate.load(\"recall\", average=\"macro\")  # Recall\n",
    "\n",
    "    # Compute the accuracy\n",
    "    accuracy = accuracy_metric.compute(predictions=predictions, references=labels)\n",
    "\n",
    "    # Compute the F1-score\n",
    "    f1_score = f1_metric.compute(predictions=predictions, references=labels)\n",
    "\n",
    "    # Compute precision and recall\n",
    "    precision = precision_metric.compute(predictions=predictions, references=labels)\n",
    "    recall = recall_metric.compute(predictions=predictions, references=labels)\n",
    "\n",
    "    # Return accuracy, F1 score, precision, and recall\n",
    "    return {\n",
    "        \"accuracy\": accuracy[\"accuracy\"],\n",
    "        \"f1_score\": f1_score[\"f1\"],\n",
    "        \"precision\": precision[\"precision\"],\n",
    "        \"recall\": recall[\"recall\"]\n",
    "    }"
   ]
  },
  {
   "cell_type": "markdown",
   "id": "ca599bd6-182f-47f4-a6ce-ef960ba61645",
   "metadata": {},
   "source": [
    "### Step 7: Training Arguments"
   ]
  },
  {
   "cell_type": "code",
   "execution_count": 47,
   "id": "0b33f513-23d2-4e6b-a0ef-93e212d23fb8",
   "metadata": {},
   "outputs": [],
   "source": [
    "from transformers import TrainingArguments\n",
    "\n",
    "# Configure training parameters for the Emotion Detection task\n",
    "training_args = TrainingArguments(\n",
    "\n",
    "    # Training-specific configurations\n",
    "    num_train_epochs=25,  # Number of epochs\n",
    "    per_device_train_batch_size=32,  # Batch size for training\n",
    "    per_device_eval_batch_size=32,  # Batch size for evaluation\n",
    "    weight_decay=0.1,  # L2 regularization\n",
    "    learning_rate=0.001,  # Learning rate\n",
    "    optim='adamw_torch',  # Optimizer\n",
    "    remove_unused_columns=False,  # Keep all columns in the dataset\n",
    "\n",
    "    # Checkpoint saving and model evaluation settings\n",
    "    output_dir=\"./emotion_results\",  # Directory to save checkpoints and outputs\n",
    "    eval_strategy='steps',  # Use `eval_strategy` instead of `evaluation_strategy`\n",
    "    eval_steps=100,  # Perform evaluation every 100 training steps\n",
    "    save_strategy=\"steps\",  # Save model checkpoints periodically\n",
    "    save_steps=100,  # Save a model checkpoint every 100 training steps\n",
    "    load_best_model_at_end=True,  # Reload the best model at the end of training\n",
    "    save_total_limit=3,  # Retain only the best 3 models\n",
    "\n",
    "    # Evaluation and model comparison settings\n",
    "    metric_for_best_model=\"f1_score\",  # Use F1 score as the metric for the best model\n",
    "    greater_is_better=True,  # A higher F1 score is better\n",
    "\n",
    "    # Experiment logging configurations\n",
    "    logging_strategy='steps',  # Log metrics and loss periodically during training\n",
    "    logging_steps=50,  # Log every 50 training steps\n",
    "    report_to='wandb',  # Use Weights & Biases for logging\n",
    "    run_name='emotion_detection_trainer',  # Name of the experiment for Weights & Biases\n",
    ")\n"
   ]
  },
  {
   "cell_type": "code",
   "execution_count": 48,
   "metadata": {},
   "outputs": [],
   "source": [
    "# !python -m pip install --upgrade pip"
   ]
  },
  {
   "cell_type": "code",
   "execution_count": 49,
   "metadata": {},
   "outputs": [],
   "source": [
    "# !pip install torch transformers datasets evaluate wandb scikit-learn matplotlib seaborn joblib beautifulsoup4 spacy"
   ]
  },
  {
   "cell_type": "code",
   "execution_count": 50,
   "metadata": {},
   "outputs": [],
   "source": [
    "# !python -m spacy download en_core_web_sm"
   ]
  },
  {
   "cell_type": "code",
   "execution_count": 51,
   "id": "85a9c537-cefb-4d18-ae7f-494397d6170e",
   "metadata": {},
   "outputs": [],
   "source": [
    "## Initialize Trainer\n",
    "from transformers import Trainer\n",
    "\n",
    "# Initialize the Trainer\n",
    "trainer = Trainer(\n",
    "    model=model,  # The model we instantiated (CustomMLP)\n",
    "    args=training_args,  # The training arguments we just defined\n",
    "    train_dataset=hf_train_set,  # The training dataset (ensure it's preprocessed)\n",
    "    eval_dataset=hf_test_set,  # The validation dataset for evaluation during training\n",
    "    data_collator=collate_fn,  # Function to collate batches (defined earlier)\n",
    "    compute_metrics=compute_metrics  # Function to compute metrics (defined earlier)\n",
    ")"
   ]
  },
  {
   "cell_type": "markdown",
   "id": "2dd636ad-3f0a-46ab-bc41-34f0345bcb42",
   "metadata": {},
   "source": [
    "#### Setup Weight and Bias"
   ]
  },
  {
   "cell_type": "code",
   "execution_count": 52,
   "id": "016ced41-43d9-48e1-98c0-6356bb44a7e7",
   "metadata": {},
   "outputs": [
    {
     "name": "stderr",
     "output_type": "stream",
     "text": [
      "\u001b[34m\u001b[1mwandb\u001b[0m: Using wandb-core as the SDK backend. Please refer to https://wandb.me/wandb-core for more information.\n",
      "\u001b[34m\u001b[1mwandb\u001b[0m: Currently logged in as: \u001b[33mshobhit-pachauri\u001b[0m (\u001b[33mshobhit-pachauri-university-of-texas-at-dallas\u001b[0m). Use \u001b[1m`wandb login --relogin`\u001b[0m to force relogin\n"
     ]
    },
    {
     "data": {
      "text/plain": [
       "True"
      ]
     },
     "execution_count": 52,
     "metadata": {},
     "output_type": "execute_result"
    }
   ],
   "source": [
    "import wandb\n",
    "\n",
    "# Log into WandB\n",
    "wandb.login()"
   ]
  },
  {
   "cell_type": "code",
   "execution_count": 53,
   "id": "e947fa91-b69c-401f-96b0-9b1623ec253f",
   "metadata": {},
   "outputs": [],
   "source": [
    "import os\n",
    "\n",
    "# Set the WandB project name (adjust for your task)\n",
    "os.environ[\"WANDB_PROJECT\"] = \"emotion_detection_fall_2024\""
   ]
  },
  {
   "cell_type": "markdown",
   "id": "be61b02e-34f0-48f1-a4b5-237c320aab5a",
   "metadata": {},
   "source": [
    "### Step 7: Training and Validation"
   ]
  },
  {
   "cell_type": "code",
   "execution_count": 54,
   "id": "9632546e-4e87-4c33-9c1b-7c23c1259aa7",
   "metadata": {},
   "outputs": [
    {
     "data": {
      "text/html": [
       "Changes to your `wandb` environment variables will be ignored because your `wandb` session has already started. For more information on how to modify your settings with `wandb.init()` arguments, please refer to <a href='https://wandb.me/wandb-init' target=\"_blank\">the W&B docs</a>."
      ],
      "text/plain": [
       "<IPython.core.display.HTML object>"
      ]
     },
     "metadata": {},
     "output_type": "display_data"
    },
    {
     "data": {
      "text/html": [
       "Tracking run with wandb version 0.18.3"
      ],
      "text/plain": [
       "<IPython.core.display.HTML object>"
      ]
     },
     "metadata": {},
     "output_type": "display_data"
    },
    {
     "data": {
      "text/html": [
       "Run data is saved locally in <code>d:\\University\\NLP\\assignment 5\\wandb\\run-20241006_134157-4slig96p</code>"
      ],
      "text/plain": [
       "<IPython.core.display.HTML object>"
      ]
     },
     "metadata": {},
     "output_type": "display_data"
    },
    {
     "data": {
      "text/html": [
       "Syncing run <strong><a href='https://wandb.ai/shobhit-pachauri-university-of-texas-at-dallas/emotion_detection_fall_2024/runs/4slig96p' target=\"_blank\">emotion_detection_trainer</a></strong> to <a href='https://wandb.ai/shobhit-pachauri-university-of-texas-at-dallas/emotion_detection_fall_2024' target=\"_blank\">Weights & Biases</a> (<a href='https://wandb.me/run' target=\"_blank\">docs</a>)<br/>"
      ],
      "text/plain": [
       "<IPython.core.display.HTML object>"
      ]
     },
     "metadata": {},
     "output_type": "display_data"
    },
    {
     "data": {
      "text/html": [
       " View project at <a href='https://wandb.ai/shobhit-pachauri-university-of-texas-at-dallas/emotion_detection_fall_2024' target=\"_blank\">https://wandb.ai/shobhit-pachauri-university-of-texas-at-dallas/emotion_detection_fall_2024</a>"
      ],
      "text/plain": [
       "<IPython.core.display.HTML object>"
      ]
     },
     "metadata": {},
     "output_type": "display_data"
    },
    {
     "data": {
      "text/html": [
       " View run at <a href='https://wandb.ai/shobhit-pachauri-university-of-texas-at-dallas/emotion_detection_fall_2024/runs/4slig96p' target=\"_blank\">https://wandb.ai/shobhit-pachauri-university-of-texas-at-dallas/emotion_detection_fall_2024/runs/4slig96p</a>"
      ],
      "text/plain": [
       "<IPython.core.display.HTML object>"
      ]
     },
     "metadata": {},
     "output_type": "display_data"
    },
    {
     "name": "stderr",
     "output_type": "stream",
     "text": [
      "  1%|          | 59/4850 [00:00<01:14, 64.38it/s]"
     ]
    },
    {
     "name": "stdout",
     "output_type": "stream",
     "text": [
      "{'loss': 0.6061, 'grad_norm': 0.56033855676651, 'learning_rate': 0.0009896907216494846, 'epoch': 0.26}\n"
     ]
    },
    {
     "name": "stderr",
     "output_type": "stream",
     "text": [
      "  2%|▏         | 100/4850 [00:01<01:12, 65.61it/s]"
     ]
    },
    {
     "name": "stdout",
     "output_type": "stream",
     "text": [
      "{'loss': 0.4927, 'grad_norm': 0.5246049761772156, 'learning_rate': 0.000979381443298969, 'epoch': 0.52}\n"
     ]
    },
    {
     "name": "stderr",
     "output_type": "stream",
     "text": [
      "                                                  \n",
      "  2%|▏         | 108/4850 [00:04<07:36, 10.38it/s]"
     ]
    },
    {
     "name": "stdout",
     "output_type": "stream",
     "text": [
      "{'eval_loss': 0.48791393637657166, 'eval_accuracy': 0.7948808473080318, 'eval_f1_score': 0.1271907861792689, 'eval_precision': 0.6631853785900783, 'eval_recall': 0.07034062586541125, 'eval_runtime': 2.617, 'eval_samples_per_second': 590.378, 'eval_steps_per_second': 18.724, 'epoch': 0.52}\n"
     ]
    },
    {
     "name": "stderr",
     "output_type": "stream",
     "text": [
      "  3%|▎         | 164/4850 [00:05<01:33, 50.36it/s]"
     ]
    },
    {
     "name": "stdout",
     "output_type": "stream",
     "text": [
      "{'loss': 0.474, 'grad_norm': 0.497501403093338, 'learning_rate': 0.0009690721649484536, 'epoch': 0.77}\n"
     ]
    },
    {
     "name": "stderr",
     "output_type": "stream",
     "text": [
      "  4%|▍         | 200/4850 [00:05<01:13, 62.92it/s]"
     ]
    },
    {
     "name": "stdout",
     "output_type": "stream",
     "text": [
      "{'loss': 0.4613, 'grad_norm': 0.513298749923706, 'learning_rate': 0.0009587628865979382, 'epoch': 1.03}\n"
     ]
    },
    {
     "name": "stderr",
     "output_type": "stream",
     "text": [
      "                                                  \n",
      "  4%|▍         | 207/4850 [00:08<08:46,  8.82it/s]"
     ]
    },
    {
     "name": "stdout",
     "output_type": "stream",
     "text": [
      "{'eval_loss': 0.44819191098213196, 'eval_accuracy': 0.8064136510738452, 'eval_f1_score': 0.2857142857142857, 'eval_precision': 0.6613065326633166, 'eval_recall': 0.18222099141512046, 'eval_runtime': 2.239, 'eval_samples_per_second': 690.033, 'eval_steps_per_second': 21.885, 'epoch': 1.03}\n"
     ]
    },
    {
     "name": "stderr",
     "output_type": "stream",
     "text": [
      "  5%|▌         | 256/4850 [00:08<01:48, 42.39it/s]"
     ]
    },
    {
     "name": "stdout",
     "output_type": "stream",
     "text": [
      "{'loss': 0.4442, 'grad_norm': 0.562119722366333, 'learning_rate': 0.0009484536082474226, 'epoch': 1.29}\n"
     ]
    },
    {
     "name": "stderr",
     "output_type": "stream",
     "text": [
      "  6%|▌         | 300/4850 [00:09<01:13, 61.81it/s]"
     ]
    },
    {
     "name": "stdout",
     "output_type": "stream",
     "text": [
      "{'loss': 0.4269, 'grad_norm': 0.5341361165046692, 'learning_rate': 0.0009381443298969072, 'epoch': 1.55}\n"
     ]
    },
    {
     "name": "stderr",
     "output_type": "stream",
     "text": [
      "                                                  \n",
      "  6%|▋         | 305/4850 [00:12<09:29,  7.98it/s]"
     ]
    },
    {
     "name": "stdout",
     "output_type": "stream",
     "text": [
      "{'eval_loss': 0.4306447505950928, 'eval_accuracy': 0.8168284789644013, 'eval_f1_score': 0.40648236415633937, 'eval_precision': 0.6523867809057528, 'eval_recall': 0.29520908335641094, 'eval_runtime': 2.4815, 'eval_samples_per_second': 622.605, 'eval_steps_per_second': 19.746, 'epoch': 1.55}\n"
     ]
    },
    {
     "name": "stderr",
     "output_type": "stream",
     "text": [
      "  7%|▋         | 362/4850 [00:13<01:34, 47.45it/s]"
     ]
    },
    {
     "name": "stdout",
     "output_type": "stream",
     "text": [
      "{'loss': 0.4287, 'grad_norm': 0.49489739537239075, 'learning_rate': 0.0009278350515463918, 'epoch': 1.8}\n"
     ]
    },
    {
     "name": "stderr",
     "output_type": "stream",
     "text": [
      "  8%|▊         | 400/4850 [00:13<01:10, 63.09it/s]"
     ]
    },
    {
     "name": "stdout",
     "output_type": "stream",
     "text": [
      "{'loss': 0.4121, 'grad_norm': 0.49173009395599365, 'learning_rate': 0.0009175257731958762, 'epoch': 2.06}\n"
     ]
    },
    {
     "name": "stderr",
     "output_type": "stream",
     "text": [
      "                                                  \n",
      "  8%|▊         | 405/4850 [00:16<08:24,  8.81it/s]"
     ]
    },
    {
     "name": "stdout",
     "output_type": "stream",
     "text": [
      "{'eval_loss': 0.4160119891166687, 'eval_accuracy': 0.8234186525448661, 'eval_f1_score': 0.47100299665080203, 'eval_precision': 0.6479146459747818, 'eval_recall': 0.3699806147881473, 'eval_runtime': 2.2587, 'eval_samples_per_second': 684.033, 'eval_steps_per_second': 21.694, 'epoch': 2.06}\n"
     ]
    },
    {
     "name": "stderr",
     "output_type": "stream",
     "text": [
      " 10%|▉         | 461/4850 [00:16<01:32, 47.29it/s]"
     ]
    },
    {
     "name": "stdout",
     "output_type": "stream",
     "text": [
      "{'loss': 0.3898, 'grad_norm': 0.5096307992935181, 'learning_rate': 0.0009072164948453608, 'epoch': 2.32}\n"
     ]
    },
    {
     "name": "stderr",
     "output_type": "stream",
     "text": [
      " 10%|█         | 500/4850 [00:17<01:09, 62.54it/s]"
     ]
    },
    {
     "name": "stdout",
     "output_type": "stream",
     "text": [
      "{'loss': 0.3964, 'grad_norm': 0.40896204113960266, 'learning_rate': 0.0008969072164948454, 'epoch': 2.58}\n"
     ]
    },
    {
     "name": "stderr",
     "output_type": "stream",
     "text": [
      "                                                  \n",
      " 11%|█         | 510/4850 [00:20<06:23, 11.31it/s]"
     ]
    },
    {
     "name": "stdout",
     "output_type": "stream",
     "text": [
      "{'eval_loss': 0.40374791622161865, 'eval_accuracy': 0.8304795528096499, 'eval_f1_score': 0.5014708427063506, 'eval_precision': 0.6683579335793358, 'eval_recall': 0.4012738853503185, 'eval_runtime': 2.3599, 'eval_samples_per_second': 654.695, 'eval_steps_per_second': 20.764, 'epoch': 2.58}\n"
     ]
    },
    {
     "name": "stderr",
     "output_type": "stream",
     "text": [
      " 12%|█▏        | 560/4850 [00:20<01:31, 46.71it/s]"
     ]
    },
    {
     "name": "stdout",
     "output_type": "stream",
     "text": [
      "{'loss': 0.3941, 'grad_norm': 0.4220755100250244, 'learning_rate': 0.0008865979381443298, 'epoch': 2.84}\n"
     ]
    },
    {
     "name": "stderr",
     "output_type": "stream",
     "text": [
      " 12%|█▏        | 600/4850 [00:21<01:08, 62.15it/s]"
     ]
    },
    {
     "name": "stdout",
     "output_type": "stream",
     "text": [
      "{'loss': 0.3837, 'grad_norm': 0.49928373098373413, 'learning_rate': 0.0008762886597938144, 'epoch': 3.09}\n"
     ]
    },
    {
     "name": "stderr",
     "output_type": "stream",
     "text": [
      "                                                  \n",
      " 13%|█▎        | 609/4850 [00:24<06:17, 11.22it/s]"
     ]
    },
    {
     "name": "stdout",
     "output_type": "stream",
     "text": [
      "{'eval_loss': 0.39488160610198975, 'eval_accuracy': 0.8314798470138276, 'eval_f1_score': 0.5005231949773282, 'eval_precision': 0.6759302873292511, 'eval_recall': 0.397396842979784, 'eval_runtime': 2.3954, 'eval_samples_per_second': 644.983, 'eval_steps_per_second': 20.456, 'epoch': 3.09}\n"
     ]
    },
    {
     "name": "stderr",
     "output_type": "stream",
     "text": [
      " 14%|█▎        | 658/4850 [00:24<01:32, 45.11it/s]"
     ]
    },
    {
     "name": "stdout",
     "output_type": "stream",
     "text": [
      "{'loss': 0.3661, 'grad_norm': 0.39616987109184265, 'learning_rate': 0.000865979381443299, 'epoch': 3.35}\n"
     ]
    },
    {
     "name": "stderr",
     "output_type": "stream",
     "text": [
      " 14%|█▍        | 700/4850 [00:25<01:06, 62.49it/s]"
     ]
    },
    {
     "name": "stdout",
     "output_type": "stream",
     "text": [
      "{'loss': 0.3632, 'grad_norm': 0.471731573343277, 'learning_rate': 0.0008556701030927834, 'epoch': 3.61}\n"
     ]
    },
    {
     "name": "stderr",
     "output_type": "stream",
     "text": [
      "                                                  \n",
      " 15%|█▍        | 708/4850 [00:27<05:56, 11.62it/s]"
     ]
    },
    {
     "name": "stdout",
     "output_type": "stream",
     "text": [
      "{'eval_loss': 0.38558125495910645, 'eval_accuracy': 0.8350102971462194, 'eval_f1_score': 0.5368351503138421, 'eval_precision': 0.6651657797789603, 'eval_recall': 0.45001384657989474, 'eval_runtime': 2.3304, 'eval_samples_per_second': 662.987, 'eval_steps_per_second': 21.027, 'epoch': 3.61}\n"
     ]
    },
    {
     "name": "stderr",
     "output_type": "stream",
     "text": [
      " 16%|█▌        | 758/4850 [00:28<01:25, 47.63it/s]"
     ]
    },
    {
     "name": "stdout",
     "output_type": "stream",
     "text": [
      "{'loss': 0.36, 'grad_norm': 0.3448794484138489, 'learning_rate': 0.000845360824742268, 'epoch': 3.87}\n"
     ]
    },
    {
     "name": "stderr",
     "output_type": "stream",
     "text": [
      " 16%|█▋        | 800/4850 [00:29<01:03, 63.66it/s]"
     ]
    },
    {
     "name": "stdout",
     "output_type": "stream",
     "text": [
      "{'loss': 0.3572, 'grad_norm': 0.3513655364513397, 'learning_rate': 0.0008350515463917527, 'epoch': 4.12}\n"
     ]
    },
    {
     "name": "stderr",
     "output_type": "stream",
     "text": [
      "                                                  \n",
      " 17%|█▋        | 808/4850 [00:31<05:33, 12.13it/s]"
     ]
    },
    {
     "name": "stdout",
     "output_type": "stream",
     "text": [
      "{'eval_loss': 0.3809310495853424, 'eval_accuracy': 0.8389526331273904, 'eval_f1_score': 0.5366514305061791, 'eval_precision': 0.6903310104529616, 'eval_recall': 0.438936582664082, 'eval_runtime': 2.2083, 'eval_samples_per_second': 699.626, 'eval_steps_per_second': 22.189, 'epoch': 4.12}\n"
     ]
    },
    {
     "name": "stderr",
     "output_type": "stream",
     "text": [
      " 18%|█▊        | 857/4850 [00:32<01:23, 47.84it/s]"
     ]
    },
    {
     "name": "stdout",
     "output_type": "stream",
     "text": [
      "{'loss': 0.3489, 'grad_norm': 0.4357280731201172, 'learning_rate': 0.000824742268041237, 'epoch': 4.38}\n"
     ]
    },
    {
     "name": "stderr",
     "output_type": "stream",
     "text": [
      " 19%|█▊        | 900/4850 [00:33<01:01, 64.55it/s]"
     ]
    },
    {
     "name": "stdout",
     "output_type": "stream",
     "text": [
      "{'loss': 0.3461, 'grad_norm': 0.44731709361076355, 'learning_rate': 0.0008144329896907217, 'epoch': 4.64}\n"
     ]
    },
    {
     "name": "stderr",
     "output_type": "stream",
     "text": [
      "                                                  \n",
      " 19%|█▊        | 906/4850 [00:35<07:34,  8.68it/s]"
     ]
    },
    {
     "name": "stdout",
     "output_type": "stream",
     "text": [
      "{'eval_loss': 0.3777174651622772, 'eval_accuracy': 0.8381288614298323, 'eval_f1_score': 0.5465633756387012, 'eval_precision': 0.6750814332247557, 'eval_recall': 0.45915258931044034, 'eval_runtime': 2.2598, 'eval_samples_per_second': 683.702, 'eval_steps_per_second': 21.684, 'epoch': 4.64}\n"
     ]
    },
    {
     "name": "stderr",
     "output_type": "stream",
     "text": [
      " 20%|█▉        | 955/4850 [00:36<01:37, 40.15it/s]"
     ]
    },
    {
     "name": "stdout",
     "output_type": "stream",
     "text": [
      "{'loss': 0.3482, 'grad_norm': 0.38423430919647217, 'learning_rate': 0.0008041237113402063, 'epoch': 4.9}\n"
     ]
    },
    {
     "name": "stderr",
     "output_type": "stream",
     "text": [
      " 21%|██        | 1000/4850 [00:37<01:02, 61.53it/s]"
     ]
    },
    {
     "name": "stdout",
     "output_type": "stream",
     "text": [
      "{'loss': 0.338, 'grad_norm': 0.4751741290092468, 'learning_rate': 0.0007938144329896907, 'epoch': 5.15}\n"
     ]
    },
    {
     "name": "stderr",
     "output_type": "stream",
     "text": [
      "                                                   \n",
      " 21%|██        | 1004/4850 [00:39<07:18,  8.77it/s]"
     ]
    },
    {
     "name": "stdout",
     "output_type": "stream",
     "text": [
      "{'eval_loss': 0.3766268789768219, 'eval_accuracy': 0.8409532215357458, 'eval_f1_score': 0.5604163278581883, 'eval_precision': 0.6788810086682427, 'eval_recall': 0.4771531431736361, 'eval_runtime': 2.2185, 'eval_samples_per_second': 696.424, 'eval_steps_per_second': 22.087, 'epoch': 5.15}\n"
     ]
    },
    {
     "name": "stderr",
     "output_type": "stream",
     "text": [
      " 22%|██▏       | 1060/4850 [00:40<01:22, 45.92it/s]"
     ]
    },
    {
     "name": "stdout",
     "output_type": "stream",
     "text": [
      "{'loss': 0.321, 'grad_norm': 0.48541370034217834, 'learning_rate': 0.0007835051546391753, 'epoch': 5.41}\n"
     ]
    },
    {
     "name": "stderr",
     "output_type": "stream",
     "text": [
      " 23%|██▎       | 1100/4850 [00:40<01:01, 61.47it/s]"
     ]
    },
    {
     "name": "stdout",
     "output_type": "stream",
     "text": [
      "{'loss': 0.338, 'grad_norm': 0.4302891492843628, 'learning_rate': 0.0007731958762886599, 'epoch': 5.67}\n"
     ]
    },
    {
     "name": "stderr",
     "output_type": "stream",
     "text": [
      "                                                   \n",
      " 23%|██▎       | 1109/4850 [00:43<05:23, 11.55it/s]"
     ]
    },
    {
     "name": "stdout",
     "output_type": "stream",
     "text": [
      "{'eval_loss': 0.3833179175853729, 'eval_accuracy': 0.8360105913503971, 'eval_f1_score': 0.551857211770381, 'eval_precision': 0.6579754601226994, 'eval_recall': 0.4752146219883689, 'eval_runtime': 2.2938, 'eval_samples_per_second': 673.556, 'eval_steps_per_second': 21.362, 'epoch': 5.67}\n"
     ]
    },
    {
     "name": "stderr",
     "output_type": "stream",
     "text": [
      " 24%|██▍       | 1158/4850 [00:44<01:17, 47.75it/s]"
     ]
    },
    {
     "name": "stdout",
     "output_type": "stream",
     "text": [
      "{'loss': 0.3372, 'grad_norm': 0.5919497013092041, 'learning_rate': 0.0007628865979381443, 'epoch': 5.93}\n"
     ]
    },
    {
     "name": "stderr",
     "output_type": "stream",
     "text": [
      " 25%|██▍       | 1200/4850 [00:44<00:59, 61.31it/s]"
     ]
    },
    {
     "name": "stdout",
     "output_type": "stream",
     "text": [
      "{'loss': 0.3197, 'grad_norm': 0.47664013504981995, 'learning_rate': 0.0007525773195876289, 'epoch': 6.19}\n"
     ]
    },
    {
     "name": "stderr",
     "output_type": "stream",
     "text": [
      "                                                   \n",
      " 25%|██▍       | 1207/4850 [00:47<08:10,  7.42it/s]"
     ]
    },
    {
     "name": "stdout",
     "output_type": "stream",
     "text": [
      "{'eval_loss': 0.3719637989997864, 'eval_accuracy': 0.8429538099441012, 'eval_f1_score': 0.5697243269385781, 'eval_precision': 0.6817129629629629, 'eval_recall': 0.48933813348103017, 'eval_runtime': 2.7043, 'eval_samples_per_second': 571.306, 'eval_steps_per_second': 18.119, 'epoch': 6.19}\n"
     ]
    },
    {
     "name": "stderr",
     "output_type": "stream",
     "text": [
      " 26%|██▌       | 1257/4850 [00:48<01:28, 40.39it/s]"
     ]
    },
    {
     "name": "stdout",
     "output_type": "stream",
     "text": [
      "{'loss': 0.3145, 'grad_norm': 0.46211475133895874, 'learning_rate': 0.0007422680412371135, 'epoch': 6.44}\n"
     ]
    },
    {
     "name": "stderr",
     "output_type": "stream",
     "text": [
      " 27%|██▋       | 1300/4850 [00:49<00:56, 62.42it/s]"
     ]
    },
    {
     "name": "stdout",
     "output_type": "stream",
     "text": [
      "{'loss': 0.3198, 'grad_norm': 0.4024026393890381, 'learning_rate': 0.0007319587628865979, 'epoch': 6.7}\n"
     ]
    },
    {
     "name": "stderr",
     "output_type": "stream",
     "text": [
      "                                                   \n",
      " 27%|██▋       | 1307/4850 [00:51<06:58,  8.47it/s]"
     ]
    },
    {
     "name": "stdout",
     "output_type": "stream",
     "text": [
      "{'eval_loss': 0.373645544052124, 'eval_accuracy': 0.843012650779641, 'eval_f1_score': 0.5724358974358974, 'eval_precision': 0.6793457588436668, 'eval_recall': 0.4945998338410413, 'eval_runtime': 2.3629, 'eval_samples_per_second': 653.855, 'eval_steps_per_second': 20.737, 'epoch': 6.7}\n"
     ]
    },
    {
     "name": "stderr",
     "output_type": "stream",
     "text": [
      " 28%|██▊       | 1355/4850 [00:52<01:22, 42.11it/s]"
     ]
    },
    {
     "name": "stdout",
     "output_type": "stream",
     "text": [
      "{'loss': 0.3196, 'grad_norm': 0.4126276969909668, 'learning_rate': 0.0007216494845360825, 'epoch': 6.96}\n"
     ]
    },
    {
     "name": "stderr",
     "output_type": "stream",
     "text": [
      " 29%|██▉       | 1400/4850 [00:53<00:53, 64.37it/s]"
     ]
    },
    {
     "name": "stdout",
     "output_type": "stream",
     "text": [
      "{'loss': 0.3087, 'grad_norm': 0.3193269968032837, 'learning_rate': 0.0007113402061855671, 'epoch': 7.22}\n"
     ]
    },
    {
     "name": "stderr",
     "output_type": "stream",
     "text": [
      "                                                   \n",
      " 29%|██▉       | 1406/4850 [00:55<06:33,  8.75it/s]"
     ]
    },
    {
     "name": "stdout",
     "output_type": "stream",
     "text": [
      "{'eval_loss': 0.3736821115016937, 'eval_accuracy': 0.8443659899970579, 'eval_f1_score': 0.5820824774845947, 'eval_precision': 0.6777041942604857, 'eval_recall': 0.5101080033231792, 'eval_runtime': 2.3202, 'eval_samples_per_second': 665.895, 'eval_steps_per_second': 21.119, 'epoch': 7.22}\n"
     ]
    },
    {
     "name": "stderr",
     "output_type": "stream",
     "text": [
      " 30%|███       | 1456/4850 [00:56<01:19, 42.55it/s]"
     ]
    },
    {
     "name": "stdout",
     "output_type": "stream",
     "text": [
      "{'loss': 0.3079, 'grad_norm': 0.39323681592941284, 'learning_rate': 0.0007010309278350515, 'epoch': 7.47}\n"
     ]
    },
    {
     "name": "stderr",
     "output_type": "stream",
     "text": [
      " 31%|███       | 1500/4850 [00:56<00:52, 63.50it/s]"
     ]
    },
    {
     "name": "stdout",
     "output_type": "stream",
     "text": [
      "{'loss': 0.3143, 'grad_norm': 0.511218249797821, 'learning_rate': 0.0006907216494845361, 'epoch': 7.73}\n"
     ]
    },
    {
     "name": "stderr",
     "output_type": "stream",
     "text": [
      "                                                   \n",
      " 31%|███       | 1506/4850 [00:59<06:17,  8.86it/s]"
     ]
    },
    {
     "name": "stdout",
     "output_type": "stream",
     "text": [
      "{'eval_loss': 0.370761513710022, 'eval_accuracy': 0.8450132391879964, 'eval_f1_score': 0.5789641943734015, 'eval_precision': 0.6846880907372401, 'eval_recall': 0.5015231237884242, 'eval_runtime': 2.2598, 'eval_samples_per_second': 683.693, 'eval_steps_per_second': 21.683, 'epoch': 7.73}\n"
     ]
    },
    {
     "name": "stderr",
     "output_type": "stream",
     "text": [
      " 32%|███▏      | 1562/4850 [01:00<01:10, 46.70it/s]"
     ]
    },
    {
     "name": "stdout",
     "output_type": "stream",
     "text": [
      "{'loss': 0.3053, 'grad_norm': 0.4124051034450531, 'learning_rate': 0.0006804123711340207, 'epoch': 7.99}\n"
     ]
    },
    {
     "name": "stderr",
     "output_type": "stream",
     "text": [
      " 33%|███▎      | 1600/4850 [01:00<00:52, 61.37it/s]"
     ]
    },
    {
     "name": "stdout",
     "output_type": "stream",
     "text": [
      "{'loss': 0.2927, 'grad_norm': 0.46280962228775024, 'learning_rate': 0.0006701030927835051, 'epoch': 8.25}\n"
     ]
    },
    {
     "name": "stderr",
     "output_type": "stream",
     "text": [
      "                                                   \n",
      " 33%|███▎      | 1604/4850 [01:03<07:59,  6.77it/s]"
     ]
    },
    {
     "name": "stdout",
     "output_type": "stream",
     "text": [
      "{'eval_loss': 0.37369388341903687, 'eval_accuracy': 0.8437187408061194, 'eval_f1_score': 0.579746835443038, 'eval_precision': 0.6762643041712809, 'eval_recall': 0.5073386873442259, 'eval_runtime': 3.0098, 'eval_samples_per_second': 513.316, 'eval_steps_per_second': 16.28, 'epoch': 8.25}\n"
     ]
    },
    {
     "name": "stderr",
     "output_type": "stream",
     "text": [
      " 34%|███▍      | 1655/4850 [01:04<01:23, 38.16it/s]"
     ]
    },
    {
     "name": "stdout",
     "output_type": "stream",
     "text": [
      "{'loss': 0.2973, 'grad_norm': 0.5867443084716797, 'learning_rate': 0.0006597938144329897, 'epoch': 8.51}\n"
     ]
    },
    {
     "name": "stderr",
     "output_type": "stream",
     "text": [
      " 35%|███▌      | 1700/4850 [01:05<00:50, 62.07it/s]"
     ]
    },
    {
     "name": "stdout",
     "output_type": "stream",
     "text": [
      "{'loss': 0.3028, 'grad_norm': 0.40768203139305115, 'learning_rate': 0.0006494845360824743, 'epoch': 8.76}\n"
     ]
    },
    {
     "name": "stderr",
     "output_type": "stream",
     "text": [
      "                                                   \n",
      " 35%|███▌      | 1704/4850 [01:07<06:19,  8.29it/s]"
     ]
    },
    {
     "name": "stdout",
     "output_type": "stream",
     "text": [
      "{'eval_loss': 0.3738154172897339, 'eval_accuracy': 0.8446013533392174, 'eval_f1_score': 0.586633275943027, 'eval_precision': 0.6745860331173507, 'eval_recall': 0.5189698144558295, 'eval_runtime': 2.3808, 'eval_samples_per_second': 648.949, 'eval_steps_per_second': 20.582, 'epoch': 8.76}\n"
     ]
    },
    {
     "name": "stderr",
     "output_type": "stream",
     "text": [
      " 36%|███▌      | 1756/4850 [01:08<01:11, 43.11it/s]"
     ]
    },
    {
     "name": "stdout",
     "output_type": "stream",
     "text": [
      "{'loss': 0.3044, 'grad_norm': 0.35161536931991577, 'learning_rate': 0.0006391752577319587, 'epoch': 9.02}\n"
     ]
    },
    {
     "name": "stderr",
     "output_type": "stream",
     "text": [
      " 37%|███▋      | 1800/4850 [01:09<00:47, 63.81it/s]"
     ]
    },
    {
     "name": "stdout",
     "output_type": "stream",
     "text": [
      "{'loss': 0.2915, 'grad_norm': 0.3990362584590912, 'learning_rate': 0.0006288659793814433, 'epoch': 9.28}\n"
     ]
    },
    {
     "name": "stderr",
     "output_type": "stream",
     "text": [
      "                                                   \n",
      " 37%|███▋      | 1808/4850 [01:11<04:31, 11.21it/s]"
     ]
    },
    {
     "name": "stdout",
     "output_type": "stream",
     "text": [
      "{'eval_loss': 0.3715207278728485, 'eval_accuracy': 0.8473668726095911, 'eval_f1_score': 0.5907226254338909, 'eval_precision': 0.6864686468646864, 'eval_recall': 0.5184159512600388, 'eval_runtime': 2.4962, 'eval_samples_per_second': 618.938, 'eval_steps_per_second': 19.63, 'epoch': 9.28}\n"
     ]
    },
    {
     "name": "stderr",
     "output_type": "stream",
     "text": [
      " 38%|███▊      | 1857/4850 [01:12<01:05, 45.84it/s]"
     ]
    },
    {
     "name": "stdout",
     "output_type": "stream",
     "text": [
      "{'loss': 0.2946, 'grad_norm': 0.3791460692882538, 'learning_rate': 0.0006185567010309279, 'epoch': 9.54}\n"
     ]
    },
    {
     "name": "stderr",
     "output_type": "stream",
     "text": [
      " 39%|███▉      | 1900/4850 [01:13<00:45, 64.73it/s]"
     ]
    },
    {
     "name": "stdout",
     "output_type": "stream",
     "text": [
      "{'loss': 0.2938, 'grad_norm': 0.4092049300670624, 'learning_rate': 0.0006082474226804123, 'epoch': 9.79}\n"
     ]
    },
    {
     "name": "stderr",
     "output_type": "stream",
     "text": [
      "                                                   \n",
      " 39%|███▉      | 1907/4850 [01:15<05:37,  8.73it/s]"
     ]
    },
    {
     "name": "stdout",
     "output_type": "stream",
     "text": [
      "{'eval_loss': 0.3707292675971985, 'eval_accuracy': 0.8463077375698735, 'eval_f1_score': 0.5840764331210191, 'eval_precision': 0.6871487448482577, 'eval_recall': 0.5078925505400166, 'eval_runtime': 2.2925, 'eval_samples_per_second': 673.924, 'eval_steps_per_second': 21.374, 'epoch': 9.79}\n"
     ]
    },
    {
     "name": "stderr",
     "output_type": "stream",
     "text": [
      " 40%|████      | 1956/4850 [01:16<01:07, 42.70it/s]"
     ]
    },
    {
     "name": "stdout",
     "output_type": "stream",
     "text": [
      "{'loss': 0.2949, 'grad_norm': 0.44030579924583435, 'learning_rate': 0.0005979381443298969, 'epoch': 10.05}\n"
     ]
    },
    {
     "name": "stderr",
     "output_type": "stream",
     "text": [
      " 41%|████      | 2000/4850 [01:17<00:45, 63.00it/s]"
     ]
    },
    {
     "name": "stdout",
     "output_type": "stream",
     "text": [
      "{'loss': 0.2811, 'grad_norm': 0.3273206055164337, 'learning_rate': 0.0005876288659793815, 'epoch': 10.31}\n"
     ]
    },
    {
     "name": "stderr",
     "output_type": "stream",
     "text": [
      "                                                   \n",
      " 41%|████▏     | 2006/4850 [01:19<05:24,  8.75it/s]"
     ]
    },
    {
     "name": "stdout",
     "output_type": "stream",
     "text": [
      "{'eval_loss': 0.3736463487148285, 'eval_accuracy': 0.8435422182994998, 'eval_f1_score': 0.5851146824777657, 'eval_precision': 0.67012151536812, 'eval_recall': 0.5192467460537248, 'eval_runtime': 2.2849, 'eval_samples_per_second': 676.193, 'eval_steps_per_second': 21.446, 'epoch': 10.31}\n"
     ]
    },
    {
     "name": "stderr",
     "output_type": "stream",
     "text": [
      " 42%|████▏     | 2061/4850 [01:20<01:00, 46.06it/s]"
     ]
    },
    {
     "name": "stdout",
     "output_type": "stream",
     "text": [
      "{'loss': 0.2912, 'grad_norm': 0.4442322850227356, 'learning_rate': 0.0005773195876288659, 'epoch': 10.57}\n"
     ]
    },
    {
     "name": "stderr",
     "output_type": "stream",
     "text": [
      " 43%|████▎     | 2100/4850 [01:21<00:43, 63.66it/s]"
     ]
    },
    {
     "name": "stdout",
     "output_type": "stream",
     "text": [
      "{'loss': 0.2875, 'grad_norm': 0.3984315097332001, 'learning_rate': 0.0005670103092783505, 'epoch': 10.82}\n"
     ]
    },
    {
     "name": "stderr",
     "output_type": "stream",
     "text": [
      "                                                   \n",
      " 43%|████▎     | 2104/4850 [01:23<05:08,  8.90it/s]"
     ]
    },
    {
     "name": "stdout",
     "output_type": "stream",
     "text": [
      "{'eval_loss': 0.370189368724823, 'eval_accuracy': 0.8464842600764931, 'eval_f1_score': 0.5862014274385409, 'eval_precision': 0.6859688195991092, 'eval_recall': 0.5117695929105511, 'eval_runtime': 2.227, 'eval_samples_per_second': 693.746, 'eval_steps_per_second': 22.002, 'epoch': 10.82}\n"
     ]
    },
    {
     "name": "stderr",
     "output_type": "stream",
     "text": [
      " 45%|████▍     | 2161/4850 [01:24<00:54, 49.06it/s]"
     ]
    },
    {
     "name": "stdout",
     "output_type": "stream",
     "text": [
      "{'loss': 0.2914, 'grad_norm': 0.45474347472190857, 'learning_rate': 0.0005567010309278351, 'epoch': 11.08}\n"
     ]
    },
    {
     "name": "stderr",
     "output_type": "stream",
     "text": [
      " 45%|████▌     | 2200/4850 [01:24<00:42, 62.95it/s]"
     ]
    },
    {
     "name": "stdout",
     "output_type": "stream",
     "text": [
      "{'loss': 0.275, 'grad_norm': 0.4484628438949585, 'learning_rate': 0.0005463917525773195, 'epoch': 11.34}\n"
     ]
    },
    {
     "name": "stderr",
     "output_type": "stream",
     "text": [
      "                                                   \n",
      " 45%|████▌     | 2204/4850 [01:27<05:04,  8.70it/s]"
     ]
    },
    {
     "name": "stdout",
     "output_type": "stream",
     "text": [
      "{'eval_loss': 0.37304332852363586, 'eval_accuracy': 0.8457781700500147, 'eval_f1_score': 0.5891205518106286, 'eval_precision': 0.6788294797687862, 'eval_recall': 0.520354472445306, 'eval_runtime': 2.294, 'eval_samples_per_second': 673.502, 'eval_steps_per_second': 21.36, 'epoch': 11.34}\n"
     ]
    },
    {
     "name": "stderr",
     "output_type": "stream",
     "text": [
      " 47%|████▋     | 2260/4850 [01:28<00:55, 46.94it/s]"
     ]
    },
    {
     "name": "stdout",
     "output_type": "stream",
     "text": [
      "{'loss': 0.2807, 'grad_norm': 0.33240175247192383, 'learning_rate': 0.0005360824742268041, 'epoch': 11.6}\n"
     ]
    },
    {
     "name": "stderr",
     "output_type": "stream",
     "text": [
      " 47%|████▋     | 2300/4850 [01:28<00:40, 62.54it/s]"
     ]
    },
    {
     "name": "stdout",
     "output_type": "stream",
     "text": [
      "{'loss': 0.2926, 'grad_norm': 0.5466194152832031, 'learning_rate': 0.0005257731958762887, 'epoch': 11.86}\n"
     ]
    },
    {
     "name": "stderr",
     "output_type": "stream",
     "text": [
      "                                                   \n",
      " 48%|████▊     | 2309/4850 [01:31<04:22,  9.70it/s]"
     ]
    },
    {
     "name": "stdout",
     "output_type": "stream",
     "text": [
      "{'eval_loss': 0.3743020296096802, 'eval_accuracy': 0.84348337746396, 'eval_f1_score': 0.584634603372892, 'eval_precision': 0.6702470461868958, 'eval_recall': 0.5184159512600388, 'eval_runtime': 2.8516, 'eval_samples_per_second': 541.804, 'eval_steps_per_second': 17.183, 'epoch': 11.86}\n"
     ]
    },
    {
     "name": "stderr",
     "output_type": "stream",
     "text": [
      " 49%|████▊     | 2360/4850 [01:32<00:54, 45.40it/s]"
     ]
    },
    {
     "name": "stdout",
     "output_type": "stream",
     "text": [
      "{'loss': 0.2812, 'grad_norm': 0.43419352173805237, 'learning_rate': 0.0005154639175257731, 'epoch': 12.11}\n"
     ]
    },
    {
     "name": "stderr",
     "output_type": "stream",
     "text": [
      " 49%|████▉     | 2400/4850 [01:33<00:37, 64.75it/s]"
     ]
    },
    {
     "name": "stdout",
     "output_type": "stream",
     "text": [
      "{'loss': 0.2697, 'grad_norm': 0.45319002866744995, 'learning_rate': 0.0005051546391752577, 'epoch': 12.37}\n"
     ]
    },
    {
     "name": "stderr",
     "output_type": "stream",
     "text": [
      "                                                   \n",
      " 50%|████▉     | 2404/4850 [01:35<04:37,  8.82it/s]"
     ]
    },
    {
     "name": "stdout",
     "output_type": "stream",
     "text": [
      "{'eval_loss': 0.3811761736869812, 'eval_accuracy': 0.8421300382465431, 'eval_f1_score': 0.580453479280688, 'eval_precision': 0.6666666666666666, 'eval_recall': 0.5139850456937136, 'eval_runtime': 2.3531, 'eval_samples_per_second': 656.568, 'eval_steps_per_second': 20.823, 'epoch': 12.37}\n"
     ]
    },
    {
     "name": "stderr",
     "output_type": "stream",
     "text": [
      " 51%|█████     | 2462/4850 [01:36<00:50, 47.61it/s]"
     ]
    },
    {
     "name": "stdout",
     "output_type": "stream",
     "text": [
      "{'loss': 0.2841, 'grad_norm': 0.4368875026702881, 'learning_rate': 0.0004948453608247423, 'epoch': 12.63}\n"
     ]
    },
    {
     "name": "stderr",
     "output_type": "stream",
     "text": [
      " 52%|█████▏    | 2500/4850 [01:37<00:37, 62.35it/s]"
     ]
    },
    {
     "name": "stdout",
     "output_type": "stream",
     "text": [
      "{'loss': 0.2751, 'grad_norm': 0.4580360949039459, 'learning_rate': 0.0004845360824742268, 'epoch': 12.89}\n"
     ]
    },
    {
     "name": "stderr",
     "output_type": "stream",
     "text": [
      "                                                   \n",
      " 52%|█████▏    | 2505/4850 [01:39<04:39,  8.38it/s]"
     ]
    },
    {
     "name": "stdout",
     "output_type": "stream",
     "text": [
      "{'eval_loss': 0.37561532855033875, 'eval_accuracy': 0.8443071491615181, 'eval_f1_score': 0.5902756271291422, 'eval_precision': 0.6694766420793818, 'eval_recall': 0.5278316255884796, 'eval_runtime': 2.3908, 'eval_samples_per_second': 646.238, 'eval_steps_per_second': 20.496, 'epoch': 12.89}\n"
     ]
    },
    {
     "name": "stderr",
     "output_type": "stream",
     "text": [
      " 53%|█████▎    | 2561/4850 [01:40<00:50, 45.63it/s]"
     ]
    },
    {
     "name": "stdout",
     "output_type": "stream",
     "text": [
      "{'loss': 0.2716, 'grad_norm': 0.4343594014644623, 'learning_rate': 0.0004742268041237113, 'epoch': 13.14}\n"
     ]
    },
    {
     "name": "stderr",
     "output_type": "stream",
     "text": [
      " 54%|█████▎    | 2600/4850 [01:41<00:35, 62.86it/s]"
     ]
    },
    {
     "name": "stdout",
     "output_type": "stream",
     "text": [
      "{'loss': 0.2731, 'grad_norm': 0.5426080226898193, 'learning_rate': 0.0004639175257731959, 'epoch': 13.4}\n"
     ]
    },
    {
     "name": "stderr",
     "output_type": "stream",
     "text": [
      "                                                   \n",
      " 54%|█████▎    | 2603/4850 [01:43<04:27,  8.41it/s]"
     ]
    },
    {
     "name": "stdout",
     "output_type": "stream",
     "text": [
      "{'eval_loss': 0.37745097279548645, 'eval_accuracy': 0.8447190350102971, 'eval_f1_score': 0.594934765924789, 'eval_precision': 0.6673553719008265, 'eval_recall': 0.5366934367211299, 'eval_runtime': 2.3132, 'eval_samples_per_second': 667.894, 'eval_steps_per_second': 21.182, 'epoch': 13.4}\n"
     ]
    },
    {
     "name": "stderr",
     "output_type": "stream",
     "text": [
      " 55%|█████▍    | 2659/4850 [01:44<00:46, 47.09it/s]"
     ]
    },
    {
     "name": "stdout",
     "output_type": "stream",
     "text": [
      "{'loss': 0.268, 'grad_norm': 0.4411247968673706, 'learning_rate': 0.0004536082474226804, 'epoch': 13.66}\n"
     ]
    },
    {
     "name": "stderr",
     "output_type": "stream",
     "text": [
      " 56%|█████▌    | 2700/4850 [01:44<00:34, 62.07it/s]"
     ]
    },
    {
     "name": "stdout",
     "output_type": "stream",
     "text": [
      "{'loss': 0.2757, 'grad_norm': 0.4852663278579712, 'learning_rate': 0.0004432989690721649, 'epoch': 13.92}\n"
     ]
    },
    {
     "name": "stderr",
     "output_type": "stream",
     "text": [
      "                                                   \n",
      " 56%|█████▌    | 2708/4850 [01:47<03:15, 10.97it/s]"
     ]
    },
    {
     "name": "stdout",
     "output_type": "stream",
     "text": [
      "{'eval_loss': 0.37627264857292175, 'eval_accuracy': 0.8460723742277141, 'eval_f1_score': 0.5949210281820997, 'eval_precision': 0.6747453459782227, 'eval_recall': 0.5319855995569095, 'eval_runtime': 2.4478, 'eval_samples_per_second': 631.189, 'eval_steps_per_second': 20.018, 'epoch': 13.92}\n"
     ]
    },
    {
     "name": "stderr",
     "output_type": "stream",
     "text": [
      " 57%|█████▋    | 2758/4850 [01:48<00:43, 47.80it/s]"
     ]
    },
    {
     "name": "stdout",
     "output_type": "stream",
     "text": [
      "{'loss': 0.2768, 'grad_norm': 0.40023019909858704, 'learning_rate': 0.0004329896907216495, 'epoch': 14.18}\n"
     ]
    },
    {
     "name": "stderr",
     "output_type": "stream",
     "text": [
      " 58%|█████▊    | 2800/4850 [01:48<00:31, 64.51it/s]"
     ]
    },
    {
     "name": "stdout",
     "output_type": "stream",
     "text": [
      "{'loss': 0.2681, 'grad_norm': 0.32809561491012573, 'learning_rate': 0.000422680412371134, 'epoch': 14.43}\n"
     ]
    },
    {
     "name": "stderr",
     "output_type": "stream",
     "text": [
      "                                                   \n",
      " 58%|█████▊    | 2808/4850 [01:51<02:58, 11.43it/s]"
     ]
    },
    {
     "name": "stdout",
     "output_type": "stream",
     "text": [
      "{'eval_loss': 0.37644800543785095, 'eval_accuracy': 0.8456016475433951, 'eval_f1_score': 0.5885857635622452, 'eval_precision': 0.6783520057824358, 'eval_recall': 0.5198006092495153, 'eval_runtime': 2.3951, 'eval_samples_per_second': 645.062, 'eval_steps_per_second': 20.458, 'epoch': 14.43}\n"
     ]
    },
    {
     "name": "stderr",
     "output_type": "stream",
     "text": [
      " 59%|█████▉    | 2858/4850 [01:52<00:41, 47.76it/s]"
     ]
    },
    {
     "name": "stdout",
     "output_type": "stream",
     "text": [
      "{'loss': 0.2644, 'grad_norm': 0.403930127620697, 'learning_rate': 0.0004123711340206185, 'epoch': 14.69}\n"
     ]
    },
    {
     "name": "stderr",
     "output_type": "stream",
     "text": [
      " 60%|█████▉    | 2900/4850 [01:52<00:30, 63.25it/s]"
     ]
    },
    {
     "name": "stdout",
     "output_type": "stream",
     "text": [
      "{'loss': 0.2644, 'grad_norm': 0.5268017053604126, 'learning_rate': 0.00040206185567010313, 'epoch': 14.95}\n"
     ]
    },
    {
     "name": "stderr",
     "output_type": "stream",
     "text": [
      "                                                   \n",
      " 60%|█████▉    | 2908/4850 [01:55<02:52, 11.26it/s]"
     ]
    },
    {
     "name": "stdout",
     "output_type": "stream",
     "text": [
      "{'eval_loss': 0.377065509557724, 'eval_accuracy': 0.8461900558987938, 'eval_f1_score': 0.593847110006215, 'eval_precision': 0.6764601769911505, 'eval_recall': 0.5292162835779562, 'eval_runtime': 2.3998, 'eval_samples_per_second': 643.791, 'eval_steps_per_second': 20.418, 'epoch': 14.95}\n"
     ]
    },
    {
     "name": "stderr",
     "output_type": "stream",
     "text": [
      " 61%|██████    | 2957/4850 [01:56<00:40, 46.75it/s]"
     ]
    },
    {
     "name": "stdout",
     "output_type": "stream",
     "text": [
      "{'loss': 0.2599, 'grad_norm': 0.5405066013336182, 'learning_rate': 0.00039175257731958763, 'epoch': 15.21}\n"
     ]
    },
    {
     "name": "stderr",
     "output_type": "stream",
     "text": [
      " 62%|██████▏   | 3000/4850 [01:56<00:28, 65.03it/s]"
     ]
    },
    {
     "name": "stdout",
     "output_type": "stream",
     "text": [
      "{'loss': 0.2567, 'grad_norm': 0.3844071626663208, 'learning_rate': 0.00038144329896907213, 'epoch': 15.46}\n"
     ]
    },
    {
     "name": "stderr",
     "output_type": "stream",
     "text": [
      "                                                   \n",
      " 62%|██████▏   | 3007/4850 [01:59<03:57,  7.75it/s]"
     ]
    },
    {
     "name": "stdout",
     "output_type": "stream",
     "text": [
      "{'eval_loss': 0.3794190287590027, 'eval_accuracy': 0.8441306266548985, 'eval_f1_score': 0.5868039307440337, 'eval_precision': 0.6717857142857143, 'eval_recall': 0.5209083356410966, 'eval_runtime': 2.6205, 'eval_samples_per_second': 589.593, 'eval_steps_per_second': 18.699, 'epoch': 15.46}\n"
     ]
    },
    {
     "name": "stderr",
     "output_type": "stream",
     "text": [
      " 63%|██████▎   | 3055/4850 [02:00<00:46, 38.80it/s]"
     ]
    },
    {
     "name": "stdout",
     "output_type": "stream",
     "text": [
      "{'loss': 0.262, 'grad_norm': 0.471373975276947, 'learning_rate': 0.00037113402061855674, 'epoch': 15.72}\n"
     ]
    },
    {
     "name": "stderr",
     "output_type": "stream",
     "text": [
      " 64%|██████▍   | 3100/4850 [02:01<00:28, 61.90it/s]"
     ]
    },
    {
     "name": "stdout",
     "output_type": "stream",
     "text": [
      "{'loss': 0.2671, 'grad_norm': 0.39825916290283203, 'learning_rate': 0.00036082474226804123, 'epoch': 15.98}\n"
     ]
    },
    {
     "name": "stderr",
     "output_type": "stream",
     "text": [
      "                                                   \n",
      " 64%|██████▍   | 3105/4850 [02:03<03:21,  8.66it/s]"
     ]
    },
    {
     "name": "stdout",
     "output_type": "stream",
     "text": [
      "{'eval_loss': 0.3756164312362671, 'eval_accuracy': 0.8464842600764931, 'eval_f1_score': 0.5944349448157935, 'eval_precision': 0.6775336640680368, 'eval_recall': 0.5294932151758516, 'eval_runtime': 2.329, 'eval_samples_per_second': 663.388, 'eval_steps_per_second': 21.039, 'epoch': 15.98}\n"
     ]
    },
    {
     "name": "stderr",
     "output_type": "stream",
     "text": [
      " 65%|██████▌   | 3161/4850 [02:04<00:34, 48.31it/s]"
     ]
    },
    {
     "name": "stdout",
     "output_type": "stream",
     "text": [
      "{'loss': 0.2539, 'grad_norm': 0.3322579264640808, 'learning_rate': 0.00035051546391752573, 'epoch': 16.24}\n"
     ]
    },
    {
     "name": "stderr",
     "output_type": "stream",
     "text": [
      " 66%|██████▌   | 3200/4850 [02:05<00:26, 62.05it/s]"
     ]
    },
    {
     "name": "stdout",
     "output_type": "stream",
     "text": [
      "{'loss': 0.2578, 'grad_norm': 0.33190158009529114, 'learning_rate': 0.00034020618556701034, 'epoch': 16.49}\n"
     ]
    },
    {
     "name": "stderr",
     "output_type": "stream",
     "text": [
      "                                                   \n",
      " 66%|██████▌   | 3203/4850 [02:07<03:23,  8.10it/s]"
     ]
    },
    {
     "name": "stdout",
     "output_type": "stream",
     "text": [
      "{'eval_loss': 0.3808591365814209, 'eval_accuracy': 0.8446013533392174, 'eval_f1_score': 0.5925011572288227, 'eval_precision': 0.6689895470383276, 'eval_recall': 0.5317086679590142, 'eval_runtime': 2.443, 'eval_samples_per_second': 632.419, 'eval_steps_per_second': 20.057, 'epoch': 16.49}\n"
     ]
    },
    {
     "name": "stderr",
     "output_type": "stream",
     "text": [
      " 67%|██████▋   | 3261/4850 [02:08<00:32, 48.30it/s]"
     ]
    },
    {
     "name": "stdout",
     "output_type": "stream",
     "text": [
      "{'loss': 0.2629, 'grad_norm': 0.3382752239704132, 'learning_rate': 0.00032989690721649484, 'epoch': 16.75}\n"
     ]
    },
    {
     "name": "stderr",
     "output_type": "stream",
     "text": [
      " 68%|██████▊   | 3300/4850 [02:08<00:24, 64.24it/s]"
     ]
    },
    {
     "name": "stdout",
     "output_type": "stream",
     "text": [
      "{'loss': 0.2597, 'grad_norm': 0.3648890554904938, 'learning_rate': 0.00031958762886597934, 'epoch': 17.01}\n"
     ]
    },
    {
     "name": "stderr",
     "output_type": "stream",
     "text": [
      "                                                   \n",
      " 68%|██████▊   | 3304/4850 [02:11<03:02,  8.49it/s]"
     ]
    },
    {
     "name": "stdout",
     "output_type": "stream",
     "text": [
      "{'eval_loss': 0.3781522214412689, 'eval_accuracy': 0.8438364224771991, 'eval_f1_score': 0.5906847624922887, 'eval_precision': 0.6665506439262096, 'eval_recall': 0.5303240099695375, 'eval_runtime': 2.3836, 'eval_samples_per_second': 648.176, 'eval_steps_per_second': 20.557, 'epoch': 17.01}\n"
     ]
    },
    {
     "name": "stderr",
     "output_type": "stream",
     "text": [
      " 69%|██████▉   | 3361/4850 [02:12<00:30, 48.59it/s]"
     ]
    },
    {
     "name": "stdout",
     "output_type": "stream",
     "text": [
      "{'loss': 0.2618, 'grad_norm': 0.4182431101799011, 'learning_rate': 0.00030927835051546395, 'epoch': 17.27}\n"
     ]
    },
    {
     "name": "stderr",
     "output_type": "stream",
     "text": [
      " 70%|███████   | 3400/4850 [02:12<00:23, 62.26it/s]"
     ]
    },
    {
     "name": "stdout",
     "output_type": "stream",
     "text": [
      "{'loss': 0.2491, 'grad_norm': 0.2955324649810791, 'learning_rate': 0.00029896907216494845, 'epoch': 17.53}\n"
     ]
    },
    {
     "name": "stderr",
     "output_type": "stream",
     "text": [
      "                                                   \n",
      " 70%|███████   | 3410/4850 [02:15<02:15, 10.65it/s]"
     ]
    },
    {
     "name": "stdout",
     "output_type": "stream",
     "text": [
      "{'eval_loss': 0.37700381875038147, 'eval_accuracy': 0.8452486025301559, 'eval_f1_score': 0.5909797822706065, 'eval_precision': 0.6739978715856687, 'eval_recall': 0.5261700360011077, 'eval_runtime': 2.5532, 'eval_samples_per_second': 605.127, 'eval_steps_per_second': 19.192, 'epoch': 17.53}\n"
     ]
    },
    {
     "name": "stderr",
     "output_type": "stream",
     "text": [
      " 71%|███████▏  | 3459/4850 [02:16<00:29, 46.74it/s]"
     ]
    },
    {
     "name": "stdout",
     "output_type": "stream",
     "text": [
      "{'loss': 0.2522, 'grad_norm': 0.37496739625930786, 'learning_rate': 0.00028865979381443294, 'epoch': 17.78}\n"
     ]
    },
    {
     "name": "stderr",
     "output_type": "stream",
     "text": [
      " 72%|███████▏  | 3500/4850 [02:17<00:21, 61.65it/s]"
     ]
    },
    {
     "name": "stdout",
     "output_type": "stream",
     "text": [
      "{'loss': 0.2513, 'grad_norm': 0.4293544590473175, 'learning_rate': 0.00027835051546391755, 'epoch': 18.04}\n"
     ]
    },
    {
     "name": "stderr",
     "output_type": "stream",
     "text": [
      "                                                   \n",
      " 72%|███████▏  | 3509/4850 [02:20<02:43,  8.22it/s]"
     ]
    },
    {
     "name": "stdout",
     "output_type": "stream",
     "text": [
      "{'eval_loss': 0.38341784477233887, 'eval_accuracy': 0.843895263312739, 'eval_f1_score': 0.5903967886367145, 'eval_precision': 0.6671318911374738, 'eval_recall': 0.5294932151758516, 'eval_runtime': 3.6368, 'eval_samples_per_second': 424.822, 'eval_steps_per_second': 13.473, 'epoch': 18.04}\n"
     ]
    },
    {
     "name": "stderr",
     "output_type": "stream",
     "text": [
      " 73%|███████▎  | 3558/4850 [02:21<00:31, 40.51it/s]"
     ]
    },
    {
     "name": "stdout",
     "output_type": "stream",
     "text": [
      "{'loss': 0.2504, 'grad_norm': 0.4159926474094391, 'learning_rate': 0.00026804123711340205, 'epoch': 18.3}\n"
     ]
    },
    {
     "name": "stderr",
     "output_type": "stream",
     "text": [
      " 74%|███████▍  | 3600/4850 [02:22<00:20, 62.03it/s]"
     ]
    },
    {
     "name": "stdout",
     "output_type": "stream",
     "text": [
      "{'loss': 0.2525, 'grad_norm': 0.2787492275238037, 'learning_rate': 0.00025773195876288655, 'epoch': 18.56}\n"
     ]
    },
    {
     "name": "stderr",
     "output_type": "stream",
     "text": [
      "                                                   \n",
      " 74%|███████▍  | 3608/4850 [02:24<01:44, 11.84it/s]"
     ]
    },
    {
     "name": "stdout",
     "output_type": "stream",
     "text": [
      "{'eval_loss': 0.3815699815750122, 'eval_accuracy': 0.844777875845837, 'eval_f1_score': 0.5908808933002482, 'eval_precision': 0.6714839619316179, 'eval_recall': 0.5275546939905843, 'eval_runtime': 2.2605, 'eval_samples_per_second': 683.467, 'eval_steps_per_second': 21.676, 'epoch': 18.56}\n"
     ]
    },
    {
     "name": "stderr",
     "output_type": "stream",
     "text": [
      " 75%|███████▌  | 3658/4850 [02:25<00:24, 48.56it/s]"
     ]
    },
    {
     "name": "stdout",
     "output_type": "stream",
     "text": [
      "{'loss': 0.2494, 'grad_norm': 0.48127511143684387, 'learning_rate': 0.00024742268041237116, 'epoch': 18.81}\n"
     ]
    },
    {
     "name": "stderr",
     "output_type": "stream",
     "text": [
      " 76%|███████▋  | 3700/4850 [02:26<00:17, 65.84it/s]"
     ]
    },
    {
     "name": "stdout",
     "output_type": "stream",
     "text": [
      "{'loss': 0.2495, 'grad_norm': 0.38320276141166687, 'learning_rate': 0.00023711340206185566, 'epoch': 19.07}\n"
     ]
    },
    {
     "name": "stderr",
     "output_type": "stream",
     "text": [
      "                                                   \n",
      " 76%|███████▋  | 3702/4850 [02:33<06:21,  3.01it/s]"
     ]
    },
    {
     "name": "stdout",
     "output_type": "stream",
     "text": [
      "{'eval_loss': 0.3845895230770111, 'eval_accuracy': 0.8434245366284201, 'eval_f1_score': 0.5863516244364994, 'eval_precision': 0.6683203401842664, 'eval_recall': 0.5222929936305732, 'eval_runtime': 7.7318, 'eval_samples_per_second': 199.824, 'eval_steps_per_second': 6.337, 'epoch': 19.07}\n"
     ]
    },
    {
     "name": "stderr",
     "output_type": "stream",
     "text": [
      " 77%|███████▋  | 3758/4850 [02:34<00:37, 28.90it/s]"
     ]
    },
    {
     "name": "stdout",
     "output_type": "stream",
     "text": [
      "{'loss': 0.2464, 'grad_norm': 0.40881210565567017, 'learning_rate': 0.0002268041237113402, 'epoch': 19.33}\n"
     ]
    },
    {
     "name": "stderr",
     "output_type": "stream",
     "text": [
      " 78%|███████▊  | 3800/4850 [02:35<00:18, 57.59it/s]"
     ]
    },
    {
     "name": "stdout",
     "output_type": "stream",
     "text": [
      "{'loss': 0.249, 'grad_norm': 0.3687528073787689, 'learning_rate': 0.00021649484536082476, 'epoch': 19.59}\n"
     ]
    },
    {
     "name": "stderr",
     "output_type": "stream",
     "text": [
      "                                                   \n",
      " 78%|███████▊  | 3807/4850 [02:37<02:05,  8.29it/s]"
     ]
    },
    {
     "name": "stdout",
     "output_type": "stream",
     "text": [
      "{'eval_loss': 0.3817424774169922, 'eval_accuracy': 0.8451309208590762, 'eval_f1_score': 0.5937017598024081, 'eval_precision': 0.670735960934775, 'eval_recall': 0.5325394627527, 'eval_runtime': 2.3611, 'eval_samples_per_second': 654.366, 'eval_steps_per_second': 20.753, 'epoch': 19.59}\n"
     ]
    },
    {
     "name": "stderr",
     "output_type": "stream",
     "text": [
      " 80%|███████▉  | 3858/4850 [02:38<00:23, 42.83it/s]"
     ]
    },
    {
     "name": "stdout",
     "output_type": "stream",
     "text": [
      "{'loss': 0.2554, 'grad_norm': 0.4590212404727936, 'learning_rate': 0.00020618556701030926, 'epoch': 19.85}\n"
     ]
    },
    {
     "name": "stderr",
     "output_type": "stream",
     "text": [
      " 80%|████████  | 3900/4850 [02:39<00:15, 61.77it/s]"
     ]
    },
    {
     "name": "stdout",
     "output_type": "stream",
     "text": [
      "{'loss': 0.2469, 'grad_norm': 0.3210972547531128, 'learning_rate': 0.00019587628865979381, 'epoch': 20.1}\n"
     ]
    },
    {
     "name": "stderr",
     "output_type": "stream",
     "text": [
      "                                                   \n",
      " 81%|████████  | 3908/4850 [02:41<01:21, 11.63it/s]"
     ]
    },
    {
     "name": "stdout",
     "output_type": "stream",
     "text": [
      "{'eval_loss': 0.38596242666244507, 'eval_accuracy': 0.8436010591350397, 'eval_f1_score': 0.5933292533659731, 'eval_precision': 0.6629059829059829, 'eval_recall': 0.5369703683190252, 'eval_runtime': 2.3018, 'eval_samples_per_second': 671.215, 'eval_steps_per_second': 21.288, 'epoch': 20.1}\n"
     ]
    },
    {
     "name": "stderr",
     "output_type": "stream",
     "text": [
      " 82%|████████▏ | 3964/4850 [02:42<00:16, 52.72it/s]"
     ]
    },
    {
     "name": "stdout",
     "output_type": "stream",
     "text": [
      "{'loss': 0.2446, 'grad_norm': 0.4095667004585266, 'learning_rate': 0.00018556701030927837, 'epoch': 20.36}\n"
     ]
    },
    {
     "name": "stderr",
     "output_type": "stream",
     "text": [
      " 82%|████████▏ | 4000/4850 [02:43<00:13, 64.75it/s]"
     ]
    },
    {
     "name": "stdout",
     "output_type": "stream",
     "text": [
      "{'loss': 0.2373, 'grad_norm': 0.3880905210971832, 'learning_rate': 0.00017525773195876287, 'epoch': 20.62}\n"
     ]
    },
    {
     "name": "stderr",
     "output_type": "stream",
     "text": [
      "                                                   \n",
      " 83%|████████▎ | 4007/4850 [02:45<01:40,  8.35it/s]"
     ]
    },
    {
     "name": "stdout",
     "output_type": "stream",
     "text": [
      "{'eval_loss': 0.38413527607917786, 'eval_accuracy': 0.8433068549573404, 'eval_f1_score': 0.5866832221015055, 'eval_precision': 0.6673728813559322, 'eval_recall': 0.5234007200221545, 'eval_runtime': 2.4068, 'eval_samples_per_second': 641.921, 'eval_steps_per_second': 20.359, 'epoch': 20.62}\n"
     ]
    },
    {
     "name": "stderr",
     "output_type": "stream",
     "text": [
      " 84%|████████▎ | 4059/4850 [02:46<00:18, 43.93it/s]"
     ]
    },
    {
     "name": "stdout",
     "output_type": "stream",
     "text": [
      "{'loss': 0.2514, 'grad_norm': 0.41837289929389954, 'learning_rate': 0.00016494845360824742, 'epoch': 20.88}\n"
     ]
    },
    {
     "name": "stderr",
     "output_type": "stream",
     "text": [
      " 85%|████████▍ | 4100/4850 [02:47<00:12, 61.62it/s]"
     ]
    },
    {
     "name": "stdout",
     "output_type": "stream",
     "text": [
      "{'loss': 0.2467, 'grad_norm': 0.5369030833244324, 'learning_rate': 0.00015463917525773197, 'epoch': 21.13}\n"
     ]
    },
    {
     "name": "stderr",
     "output_type": "stream",
     "text": [
      "                                                   \n",
      " 85%|████████▍ | 4108/4850 [02:49<01:07, 11.02it/s]"
     ]
    },
    {
     "name": "stdout",
     "output_type": "stream",
     "text": [
      "{'eval_loss': 0.38724929094314575, 'eval_accuracy': 0.8438364224771991, 'eval_f1_score': 0.5886546807191568, 'eval_precision': 0.6684266103484688, 'eval_recall': 0.5258931044032124, 'eval_runtime': 2.4499, 'eval_samples_per_second': 630.632, 'eval_steps_per_second': 20.001, 'epoch': 21.13}\n"
     ]
    },
    {
     "name": "stderr",
     "output_type": "stream",
     "text": [
      " 86%|████████▌ | 4157/4850 [02:50<00:15, 45.43it/s]"
     ]
    },
    {
     "name": "stdout",
     "output_type": "stream",
     "text": [
      "{'loss': 0.2438, 'grad_norm': 0.58083575963974, 'learning_rate': 0.00014432989690721647, 'epoch': 21.39}\n"
     ]
    },
    {
     "name": "stderr",
     "output_type": "stream",
     "text": [
      " 87%|████████▋ | 4200/4850 [02:51<00:10, 64.34it/s]"
     ]
    },
    {
     "name": "stdout",
     "output_type": "stream",
     "text": [
      "{'loss': 0.242, 'grad_norm': 0.3465982675552368, 'learning_rate': 0.00013402061855670103, 'epoch': 21.65}\n"
     ]
    },
    {
     "name": "stderr",
     "output_type": "stream",
     "text": [
      "                                                   \n",
      " 87%|████████▋ | 4207/4850 [02:53<01:17,  8.34it/s]"
     ]
    },
    {
     "name": "stdout",
     "output_type": "stream",
     "text": [
      "{'eval_loss': 0.3858034610748291, 'eval_accuracy': 0.8443659899970579, 'eval_f1_score': 0.595256312165264, 'eval_precision': 0.6651846785225718, 'eval_recall': 0.5386319579063972, 'eval_runtime': 2.4373, 'eval_samples_per_second': 633.909, 'eval_steps_per_second': 20.105, 'epoch': 21.65}\n"
     ]
    },
    {
     "name": "stderr",
     "output_type": "stream",
     "text": [
      " 88%|████████▊ | 4257/4850 [02:54<00:14, 42.05it/s]"
     ]
    },
    {
     "name": "stdout",
     "output_type": "stream",
     "text": [
      "{'loss': 0.2426, 'grad_norm': 0.47138842940330505, 'learning_rate': 0.00012371134020618558, 'epoch': 21.91}\n"
     ]
    },
    {
     "name": "stderr",
     "output_type": "stream",
     "text": [
      " 89%|████████▊ | 4300/4850 [02:55<00:08, 61.96it/s]"
     ]
    },
    {
     "name": "stdout",
     "output_type": "stream",
     "text": [
      "{'loss': 0.25, 'grad_norm': 0.39577746391296387, 'learning_rate': 0.0001134020618556701, 'epoch': 22.16}\n"
     ]
    },
    {
     "name": "stderr",
     "output_type": "stream",
     "text": [
      "                                                   \n",
      " 89%|████████▉ | 4306/4850 [02:57<01:06,  8.14it/s]"
     ]
    },
    {
     "name": "stdout",
     "output_type": "stream",
     "text": [
      "{'eval_loss': 0.391033411026001, 'eval_accuracy': 0.8434245366284201, 'eval_f1_score': 0.5934300993124523, 'eval_precision': 0.6618950238582141, 'eval_recall': 0.5378011631127112, 'eval_runtime': 2.4353, 'eval_samples_per_second': 634.427, 'eval_steps_per_second': 20.121, 'epoch': 22.16}\n"
     ]
    },
    {
     "name": "stderr",
     "output_type": "stream",
     "text": [
      " 90%|████████▉ | 4357/4850 [02:58<00:11, 42.39it/s]"
     ]
    },
    {
     "name": "stdout",
     "output_type": "stream",
     "text": [
      "{'loss': 0.2455, 'grad_norm': 0.3829924166202545, 'learning_rate': 0.00010309278350515463, 'epoch': 22.42}\n"
     ]
    },
    {
     "name": "stderr",
     "output_type": "stream",
     "text": [
      " 91%|█████████ | 4400/4850 [02:59<00:07, 64.21it/s]"
     ]
    },
    {
     "name": "stdout",
     "output_type": "stream",
     "text": [
      "{'loss': 0.2471, 'grad_norm': 0.3469645082950592, 'learning_rate': 9.278350515463918e-05, 'epoch': 22.68}\n"
     ]
    },
    {
     "name": "stderr",
     "output_type": "stream",
     "text": [
      "                                                   \n",
      " 91%|█████████ | 4407/4850 [03:04<01:51,  3.98it/s]"
     ]
    },
    {
     "name": "stdout",
     "output_type": "stream",
     "text": [
      "{'eval_loss': 0.39022931456565857, 'eval_accuracy': 0.8440717858193586, 'eval_f1_score': 0.5954198473282443, 'eval_precision': 0.6634909833276624, 'eval_recall': 0.5400166158958737, 'eval_runtime': 5.5126, 'eval_samples_per_second': 280.265, 'eval_steps_per_second': 8.889, 'epoch': 22.68}\n"
     ]
    },
    {
     "name": "stderr",
     "output_type": "stream",
     "text": [
      " 92%|█████████▏| 4456/4850 [03:05<00:13, 28.61it/s]"
     ]
    },
    {
     "name": "stdout",
     "output_type": "stream",
     "text": [
      "{'loss': 0.2341, 'grad_norm': 0.3612804114818573, 'learning_rate': 8.247422680412371e-05, 'epoch': 22.94}\n"
     ]
    },
    {
     "name": "stderr",
     "output_type": "stream",
     "text": [
      " 93%|█████████▎| 4500/4850 [03:06<00:06, 57.48it/s]"
     ]
    },
    {
     "name": "stdout",
     "output_type": "stream",
     "text": [
      "{'loss': 0.2439, 'grad_norm': 0.4216364622116089, 'learning_rate': 7.216494845360824e-05, 'epoch': 23.2}\n"
     ]
    },
    {
     "name": "stderr",
     "output_type": "stream",
     "text": [
      "                                                   \n",
      " 93%|█████████▎| 4508/4850 [03:08<00:29, 11.57it/s]"
     ]
    },
    {
     "name": "stdout",
     "output_type": "stream",
     "text": [
      "{'eval_loss': 0.3869364559650421, 'eval_accuracy': 0.8440717858193586, 'eval_f1_score': 0.5930589680589681, 'eval_precision': 0.6656325405032747, 'eval_recall': 0.5347549155358626, 'eval_runtime': 2.3721, 'eval_samples_per_second': 651.317, 'eval_steps_per_second': 20.657, 'epoch': 23.2}\n"
     ]
    },
    {
     "name": "stderr",
     "output_type": "stream",
     "text": [
      " 94%|█████████▍| 4558/4850 [03:09<00:06, 47.64it/s]"
     ]
    },
    {
     "name": "stdout",
     "output_type": "stream",
     "text": [
      "{'loss': 0.2359, 'grad_norm': 0.44467076659202576, 'learning_rate': 6.185567010309279e-05, 'epoch': 23.45}\n"
     ]
    },
    {
     "name": "stderr",
     "output_type": "stream",
     "text": [
      " 95%|█████████▍| 4600/4850 [03:10<00:04, 62.20it/s]"
     ]
    },
    {
     "name": "stdout",
     "output_type": "stream",
     "text": [
      "{'loss': 0.2422, 'grad_norm': 0.41890376806259155, 'learning_rate': 5.1546391752577315e-05, 'epoch': 23.71}\n"
     ]
    },
    {
     "name": "stderr",
     "output_type": "stream",
     "text": [
      "                                                   \n",
      " 95%|█████████▍| 4607/4850 [03:12<00:29,  8.28it/s]"
     ]
    },
    {
     "name": "stdout",
     "output_type": "stream",
     "text": [
      "{'eval_loss': 0.3877215087413788, 'eval_accuracy': 0.8438364224771991, 'eval_f1_score': 0.5883995037220844, 'eval_precision': 0.6686640817765245, 'eval_recall': 0.5253392412074218, 'eval_runtime': 2.3798, 'eval_samples_per_second': 649.208, 'eval_steps_per_second': 20.59, 'epoch': 23.71}\n"
     ]
    },
    {
     "name": "stderr",
     "output_type": "stream",
     "text": [
      " 96%|█████████▌| 4658/4850 [03:13<00:04, 42.89it/s]"
     ]
    },
    {
     "name": "stdout",
     "output_type": "stream",
     "text": [
      "{'loss': 0.2415, 'grad_norm': 0.5711769461631775, 'learning_rate': 4.1237113402061855e-05, 'epoch': 23.97}\n"
     ]
    },
    {
     "name": "stderr",
     "output_type": "stream",
     "text": [
      " 97%|█████████▋| 4700/4850 [03:14<00:02, 62.10it/s]"
     ]
    },
    {
     "name": "stdout",
     "output_type": "stream",
     "text": [
      "{'loss': 0.2409, 'grad_norm': 0.42343130707740784, 'learning_rate': 3.0927835051546395e-05, 'epoch': 24.23}\n"
     ]
    },
    {
     "name": "stderr",
     "output_type": "stream",
     "text": [
      "                                                   \n",
      " 97%|█████████▋| 4708/4850 [03:16<00:11, 11.90it/s]"
     ]
    },
    {
     "name": "stdout",
     "output_type": "stream",
     "text": [
      "{'eval_loss': 0.38617244362831116, 'eval_accuracy': 0.8441894674904383, 'eval_f1_score': 0.5928659286592866, 'eval_precision': 0.6664362253715866, 'eval_recall': 0.5339241207421767, 'eval_runtime': 2.2995, 'eval_samples_per_second': 671.898, 'eval_steps_per_second': 21.309, 'epoch': 24.23}\n"
     ]
    },
    {
     "name": "stderr",
     "output_type": "stream",
     "text": [
      " 98%|█████████▊| 4759/4850 [03:17<00:01, 49.28it/s]"
     ]
    },
    {
     "name": "stdout",
     "output_type": "stream",
     "text": [
      "{'loss': 0.2346, 'grad_norm': 0.41015109419822693, 'learning_rate': 2.0618556701030927e-05, 'epoch': 24.48}\n"
     ]
    },
    {
     "name": "stderr",
     "output_type": "stream",
     "text": [
      " 99%|█████████▉| 4800/4850 [03:17<00:00, 64.32it/s]"
     ]
    },
    {
     "name": "stdout",
     "output_type": "stream",
     "text": [
      "{'loss': 0.242, 'grad_norm': 0.35142940282821655, 'learning_rate': 1.0309278350515464e-05, 'epoch': 24.74}\n"
     ]
    },
    {
     "name": "stderr",
     "output_type": "stream",
     "text": [
      "                                                   \n",
      " 99%|█████████▉| 4803/4850 [03:20<00:05,  8.65it/s]"
     ]
    },
    {
     "name": "stdout",
     "output_type": "stream",
     "text": [
      "{'eval_loss': 0.38813114166259766, 'eval_accuracy': 0.8437187408061194, 'eval_f1_score': 0.5963525835866261, 'eval_precision': 0.6608285618053217, 'eval_recall': 0.5433397950706176, 'eval_runtime': 2.3543, 'eval_samples_per_second': 656.234, 'eval_steps_per_second': 20.813, 'epoch': 24.74}\n"
     ]
    },
    {
     "name": "stderr",
     "output_type": "stream",
     "text": [
      "100%|██████████| 4850/4850 [03:21<00:00, 24.10it/s]"
     ]
    },
    {
     "name": "stdout",
     "output_type": "stream",
     "text": [
      "{'loss': 0.2519, 'grad_norm': 10.10573959350586, 'learning_rate': 0.0, 'epoch': 25.0}\n",
      "{'train_runtime': 203.2019, 'train_samples_per_second': 760.205, 'train_steps_per_second': 23.868, 'train_loss': 0.29896262807944385, 'epoch': 25.0}\n"
     ]
    },
    {
     "name": "stderr",
     "output_type": "stream",
     "text": [
      "\n"
     ]
    },
    {
     "data": {
      "text/plain": [
       "TrainOutput(global_step=4850, training_loss=0.29896262807944385, metrics={'train_runtime': 203.2019, 'train_samples_per_second': 760.205, 'train_steps_per_second': 23.868, 'total_flos': 11827664987400.0, 'train_loss': 0.29896262807944385, 'epoch': 25.0})"
      ]
     },
     "execution_count": 54,
     "metadata": {},
     "output_type": "execute_result"
    }
   ],
   "source": [
    "# Start training and log to WandB\n",
    "trainer.train()"
   ]
  },
  {
   "cell_type": "code",
   "execution_count": 55,
   "id": "d9621625-1575-4c0c-9aaa-63aa338998f1",
   "metadata": {},
   "outputs": [
    {
     "name": "stderr",
     "output_type": "stream",
     "text": [
      "100%|██████████| 49/49 [00:02<00:00, 21.31it/s] \n"
     ]
    },
    {
     "data": {
      "text/plain": [
       "{'eval_loss': 0.38813114166259766,\n",
       " 'eval_accuracy': 0.8437187408061194,\n",
       " 'eval_f1_score': 0.5963525835866261,\n",
       " 'eval_precision': 0.6608285618053217,\n",
       " 'eval_recall': 0.5433397950706176,\n",
       " 'eval_runtime': 2.3087,\n",
       " 'eval_samples_per_second': 669.207,\n",
       " 'eval_steps_per_second': 21.224,\n",
       " 'epoch': 25.0}"
      ]
     },
     "execution_count": 55,
     "metadata": {},
     "output_type": "execute_result"
    }
   ],
   "source": [
    "trainer.evaluate()"
   ]
  },
  {
   "cell_type": "markdown",
   "id": "4725d78d-2bdd-4abe-9422-16ac3fb074e1",
   "metadata": {},
   "source": [
    "### Step 8: Confusion Matrix"
   ]
  },
  {
   "cell_type": "code",
   "execution_count": 56,
   "id": "75450084-cedc-42c7-8275-cc9bf3eb205a",
   "metadata": {},
   "outputs": [
    {
     "name": "stderr",
     "output_type": "stream",
     "text": [
      "100%|██████████| 49/49 [00:02<00:00, 20.99it/s] \n"
     ]
    }
   ],
   "source": [
    "# Predict using the validation set\n",
    "valid_output = trainer.predict(hf_test_set)  # Replace 'validset' with the actual valid dataset variable"
   ]
  },
  {
   "cell_type": "code",
   "execution_count": 57,
   "id": "d5d3289b-3605-4ade-ba0a-6ffbd7a81455",
   "metadata": {},
   "outputs": [
    {
     "name": "stdout",
     "output_type": "stream",
     "text": [
      "('predictions', 'label_ids', 'metrics')\n"
     ]
    }
   ],
   "source": [
    "print(valid_output._fields)"
   ]
  },
  {
   "cell_type": "code",
   "execution_count": 58,
   "id": "ad7c68a4-1587-456c-bc1e-6a9528eea8c5",
   "metadata": {},
   "outputs": [],
   "source": [
    "# For multi-label classification, use sigmoid and threshold the predictions\n",
    "valid_preds = (torch.sigmoid(torch.tensor(valid_output.predictions)) > 0.5).int().numpy()\n",
    "\n",
    "# Extract the actual labels (if available)\n",
    "valid_labels = np.array(valid_output.label_ids)  # Only if ground truth labels are available"
   ]
  },
  {
   "cell_type": "code",
   "execution_count": 59,
   "id": "ea0f68b9-b312-4f88-ab27-2a77ea1afea3",
   "metadata": {},
   "outputs": [],
   "source": [
    "import matplotlib.pyplot as plt\n",
    "import seaborn as sns\n",
    "from sklearn.metrics import multilabel_confusion_matrix\n",
    "\n",
    "def plot_confusion_matrix(valid_labels, valid_preds, class_labels):\n",
    "    \"\"\"\n",
    "    Plots confusion matrices for each emotion (multi-label classification).\n",
    "    \n",
    "    Args:\n",
    "        valid_labels (array-like): True labels of the validation data.\n",
    "        valid_preds (array-like): Predicted labels of the validation data.\n",
    "        class_labels (list): List of class names for the labels (from `my_config.id2label.values()`).\n",
    "    \"\"\"\n",
    "    # Compute the confusion matrix for each label\n",
    "    confusion_matrices = multilabel_confusion_matrix(valid_labels, valid_preds)\n",
    "    \n",
    "    # Plot confusion matrix for each class\n",
    "    fig, axes = plt.subplots(3, 4, figsize=(15, 10))  # Adjust based on the number of labels (11 classes)\n",
    "    axes = axes.flatten()\n",
    "\n",
    "    for i, cm in enumerate(confusion_matrices):\n",
    "        sns.heatmap(cm, annot=True, fmt=\"d\", cmap=\"Blues\", ax=axes[i])\n",
    "        axes[i].set_title(f'Confusion Matrix: {class_labels[i]}')\n",
    "        axes[i].set_xlabel('Predicted')\n",
    "        axes[i].set_ylabel('True')\n",
    "    \n",
    "    # Adjust layout\n",
    "    plt.tight_layout()\n",
    "    plt.show()\n"
   ]
  },
  {
   "cell_type": "code",
   "execution_count": 60,
   "id": "e4025bb2-5a1c-4e9c-b53a-9e38cca6953f",
   "metadata": {},
   "outputs": [
    {
     "data": {
      "image/png": "[encoded data removed]",
      "text/plain": [
       "<Figure size 1500x1000 with 23 Axes>"
      ]
     },
     "metadata": {},
     "output_type": "display_data"
    }
   ],
   "source": [
    "# Use class labels from my_config.id2label\n",
    "plot_confusion_matrix(valid_labels,\n",
    "                      valid_preds,\n",
    "                      class_labels=list(my_config.id2label.values()))"
   ]
  },
  {
   "cell_type": "code",
   "execution_count": 61,
   "id": "52f6b113-68fa-49a7-a133-bee6318191ff",
   "metadata": {},
   "outputs": [],
   "source": [
    "# Import necessary libraries\n",
    "import wandb\n",
    "import numpy as np\n",
    "from sklearn.metrics import confusion_matrix\n",
    "\n",
    "# Log each confusion matrix separately for multi-label classification\n",
    "for i, class_name in enumerate(list(my_config.id2label.values())):\n",
    "    cm = confusion_matrix(valid_labels[:, i], valid_preds[:, i])  # Confusion matrix for each label\n",
    "    cm_plot = sns.heatmap(cm, annot=True, fmt=\"d\", cmap=\"Blues\").get_figure()\n",
    "\n",
    "    # Log the confusion matrix plot to WandB for each class\n",
    "    wandb.log({f\"conf_matrix_{class_name}\": wandb.Image(cm_plot)})\n",
    "    \n",
    "    # Close the figure to avoid overlap\n",
    "    plt.close(cm_plot)\n"
   ]
  },
  {
   "cell_type": "markdown",
   "id": "535c5243-8a5a-4ff9-805c-39376e00b008",
   "metadata": {},
   "source": [
    "#### Best CheckPoint"
   ]
  },
  {
   "cell_type": "code",
   "execution_count": 62,
   "id": "1b1355cf-80a0-4883-806f-eef2f5756015",
   "metadata": {},
   "outputs": [
    {
     "name": "stdout",
     "output_type": "stream",
     "text": [
      "The best model was saved at step 4800.\n"
     ]
    }
   ],
   "source": [
    "# Check the best checkpoint saved during training\n",
    "best_model_checkpoint_step = trainer.state.best_model_checkpoint.split('-')[-1]\n",
    "print(f\"The best model was saved at step {best_model_checkpoint_step}.\")\n"
   ]
  },
  {
   "cell_type": "code",
   "execution_count": 63,
   "id": "884a5032-6b43-401c-aaf0-665aac3692f2",
   "metadata": {},
   "outputs": [
    {
     "data": {
      "text/html": [
       "<style>\n",
       "    table.wandb td:nth-child(1) { padding: 0 10px; text-align: left ; width: auto;} td:nth-child(2) {text-align: left ; width: 100%}\n",
       "    .wandb-row { display: flex; flex-direction: row; flex-wrap: wrap; justify-content: flex-start; width: 100% }\n",
       "    .wandb-col { display: flex; flex-direction: column; flex-basis: 100%; flex: 1; padding: 10px; }\n",
       "    </style>\n",
       "<div class=\"wandb-row\"><div class=\"wandb-col\"><h3>Run history:</h3><br/><table class=\"wandb\"><tr><td>eval/accuracy</td><td>▁▃▄▅▆▆▇▇▇▇██████████████████████████████</td></tr><tr><td>eval/f1_score</td><td>▁▃▅▆▇▇▇▇▇▇██████████████████████████████</td></tr><tr><td>eval/loss</td><td>█▆▅▄▃▂▂▁▁▂▁▁▁▁▁▁▁▁▁▁▁▁▁▁▁▁▁▁▂▂▂▂▂▂▂▂▂▂▂▂</td></tr><tr><td>eval/precision</td><td>▄▃▂▁▄▄█▅▆▃▆▆▇▆▅▇▅▇▆▅▅▄▅▆▆▆▄▅▄▅▅▃▄▄▄▄▄▄▄▃</td></tr><tr><td>eval/recall</td><td>▁▃▄▅▆▇▆▇▇▇▇█▇▇██████████████████████████</td></tr><tr><td>eval/runtime</td><td>▂▁▂▁▁▁▁▁▁▁▁▁▁▁▂▁▁▁▂▁▁▂▁▁▂▁▁▂▄▁▁▁▁▂▁█▁▁▁▁</td></tr><tr><td>eval/samples_per_second</td><td>▆█▇█▇▇████▇▇█▅▇████▅▇▇▇▇▇▇▇▇▆▃▇█▇▇▇▁▇▇█▇</td></tr><tr><td>eval/steps_per_second</td><td>█▇█▇▇████▆▇█▅▇▇███▅▇▇▇▇▇▆▇▇▆▃█▇█▇▇▇▁▇▇█▇</td></tr><tr><td>test/accuracy</td><td>▁</td></tr><tr><td>test/f1_score</td><td>▁</td></tr><tr><td>test/loss</td><td>▁</td></tr><tr><td>test/precision</td><td>▁</td></tr><tr><td>test/recall</td><td>▁</td></tr><tr><td>test/runtime</td><td>▁</td></tr><tr><td>test/samples_per_second</td><td>▁</td></tr><tr><td>test/steps_per_second</td><td>▁</td></tr><tr><td>train/epoch</td><td>▁▁▁▂▂▂▂▃▃▃▃▄▄▄▄▄▄▄▄▄▅▅▅▅▅▅▆▆▆▆▆▆▇▇▇▇▇███</td></tr><tr><td>train/global_step</td><td>▁▁▁▂▂▃▃▃▃▃▄▄▄▄▄▄▄▄▄▅▅▅▅▅▆▆▆▆▆▆▆▆▇▇▇▇▇███</td></tr><tr><td>train/grad_norm</td><td>▇▆▆▆▆▆▄▅▃▅▄▁▃▆▅▃▂▃▃▄▄▃▅▁▄▇▄▁▇▁▃▂▄▄▇▃▃▂█▂</td></tr><tr><td>train/learning_rate</td><td>███▇▇▇▆▆▆▆▅▅▅▅▅▅▅▅▄▄▄▄▄▄▄▃▃▃▃▃▂▂▂▂▂▂▂▁▁▁</td></tr><tr><td>train/loss</td><td>█▇▆▆▆▅▅▄▄▄▄▄▃▃▄▃▃▃▃▃▃▃▃▃▂▂▂▂▂▂▂▁▁▂▁▂▁▁▁▁</td></tr></table><br/></div><div class=\"wandb-col\"><h3>Run summary:</h3><br/><table class=\"wandb\"><tr><td>eval/accuracy</td><td>0.84372</td></tr><tr><td>eval/f1_score</td><td>0.59635</td></tr><tr><td>eval/loss</td><td>0.38813</td></tr><tr><td>eval/precision</td><td>0.66083</td></tr><tr><td>eval/recall</td><td>0.54334</td></tr><tr><td>eval/runtime</td><td>2.3087</td></tr><tr><td>eval/samples_per_second</td><td>669.207</td></tr><tr><td>eval/steps_per_second</td><td>21.224</td></tr><tr><td>test/accuracy</td><td>0.84372</td></tr><tr><td>test/f1_score</td><td>0.59635</td></tr><tr><td>test/loss</td><td>0.38813</td></tr><tr><td>test/precision</td><td>0.66083</td></tr><tr><td>test/recall</td><td>0.54334</td></tr><tr><td>test/runtime</td><td>2.3473</td></tr><tr><td>test/samples_per_second</td><td>658.208</td></tr><tr><td>test/steps_per_second</td><td>20.875</td></tr><tr><td>total_flos</td><td>11827664987400.0</td></tr><tr><td>train/epoch</td><td>25</td></tr><tr><td>train/global_step</td><td>4850</td></tr><tr><td>train/grad_norm</td><td>10.10574</td></tr><tr><td>train/learning_rate</td><td>0</td></tr><tr><td>train/loss</td><td>0.2519</td></tr><tr><td>train_loss</td><td>0.29896</td></tr><tr><td>train_runtime</td><td>203.2019</td></tr><tr><td>train_samples_per_second</td><td>760.205</td></tr><tr><td>train_steps_per_second</td><td>23.868</td></tr></table><br/></div></div>"
      ],
      "text/plain": [
       "<IPython.core.display.HTML object>"
      ]
     },
     "metadata": {},
     "output_type": "display_data"
    },
    {
     "data": {
      "text/html": [
       " View run <strong style=\"color:#cdcd00\">emotion_detection_trainer</strong> at: <a href='https://wandb.ai/shobhit-pachauri-university-of-texas-at-dallas/emotion_detection_fall_2024/runs/4slig96p' target=\"_blank\">https://wandb.ai/shobhit-pachauri-university-of-texas-at-dallas/emotion_detection_fall_2024/runs/4slig96p</a><br/> View project at: <a href='https://wandb.ai/shobhit-pachauri-university-of-texas-at-dallas/emotion_detection_fall_2024' target=\"_blank\">https://wandb.ai/shobhit-pachauri-university-of-texas-at-dallas/emotion_detection_fall_2024</a><br/>Synced 5 W&B file(s), 0 media file(s), 0 artifact file(s) and 11 other file(s)"
      ],
      "text/plain": [
       "<IPython.core.display.HTML object>"
      ]
     },
     "metadata": {},
     "output_type": "display_data"
    },
    {
     "data": {
      "text/html": [
       "Find logs at: <code>.\\wandb\\run-20241006_134157-4slig96p\\logs</code>"
      ],
      "text/plain": [
       "<IPython.core.display.HTML object>"
      ]
     },
     "metadata": {},
     "output_type": "display_data"
    }
   ],
   "source": [
    "wandb.finish()"
   ]
  },
  {
   "cell_type": "markdown",
   "id": "676aa9f4-454e-41c6-bbfb-55fa3755bf18",
   "metadata": {},
   "source": [
    "### Step 9: Performance on the Test Set"
   ]
  },
  {
   "cell_type": "markdown",
   "id": "d69df15c-0f59-4ba1-ba2b-bac44709637f",
   "metadata": {},
   "source": [
    "#### Load Model From Checkpoint"
   ]
  },
  {
   "cell_type": "code",
   "execution_count": 65,
   "id": "94e9bd99-39f6-4b5a-aee8-f38bde308e79",
   "metadata": {},
   "outputs": [
    {
     "name": "stdout",
     "output_type": "stream",
     "text": [
      "Model loaded successfully!\n",
      "CustomMLP(\n",
      "  (embedding_bag): EmbeddingBag(4988, 300, mode='mean')\n",
      "  (layers): Sequential(\n",
      "    (0): Linear(in_features=300, out_features=200, bias=True)\n",
      "    (1): BatchNorm1d(200, eps=1e-05, momentum=0.1, affine=True, track_running_stats=True)\n",
      "    (2): ReLU()\n",
      "    (3): Dropout(p=0.5, inplace=False)\n",
      "    (4): Linear(in_features=200, out_features=100, bias=True)\n",
      "    (5): BatchNorm1d(100, eps=1e-05, momentum=0.1, affine=True, track_running_stats=True)\n",
      "    (6): ReLU()\n",
      "    (7): Dropout(p=0.5, inplace=False)\n",
      "    (8): Linear(in_features=100, out_features=11, bias=True)\n",
      "  )\n",
      ")\n"
     ]
    }
   ],
   "source": [
    "from pathlib import Path\n",
    "import torch\n",
    "\n",
    "# Define the base path and checkpoint folder in emotion_results\n",
    "emotion_results_folder = Path(basepath) / 'emotion_results'\n",
    "\n",
    "# Assuming the best checkpoint step is 8600\n",
    "best_model_checkpoint_step = 4800\n",
    "\n",
    "# Define the path to the best model checkpoint inside the emotion_results folder\n",
    "model_checkpoint = emotion_results_folder / f'checkpoint-{best_model_checkpoint_step}'\n",
    "\n",
    "# Check if the checkpoint folder exists\n",
    "if not model_checkpoint.exists():\n",
    "    raise FileNotFoundError(f\"Checkpoint directory does not exist: {model_checkpoint}\")\n",
    "\n",
    "# Convert to string if required (since 'from_pretrained()' expects a string path)\n",
    "model_checkpoint = str(model_checkpoint)\n",
    "\n",
    "# Instantiate the CustomMLP model with predefined configurations\n",
    "model = CustomMLP(my_config)\n",
    "\n",
    "# Use from_pretrained() to load the weights from the specified checkpoint directory\n",
    "model = model.from_pretrained(model_checkpoint, config=my_config, local_files_only=True)\n",
    "\n",
    "# Move the model to the appropriate device (CPU or GPU)\n",
    "device = 'cuda' if torch.cuda.is_available() else 'cpu'\n",
    "model.to(device)\n",
    "\n",
    "# Put the model in evaluation mode\n",
    "model.eval()\n",
    "\n",
    "# Display the loaded model\n",
    "print(\"Model loaded successfully!\")\n",
    "print(model)\n"
   ]
  },
  {
   "cell_type": "markdown",
   "id": "e1c62ce7-86d8-48cc-82a7-058ec5829785",
   "metadata": {},
   "source": [
    "#### Instantiate Trainer for Evaluation"
   ]
  },
  {
   "cell_type": "code",
   "execution_count": 66,
   "id": "74077b42-c6ca-4a13-843f-cb3ab518462e",
   "metadata": {},
   "outputs": [],
   "source": [
    "import torch\n",
    "\n",
    "def collate_batch(batch, my_vocab):\n",
    "    \"\"\"\n",
    "    Prepares a batch of data by transforming texts into indices based on a vocabulary and\n",
    "    converting labels into a tensor (if labels exist).\n",
    "\n",
    "    Args:\n",
    "        batch (list of dict): A batch of data where each element is a dictionary with keys\n",
    "                              'labels' (if available) and 'Cleaned_Reviews' (the tweets).\n",
    "        my_vocab (Vocab): The vocabulary object that maps tokens to indices.\n",
    "\n",
    "    Returns:\n",
    "        dict: A dictionary with two or three keys:\n",
    "              - 'input_ids': A tensor containing concatenated indices of the texts.\n",
    "              - 'offsets': A tensor representing the starting index of each text in 'input_ids'.\n",
    "              - 'labels': A tensor of the labels for each text in the batch (if available).\n",
    "    \"\"\"\n",
    "\n",
    "    # Extract texts (tweets) from the batch\n",
    "    texts = [sample['Cleaned_Reviews'] for sample in batch]  # Texts (tweets)\n",
    "\n",
    "    # Convert the list of texts into a list of token indices using the tokenizer\n",
    "    list_of_list_of_indices = [tokenizer(text, my_vocab) for text in texts]\n",
    "\n",
    "    # Concatenate all token indices into a single tensor (input_ids)\n",
    "    input_ids = torch.cat([torch.tensor(i, dtype=torch.int64) for i in list_of_list_of_indices])\n",
    "\n",
    "    # Compute the offsets for each text in the concatenated tensor\n",
    "    offsets = [0] + [len(i) for i in list_of_list_of_indices]\n",
    "    offsets = torch.tensor(offsets[:-1]).cumsum(dim=0)\n",
    "\n",
    "    # Check if the labels exist in the batch (for labelled datasets)\n",
    "    if 'labels' in batch[0]:\n",
    "        # Extract labels from the batch (multi-labels)\n",
    "        labels = [sample['labels'] for sample in batch]\n",
    "        # Convert the list of labels into a tensor (dtype float32 for multi-label classification)\n",
    "        labels = torch.tensor(labels, dtype=torch.float32)\n",
    "        return {\n",
    "            'input_ids': input_ids,  # Flattened input tokens\n",
    "            'offsets': offsets,      # Offsets to keep track of the start of each tweet\n",
    "            'labels': labels         # Multi-labels (emotion binary vectors)\n",
    "        }\n",
    "    \n",
    "    # If no labels are available (for unlabelled data)\n",
    "    return {\n",
    "        'input_ids': input_ids,  # Flattened input tokens\n",
    "        'offsets': offsets       # Offsets to keep track of the start of each tweet\n",
    "    }\n"
   ]
  },
  {
   "cell_type": "code",
   "execution_count": 67,
   "id": "cca6f5ca-39eb-461b-b33b-7b7363159e31",
   "metadata": {},
   "outputs": [],
   "source": [
    "from functools import partial\n",
    "\n",
    "# Assuming 'emotion_vocab' has been created earlier\n",
    "collate_fn = partial(collate_batch, my_vocab=emotion_vocab)"
   ]
  },
  {
   "cell_type": "code",
   "execution_count": 68,
   "id": "737dc585-cb6b-4861-a1bf-04cf70f39471",
   "metadata": {},
   "outputs": [],
   "source": [
    "from transformers import TrainingArguments\n",
    "\n",
    "# Configure training arguments for model evaluation\n",
    "training_args = TrainingArguments(\n",
    "    output_dir=\"./emotion_results\",  # Directory to save results\n",
    "    per_device_eval_batch_size=16,   # Batch size for evaluation\n",
    "    do_train=False,                  # Skip training\n",
    "    do_eval=True,                    # Only do evaluation\n",
    "    remove_unused_columns=False,     # Retain all columns in the dataset\n",
    "    report_to=[],                    # Disable logging to external services like Weights & Biases\n",
    ")\n"
   ]
  },
  {
   "cell_type": "code",
   "execution_count": 69,
   "id": "8a41af1a-bc13-403e-ac12-11e987b882ec",
   "metadata": {},
   "outputs": [],
   "source": [
    "from transformers import Trainer\n",
    "\n",
    "# Instantiate the Trainer for evaluation\n",
    "trainer = Trainer(\n",
    "    model=model,                   # The loaded model (CustomMLP)\n",
    "    args=training_args,             # The evaluation-specific training arguments\n",
    "    eval_dataset=hf_valid_dataset,  # The validation dataset (unseen data for prediction)\n",
    "    data_collator=collate_fn,       # The custom collate function\n",
    ")\n"
   ]
  },
  {
   "cell_type": "code",
   "execution_count": 70,
   "id": "07d0dfd6-957f-41ca-8388-11f811e246ba",
   "metadata": {},
   "outputs": [
    {
     "name": "stderr",
     "output_type": "stream",
     "text": [
      "100%|██████████| 204/204 [00:00<00:00, 441.82it/s]\n"
     ]
    }
   ],
   "source": [
    "# Make predictions using the validation dataset (unlabelled)\n",
    "valid_output = trainer.predict(hf_valid_dataset)"
   ]
  },
  {
   "cell_type": "code",
   "execution_count": 71,
   "id": "c68b5d24-ca65-4a2b-ab0c-077464f44ccb",
   "metadata": {},
   "outputs": [
    {
     "name": "stdout",
     "output_type": "stream",
     "text": [
      "('predictions', 'label_ids', 'metrics')\n"
     ]
    }
   ],
   "source": [
    "# Check the output fields (e.g., logits and predictions)\n",
    "print(valid_output._fields)  # Shows predictions, labels, and metrics (if applicable)\n"
   ]
  },
  {
   "cell_type": "code",
   "execution_count": 72,
   "id": "2128059b-d223-4205-829b-7a8e8e7772ef",
   "metadata": {},
   "outputs": [
    {
     "name": "stdout",
     "output_type": "stream",
     "text": [
      "[[1 0 1 1 0 0 0 0 0 0 0]\n",
      " [1 0 1 0 0 0 0 0 0 0 0]\n",
      " [1 0 1 0 0 0 0 0 0 0 0]\n",
      " [1 0 1 0 0 0 0 0 1 0 0]\n",
      " [0 0 0 0 0 0 0 0 1 0 0]]\n"
     ]
    }
   ],
   "source": [
    "import torch\n",
    "\n",
    "# Apply sigmoid activation to logits to get probabilities\n",
    "valid_preds = (torch.sigmoid(torch.tensor(valid_output.predictions)) > 0.5).int().numpy()\n",
    "\n",
    "# Print a few sample predictions (multi-label binary vectors)\n",
    "print(valid_preds[:5])  # First 5 predictions\n"
   ]
  },
  {
   "cell_type": "code",
   "execution_count": 73,
   "id": "badbef83-f0fa-4e51-9fda-642e85dd59cf",
   "metadata": {},
   "outputs": [
    {
     "name": "stdout",
     "output_type": "stream",
     "text": [
      "[[1 0 1 ... 0 0 0]\n",
      " [1 0 1 ... 0 0 0]\n",
      " [1 0 1 ... 0 0 0]\n",
      " ...\n",
      " [1 0 1 ... 1 0 0]\n",
      " [0 0 0 ... 0 0 0]\n",
      " [0 0 0 ... 0 0 0]]\n"
     ]
    }
   ],
   "source": [
    "print(valid_preds)"
   ]
  },
  {
   "cell_type": "code",
   "execution_count": 74,
   "id": "b458e6b2",
   "metadata": {},
   "outputs": [],
   "source": [
    "test_df = pd.read_csv(data_folder/'train.csv')"
   ]
  },
  {
   "cell_type": "code",
   "execution_count": 75,
   "id": "1a850d87",
   "metadata": {},
   "outputs": [],
   "source": [
    "# Create a DataFrame for the submission\n",
    "submission = pd.DataFrame(valid_preds, columns=['anger', 'anticipation', 'disgust', 'fear', 'joy', 'love', 'optimism', 'pessimism', 'sadness', 'surprise', 'trust'])\n",
    "\n",
    "# Add the tweet IDs to the submission DataFrame\n",
    "submission.insert(0, 'ID', test_df['ID'])  # Adjust 'ID' to your ID column name\n",
    "\n",
    "# Save the submission file\n",
    "submission.to_csv( data_folder / 'submission_file2.csv', index=False)  # Update the filename as needed"
   ]
  },
  {
   "cell_type": "code",
   "execution_count": null,
   "id": "46942a89",
   "metadata": {},
   "outputs": [],
   "source": []
  },
  {
   "cell_type": "code",
   "execution_count": null,
   "id": "89f4b7d9",
   "metadata": {},
   "outputs": [],
   "source": []
  }
 ],
 "metadata": {
  "kernelspec": {
   "display_name": "Python 3",
   "language": "python",
   "name": "python3"
  },
  "language_info": {
   "codemirror_mode": {
    "name": "ipython",
    "version": 3
   },
   "file_extension": ".py",
   "mimetype": "text/x-python",
   "name": "python",
   "nbconvert_exporter": "python",
   "pygments_lexer": "ipython3",
   "version": "3.11.10"
  }
 },
 "nbformat": 4,
 "nbformat_minor": 5
}
