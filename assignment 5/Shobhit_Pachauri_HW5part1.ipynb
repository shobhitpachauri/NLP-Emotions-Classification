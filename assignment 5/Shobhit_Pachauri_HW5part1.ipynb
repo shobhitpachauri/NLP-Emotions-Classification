{
 "cells": [
  {
   "cell_type": "code",
   "execution_count": 1,
   "id": "dfec6efd",
   "metadata": {},
   "outputs": [],
   "source": [
    "import os\n",
    "os.environ['PYTORCH_ENABLE_MPS_FALLBACK'] = '1'"
   ]
  },
  {
   "cell_type": "markdown",
   "id": "86303448",
   "metadata": {},
   "source": [
    "### Step 1: Importing necessary libraries"
   ]
  },
  {
   "cell_type": "code",
   "execution_count": 2,
   "id": "b1300ce5-1b87-42d2-be25-8a37b6518628",
   "metadata": {},
   "outputs": [],
   "source": [
    "# Importing PyTorch library for tensor computations and neural network modules\n",
    "import torch\n",
    "import torch.nn as nn\n",
    "import random\n",
    "import numpy as np\n",
    "import pandas as pd\n",
    "import joblib\n",
    "from collections import Counter\n",
    "\n",
    "# For creating lightweight attribute classes and for partial function application\n",
    "from functools import partial\n",
    "\n",
    "# For filesystem path handling, generating and displaying confusion matrices, and date-time manipulations\n",
    "from pathlib import Path\n",
    "from sklearn.metrics import confusion_matrix\n",
    "from datetime import datetime\n",
    "\n",
    "# For plotting and visualization\n",
    "import matplotlib.pyplot as plt\n",
    "import seaborn as sns\n",
    "# %matplotlib inline\n",
    "\n",
    "# imports from Huggingface ecosystem\n",
    "from transformers.modeling_outputs import SequenceClassifierOutput\n",
    "from transformers import PreTrainedModel, PretrainedConfig\n",
    "from transformers import TrainingArguments, Trainer\n",
    "from datasets import Dataset\n",
    "import evaluate\n",
    "\n",
    "# wandb library\n",
    "import wandb"
   ]
  },
  {
   "cell_type": "markdown",
   "id": "764d3903",
   "metadata": {},
   "source": [
    "#### Setting up directory for the files"
   ]
  },
  {
   "cell_type": "code",
   "execution_count": 3,
   "id": "546cf8fc-2468-48ba-9451-789c4ad0cf2a",
   "metadata": {},
   "outputs": [
    {
     "name": "stdout",
     "output_type": "stream",
     "text": [
      "Current working directory: /Users/anxiousviking/Documents/course/Sem 3/NLP/lect 5/assignment\n",
      "Model folder created: True\n",
      "Custom functions folder created: True\n"
     ]
    }
   ],
   "source": [
    "import os\n",
    "from pathlib import Path\n",
    "\n",
    "# Set the working directory to the given location\n",
    "os.chdir(r'/Users/anxiousviking/Documents/course/Sem 3/NLP/lect 5/assignment')\n",
    "\n",
    "# Verify the current working directory\n",
    "print(f\"Current working directory: {os.getcwd()}\")\n",
    "\n",
    "# Define the base path\n",
    "basepath = r'/Users/anxiousviking/Documents/course/Sem 3/NLP/lect 5/assignment'\n",
    "\n",
    "# Create the data folder, model folder, and custom functions folder\n",
    "data_folder = Path(basepath) / 'data_folder/'\n",
    "model_folder = Path(basepath) / 'sentiment' / 'nn'\n",
    "custom_functions = Path(basepath) / 'CustomFiles'\n",
    "\n",
    "# Create the necessary directories if they don't exist\n",
    "model_folder.mkdir(exist_ok=True, parents=True)\n",
    "custom_functions.mkdir(exist_ok=True, parents=True)\n",
    "\n",
    "# Verify that the folders are created\n",
    "print(f\"Model folder created: {model_folder.exists()}\")\n",
    "print(f\"Custom functions folder created: {custom_functions.exists()}\")"
   ]
  },
  {
   "cell_type": "markdown",
   "id": "2cdedca3-c83a-480f-aa49-421e8cbc2c8f",
   "metadata": {},
   "source": [
    "### Step 2: Load Data and preprocessing"
   ]
  },
  {
   "cell_type": "code",
   "execution_count": 4,
   "id": "ca103e6f-8845-4c02-a948-23a23b2fac2a",
   "metadata": {},
   "outputs": [],
   "source": [
    "# Read in the Training and Testing Dataset\n",
    "\n",
    "train_df = pd.read_csv(data_folder/'train.csv')\n",
    "valid_df = pd.read_csv(data_folder/'test.csv')"
   ]
  },
  {
   "cell_type": "code",
   "execution_count": 5,
   "id": "7624a4cf-1699-4a13-997d-cac17e3b26f9",
   "metadata": {},
   "outputs": [
    {
     "data": {
      "text/html": [
       "<div>\n",
       "<style scoped>\n",
       "    .dataframe tbody tr th:only-of-type {\n",
       "        vertical-align: middle;\n",
       "    }\n",
       "\n",
       "    .dataframe tbody tr th {\n",
       "        vertical-align: top;\n",
       "    }\n",
       "\n",
       "    .dataframe thead th {\n",
       "        text-align: right;\n",
       "    }\n",
       "</style>\n",
       "<table border=\"1\" class=\"dataframe\">\n",
       "  <thead>\n",
       "    <tr style=\"text-align: right;\">\n",
       "      <th></th>\n",
       "      <th>ID</th>\n",
       "      <th>Tweet</th>\n",
       "      <th>anger</th>\n",
       "      <th>anticipation</th>\n",
       "      <th>disgust</th>\n",
       "      <th>fear</th>\n",
       "      <th>joy</th>\n",
       "      <th>love</th>\n",
       "      <th>optimism</th>\n",
       "      <th>pessimism</th>\n",
       "      <th>sadness</th>\n",
       "      <th>surprise</th>\n",
       "      <th>trust</th>\n",
       "    </tr>\n",
       "  </thead>\n",
       "  <tbody>\n",
       "    <tr>\n",
       "      <th>0</th>\n",
       "      <td>2017-21441</td>\n",
       "      <td>“Worry is a down payment on a problem you may ...</td>\n",
       "      <td>0</td>\n",
       "      <td>1</td>\n",
       "      <td>0</td>\n",
       "      <td>0</td>\n",
       "      <td>0</td>\n",
       "      <td>0</td>\n",
       "      <td>1</td>\n",
       "      <td>0</td>\n",
       "      <td>0</td>\n",
       "      <td>0</td>\n",
       "      <td>1</td>\n",
       "    </tr>\n",
       "    <tr>\n",
       "      <th>1</th>\n",
       "      <td>2017-31535</td>\n",
       "      <td>Whatever you decide to do make sure it makes y...</td>\n",
       "      <td>0</td>\n",
       "      <td>0</td>\n",
       "      <td>0</td>\n",
       "      <td>0</td>\n",
       "      <td>1</td>\n",
       "      <td>1</td>\n",
       "      <td>1</td>\n",
       "      <td>0</td>\n",
       "      <td>0</td>\n",
       "      <td>0</td>\n",
       "      <td>0</td>\n",
       "    </tr>\n",
       "    <tr>\n",
       "      <th>2</th>\n",
       "      <td>2017-21068</td>\n",
       "      <td>@Max_Kellerman  it also helps that the majorit...</td>\n",
       "      <td>1</td>\n",
       "      <td>0</td>\n",
       "      <td>1</td>\n",
       "      <td>0</td>\n",
       "      <td>1</td>\n",
       "      <td>0</td>\n",
       "      <td>1</td>\n",
       "      <td>0</td>\n",
       "      <td>0</td>\n",
       "      <td>0</td>\n",
       "      <td>0</td>\n",
       "    </tr>\n",
       "  </tbody>\n",
       "</table>\n",
       "</div>"
      ],
      "text/plain": [
       "           ID                                              Tweet  anger  \\\n",
       "0  2017-21441  “Worry is a down payment on a problem you may ...      0   \n",
       "1  2017-31535  Whatever you decide to do make sure it makes y...      0   \n",
       "2  2017-21068  @Max_Kellerman  it also helps that the majorit...      1   \n",
       "\n",
       "   anticipation  disgust  fear  joy  love  optimism  pessimism  sadness  \\\n",
       "0             1        0     0    0     0         1          0        0   \n",
       "1             0        0     0    1     1         1          0        0   \n",
       "2             0        1     0    1     0         1          0        0   \n",
       "\n",
       "   surprise  trust  \n",
       "0         0      1  \n",
       "1         0      0  \n",
       "2         0      0  "
      ]
     },
     "execution_count": 5,
     "metadata": {},
     "output_type": "execute_result"
    }
   ],
   "source": [
    "train_df.head(3)"
   ]
  },
  {
   "cell_type": "code",
   "execution_count": 6,
   "id": "aae3c021-27d1-4a70-8c53-2a66d311252d",
   "metadata": {},
   "outputs": [
    {
     "name": "stdout",
     "output_type": "stream",
     "text": [
      "'Whatever you decide to do make sure it makes you #happy.'\n",
      "('Making that yearly transition from excited and hopeful college returner to '\n",
      " 'sick and exhausted pessimist. #college')\n",
      "('@BigLepley @angela31694996 @TheIndigoArrow Want to start a biker gang '\n",
      " 'together when the GTA Online Biker DLC comes out?')\n"
     ]
    }
   ],
   "source": [
    "from pprint import pprint\n",
    "pprint(train_df['Tweet'].values[1], width=80)\n",
    "pprint(train_df['Tweet'].values[10], width=80)\n",
    "pprint(train_df['Tweet'].values[50], width=80)"
   ]
  },
  {
   "cell_type": "code",
   "execution_count": 7,
   "id": "86c2afe4-c027-4a9d-beba-248bf11eb672",
   "metadata": {},
   "outputs": [
    {
     "data": {
      "text/plain": [
       "(7724, 13)"
      ]
     },
     "execution_count": 7,
     "metadata": {},
     "output_type": "execute_result"
    }
   ],
   "source": [
    "train_df.shape"
   ]
  },
  {
   "cell_type": "code",
   "execution_count": 8,
   "id": "37aa99cd-f8ba-4bea-9a80-277de6e0786e",
   "metadata": {},
   "outputs": [
    {
     "data": {
      "text/plain": [
       "(3259, 13)"
      ]
     },
     "execution_count": 8,
     "metadata": {},
     "output_type": "execute_result"
    }
   ],
   "source": [
    "valid_df.shape"
   ]
  },
  {
   "cell_type": "markdown",
   "id": "7f11e8c3-64aa-44be-8127-9686352fd706",
   "metadata": {},
   "source": [
    "#### Train Test Split"
   ]
  },
  {
   "cell_type": "code",
   "execution_count": 9,
   "id": "ded5c403-1a02-46fa-ab7d-8199092288bc",
   "metadata": {},
   "outputs": [],
   "source": [
    "from sklearn.model_selection import train_test_split\n",
    "\n",
    "# Split train_df into train_set (80%) and test_set (20%)\n",
    "train_set, test_set = train_test_split(train_df, test_size=0.2, random_state=1)"
   ]
  },
  {
   "cell_type": "markdown",
   "id": "7719deda-bad5-465f-9470-9936ea41e4a7",
   "metadata": {},
   "source": [
    "#### Data PreProcessing"
   ]
  },
  {
   "cell_type": "code",
   "execution_count": 10,
   "id": "8cacd496-4907-4014-abcb-3eda3ba6a4bb",
   "metadata": {},
   "outputs": [],
   "source": [
    "# !python -m spacy download en_core_web_sm"
   ]
  },
  {
   "cell_type": "code",
   "execution_count": 11,
   "id": "790a9b09-cad9-4540-8eb7-a163bd1ee05a",
   "metadata": {},
   "outputs": [],
   "source": [
    "# Load the model -en_core_web_sm\n",
    "import spacy\n",
    "\n",
    "nlp = spacy.load('en_core_web_sm')"
   ]
  },
  {
   "cell_type": "code",
   "execution_count": 12,
   "id": "630d835b-c366-4b72-a77a-b38d97379c54",
   "metadata": {},
   "outputs": [],
   "source": [
    "from sklearn.base import BaseEstimator, TransformerMixin\n",
    "from bs4 import BeautifulSoup\n",
    "import re\n",
    "import spacy\n",
    "import numpy as np\n",
    "from nltk.stem.porter import PorterStemmer\n",
    "import os\n",
    "\n",
    "class SpacyPreprocessor(BaseEstimator, TransformerMixin):\n",
    "\n",
    "    def __init__(self, model, *, batch_size=64, lemmatize=True, lower=True, remove_stop=True,\n",
    "                 remove_punct=True, remove_email=True, remove_url=True, remove_num=False, stemming=False,\n",
    "                 add_user_mention_prefix=False, remove_hashtag_prefix=False, basic_clean_only=False):\n",
    "        \"\"\"\n",
    "        Initialize the preprocessor with options for token processing.\n",
    "        - Set add_user_mention_prefix=False to remove @mentions.\n",
    "        - Set remove_hashtag_prefix=False to keep #hashtags.\n",
    "        \"\"\"\n",
    "        self.model = model\n",
    "        self.batch_size = batch_size\n",
    "        self.remove_stop = remove_stop\n",
    "        self.remove_punct = remove_punct\n",
    "        self.remove_num = remove_num\n",
    "        self.remove_url = remove_url\n",
    "        self.remove_email = remove_email\n",
    "        self.lower = lower\n",
    "        self.add_user_mention_prefix = add_user_mention_prefix\n",
    "        self.remove_hashtag_prefix = remove_hashtag_prefix\n",
    "        self.basic_clean_only = basic_clean_only\n",
    "\n",
    "        if lemmatize and stemming:\n",
    "            raise ValueError(\"Only one of 'lemmatize' and 'stemming' can be True.\")\n",
    "\n",
    "        # Validate basic_clean_only option\n",
    "        if self.basic_clean_only and (lemmatize or lower or remove_stop or remove_punct or remove_num or stemming or\n",
    "                                      add_user_mention_prefix or remove_hashtag_prefix):\n",
    "            raise ValueError(\"If 'basic_clean_only' is set to True, other processing options must be set to False.\")\n",
    "\n",
    "        # Assign lemmatize and stemming\n",
    "        self.lemmatize = lemmatize\n",
    "        self.stemming = stemming\n",
    "\n",
    "    def basic_clean(self, text):\n",
    "        # Check if the text looks like a file path and skip BeautifulSoup if it does\n",
    "        if os.path.isfile(text):\n",
    "            return text  # If it's a file path, return as is\n",
    "        # Otherwise, clean normally using BeautifulSoup\n",
    "        soup = BeautifulSoup(text, \"html.parser\")\n",
    "        text = soup.get_text()  # Extract text without markup\n",
    "        text = re.sub(r'[\\n\\r]', ' ', text)  # Remove newline characters\n",
    "        return text.strip()\n",
    "\n",
    "    def get_cores(self):\n",
    "        \"\"\"\n",
    "        Get the number of CPU cores to use in parallel processing.\n",
    "        \"\"\"\n",
    "        num_cores = os.cpu_count()\n",
    "        if num_cores < 3:\n",
    "            use_cores = 1\n",
    "        else:\n",
    "            use_cores = num_cores // 2 + 1\n",
    "        return use_cores\n",
    "\n",
    "    def spacy_preprocessor(self, texts):\n",
    "        final_result = []\n",
    "        nlp = spacy.load(self.model)\n",
    "\n",
    "        # Disable unnecessary pipelines in spaCy model\n",
    "        if self.lemmatize:\n",
    "            disabled_pipes = ['parser', 'ner']\n",
    "        else:\n",
    "            disabled_pipes = ['tok2vec', 'tagger', 'parser', 'attribute_ruler', 'lemmatizer', 'ner']\n",
    "\n",
    "        with nlp.select_pipes(disable=disabled_pipes):\n",
    "            # Modify tokenizer behavior based on hashtag settings\n",
    "            if self.remove_hashtag_prefix:\n",
    "                prefixes = list(nlp.Defaults.prefixes)\n",
    "                prefixes.remove(r'#')  # Keep the hashtag symbol as part of the token\n",
    "                prefix_regex = spacy.util.compile_prefix_regex(prefixes)\n",
    "                nlp.tokenizer.prefix_search = prefix_regex.search\n",
    "\n",
    "            # Process text data in parallel using spaCy's nlp.pipe()\n",
    "            for doc in nlp.pipe(texts, batch_size=self.batch_size, n_process=self.get_cores()):\n",
    "                filtered_tokens = []\n",
    "                for token in doc:\n",
    "                    # Check if token should be removed based on specified filters\n",
    "                    if self.remove_stop and token.is_stop:\n",
    "                        continue\n",
    "                    if self.remove_punct and token.is_punct:\n",
    "                        continue\n",
    "                    if self.remove_num and token.like_num:\n",
    "                        continue\n",
    "                    if self.remove_url and token.like_url:\n",
    "                        continue\n",
    "                    if self.remove_email and token.like_email:\n",
    "                        continue\n",
    "                    if token.text.startswith('@'):  # Remove @mentions\n",
    "                        continue\n",
    "\n",
    "                    # Append the token's text, lemma, or stemmed form to the filtered_tokens list\n",
    "                    if self.lemmatize:\n",
    "                        filtered_tokens.append(token.lemma_)\n",
    "                    elif self.stemming:\n",
    "                        filtered_tokens.append(PorterStemmer().stem(token.text))\n",
    "                    else:\n",
    "                        filtered_tokens.append(token.text)\n",
    "\n",
    "                # Join the tokens and apply lowercasing if specified\n",
    "                text = ' '.join(filtered_tokens)\n",
    "                if self.lower:\n",
    "                    text = text.lower()\n",
    "                final_result.append(text.strip())\n",
    "\n",
    "        return final_result\n",
    "\n",
    "    def fit(self, X, y=None):\n",
    "        return self\n",
    "\n",
    "    def transform(self, X, y=None):\n",
    "        try:\n",
    "            if not isinstance(X, (list, np.ndarray)):\n",
    "                raise TypeError(f'Expected list or numpy array, got {type(X)}')\n",
    "\n",
    "            x_clean = [self.basic_clean(text).encode('utf-8', 'ignore').decode() for text in X]\n",
    "\n",
    "            # Check if only basic cleaning is required\n",
    "            if self.basic_clean_only:\n",
    "                return x_clean  # Return the list of basic-cleaned texts\n",
    "\n",
    "            x_clean_final = self.spacy_preprocessor(x_clean)\n",
    "            return x_clean_final\n",
    "\n",
    "        except Exception as error:\n",
    "            print(f'An exception occurred: {repr(error)}')\n"
   ]
  },
  {
   "cell_type": "markdown",
   "id": "be15bb48",
   "metadata": {},
   "source": [
    "#### Modifying spacy to remove @ and keep # as they might add value to the emotions in tweets"
   ]
  },
  {
   "cell_type": "code",
   "execution_count": 13,
   "id": "a42e9c60-4774-45da-8974-ba6f3db13a39",
   "metadata": {},
   "outputs": [],
   "source": [
    "# Initialize the SpacyPreprocessor. We are going to remove @ and keep the #\n",
    "preprocessor = SpacyPreprocessor(\n",
    "    model='en_core_web_sm',\n",
    "    lemmatize=True,\n",
    "    lower=True,\n",
    "    remove_stop=True,\n",
    "    remove_punct=True,\n",
    "    remove_email=True,\n",
    "    remove_url=True,\n",
    "    remove_num=False,\n",
    "    stemming=False,\n",
    "    add_user_mention_prefix=False,  # Remove @mentions\n",
    "    remove_hashtag_prefix=False     # Keep #hashtags\n",
    ")"
   ]
  },
  {
   "cell_type": "code",
   "execution_count": 14,
   "id": "9e5c64af-eab8-4331-9ad3-93ad970ee93a",
   "metadata": {},
   "outputs": [
    {
     "name": "stderr",
     "output_type": "stream",
     "text": [
      "/var/folders/9q/vqgvcv992rb1j75lkp2l_80h0000gn/T/ipykernel_14549/3860166522.py:48: MarkupResemblesLocatorWarning: The input looks more like a filename than markup. You may want to open this file and pass the filehandle into Beautiful Soup.\n",
      "  soup = BeautifulSoup(text, \"html.parser\")\n"
     ]
    }
   ],
   "source": [
    "# Apply preprocessing to the train_set (fit and transform)\n",
    "train_set['Cleaned_Reviews'] = preprocessor.fit_transform(train_set['Tweet'].values)"
   ]
  },
  {
   "cell_type": "code",
   "execution_count": 15,
   "id": "de27eca2-a0f5-44b0-aebb-29fbc16b2ee8",
   "metadata": {},
   "outputs": [
    {
     "data": {
      "text/html": [
       "<div>\n",
       "<style scoped>\n",
       "    .dataframe tbody tr th:only-of-type {\n",
       "        vertical-align: middle;\n",
       "    }\n",
       "\n",
       "    .dataframe tbody tr th {\n",
       "        vertical-align: top;\n",
       "    }\n",
       "\n",
       "    .dataframe thead th {\n",
       "        text-align: right;\n",
       "    }\n",
       "</style>\n",
       "<table border=\"1\" class=\"dataframe\">\n",
       "  <thead>\n",
       "    <tr style=\"text-align: right;\">\n",
       "      <th></th>\n",
       "      <th>ID</th>\n",
       "      <th>Tweet</th>\n",
       "      <th>anger</th>\n",
       "      <th>anticipation</th>\n",
       "      <th>disgust</th>\n",
       "      <th>fear</th>\n",
       "      <th>joy</th>\n",
       "      <th>love</th>\n",
       "      <th>optimism</th>\n",
       "      <th>pessimism</th>\n",
       "      <th>sadness</th>\n",
       "      <th>surprise</th>\n",
       "      <th>trust</th>\n",
       "      <th>Cleaned_Reviews</th>\n",
       "    </tr>\n",
       "  </thead>\n",
       "  <tbody>\n",
       "    <tr>\n",
       "      <th>3916</th>\n",
       "      <td>2017-41313</td>\n",
       "      <td>@chrislhayes It's hard for most folks to reali...</td>\n",
       "      <td>1</td>\n",
       "      <td>0</td>\n",
       "      <td>1</td>\n",
       "      <td>0</td>\n",
       "      <td>0</td>\n",
       "      <td>0</td>\n",
       "      <td>0</td>\n",
       "      <td>0</td>\n",
       "      <td>0</td>\n",
       "      <td>0</td>\n",
       "      <td>0</td>\n",
       "      <td>hard folk realize deep hatred dive murky end p...</td>\n",
       "    </tr>\n",
       "    <tr>\n",
       "      <th>3696</th>\n",
       "      <td>2017-30339</td>\n",
       "      <td>@PersephoneOD Her cheerful voice echoed throug...</td>\n",
       "      <td>0</td>\n",
       "      <td>0</td>\n",
       "      <td>0</td>\n",
       "      <td>0</td>\n",
       "      <td>1</td>\n",
       "      <td>1</td>\n",
       "      <td>1</td>\n",
       "      <td>0</td>\n",
       "      <td>0</td>\n",
       "      <td>0</td>\n",
       "      <td>0</td>\n",
       "      <td>cheerful voice echo grand familiar home smile ...</td>\n",
       "    </tr>\n",
       "    <tr>\n",
       "      <th>4067</th>\n",
       "      <td>2017-10126</td>\n",
       "      <td>@brian5or6 turn that shit off!   Home Button u...</td>\n",
       "      <td>1</td>\n",
       "      <td>0</td>\n",
       "      <td>1</td>\n",
       "      <td>0</td>\n",
       "      <td>0</td>\n",
       "      <td>0</td>\n",
       "      <td>0</td>\n",
       "      <td>0</td>\n",
       "      <td>0</td>\n",
       "      <td>0</td>\n",
       "      <td>0</td>\n",
       "      <td>turn shit    home button accessibility \\n\\nwhe...</td>\n",
       "    </tr>\n",
       "    <tr>\n",
       "      <th>3665</th>\n",
       "      <td>2017-21523</td>\n",
       "      <td>#smackdev #ptp #start oh yeah!</td>\n",
       "      <td>0</td>\n",
       "      <td>0</td>\n",
       "      <td>0</td>\n",
       "      <td>0</td>\n",
       "      <td>1</td>\n",
       "      <td>0</td>\n",
       "      <td>1</td>\n",
       "      <td>0</td>\n",
       "      <td>0</td>\n",
       "      <td>0</td>\n",
       "      <td>0</td>\n",
       "      <td>smackdev ptp start oh yeah</td>\n",
       "    </tr>\n",
       "    <tr>\n",
       "      <th>7626</th>\n",
       "      <td>2018-02014</td>\n",
       "      <td>It could be soul-crushing despair, but it also...</td>\n",
       "      <td>0</td>\n",
       "      <td>0</td>\n",
       "      <td>0</td>\n",
       "      <td>0</td>\n",
       "      <td>0</td>\n",
       "      <td>0</td>\n",
       "      <td>0</td>\n",
       "      <td>0</td>\n",
       "      <td>1</td>\n",
       "      <td>0</td>\n",
       "      <td>0</td>\n",
       "      <td>soul crush despair marshmallow breakfast</td>\n",
       "    </tr>\n",
       "  </tbody>\n",
       "</table>\n",
       "</div>"
      ],
      "text/plain": [
       "              ID                                              Tweet  anger  \\\n",
       "3916  2017-41313  @chrislhayes It's hard for most folks to reali...      1   \n",
       "3696  2017-30339  @PersephoneOD Her cheerful voice echoed throug...      0   \n",
       "4067  2017-10126  @brian5or6 turn that shit off!   Home Button u...      1   \n",
       "3665  2017-21523                     #smackdev #ptp #start oh yeah!      0   \n",
       "7626  2018-02014  It could be soul-crushing despair, but it also...      0   \n",
       "\n",
       "      anticipation  disgust  fear  joy  love  optimism  pessimism  sadness  \\\n",
       "3916             0        1     0    0     0         0          0        0   \n",
       "3696             0        0     0    1     1         1          0        0   \n",
       "4067             0        1     0    0     0         0          0        0   \n",
       "3665             0        0     0    1     0         1          0        0   \n",
       "7626             0        0     0    0     0         0          0        1   \n",
       "\n",
       "      surprise  trust                                    Cleaned_Reviews  \n",
       "3916         0      0  hard folk realize deep hatred dive murky end p...  \n",
       "3696         0      0  cheerful voice echo grand familiar home smile ...  \n",
       "4067         0      0  turn shit    home button accessibility \\n\\nwhe...  \n",
       "3665         0      0                         smackdev ptp start oh yeah  \n",
       "7626         0      0           soul crush despair marshmallow breakfast  "
      ]
     },
     "execution_count": 15,
     "metadata": {},
     "output_type": "execute_result"
    }
   ],
   "source": [
    "train_set.head()"
   ]
  },
  {
   "cell_type": "code",
   "execution_count": 16,
   "id": "86d87b27-e5e6-4f13-a02f-c25085cf358d",
   "metadata": {},
   "outputs": [
    {
     "name": "stdout",
     "output_type": "stream",
     "text": [
      "('Very long day. Thank goodness for Bake Off to brighten up a weary Wednesday '\n",
      " '☺ #GBBO')\n"
     ]
    }
   ],
   "source": [
    "pprint(train_set['Tweet'].values[100], width=80)"
   ]
  },
  {
   "cell_type": "code",
   "execution_count": 17,
   "id": "b647dbd5-08dd-4a1d-a776-72be6e4173f8",
   "metadata": {},
   "outputs": [
    {
     "name": "stdout",
     "output_type": "stream",
     "text": [
      "'long day thank goodness bake brighten weary wednesday ☺ gbbo'\n"
     ]
    }
   ],
   "source": [
    "pprint(train_set['Cleaned_Reviews'].values[100], width=80)"
   ]
  },
  {
   "cell_type": "code",
   "execution_count": 18,
   "id": "9b9f2d81-f791-45e9-b893-be4f6168be67",
   "metadata": {},
   "outputs": [
    {
     "name": "stderr",
     "output_type": "stream",
     "text": [
      "/var/folders/9q/vqgvcv992rb1j75lkp2l_80h0000gn/T/ipykernel_14549/3860166522.py:48: MarkupResemblesLocatorWarning: The input looks more like a filename than markup. You may want to open this file and pass the filehandle into Beautiful Soup.\n",
      "  soup = BeautifulSoup(text, \"html.parser\")\n",
      "/var/folders/9q/vqgvcv992rb1j75lkp2l_80h0000gn/T/ipykernel_14549/3860166522.py:48: MarkupResemblesLocatorWarning: The input looks more like a filename than markup. You may want to open this file and pass the filehandle into Beautiful Soup.\n",
      "  soup = BeautifulSoup(text, \"html.parser\")\n"
     ]
    }
   ],
   "source": [
    "# Apply preprocessing to the test_set and validation_df (transform only)\n",
    "test_set['Cleaned_Reviews'] = preprocessor.transform(test_set['Tweet'].values)\n",
    "valid_df['Cleaned_Reviews'] = preprocessor.transform(valid_df['Tweet'].values)"
   ]
  },
  {
   "cell_type": "code",
   "execution_count": 19,
   "id": "b0f086c6-60ec-48a2-bf0d-430748fefed5",
   "metadata": {},
   "outputs": [
    {
     "name": "stdout",
     "output_type": "stream",
     "text": [
      "'not worry indian army way dispatch terrorists hell'\n"
     ]
    }
   ],
   "source": [
    "pprint(valid_df['Cleaned_Reviews'].values[0], width=80)"
   ]
  },
  {
   "cell_type": "markdown",
   "id": "b9646e58-0def-4a93-8fd9-b94d3092ce49",
   "metadata": {},
   "source": [
    "### Step 3: working with HuggingFace Dataset"
   ]
  },
  {
   "cell_type": "code",
   "execution_count": 20,
   "id": "7e95c2bb-c242-4318-ad3f-8936a08fd192",
   "metadata": {},
   "outputs": [],
   "source": [
    "import pandas as pd\n",
    "from datasets import Dataset\n",
    "\n",
    "def convert_to_hf_dataset(df, text_column='Cleaned_Reviews', label_columns=None):\n",
    "    \"\"\"\n",
    "    Converts a pandas DataFrame to a Hugging Face Dataset for multi-label classification.\n",
    "    \n",
    "    Args:\n",
    "    df (pd.DataFrame): The input pandas DataFrame.\n",
    "    text_column (str): The name of the column containing the text data (default is 'Cleaned_Reviews').\n",
    "    label_columns (list): List of column names that contain the sentiment labels.\n",
    "    \n",
    "    Returns:\n",
    "    hf_dataset (datasets.Dataset): A Hugging Face Dataset ready for multi-label classification.\n",
    "    \"\"\"\n",
    "    # Ensure label_columns is provided\n",
    "    if label_columns is None:\n",
    "        raise ValueError(\"label_columns must be a list of the sentiment label columns.\")\n",
    "\n",
    "    # Remove unnecessary columns (in case 'ID' or 'Tweet' exist)\n",
    "    # Keeping only the text_column and the label_columns\n",
    "    df = df[[text_column] + label_columns]\n",
    "    \n",
    "    # Ensure labels are cast to integers\n",
    "    df[label_columns] = df[label_columns].astype(int)\n",
    "    \n",
    "    # Convert DataFrame to Hugging Face Dataset\n",
    "    hf_dataset = Dataset.from_pandas(df)\n",
    "    \n",
    "    # Define a preprocessing function to convert label columns to a list of labels\n",
    "    def preprocess_data(examples):\n",
    "        # Create a 'labels' list from the label columns for multi-label classification\n",
    "        examples['labels'] = [examples[col] for col in label_columns]\n",
    "        return examples\n",
    "\n",
    "    # Apply preprocessing to create the 'labels' column\n",
    "    hf_dataset = hf_dataset.map(preprocess_data)\n",
    "\n",
    "    # Remove the individual sentiment label columns to avoid duplication\n",
    "    hf_dataset = hf_dataset.remove_columns(label_columns)\n",
    "\n",
    "    return hf_dataset\n"
   ]
  },
  {
   "cell_type": "code",
   "execution_count": 21,
   "id": "67a21543-a2e5-4c6f-9077-848d88cbe7b9",
   "metadata": {},
   "outputs": [
    {
     "data": {
      "text/plain": [
       "Index(['ID', 'Tweet', 'anger', 'anticipation', 'disgust', 'fear', 'joy',\n",
       "       'love', 'optimism', 'pessimism', 'sadness', 'surprise', 'trust',\n",
       "       'Cleaned_Reviews'],\n",
       "      dtype='object')"
      ]
     },
     "execution_count": 21,
     "metadata": {},
     "output_type": "execute_result"
    }
   ],
   "source": [
    "train_set.columns"
   ]
  },
  {
   "cell_type": "code",
   "execution_count": 22,
   "id": "69d2e3f0-b707-40d5-a8e7-c736af2a4c21",
   "metadata": {},
   "outputs": [
    {
     "name": "stderr",
     "output_type": "stream",
     "text": [
      "/var/folders/9q/vqgvcv992rb1j75lkp2l_80h0000gn/T/ipykernel_14549/1091016352.py:25: SettingWithCopyWarning: \n",
      "A value is trying to be set on a copy of a slice from a DataFrame.\n",
      "Try using .loc[row_indexer,col_indexer] = value instead\n",
      "\n",
      "See the caveats in the documentation: https://pandas.pydata.org/pandas-docs/stable/user_guide/indexing.html#returning-a-view-versus-a-copy\n",
      "  df[label_columns] = df[label_columns].astype(int)\n"
     ]
    },
    {
     "data": {
      "application/vnd.jupyter.widget-view+json": {
       "model_id": "db66059ba14549fbbd6ef040a1c2b05c",
       "version_major": 2,
       "version_minor": 0
      },
      "text/plain": [
       "Map:   0%|          | 0/6179 [00:00<?, ? examples/s]"
      ]
     },
     "metadata": {},
     "output_type": "display_data"
    },
    {
     "name": "stderr",
     "output_type": "stream",
     "text": [
      "/var/folders/9q/vqgvcv992rb1j75lkp2l_80h0000gn/T/ipykernel_14549/1091016352.py:25: SettingWithCopyWarning: \n",
      "A value is trying to be set on a copy of a slice from a DataFrame.\n",
      "Try using .loc[row_indexer,col_indexer] = value instead\n",
      "\n",
      "See the caveats in the documentation: https://pandas.pydata.org/pandas-docs/stable/user_guide/indexing.html#returning-a-view-versus-a-copy\n",
      "  df[label_columns] = df[label_columns].astype(int)\n"
     ]
    },
    {
     "data": {
      "application/vnd.jupyter.widget-view+json": {
       "model_id": "ccccf748cfdf4079be6adfe52a4a370a",
       "version_major": 2,
       "version_minor": 0
      },
      "text/plain": [
       "Map:   0%|          | 0/1545 [00:00<?, ? examples/s]"
      ]
     },
     "metadata": {},
     "output_type": "display_data"
    }
   ],
   "source": [
    "# Defining the label columns (the multi-label sentiment categories)\n",
    "label_columns = ['anger', 'anticipation', 'disgust', 'fear', 'joy', 'love', \n",
    "                 'optimism', 'pessimism', 'sadness', 'surprise', 'trust']\n",
    "\n",
    "\n",
    "# Convert train_set DataFrame to a Hugging Face Dataset\n",
    "hf_train_set = convert_to_hf_dataset(train_set,\n",
    "                                   text_column='Cleaned_Reviews',\n",
    "                                   label_columns=label_columns)\n",
    "\n",
    "\n",
    "# Convert Test_set DataFrame to a Hugging Face Dataset\n",
    "hf_test_set = convert_to_hf_dataset(test_set,\n",
    "                                    text_column='Cleaned_Reviews',\n",
    "                                    label_columns=label_columns)"
   ]
  },
  {
   "cell_type": "code",
   "execution_count": 23,
   "id": "9f650e2a-7b3f-4df9-ae8a-601bcb1086a8",
   "metadata": {},
   "outputs": [
    {
     "name": "stdout",
     "output_type": "stream",
     "text": [
      "{'Cleaned_Reviews': 'hard folk realize deep hatred dive murky end pool guy nuts', '__index_level_0__': 3916, 'labels': [1, 0, 1, 0, 0, 0, 0, 0, 0, 0, 0]}\n"
     ]
    }
   ],
   "source": [
    "print(hf_train_set[0])"
   ]
  },
  {
   "cell_type": "code",
   "execution_count": 24,
   "id": "e1b1a93c-d316-416d-9334-c62f83ebb56b",
   "metadata": {},
   "outputs": [
    {
     "data": {
      "text/plain": [
       "Dataset({\n",
       "    features: ['Cleaned_Reviews', '__index_level_0__', 'labels'],\n",
       "    num_rows: 6179\n",
       "})"
      ]
     },
     "execution_count": 24,
     "metadata": {},
     "output_type": "execute_result"
    }
   ],
   "source": [
    "hf_train_set"
   ]
  },
  {
   "cell_type": "code",
   "execution_count": 25,
   "id": "94b45b9f-e1ba-473a-b8ec-59c9448ce8e5",
   "metadata": {},
   "outputs": [
    {
     "data": {
      "text/plain": [
       "Dataset({\n",
       "    features: ['Cleaned_Reviews', '__index_level_0__', 'labels'],\n",
       "    num_rows: 1545\n",
       "})"
      ]
     },
     "execution_count": 25,
     "metadata": {},
     "output_type": "execute_result"
    }
   ],
   "source": [
    "hf_test_set"
   ]
  },
  {
   "cell_type": "code",
   "execution_count": 26,
   "id": "d36d02ff-bd70-4e8b-9408-e3a5f15e2aff",
   "metadata": {},
   "outputs": [
    {
     "data": {
      "text/plain": [
       "{'Cleaned_Reviews': Value(dtype='string', id=None),\n",
       " '__index_level_0__': Value(dtype='int64', id=None),\n",
       " 'labels': Sequence(feature=Value(dtype='int64', id=None), length=-1, id=None)}"
      ]
     },
     "execution_count": 26,
     "metadata": {},
     "output_type": "execute_result"
    }
   ],
   "source": [
    "hf_train_set.features"
   ]
  },
  {
   "cell_type": "code",
   "execution_count": 27,
   "id": "adf570b0-49b0-4678-b1a0-fb6e58de35b4",
   "metadata": {},
   "outputs": [
    {
     "data": {
      "text/plain": [
       "{'Cleaned_Reviews': Value(dtype='string', id=None),\n",
       " 'labels': Sequence(feature=Value(dtype='int64', id=None), length=-1, id=None)}"
      ]
     },
     "execution_count": 27,
     "metadata": {},
     "output_type": "execute_result"
    }
   ],
   "source": [
    "hf_train_set = hf_train_set.remove_columns(['__index_level_0__'])\n",
    "hf_train_set.features"
   ]
  },
  {
   "cell_type": "code",
   "execution_count": 28,
   "id": "dfc6796c-4ce4-4903-8494-4354f1bc545a",
   "metadata": {},
   "outputs": [
    {
     "data": {
      "text/plain": [
       "{'Cleaned_Reviews': Value(dtype='string', id=None),\n",
       " 'labels': Sequence(feature=Value(dtype='int64', id=None), length=-1, id=None)}"
      ]
     },
     "execution_count": 28,
     "metadata": {},
     "output_type": "execute_result"
    }
   ],
   "source": [
    "hf_test_set = hf_test_set.remove_columns(['__index_level_0__'])\n",
    "hf_test_set.features"
   ]
  },
  {
   "cell_type": "code",
   "execution_count": 29,
   "id": "a06bef2b-1af1-4d63-8571-5e85db54d163",
   "metadata": {},
   "outputs": [
    {
     "data": {
      "text/plain": [
       "'hard folk realize deep hatred dive murky end pool guy nuts'"
      ]
     },
     "execution_count": 29,
     "metadata": {},
     "output_type": "execute_result"
    }
   ],
   "source": [
    "hf_train_set[0]['Cleaned_Reviews']"
   ]
  },
  {
   "cell_type": "code",
   "execution_count": 30,
   "id": "d4f8e0e7-bd90-4d9b-aa18-36858f96295a",
   "metadata": {},
   "outputs": [
    {
     "name": "stdout",
     "output_type": "stream",
     "text": [
      "{'Cleaned_Reviews': 'not worry indian army way dispatch terrorists hell'}\n"
     ]
    }
   ],
   "source": [
    "# Converting the Validation set to Hugging Face Dataset.\n",
    "# Only keep the 'Tweet' column (since we are predicting and don’t have labels)\n",
    "valid_df = valid_df[['Cleaned_Reviews']]\n",
    "\n",
    "# Convert the DataFrame to a Hugging Face Dataset\n",
    "hf_valid_dataset = Dataset.from_pandas(valid_df)\n",
    "\n",
    "# Check the dataset\n",
    "print(hf_valid_dataset[0])"
   ]
  },
  {
   "cell_type": "code",
   "execution_count": 31,
   "id": "09f0c71e-8392-4fa5-837e-ad28aeaf2430",
   "metadata": {},
   "outputs": [
    {
     "name": "stdout",
     "output_type": "stream",
     "text": [
      "{'Cleaned_Reviews': 'long day thank goodness bake brighten weary wednesday ☺ gbbo', 'labels': [0, 1, 0, 0, 1, 0, 1, 0, 0, 0, 1]}\n",
      "{'Cleaned_Reviews': 'mom work discount riot f ticket $ 147/3 day sadden', 'labels': [0, 0, 1, 0, 0, 0, 0, 1, 1, 0, 0]}\n"
     ]
    }
   ],
   "source": [
    "print(hf_train_set[100])  # Check the structure of the first training sample\n",
    "print(hf_test_set[100])   # Check the structure of the first test sample\n",
    "\n"
   ]
  },
  {
   "cell_type": "markdown",
   "id": "31ef4124-2842-4d2b-a88b-afc5929db2a2",
   "metadata": {},
   "source": [
    "### Step 4: Creating the Vocab"
   ]
  },
  {
   "cell_type": "code",
   "execution_count": 32,
   "id": "af9b2386-1076-4bcf-8e0c-33b4b21e4e6a",
   "metadata": {},
   "outputs": [],
   "source": [
    "from collections import Counter, OrderedDict\n",
    "from typing import Dict, List, Optional, Union\n",
    "\n",
    "class Vocab:\n",
    "    def __init__(self, tokens: List[str]) -> None:\n",
    "        self.itos: List[str] = tokens  # List of tokens (indices to strings)\n",
    "        self.stoi: Dict[str, int] = {token: i for i, token in enumerate(tokens)}  # Map tokens to indices\n",
    "        self.default_index: Optional[int] = None  # Index for unknown tokens\n",
    "\n",
    "    def __getitem__(self, token: str) -> int:\n",
    "        # Return the index of the token, or the default index if it's unknown\n",
    "        if token in self.stoi:\n",
    "            return self.stoi[token]\n",
    "        if self.default_index is not None:\n",
    "            return self.default_index\n",
    "        raise RuntimeError(f\"Token '{token}' not found in vocab\")\n",
    "\n",
    "    def __len__(self) -> int:\n",
    "        return len(self.itos)\n",
    "\n",
    "    def insert_token(self, token: str, index: int) -> None:\n",
    "        # Insert token at a specific index in the vocab\n",
    "        if index < 0 or index > len(self.itos):\n",
    "            raise ValueError(\"Index out of range\")\n",
    "        if token in self.stoi:\n",
    "            old_index = self.stoi[token]\n",
    "            self.itos.pop(old_index)\n",
    "            self.itos.insert(index, token)\n",
    "        else:\n",
    "            self.itos.insert(index, token)\n",
    "        self.stoi = {token: i for i, token in enumerate(self.itos)}\n",
    "\n",
    "    def append_token(self, token: str) -> None:\n",
    "        # Append a token to the vocab\n",
    "        if token in self.stoi:\n",
    "            raise RuntimeError(f\"Token '{token}' already exists in the vocab\")\n",
    "        self.insert_token(token, len(self.itos))\n",
    "\n",
    "    def set_default_index(self, index: Optional[int]) -> None:\n",
    "        self.default_index = index\n",
    "\n",
    "    def get_default_index(self) -> Optional[int]:\n",
    "        return self.default_index\n",
    "\n",
    "    def lookup_token(self, index: int) -> str:\n",
    "        # Return the token given its index\n",
    "        if 0 <= index < len(self.itos):\n",
    "            return self.itos[index]\n",
    "        raise RuntimeError(f\"Index {index} out of range\")\n",
    "\n",
    "    def lookup_tokens(self, indices: List[int]) -> List[str]:\n",
    "        # Return a list of tokens given a list of indices\n",
    "        return [self.lookup_token(index) for index in indices]\n",
    "\n",
    "    def lookup_indices(self, tokens: List[str]) -> List[int]:\n",
    "        # Return a list of indices given a list of tokens\n",
    "        return [self[token] for token in tokens]\n",
    "\n",
    "    def get_stoi(self) -> Dict[str, int]:\n",
    "        return self.stoi.copy()\n",
    "\n",
    "    def get_itos(self) -> List[str]:\n",
    "        return self.itos.copy()\n",
    "\n",
    "    @classmethod\n",
    "    def vocab(cls, ordered_dict: Union[OrderedDict, Counter], min_freq: int = 1, specials: Optional[List[str]] = None, special_first: bool = True) -> 'Vocab':\n",
    "        specials = specials or []\n",
    "        for token in specials:\n",
    "            ordered_dict.pop(token, None)\n",
    "        tokens = [token for token, freq in ordered_dict.items() if freq >= min_freq]\n",
    "        if special_first:\n",
    "            tokens = specials + tokens\n",
    "        else:\n",
    "            tokens = tokens + specials\n",
    "        return cls(tokens)\n"
   ]
  },
  {
   "cell_type": "code",
   "execution_count": 33,
   "id": "650a6bc4-281b-42e7-b1b4-ebe348abe72e",
   "metadata": {},
   "outputs": [],
   "source": [
    "# Function to create a vocabulary from the dataset\n",
    "def get_vocab(dataset, min_freq=1):\n",
    "    counter = Counter()\n",
    "    \n",
    "    # Count frequencies of tokens in the dataset\n",
    "    for text in dataset['Cleaned_Reviews']:  # Assuming 'Cleaned_Reviews' is the preprocessed text column\n",
    "        counter.update(str(text).split())\n",
    "\n",
    "    # Create vocabulary using the Counter object\n",
    "    my_vocab = Vocab.vocab(counter, min_freq=min_freq)\n",
    "    \n",
    "    # Insert the unknown token <unk> at index 0\n",
    "    my_vocab.insert_token('<unk>', 0)\n",
    "    \n",
    "    # Set the default index to 0 (for unknown tokens)\n",
    "    my_vocab.set_default_index(0)\n",
    "    \n",
    "    return my_vocab\n",
    "\n",
    "# Create the vocabulary using the trainset\n",
    "emotion_vocab = get_vocab(train_set, min_freq=2)\n"
   ]
  },
  {
   "cell_type": "markdown",
   "id": "91f15bfd-7069-46d3-acba-9fdb384ae976",
   "metadata": {},
   "source": [
    "### Step 5: Defining Custom Model and Model Config Class"
   ]
  },
  {
   "cell_type": "code",
   "execution_count": 34,
   "id": "755512ff-9e51-464a-a1a3-4cdee76f9de7",
   "metadata": {},
   "outputs": [],
   "source": [
    "from transformers import PretrainedConfig\n",
    "\n",
    "# CustomConfig class to define model-specific hyperparameters\n",
    "class CustomConfig(PretrainedConfig):\n",
    "    def __init__(self, vocab_size=0, embedding_dim=0, hidden_dim1=0, hidden_dim2=0, num_labels=2, **kwargs):\n",
    "        super().__init__()\n",
    "        self.vocab_size = vocab_size\n",
    "        self.embedding_dim = embedding_dim\n",
    "        self.hidden_dim1 = hidden_dim1\n",
    "        self.hidden_dim2 = hidden_dim2\n",
    "        self.num_labels = num_labels"
   ]
  },
  {
   "cell_type": "code",
   "execution_count": 35,
   "id": "162971a8-c7e0-4567-be11-0acfc66fbf68",
   "metadata": {},
   "outputs": [],
   "source": [
    "import torch.nn as nn\n",
    "from transformers import PreTrainedModel\n",
    "from transformers.modeling_outputs import SequenceClassifierOutput\n",
    "\n",
    "# CustomMLP class for the multi-layer perceptron model\n",
    "class CustomMLP(PreTrainedModel):\n",
    "    config_class = CustomConfig\n",
    "\n",
    "    def __init__(self, config):\n",
    "        super().__init__(config)\n",
    "\n",
    "        # EmbeddingBag layer to handle text embeddings\n",
    "        self.embedding_bag = nn.EmbeddingBag(config.vocab_size, config.embedding_dim)\n",
    "\n",
    "        # Sequential model containing multiple layers\n",
    "        self.layers = nn.Sequential(\n",
    "            nn.Linear(config.embedding_dim, config.hidden_dim1),\n",
    "            nn.BatchNorm1d(num_features=config.hidden_dim1),\n",
    "            nn.ReLU(),\n",
    "            nn.Dropout(p=0.5),\n",
    "            nn.Linear(config.hidden_dim1, config.hidden_dim2),\n",
    "            nn.BatchNorm1d(num_features=config.hidden_dim2),\n",
    "            nn.ReLU(),\n",
    "            nn.Dropout(p=0.5),\n",
    "            nn.Linear(config.hidden_dim2, config.num_labels)  # Output layer with logits for each emotion label\n",
    "        )\n",
    "\n",
    "    def forward(self, input_ids, offsets, labels=None):\n",
    "        # Get embeddings from input tokens\n",
    "        embed_out = self.embedding_bag(input_ids, offsets)\n",
    "\n",
    "        # Pass through the layers to get logits\n",
    "        logits = self.layers(embed_out)\n",
    "\n",
    "        # Calculate loss if labels are provided (for training)\n",
    "        loss = None\n",
    "        if labels is not None:\n",
    "            loss_fct = nn.BCEWithLogitsLoss()  # Binary Cross-Entropy for multi-label classification\n",
    "            loss = loss_fct(logits, labels.float())  # Convert labels to float\n",
    "\n",
    "        # Return loss and logits\n",
    "        return SequenceClassifierOutput(\n",
    "            loss=loss,\n",
    "            logits=logits\n",
    "        )\n"
   ]
  },
  {
   "cell_type": "markdown",
   "id": "54389269-77b0-4fb8-92a3-3ea1f3e100f6",
   "metadata": {},
   "source": [
    "#### Collate Function"
   ]
  },
  {
   "cell_type": "code",
   "execution_count": 36,
   "id": "71aae16b-547f-47bc-ad86-7ce9e4e8aa4e",
   "metadata": {},
   "outputs": [],
   "source": [
    "# Tokenizer function to convert text into a list of token indices based on the vocabulary\n",
    "def tokenizer(text, vocab):\n",
    "    \"\"\"Converts text to a list of indices using a vocabulary dictionary\"\"\"\n",
    "    return [vocab[token] for token in str(text).split()]  # Split text into tokens and map each to an index\n"
   ]
  },
  {
   "cell_type": "code",
   "execution_count": 37,
   "id": "34d4eabd-2905-4297-8d64-b64a711b5089",
   "metadata": {},
   "outputs": [],
   "source": [
    "import torch\n",
    "\n",
    "def collate_batch(batch, my_vocab):\n",
    "    \"\"\"\n",
    "    Prepares a batch of data by transforming texts into indices based on a vocabulary and\n",
    "    converting labels into a tensor.\n",
    "\n",
    "    Args:\n",
    "        batch (list of dict): A batch of data where each element is a dictionary with keys\n",
    "                              'labels' and 'Cleaned_Reviews'. 'labels' are the emotion labels,\n",
    "                              and 'Cleaned_Reviews' are the corresponding texts (tweets).\n",
    "        my_vocab (Vocab): The vocabulary object that maps tokens to indices.\n",
    "\n",
    "    Returns:\n",
    "        dict: A dictionary with three keys:\n",
    "              - 'input_ids': A tensor containing concatenated indices of the texts.\n",
    "              - 'offsets': A tensor representing the starting index of each text in 'input_ids'.\n",
    "              - 'labels': A tensor of the labels for each text in the batch.\n",
    "    \"\"\"\n",
    "\n",
    "    # Extract labels and texts from the batch\n",
    "    labels = [sample['labels'] for sample in batch]  # Multi-labels (binary vectors for emotions)\n",
    "    texts = [sample['Cleaned_Reviews'] for sample in batch]  # Texts (tweets)\n",
    "\n",
    "    # Convert the list of labels into a tensor (dtype float32 for multi-label classification)\n",
    "    labels = torch.tensor(labels, dtype=torch.float32)\n",
    "\n",
    "    # Convert the list of texts into a list of token indices using the tokenizer\n",
    "    list_of_list_of_indices = [tokenizer(text, my_vocab) for text in texts]\n",
    "\n",
    "    # Concatenate all token indices into a single tensor (input_ids)\n",
    "    input_ids = torch.cat([torch.tensor(i, dtype=torch.int64) for i in list_of_list_of_indices])\n",
    "\n",
    "    # Compute the offsets for each text in the concatenated tensor\n",
    "    offsets = [0] + [len(i) for i in list_of_list_of_indices]\n",
    "    offsets = torch.tensor(offsets[:-1]).cumsum(dim=0)\n",
    "\n",
    "    return {\n",
    "        'input_ids': input_ids,  # Flattened input tokens\n",
    "        'offsets': offsets,  # Offsets to keep track of the start of each tweet\n",
    "        'labels': labels  # Multi-labels (emotion binary vectors)\n",
    "    }\n"
   ]
  },
  {
   "cell_type": "code",
   "execution_count": 38,
   "id": "0c337459-9cf5-4068-9b99-b53972c230ba",
   "metadata": {},
   "outputs": [],
   "source": [
    "collate_fn = partial(collate_batch, my_vocab=emotion_vocab)\n",
    "# processed_batch = collate_fn(batch)"
   ]
  },
  {
   "cell_type": "markdown",
   "id": "b12a79bb-a2a3-48c3-b6a4-9f9e3d0268d5",
   "metadata": {},
   "source": [
    "#### Instantiate Model"
   ]
  },
  {
   "cell_type": "code",
   "execution_count": 39,
   "id": "6d572457-7745-4227-be2a-7bb33c5bf70c",
   "metadata": {},
   "outputs": [],
   "source": [
    "# Instantiate the configuration after the vocabulary is created\n",
    "my_config = CustomConfig(\n",
    "    vocab_size=len(emotion_vocab),  # Use the size of the vocabulary generated above\n",
    "    embedding_dim=300,  # Embedding dimension\n",
    "    hidden_dim1=200,  # First hidden layer size\n",
    "    hidden_dim2=100,  # Second hidden layer size\n",
    "    num_labels=11  # Number of emotion labels\n",
    ")\n",
    "\n",
    "# Map label indices to emotion classes\n",
    "my_config.id2label = {\n",
    "    0: 'anger', 1: 'anticipation', 2: 'disgust', 3: 'fear', 4: 'joy', \n",
    "    5: 'love', 6: 'optimism', 7: 'pessimism', 8: 'sadness', 9: 'surprise', 10: 'trust'\n",
    "}\n",
    "\n",
    "# Reverse the mapping to create label2id\n",
    "my_config.label2id = {v: k for k, v in my_config.id2label.items()}\n"
   ]
  },
  {
   "cell_type": "code",
   "execution_count": 40,
   "id": "c5ef032a-480a-4ad9-8a56-f1daf7054485",
   "metadata": {},
   "outputs": [
    {
     "data": {
      "text/plain": [
       "CustomConfig {\n",
       "  \"embedding_dim\": 300,\n",
       "  \"hidden_dim1\": 200,\n",
       "  \"hidden_dim2\": 100,\n",
       "  \"id2label\": {\n",
       "    \"0\": \"anger\",\n",
       "    \"1\": \"anticipation\",\n",
       "    \"2\": \"disgust\",\n",
       "    \"3\": \"fear\",\n",
       "    \"4\": \"joy\",\n",
       "    \"5\": \"love\",\n",
       "    \"6\": \"optimism\",\n",
       "    \"7\": \"pessimism\",\n",
       "    \"8\": \"sadness\",\n",
       "    \"9\": \"surprise\",\n",
       "    \"10\": \"trust\"\n",
       "  },\n",
       "  \"label2id\": {\n",
       "    \"anger\": 0,\n",
       "    \"anticipation\": 1,\n",
       "    \"disgust\": 2,\n",
       "    \"fear\": 3,\n",
       "    \"joy\": 4,\n",
       "    \"love\": 5,\n",
       "    \"optimism\": 6,\n",
       "    \"pessimism\": 7,\n",
       "    \"sadness\": 8,\n",
       "    \"surprise\": 9,\n",
       "    \"trust\": 10\n",
       "  },\n",
       "  \"transformers_version\": \"4.45.1\",\n",
       "  \"vocab_size\": 4980\n",
       "}"
      ]
     },
     "execution_count": 40,
     "metadata": {},
     "output_type": "execute_result"
    }
   ],
   "source": [
    "my_config"
   ]
  },
  {
   "cell_type": "code",
   "execution_count": 41,
   "id": "f9bcbbc4-991c-487e-b533-f60227efdad9",
   "metadata": {},
   "outputs": [
    {
     "name": "stdout",
     "output_type": "stream",
     "text": [
      "CustomMLP(\n",
      "  (embedding_bag): EmbeddingBag(4980, 300, mode='mean')\n",
      "  (layers): Sequential(\n",
      "    (0): Linear(in_features=300, out_features=200, bias=True)\n",
      "    (1): BatchNorm1d(200, eps=1e-05, momentum=0.1, affine=True, track_running_stats=True)\n",
      "    (2): ReLU()\n",
      "    (3): Dropout(p=0.5, inplace=False)\n",
      "    (4): Linear(in_features=200, out_features=100, bias=True)\n",
      "    (5): BatchNorm1d(100, eps=1e-05, momentum=0.1, affine=True, track_running_stats=True)\n",
      "    (6): ReLU()\n",
      "    (7): Dropout(p=0.5, inplace=False)\n",
      "    (8): Linear(in_features=100, out_features=11, bias=True)\n",
      "  )\n",
      ")\n"
     ]
    }
   ],
   "source": [
    "# Instantiate the model using the configuration\n",
    "model = CustomMLP(config=my_config)\n",
    "\n",
    "# Print the model architecture to check everything is set up correctly\n",
    "print(model)"
   ]
  },
  {
   "cell_type": "markdown",
   "id": "b6f51229-0f7f-4505-9700-535726e188d2",
   "metadata": {},
   "source": [
    "### Step 6: Compute_Metrics Function"
   ]
  },
  {
   "cell_type": "code",
   "execution_count": 42,
   "id": "ef03a6e1-9285-48ab-8bfc-0634c38911ca",
   "metadata": {},
   "outputs": [],
   "source": [
    "import numpy as np\n",
    "import evaluate\n",
    "import torch\n",
    "\n",
    "# Define the compute_metrics function\n",
    "def compute_metrics(eval_pred):\n",
    "    # Unpack predictions and labels\n",
    "    logits, labels = eval_pred\n",
    "\n",
    "    # Apply sigmoid to logits for multi-label classification (to get probabilities)\n",
    "    sigmoid_logits = torch.sigmoid(torch.tensor(logits))\n",
    "\n",
    "    # Convert logits to predictions (1 if > 0.5, else 0)\n",
    "    predictions = (sigmoid_logits > 0.5).int()\n",
    "\n",
    "    # Convert labels to int if they are in float\n",
    "    labels = torch.tensor(labels).int()\n",
    "\n",
    "    # Flatten both predictions and labels for metric calculation\n",
    "    predictions = predictions.view(-1).cpu().numpy()\n",
    "    labels = labels.view(-1).cpu().numpy()\n",
    "\n",
    "    # Load evaluation metrics\n",
    "    accuracy_metric = evaluate.load(\"accuracy\")\n",
    "    f1_metric = evaluate.load(\"f1\", average=\"macro\")  # Macro F1-score for multi-label classification\n",
    "\n",
    "    # Compute the accuracy\n",
    "    accuracy = accuracy_metric.compute(predictions=predictions, references=labels)\n",
    "\n",
    "    # Compute the F1-score\n",
    "    f1_score = f1_metric.compute(predictions=predictions, references=labels)\n",
    "\n",
    "    # Return both accuracy and F1 score\n",
    "    return {\n",
    "        \"accuracy\": accuracy[\"accuracy\"],\n",
    "        \"f1_score\": f1_score[\"f1\"]\n",
    "    }\n"
   ]
  },
  {
   "cell_type": "markdown",
   "id": "ca599bd6-182f-47f4-a6ce-ef960ba61645",
   "metadata": {},
   "source": [
    "### Step 7: Training Arguments"
   ]
  },
  {
   "cell_type": "code",
   "execution_count": 43,
   "id": "0b33f513-23d2-4e6b-a0ef-93e212d23fb8",
   "metadata": {},
   "outputs": [],
   "source": [
    "from transformers import TrainingArguments\n",
    "\n",
    "# Configure training parameters for the Emotion Detection task\n",
    "training_args = TrainingArguments(\n",
    "\n",
    "    # Training-specific configurations\n",
    "    num_train_epochs=5,  # Number of epochs\n",
    "    per_device_train_batch_size=64,  # Batch size for training\n",
    "    per_device_eval_batch_size=64,  # Batch size for evaluation\n",
    "    weight_decay=0.1,  # L2 regularization\n",
    "    learning_rate=0.001,  # Learning rate\n",
    "    optim='adamw_torch',  # Optimizer\n",
    "    remove_unused_columns=False,  # Keep all columns in the dataset\n",
    "\n",
    "    # Checkpoint saving and model evaluation settings\n",
    "    output_dir=\"./emotion_results\",  # Directory to save checkpoints and outputs\n",
    "    eval_strategy='steps',  # Use `eval_strategy` instead of `evaluation_strategy`\n",
    "    eval_steps=100,  # Perform evaluation every 100 training steps\n",
    "    save_strategy=\"steps\",  # Save model checkpoints periodically\n",
    "    save_steps=100,  # Save a model checkpoint every 100 training steps\n",
    "    load_best_model_at_end=True,  # Reload the best model at the end of training\n",
    "    save_total_limit=3,  # Retain only the best 3 models\n",
    "\n",
    "    # Evaluation and model comparison settings\n",
    "    metric_for_best_model=\"f1_score\",  # Use F1 score as the metric for the best model\n",
    "    greater_is_better=True,  # A higher F1 score is better\n",
    "\n",
    "    # Experiment logging configurations\n",
    "    logging_strategy='steps',  # Log metrics and loss periodically during training\n",
    "    logging_steps=50,  # Log every 50 training steps\n",
    "    report_to='wandb',  # Use Weights & Biases for logging\n",
    "    run_name='emotion_detection_trainer',  # Name of the experiment for Weights & Biases\n",
    ")\n"
   ]
  },
  {
   "cell_type": "markdown",
   "id": "9e590f47-0483-4313-aff5-a089bd566dd0",
   "metadata": {},
   "source": [
    "Explanation of Each Argument:\n",
    "`num_train_epochs=5`:\n",
    "Explanation: Number of times the model sees the entire training dataset.\n",
    "Tweaks: Increase or decrease depending on dataset size and model performance. More epochs for smaller datasets, fewer epochs for larger datasets.\n",
    "\n",
    "\n",
    "`per_device_train_batch_size=64`:\n",
    "Explanation: Number of samples per batch during training.\n",
    "Tweaks: Adjust based on your GPU/CPU memory. A smaller batch size may be needed for limited resources, while larger batch sizes can speed up training on powerful hardware.\n",
    "\n",
    "`per_device_eval_batch_size=64`:\n",
    "Explanation: Batch size for evaluation.\n",
    "Tweaks: Usually matches the training batch size but can be smaller if memory is an issue.\n",
    "\n",
    "\n",
    "`weight_decay=0.1`:\n",
    "Explanation: Weight decay (L2 regularization) to prevent overfitting by penalizing large weights.\n",
    "Tweaks: You can lower this if you think overfitting is not an issue or increase it if overfitting persists.\n",
    "\n",
    "\n",
    "`learning_rate=0.001`:\n",
    "Explanation: The step size for updating model weights during training.\n",
    "Tweaks: Use a smaller learning rate (e.g., 0.0001) if the model isn’t converging or is unstable. A larger learning rate (e.g., 0.01) can speed up training, but it may cause the model to miss the optimal point.\n",
    "\n",
    "\n",
    "`optim='adamw_torch'`:\n",
    "Explanation: The optimizer to use. adamw_torch is an AdamW optimizer designed for training transformers, which applies weight decay correctly.\n",
    "Tweaks: You can use different optimizers like adam or sgd for experimentation.\n",
    "\n",
    "\n",
    "`remove_unused_columns=False`:\n",
    "Explanation: Retain all columns in the dataset (even if the model doesn’t use them). This ensures that no relevant data is dropped.\n",
    "Tweaks: If your dataset has unnecessary columns that you don’t need, you can set this to True to remove them and optimize memory usage.\n",
    "\n",
    "\n",
    "`output_dir=\"./emotion_results\"`:\n",
    "Explanation: Directory to store checkpoints, logs, and other outputs.\n",
    "Tweaks: Change this path if you want to save results in a different location.\n",
    "\n",
    "\n",
    "`evaluation_strategy='steps'`:\n",
    "Explanation: Perform evaluations during training at regular step intervals.\n",
    "Options: You can use 'epoch' to evaluate at the end of every epoch instead of after a specific number of steps.\n",
    "\n",
    "\n",
    "`eval_steps=100`:\n",
    "Explanation: Evaluate the model every 100 training steps.\n",
    "Tweaks: Increase this number to evaluate less frequently or decrease it for more frequent evaluations.\n",
    "\n",
    "\n",
    "`save_strategy=\"steps\"`:\n",
    "Explanation: Save model checkpoints periodically during training.\n",
    "Tweaks: You can change this to 'epoch' to save checkpoints after every epoch instead of steps.\n",
    "\n",
    "\n",
    "`save_steps=100`:\n",
    "Explanation: Save a checkpoint every 100 training steps.\n",
    "Tweaks: Increase this number to save less frequently or decrease it to save more often.\n",
    "\n",
    "\n",
    "`load_best_model_at_end=True`:\n",
    "Explanation: At the end of training, reload the best model (based on evaluation metrics).\n",
    "Tweaks: Set to False if you don’t want to load the best model at the end (for experimentation purposes).\n",
    "\n",
    "\n",
    "`save_total_limit=3`:\n",
    "Explanation: Keep only the best 3 model checkpoints (older ones are deleted).\n",
    "Tweaks: Increase this if you want to retain more model checkpoints or set it lower if you want to conserve disk space.\n",
    "\n",
    "\n",
    "`metric_for_best_model=\"f1_score\"`:\n",
    "Explanation: Use the F1 score to determine the best model during evaluation.\n",
    "Tweaks: You could also use \"accuracy\", \"precision\", or \"recall\" depending on what metric is most important for your problem.\n",
    "\n",
    "\n",
    "`greater_is_better=True`:\n",
    "Explanation: A model is considered better if its evaluation metric (F1 score in this case) is higher.\n",
    "Tweaks: Set to False if you're optimizing for a metric where lower values are better (e.g., loss).\n",
    "\n",
    "\n",
    "`logging_strategy='steps'`:\n",
    "Explanation: Log training metrics and loss at regular intervals.\n",
    "Tweaks: You can change this to 'epoch' if you prefer logging at the end of each epoch instead of steps.\n",
    "\n",
    "\n",
    "`logging_steps=50`:\n",
    "Explanation: Log metrics every 50 steps.\n",
    "Tweaks: Increase this number to log less frequently or decrease it to log more often.\n",
    "\n",
    "`report_to='wandb'`:\n",
    "Explanation: Log results to Weights & Biases (WandB), a platform for tracking experiments and visualizing training metrics.\n",
    "Tweaks: Change this to 'tensorboard' to log to TensorBoard or ['wandb', 'tensorboard'] to log to both platforms.\n",
    "\n",
    "\n",
    "`run_name='emotion_detection_trainer':`\n",
    "Explanation: Name of the experiment in Weights & Biases (or TensorBoard if using that).\n",
    "Tweaks: You can modify this to track different experiments under different names."
   ]
  },
  {
   "cell_type": "code",
   "execution_count": 44,
   "id": "85a9c537-cefb-4d18-ae7f-494397d6170e",
   "metadata": {},
   "outputs": [],
   "source": [
    "## Initialize Trainer\n",
    "from transformers import Trainer\n",
    "\n",
    "# Initialize the Trainer\n",
    "trainer = Trainer(\n",
    "    model=model,  # The model we instantiated (CustomMLP)\n",
    "    args=training_args,  # The training arguments we just defined\n",
    "    train_dataset=hf_train_set,  # The training dataset (ensure it's preprocessed)\n",
    "    eval_dataset=hf_test_set,  # The validation dataset for evaluation during training\n",
    "    data_collator=collate_fn,  # Function to collate batches (defined earlier)\n",
    "    compute_metrics=compute_metrics  # Function to compute metrics (defined earlier)\n",
    ")"
   ]
  },
  {
   "cell_type": "markdown",
   "id": "2dd636ad-3f0a-46ab-bc41-34f0345bcb42",
   "metadata": {},
   "source": [
    "#### Setup Weight and Bias"
   ]
  },
  {
   "cell_type": "code",
   "execution_count": 45,
   "id": "016ced41-43d9-48e1-98c0-6356bb44a7e7",
   "metadata": {},
   "outputs": [
    {
     "name": "stderr",
     "output_type": "stream",
     "text": [
      "\u001b[34m\u001b[1mwandb\u001b[0m: Using wandb-core as the SDK backend. Please refer to https://wandb.me/wandb-core for more information.\n",
      "\u001b[34m\u001b[1mwandb\u001b[0m: Currently logged in as: \u001b[33mshobhit-pachauri\u001b[0m (\u001b[33mshobhit-pachauri-university-of-texas-at-dallas\u001b[0m). Use \u001b[1m`wandb login --relogin`\u001b[0m to force relogin\n"
     ]
    },
    {
     "data": {
      "text/plain": [
       "True"
      ]
     },
     "execution_count": 45,
     "metadata": {},
     "output_type": "execute_result"
    }
   ],
   "source": [
    "import wandb\n",
    "\n",
    "# Log into WandB\n",
    "wandb.login()"
   ]
  },
  {
   "cell_type": "code",
   "execution_count": 46,
   "id": "e947fa91-b69c-401f-96b0-9b1623ec253f",
   "metadata": {},
   "outputs": [],
   "source": [
    "import os\n",
    "\n",
    "# Set the WandB project name (adjust for your task)\n",
    "os.environ[\"WANDB_PROJECT\"] = \"emotion_detection_fall_2024\""
   ]
  },
  {
   "cell_type": "markdown",
   "id": "be61b02e-34f0-48f1-a4b5-237c320aab5a",
   "metadata": {},
   "source": [
    "### Step 7: Training and Validation"
   ]
  },
  {
   "cell_type": "code",
   "execution_count": 47,
   "id": "9632546e-4e87-4c33-9c1b-7c23c1259aa7",
   "metadata": {},
   "outputs": [
    {
     "data": {
      "text/html": [
       "Changes to your `wandb` environment variables will be ignored because your `wandb` session has already started. For more information on how to modify your settings with `wandb.init()` arguments, please refer to <a href='https://wandb.me/wandb-init' target=\"_blank\">the W&B docs</a>."
      ],
      "text/plain": [
       "<IPython.core.display.HTML object>"
      ]
     },
     "metadata": {},
     "output_type": "display_data"
    },
    {
     "data": {
      "text/html": [
       "Tracking run with wandb version 0.18.3"
      ],
      "text/plain": [
       "<IPython.core.display.HTML object>"
      ]
     },
     "metadata": {},
     "output_type": "display_data"
    },
    {
     "data": {
      "text/html": [
       "Run data is saved locally in <code>/Users/anxiousviking/Documents/course/Sem 3/NLP/lect 5/assignment/wandb/run-20241005_134646-dqy7s97d</code>"
      ],
      "text/plain": [
       "<IPython.core.display.HTML object>"
      ]
     },
     "metadata": {},
     "output_type": "display_data"
    },
    {
     "data": {
      "text/html": [
       "Syncing run <strong><a href='https://wandb.ai/shobhit-pachauri-university-of-texas-at-dallas/emotion_detection_fall_2024/runs/dqy7s97d' target=\"_blank\">emotion_detection_trainer</a></strong> to <a href='https://wandb.ai/shobhit-pachauri-university-of-texas-at-dallas/emotion_detection_fall_2024' target=\"_blank\">Weights & Biases</a> (<a href='https://wandb.me/run' target=\"_blank\">docs</a>)<br/>"
      ],
      "text/plain": [
       "<IPython.core.display.HTML object>"
      ]
     },
     "metadata": {},
     "output_type": "display_data"
    },
    {
     "data": {
      "text/html": [
       " View project at <a href='https://wandb.ai/shobhit-pachauri-university-of-texas-at-dallas/emotion_detection_fall_2024' target=\"_blank\">https://wandb.ai/shobhit-pachauri-university-of-texas-at-dallas/emotion_detection_fall_2024</a>"
      ],
      "text/plain": [
       "<IPython.core.display.HTML object>"
      ]
     },
     "metadata": {},
     "output_type": "display_data"
    },
    {
     "data": {
      "text/html": [
       " View run at <a href='https://wandb.ai/shobhit-pachauri-university-of-texas-at-dallas/emotion_detection_fall_2024/runs/dqy7s97d' target=\"_blank\">https://wandb.ai/shobhit-pachauri-university-of-texas-at-dallas/emotion_detection_fall_2024/runs/dqy7s97d</a>"
      ],
      "text/plain": [
       "<IPython.core.display.HTML object>"
      ]
     },
     "metadata": {},
     "output_type": "display_data"
    },
    {
     "data": {
      "application/vnd.jupyter.widget-view+json": {
       "model_id": "8d4c7764348a49cd8a5b13377139fe5d",
       "version_major": 2,
       "version_minor": 0
      },
      "text/plain": [
       "  0%|          | 0/485 [00:00<?, ?it/s]"
      ]
     },
     "metadata": {},
     "output_type": "display_data"
    },
    {
     "name": "stderr",
     "output_type": "stream",
     "text": [
      "/Users/anxiousviking/anaconda3/lib/python3.11/site-packages/torch/nn/functional.py:2454: UserWarning: The operator 'aten::_embedding_bag' is not currently supported on the MPS backend and will fall back to run on the CPU. This may have performance implications. (Triggered internally at /Users/runner/work/pytorch/pytorch/pytorch/aten/src/ATen/mps/MPSFallback.mm:13.)\n",
      "  ret, _, _, _ = torch.embedding_bag(\n"
     ]
    },
    {
     "name": "stdout",
     "output_type": "stream",
     "text": [
      "{'loss': 0.5786, 'grad_norm': 0.41275927424430847, 'learning_rate': 0.0008969072164948454, 'epoch': 0.52}\n",
      "{'loss': 0.4792, 'grad_norm': 0.34389716386795044, 'learning_rate': 0.0007938144329896907, 'epoch': 1.03}\n"
     ]
    },
    {
     "data": {
      "application/vnd.jupyter.widget-view+json": {
       "model_id": "0956c112ea74473ea501e33ae77ba355",
       "version_major": 2,
       "version_minor": 0
      },
      "text/plain": [
       "  0%|          | 0/25 [00:00<?, ?it/s]"
      ]
     },
     "metadata": {},
     "output_type": "display_data"
    },
    {
     "name": "stdout",
     "output_type": "stream",
     "text": [
      "{'eval_loss': 0.4743071496486664, 'eval_accuracy': 0.8017063842306561, 'eval_f1_score': 0.20817669172932332, 'eval_runtime': 1.7214, 'eval_samples_per_second': 897.521, 'eval_steps_per_second': 14.523, 'epoch': 1.03}\n",
      "{'loss': 0.4518, 'grad_norm': 0.43890172243118286, 'learning_rate': 0.0006907216494845361, 'epoch': 1.55}\n",
      "{'loss': 0.4398, 'grad_norm': 0.31988656520843506, 'learning_rate': 0.0005876288659793815, 'epoch': 2.06}\n"
     ]
    },
    {
     "data": {
      "application/vnd.jupyter.widget-view+json": {
       "model_id": "1d9d653d53184d9b8cf6127bf08b8d95",
       "version_major": 2,
       "version_minor": 0
      },
      "text/plain": [
       "  0%|          | 0/25 [00:00<?, ?it/s]"
      ]
     },
     "metadata": {},
     "output_type": "display_data"
    },
    {
     "name": "stdout",
     "output_type": "stream",
     "text": [
      "{'eval_loss': 0.43767857551574707, 'eval_accuracy': 0.81306266548985, 'eval_f1_score': 0.35805213174378664, 'eval_runtime': 1.5415, 'eval_samples_per_second': 1002.283, 'eval_steps_per_second': 16.218, 'epoch': 2.06}\n",
      "{'loss': 0.4203, 'grad_norm': 0.33897170424461365, 'learning_rate': 0.0004845360824742268, 'epoch': 2.58}\n",
      "{'loss': 0.4085, 'grad_norm': 0.30443075299263, 'learning_rate': 0.00038144329896907213, 'epoch': 3.09}\n"
     ]
    },
    {
     "data": {
      "application/vnd.jupyter.widget-view+json": {
       "model_id": "b9a5792f925b4a7d86c93a21b886bfbc",
       "version_major": 2,
       "version_minor": 0
      },
      "text/plain": [
       "  0%|          | 0/25 [00:00<?, ?it/s]"
      ]
     },
     "metadata": {},
     "output_type": "display_data"
    },
    {
     "name": "stdout",
     "output_type": "stream",
     "text": [
      "{'eval_loss': 0.4220632314682007, 'eval_accuracy': 0.8200647249190939, 'eval_f1_score': 0.4362094395280236, 'eval_runtime': 1.4102, 'eval_samples_per_second': 1095.563, 'eval_steps_per_second': 17.728, 'epoch': 3.09}\n",
      "{'loss': 0.4004, 'grad_norm': 0.3677012026309967, 'learning_rate': 0.00027835051546391755, 'epoch': 3.61}\n",
      "{'loss': 0.3946, 'grad_norm': 0.38723546266555786, 'learning_rate': 0.00017525773195876287, 'epoch': 4.12}\n"
     ]
    },
    {
     "data": {
      "application/vnd.jupyter.widget-view+json": {
       "model_id": "d5979a7eceec4ab99135bd708931a14c",
       "version_major": 2,
       "version_minor": 0
      },
      "text/plain": [
       "  0%|          | 0/25 [00:00<?, ?it/s]"
      ]
     },
     "metadata": {},
     "output_type": "display_data"
    },
    {
     "name": "stdout",
     "output_type": "stream",
     "text": [
      "{'eval_loss': 0.409931480884552, 'eval_accuracy': 0.8224183583406884, 'eval_f1_score': 0.45680345572354214, 'eval_runtime': 1.3766, 'eval_samples_per_second': 1122.295, 'eval_steps_per_second': 18.16, 'epoch': 4.12}\n",
      "{'loss': 0.3935, 'grad_norm': 0.4994026720523834, 'learning_rate': 7.216494845360824e-05, 'epoch': 4.64}\n",
      "{'train_runtime': 15.8481, 'train_samples_per_second': 1949.45, 'train_steps_per_second': 30.603, 'train_loss': 0.4369899631775532, 'epoch': 5.0}\n"
     ]
    },
    {
     "data": {
      "text/plain": [
       "TrainOutput(global_step=485, training_loss=0.4369899631775532, metrics={'train_runtime': 15.8481, 'train_samples_per_second': 1949.45, 'train_steps_per_second': 30.603, 'total_flos': 2361936165480.0, 'train_loss': 0.4369899631775532, 'epoch': 5.0})"
      ]
     },
     "execution_count": 47,
     "metadata": {},
     "output_type": "execute_result"
    }
   ],
   "source": [
    "# Start training and log to WandB\n",
    "trainer.train()"
   ]
  },
  {
   "cell_type": "code",
   "execution_count": 48,
   "id": "d9621625-1575-4c0c-9aaa-63aa338998f1",
   "metadata": {},
   "outputs": [
    {
     "data": {
      "application/vnd.jupyter.widget-view+json": {
       "model_id": "3734bf60ee4b40508a3a6bd939c1d1fd",
       "version_major": 2,
       "version_minor": 0
      },
      "text/plain": [
       "  0%|          | 0/25 [00:00<?, ?it/s]"
      ]
     },
     "metadata": {},
     "output_type": "display_data"
    },
    {
     "data": {
      "text/plain": [
       "{'eval_loss': 0.409931480884552,\n",
       " 'eval_accuracy': 0.8224183583406884,\n",
       " 'eval_f1_score': 0.45680345572354214,\n",
       " 'eval_runtime': 1.411,\n",
       " 'eval_samples_per_second': 1094.952,\n",
       " 'eval_steps_per_second': 17.718,\n",
       " 'epoch': 5.0}"
      ]
     },
     "execution_count": 48,
     "metadata": {},
     "output_type": "execute_result"
    }
   ],
   "source": [
    "trainer.evaluate()"
   ]
  },
  {
   "cell_type": "markdown",
   "id": "4725d78d-2bdd-4abe-9422-16ac3fb074e1",
   "metadata": {},
   "source": [
    "### Step 8: Confusion Matrix"
   ]
  },
  {
   "cell_type": "code",
   "execution_count": 49,
   "id": "75450084-cedc-42c7-8275-cc9bf3eb205a",
   "metadata": {},
   "outputs": [
    {
     "data": {
      "application/vnd.jupyter.widget-view+json": {
       "model_id": "e8dfbd2b5ae14614bc2aae0aa61414e1",
       "version_major": 2,
       "version_minor": 0
      },
      "text/plain": [
       "  0%|          | 0/25 [00:00<?, ?it/s]"
      ]
     },
     "metadata": {},
     "output_type": "display_data"
    }
   ],
   "source": [
    "# Predict using the validation set\n",
    "valid_output = trainer.predict(hf_test_set)  # Replace 'validset' with the actual valid dataset variable"
   ]
  },
  {
   "cell_type": "code",
   "execution_count": 50,
   "id": "d5d3289b-3605-4ade-ba0a-6ffbd7a81455",
   "metadata": {},
   "outputs": [
    {
     "name": "stdout",
     "output_type": "stream",
     "text": [
      "('predictions', 'label_ids', 'metrics')\n"
     ]
    }
   ],
   "source": [
    "print(valid_output._fields)"
   ]
  },
  {
   "cell_type": "code",
   "execution_count": 51,
   "id": "ad7c68a4-1587-456c-bc1e-6a9528eea8c5",
   "metadata": {},
   "outputs": [],
   "source": [
    "# For multi-label classification, use sigmoid and threshold the predictions\n",
    "valid_preds = (torch.sigmoid(torch.tensor(valid_output.predictions)) > 0.5).int().numpy()\n",
    "\n",
    "# Extract the actual labels (if available)\n",
    "valid_labels = np.array(valid_output.label_ids)  # Only if ground truth labels are available"
   ]
  },
  {
   "cell_type": "code",
   "execution_count": 52,
   "id": "ea0f68b9-b312-4f88-ab27-2a77ea1afea3",
   "metadata": {},
   "outputs": [],
   "source": [
    "import matplotlib.pyplot as plt\n",
    "import seaborn as sns\n",
    "from sklearn.metrics import multilabel_confusion_matrix\n",
    "\n",
    "def plot_confusion_matrix(valid_labels, valid_preds, class_labels):\n",
    "    \"\"\"\n",
    "    Plots confusion matrices for each emotion (multi-label classification).\n",
    "    \n",
    "    Args:\n",
    "        valid_labels (array-like): True labels of the validation data.\n",
    "        valid_preds (array-like): Predicted labels of the validation data.\n",
    "        class_labels (list): List of class names for the labels (from `my_config.id2label.values()`).\n",
    "    \"\"\"\n",
    "    # Compute the confusion matrix for each label\n",
    "    confusion_matrices = multilabel_confusion_matrix(valid_labels, valid_preds)\n",
    "    \n",
    "    # Plot confusion matrix for each class\n",
    "    fig, axes = plt.subplots(3, 4, figsize=(15, 10))  # Adjust based on the number of labels (11 classes)\n",
    "    axes = axes.flatten()\n",
    "\n",
    "    for i, cm in enumerate(confusion_matrices):\n",
    "        sns.heatmap(cm, annot=True, fmt=\"d\", cmap=\"Blues\", ax=axes[i])\n",
    "        axes[i].set_title(f'Confusion Matrix: {class_labels[i]}')\n",
    "        axes[i].set_xlabel('Predicted')\n",
    "        axes[i].set_ylabel('True')\n",
    "    \n",
    "    # Adjust layout\n",
    "    plt.tight_layout()\n",
    "    plt.show()\n"
   ]
  },
  {
   "cell_type": "code",
   "execution_count": 53,
   "id": "e4025bb2-5a1c-4e9c-b53a-9e38cca6953f",
   "metadata": {},
   "outputs": [
    {
     "data": {
      "image/png": "[encoded data removed]",
      "text/plain": [
       "<Figure size 1500x1000 with 23 Axes>"
      ]
     },
     "metadata": {},
     "output_type": "display_data"
    }
   ],
   "source": [
    "# Use class labels from my_config.id2label\n",
    "plot_confusion_matrix(valid_labels,\n",
    "                      valid_preds,\n",
    "                      class_labels=list(my_config.id2label.values()))"
   ]
  },
  {
   "cell_type": "code",
   "execution_count": 54,
   "id": "52f6b113-68fa-49a7-a133-bee6318191ff",
   "metadata": {},
   "outputs": [],
   "source": [
    "# Import necessary libraries\n",
    "import wandb\n",
    "import numpy as np\n",
    "from sklearn.metrics import confusion_matrix\n",
    "\n",
    "# Log each confusion matrix separately for multi-label classification\n",
    "for i, class_name in enumerate(list(my_config.id2label.values())):\n",
    "    cm = confusion_matrix(valid_labels[:, i], valid_preds[:, i])  # Confusion matrix for each label\n",
    "    cm_plot = sns.heatmap(cm, annot=True, fmt=\"d\", cmap=\"Blues\").get_figure()\n",
    "\n",
    "    # Log the confusion matrix plot to WandB for each class\n",
    "    wandb.log({f\"conf_matrix_{class_name}\": wandb.Image(cm_plot)})\n",
    "    \n",
    "    # Close the figure to avoid overlap\n",
    "    plt.close(cm_plot)\n"
   ]
  },
  {
   "cell_type": "markdown",
   "id": "535c5243-8a5a-4ff9-805c-39376e00b008",
   "metadata": {},
   "source": [
    "#### Best CheckPoint"
   ]
  },
  {
   "cell_type": "code",
   "execution_count": 55,
   "id": "1b1355cf-80a0-4883-806f-eef2f5756015",
   "metadata": {},
   "outputs": [
    {
     "name": "stdout",
     "output_type": "stream",
     "text": [
      "The best model was saved at step 400.\n"
     ]
    }
   ],
   "source": [
    "# Check the best checkpoint saved during training\n",
    "best_model_checkpoint_step = trainer.state.best_model_checkpoint.split('-')[-1]\n",
    "print(f\"The best model was saved at step {best_model_checkpoint_step}.\")\n"
   ]
  },
  {
   "cell_type": "code",
   "execution_count": 56,
   "id": "884a5032-6b43-401c-aaf0-665aac3692f2",
   "metadata": {},
   "outputs": [
    {
     "data": {
      "application/vnd.jupyter.widget-view+json": {
       "model_id": "d60080b6475d452b803f0ff09093bcec",
       "version_major": 2,
       "version_minor": 0
      },
      "text/plain": [
       "VBox(children=(Label(value='0.153 MB of 0.153 MB uploaded\\r'), FloatProgress(value=1.0, max=1.0)))"
      ]
     },
     "metadata": {},
     "output_type": "display_data"
    },
    {
     "data": {
      "text/html": [
       "<style>\n",
       "    table.wandb td:nth-child(1) { padding: 0 10px; text-align: left ; width: auto;} td:nth-child(2) {text-align: left ; width: 100%}\n",
       "    .wandb-row { display: flex; flex-direction: row; flex-wrap: wrap; justify-content: flex-start; width: 100% }\n",
       "    .wandb-col { display: flex; flex-direction: column; flex-basis: 100%; flex: 1; padding: 10px; }\n",
       "    </style>\n",
       "<div class=\"wandb-row\"><div class=\"wandb-col\"><h3>Run history:</h3><br/><table class=\"wandb\"><tr><td>eval/accuracy</td><td>▁▅▇██</td></tr><tr><td>eval/f1_score</td><td>▁▅▇██</td></tr><tr><td>eval/loss</td><td>█▄▂▁▁</td></tr><tr><td>eval/runtime</td><td>█▄▂▁▂</td></tr><tr><td>eval/samples_per_second</td><td>▁▄▇█▇</td></tr><tr><td>eval/steps_per_second</td><td>▁▄▇█▇</td></tr><tr><td>test/accuracy</td><td>▁</td></tr><tr><td>test/f1_score</td><td>▁</td></tr><tr><td>test/loss</td><td>▁</td></tr><tr><td>test/runtime</td><td>▁</td></tr><tr><td>test/samples_per_second</td><td>▁</td></tr><tr><td>test/steps_per_second</td><td>▁</td></tr><tr><td>train/epoch</td><td>▁▂▂▃▃▃▄▅▅▆▇▇▇██</td></tr><tr><td>train/global_step</td><td>▁▂▂▃▃▃▄▅▅▆▇▇▇██████████████</td></tr><tr><td>train/grad_norm</td><td>▅▂▆▂▂▁▃▄█</td></tr><tr><td>train/learning_rate</td><td>█▇▆▅▄▄▃▂▁</td></tr><tr><td>train/loss</td><td>█▄▃▃▂▂▁▁▁</td></tr></table><br/></div><div class=\"wandb-col\"><h3>Run summary:</h3><br/><table class=\"wandb\"><tr><td>eval/accuracy</td><td>0.82242</td></tr><tr><td>eval/f1_score</td><td>0.4568</td></tr><tr><td>eval/loss</td><td>0.40993</td></tr><tr><td>eval/runtime</td><td>1.411</td></tr><tr><td>eval/samples_per_second</td><td>1094.952</td></tr><tr><td>eval/steps_per_second</td><td>17.718</td></tr><tr><td>test/accuracy</td><td>0.82242</td></tr><tr><td>test/f1_score</td><td>0.4568</td></tr><tr><td>test/loss</td><td>0.40993</td></tr><tr><td>test/runtime</td><td>1.5132</td></tr><tr><td>test/samples_per_second</td><td>1021.023</td></tr><tr><td>test/steps_per_second</td><td>16.521</td></tr><tr><td>total_flos</td><td>2361936165480.0</td></tr><tr><td>train/epoch</td><td>5</td></tr><tr><td>train/global_step</td><td>485</td></tr><tr><td>train/grad_norm</td><td>0.4994</td></tr><tr><td>train/learning_rate</td><td>7e-05</td></tr><tr><td>train/loss</td><td>0.3935</td></tr><tr><td>train_loss</td><td>0.43699</td></tr><tr><td>train_runtime</td><td>15.8481</td></tr><tr><td>train_samples_per_second</td><td>1949.45</td></tr><tr><td>train_steps_per_second</td><td>30.603</td></tr></table><br/></div></div>"
      ],
      "text/plain": [
       "<IPython.core.display.HTML object>"
      ]
     },
     "metadata": {},
     "output_type": "display_data"
    },
    {
     "data": {
      "text/html": [
       " View run <strong style=\"color:#cdcd00\">emotion_detection_trainer</strong> at: <a href='https://wandb.ai/shobhit-pachauri-university-of-texas-at-dallas/emotion_detection_fall_2024/runs/dqy7s97d' target=\"_blank\">https://wandb.ai/shobhit-pachauri-university-of-texas-at-dallas/emotion_detection_fall_2024/runs/dqy7s97d</a><br/> View project at: <a href='https://wandb.ai/shobhit-pachauri-university-of-texas-at-dallas/emotion_detection_fall_2024' target=\"_blank\">https://wandb.ai/shobhit-pachauri-university-of-texas-at-dallas/emotion_detection_fall_2024</a><br/>Synced 5 W&B file(s), 0 media file(s), 0 artifact file(s) and 11 other file(s)"
      ],
      "text/plain": [
       "<IPython.core.display.HTML object>"
      ]
     },
     "metadata": {},
     "output_type": "display_data"
    },
    {
     "data": {
      "text/html": [
       "Find logs at: <code>./wandb/run-20241005_134646-dqy7s97d/logs</code>"
      ],
      "text/plain": [
       "<IPython.core.display.HTML object>"
      ]
     },
     "metadata": {},
     "output_type": "display_data"
    }
   ],
   "source": [
    "wandb.finish()"
   ]
  },
  {
   "cell_type": "markdown",
   "id": "676aa9f4-454e-41c6-bbfb-55fa3755bf18",
   "metadata": {},
   "source": [
    "### Step 9: Performance on the Test Set"
   ]
  },
  {
   "cell_type": "markdown",
   "id": "d69df15c-0f59-4ba1-ba2b-bac44709637f",
   "metadata": {},
   "source": [
    "#### Load Model From Checkpoint"
   ]
  },
  {
   "cell_type": "code",
   "execution_count": 57,
   "id": "94e9bd99-39f6-4b5a-aee8-f38bde308e79",
   "metadata": {},
   "outputs": [
    {
     "name": "stdout",
     "output_type": "stream",
     "text": [
      "Model loaded successfully!\n",
      "CustomMLP(\n",
      "  (embedding_bag): EmbeddingBag(4980, 300, mode='mean')\n",
      "  (layers): Sequential(\n",
      "    (0): Linear(in_features=300, out_features=200, bias=True)\n",
      "    (1): BatchNorm1d(200, eps=1e-05, momentum=0.1, affine=True, track_running_stats=True)\n",
      "    (2): ReLU()\n",
      "    (3): Dropout(p=0.5, inplace=False)\n",
      "    (4): Linear(in_features=200, out_features=100, bias=True)\n",
      "    (5): BatchNorm1d(100, eps=1e-05, momentum=0.1, affine=True, track_running_stats=True)\n",
      "    (6): ReLU()\n",
      "    (7): Dropout(p=0.5, inplace=False)\n",
      "    (8): Linear(in_features=100, out_features=11, bias=True)\n",
      "  )\n",
      ")\n"
     ]
    }
   ],
   "source": [
    "from pathlib import Path\n",
    "import torch\n",
    "\n",
    "# Define the base path and checkpoint folder in emotion_results\n",
    "emotion_results_folder = Path(basepath) / 'emotion_results'\n",
    "\n",
    "# Assuming the best checkpoint step is 400 (adjust if needed)\n",
    "best_model_checkpoint_step = 400\n",
    "\n",
    "# Define the path to the best model checkpoint inside the emotion_results folder\n",
    "model_checkpoint = emotion_results_folder / f'checkpoint-{best_model_checkpoint_step}'\n",
    "\n",
    "# Check if the checkpoint folder exists\n",
    "if not model_checkpoint.exists():\n",
    "    raise FileNotFoundError(f\"Checkpoint directory does not exist: {model_checkpoint}\")\n",
    "\n",
    "# Convert to string if required (since 'from_pretrained()' expects a string path)\n",
    "model_checkpoint = str(model_checkpoint)\n",
    "\n",
    "# Instantiate the CustomMLP model with predefined configurations\n",
    "model = CustomMLP(my_config)\n",
    "\n",
    "# Use from_pretrained() to load the weights from the specified checkpoint directory\n",
    "model = model.from_pretrained(model_checkpoint, config=my_config, local_files_only=True)\n",
    "\n",
    "# Move the model to the appropriate device (CPU or GPU)\n",
    "device = 'cuda' if torch.cuda.is_available() else 'cpu'\n",
    "model.to(device)\n",
    "\n",
    "# Put the model in evaluation mode\n",
    "model.eval()\n",
    "\n",
    "# Display the loaded model\n",
    "print(\"Model loaded successfully!\")\n",
    "print(model)\n"
   ]
  },
  {
   "cell_type": "markdown",
   "id": "e1c62ce7-86d8-48cc-82a7-058ec5829785",
   "metadata": {},
   "source": [
    "#### Instantiate Trainer for Evaluation"
   ]
  },
  {
   "cell_type": "code",
   "execution_count": 58,
   "id": "74077b42-c6ca-4a13-843f-cb3ab518462e",
   "metadata": {},
   "outputs": [],
   "source": [
    "import torch\n",
    "\n",
    "def collate_batch(batch, my_vocab):\n",
    "    \"\"\"\n",
    "    Prepares a batch of data by transforming texts into indices based on a vocabulary and\n",
    "    converting labels into a tensor (if labels exist).\n",
    "\n",
    "    Args:\n",
    "        batch (list of dict): A batch of data where each element is a dictionary with keys\n",
    "                              'labels' (if available) and 'Cleaned_Reviews' (the tweets).\n",
    "        my_vocab (Vocab): The vocabulary object that maps tokens to indices.\n",
    "\n",
    "    Returns:\n",
    "        dict: A dictionary with two or three keys:\n",
    "              - 'input_ids': A tensor containing concatenated indices of the texts.\n",
    "              - 'offsets': A tensor representing the starting index of each text in 'input_ids'.\n",
    "              - 'labels': A tensor of the labels for each text in the batch (if available).\n",
    "    \"\"\"\n",
    "\n",
    "    # Extract texts (tweets) from the batch\n",
    "    texts = [sample['Cleaned_Reviews'] for sample in batch]  # Texts (tweets)\n",
    "\n",
    "    # Convert the list of texts into a list of token indices using the tokenizer\n",
    "    list_of_list_of_indices = [tokenizer(text, my_vocab) for text in texts]\n",
    "\n",
    "    # Concatenate all token indices into a single tensor (input_ids)\n",
    "    input_ids = torch.cat([torch.tensor(i, dtype=torch.int64) for i in list_of_list_of_indices])\n",
    "\n",
    "    # Compute the offsets for each text in the concatenated tensor\n",
    "    offsets = [0] + [len(i) for i in list_of_list_of_indices]\n",
    "    offsets = torch.tensor(offsets[:-1]).cumsum(dim=0)\n",
    "\n",
    "    # Check if the labels exist in the batch (for labelled datasets)\n",
    "    if 'labels' in batch[0]:\n",
    "        # Extract labels from the batch (multi-labels)\n",
    "        labels = [sample['labels'] for sample in batch]\n",
    "        # Convert the list of labels into a tensor (dtype float32 for multi-label classification)\n",
    "        labels = torch.tensor(labels, dtype=torch.float32)\n",
    "        return {\n",
    "            'input_ids': input_ids,  # Flattened input tokens\n",
    "            'offsets': offsets,      # Offsets to keep track of the start of each tweet\n",
    "            'labels': labels         # Multi-labels (emotion binary vectors)\n",
    "        }\n",
    "    \n",
    "    # If no labels are available (for unlabelled data)\n",
    "    return {\n",
    "        'input_ids': input_ids,  # Flattened input tokens\n",
    "        'offsets': offsets       # Offsets to keep track of the start of each tweet\n",
    "    }\n"
   ]
  },
  {
   "cell_type": "code",
   "execution_count": 67,
   "id": "cca6f5ca-39eb-461b-b33b-7b7363159e31",
   "metadata": {},
   "outputs": [],
   "source": [
    "from functools import partial\n",
    "\n",
    "# Assuming 'emotion_vocab' has been created earlier\n",
    "collate_fn = partial(collate_batch, my_vocab=emotion_vocab)"
   ]
  },
  {
   "cell_type": "code",
   "execution_count": 68,
   "id": "737dc585-cb6b-4861-a1bf-04cf70f39471",
   "metadata": {},
   "outputs": [],
   "source": [
    "from transformers import TrainingArguments\n",
    "\n",
    "# Configure training arguments for model evaluation\n",
    "training_args = TrainingArguments(\n",
    "    output_dir=\"./emotion_results\",  # Directory to save results\n",
    "    per_device_eval_batch_size=16,   # Batch size for evaluation\n",
    "    do_train=False,                  # Skip training\n",
    "    do_eval=True,                    # Only do evaluation\n",
    "    remove_unused_columns=False,     # Retain all columns in the dataset\n",
    "    report_to=[],                    # Disable logging to external services like Weights & Biases\n",
    ")\n"
   ]
  },
  {
   "cell_type": "code",
   "execution_count": 69,
   "id": "8a41af1a-bc13-403e-ac12-11e987b882ec",
   "metadata": {},
   "outputs": [],
   "source": [
    "from transformers import Trainer\n",
    "\n",
    "# Instantiate the Trainer for evaluation\n",
    "trainer = Trainer(\n",
    "    model=model,                   # The loaded model (CustomMLP)\n",
    "    args=training_args,             # The evaluation-specific training arguments\n",
    "    eval_dataset=hf_valid_dataset,  # The validation dataset (unseen data for prediction)\n",
    "    data_collator=collate_fn,       # The custom collate function\n",
    ")\n"
   ]
  },
  {
   "cell_type": "code",
   "execution_count": 70,
   "id": "07d0dfd6-957f-41ca-8388-11f811e246ba",
   "metadata": {},
   "outputs": [
    {
     "data": {
      "application/vnd.jupyter.widget-view+json": {
       "model_id": "b224e2286dab44c594202f86709e75fc",
       "version_major": 2,
       "version_minor": 0
      },
      "text/plain": [
       "  0%|          | 0/204 [00:00<?, ?it/s]"
      ]
     },
     "metadata": {},
     "output_type": "display_data"
    }
   ],
   "source": [
    "# Make predictions using the validation dataset (unlabelled)\n",
    "valid_output = trainer.predict(hf_valid_dataset)"
   ]
  },
  {
   "cell_type": "code",
   "execution_count": 71,
   "id": "c68b5d24-ca65-4a2b-ab0c-077464f44ccb",
   "metadata": {},
   "outputs": [
    {
     "name": "stdout",
     "output_type": "stream",
     "text": [
      "('predictions', 'label_ids', 'metrics')\n"
     ]
    }
   ],
   "source": [
    "# Check the output fields (e.g., logits and predictions)\n",
    "print(valid_output._fields)  # Shows predictions, labels, and metrics (if applicable)\n"
   ]
  },
  {
   "cell_type": "code",
   "execution_count": 72,
   "id": "2128059b-d223-4205-829b-7a8e8e7772ef",
   "metadata": {},
   "outputs": [
    {
     "name": "stdout",
     "output_type": "stream",
     "text": [
      "[[0 0 0 0 0 0 0 0 0 0 0]\n",
      " [0 0 0 0 1 0 0 0 0 0 0]\n",
      " [1 0 1 0 0 0 0 0 0 0 0]\n",
      " [0 0 0 0 0 0 0 0 1 0 0]\n",
      " [1 0 1 0 0 0 0 0 0 0 0]]\n"
     ]
    }
   ],
   "source": [
    "import torch\n",
    "\n",
    "# Apply sigmoid activation to logits to get probabilities\n",
    "valid_preds = (torch.sigmoid(torch.tensor(valid_output.predictions)) > 0.5).int().numpy()\n",
    "\n",
    "# Print a few sample predictions (multi-label binary vectors)\n",
    "print(valid_preds[:5])  # First 5 predictions\n"
   ]
  },
  {
   "cell_type": "code",
   "execution_count": 73,
   "id": "badbef83-f0fa-4e51-9fda-642e85dd59cf",
   "metadata": {},
   "outputs": [
    {
     "name": "stdout",
     "output_type": "stream",
     "text": [
      "[[0 0 0 ... 0 0 0]\n",
      " [0 0 0 ... 0 0 0]\n",
      " [1 0 1 ... 0 0 0]\n",
      " ...\n",
      " [1 0 1 ... 0 0 0]\n",
      " [0 0 0 ... 0 0 0]\n",
      " [1 0 1 ... 0 0 0]]\n"
     ]
    }
   ],
   "source": [
    "print(valid_preds)"
   ]
  },
  {
   "cell_type": "code",
   "execution_count": 75,
   "id": "c83a76b4",
   "metadata": {},
   "outputs": [],
   "source": [
    "# Save to CSV file in a specific location\n",
    "np.savetxt(f\"{basepath}/results/valid_preds.csv\", valid_preds, delimiter=\",\", fmt='%i')"
   ]
  }
 ],
 "metadata": {
  "kernelspec": {
   "display_name": "Python 3 (ipykernel)",
   "language": "python",
   "name": "python3"
  },
  "language_info": {
   "codemirror_mode": {
    "name": "ipython",
    "version": 3
   },
   "file_extension": ".py",
   "mimetype": "text/x-python",
   "name": "python",
   "nbconvert_exporter": "python",
   "pygments_lexer": "ipython3",
   "version": "3.11.8"
  }
 },
 "nbformat": 4,
 "nbformat_minor": 5
}
